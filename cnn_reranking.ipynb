{
  "nbformat": 4,
  "nbformat_minor": 0,
  "metadata": {
    "colab": {
      "provenance": []
    },
    "kernelspec": {
      "name": "python3",
      "display_name": "Python 3"
    },
    "language_info": {
      "name": "python"
    }
  },
  "cells": [
    {
      "cell_type": "code",
      "source": [
        "import matplotlib.pyplot as plt \n",
        "import os\n",
        "import glob\n",
        "import shutil\n",
        "import numpy as np\n",
        "import cv2\n",
        "from torchvision import datasets, models, transforms\n",
        "import torch.nn as nn\n",
        "import torch\n",
        "import torchvision\n",
        "from torch.nn.modules.loss import BCEWithLogitsLoss\n",
        "from torch.optim import lr_scheduler\n",
        "from tqdm import tqdm\n",
        "\n",
        "from IPython.core.pylabtools import figsize\n"
      ],
      "metadata": {
        "id": "bzAvWejLYVup"
      },
      "execution_count": null,
      "outputs": []
    },
    {
      "cell_type": "code",
      "execution_count": null,
      "metadata": {
        "id": "OmNPw_QpEuvE"
      },
      "outputs": [],
      "source": [
        "# data_dir = \"./data\"\n",
        "# test_dir = \"./data\"\n",
        "# train_dir = \"./data\""
      ]
    },
    {
      "cell_type": "code",
      "source": [
        "dat_dir = \"/content/data\"\n",
        "\n",
        "#create training dir\n",
        "training_dir = os.path.join(data_dir,\"training\")\n",
        "if not os.path.isdir(training_dir):\n",
        "  os.mkdir(training_dir)\n",
        "\n",
        "#create correct_seq in training\n",
        "correct_seq_training_dir = os.path.join(training_dir,\"correct_seq\")\n",
        "if not os.path.isdir(correct_seq_training_dir):\n",
        "  os.mkdir(correct_seq_training_dir)\n",
        "\n",
        "#create wrong_seq in training\n",
        "wrong_seq_training_dir = os.path.join(training_dir,\"wrong_seq\")\n",
        "if not os.path.isdir(wrong_seq_training_dir):\n",
        "  os.mkdir(wrong_seq_training_dir)\n",
        "\n",
        "#create validation dir\n",
        "validation_dir = os.path.join(data_dir,\"validation\")\n",
        "if not os.path.isdir(validation_dir):\n",
        "  os.mkdir(validation_dir)\n",
        "\n",
        "#create correct_seq in validation\n",
        "correct_seq_validation_dir = os.path.join(validation_dir,\"correct_seq\")\n",
        "if not os.path.isdir(correct_seq_validation_dir):\n",
        "  os.mkdir(correct_seq_validation_dir)\n",
        "\n",
        "#create wrong_seq in validation\n",
        "wrong_seq_validation_dir = os.path.join(validation_dir,\"wrong_seq\")\n",
        "if not os.path.isdir(wrong_seq_validation_dir):\n",
        "  os.mkdir(wrong_seq_validation_dir)"
      ],
      "metadata": {
        "id": "WF-oJZr-E53m"
      },
      "execution_count": null,
      "outputs": []
    },
    {
      "cell_type": "code",
      "source": [
        "split_size = 0.80\n",
        "wrong_seq_imgs_size = len(glob.glob(\"/content/data/train/wrong_seq*\"))\n",
        "correct_seq_imgs_size = len(glob.glob(\"/content/data/train/correct_seq*\"))\n",
        "\n",
        "for i,img in enumerate(glob.glob(\"/content/data/train/wrong_seq*\")):\n",
        "  if i < (wrong_seq_imgs_size * split_size):\n",
        "    shutil.move(img,wrong_seq_training_dir)\n",
        "  else:\n",
        "    shutil.move(img,wrong_seq_validation_dir)\n",
        "\n",
        "for i,img in enumerate(glob.glob(\"/content/data/train/correct_seq*\")):\n",
        "  if i < (correct_seq_imgs_size * split_size):\n",
        "    shutil.move(img,correct_seq_training_dir)\n",
        "  else:\n",
        "    shutil.move(img,correct_seq_validation_dir)"
      ],
      "metadata": {
        "id": "_CLvo8hXG4I-"
      },
      "execution_count": null,
      "outputs": []
    },
    {
      "cell_type": "code",
      "source": [
        "samples_correct_seq = [os.path.join(correct_seq_training_dir,np.random.choice(os.listdir(correct_seq_training_dir),1)[0]) for _ in range(8)]\n",
        "samples_wrong_seq = [os.path.join(wrong_seq_training_dir,np.random.choice(os.listdir(wrong_seq_training_dir),1)[0]) for _ in range(8)]\n",
        "\n",
        "nrows = 4\n",
        "ncols = 4\n",
        "\n",
        "fig, ax = plt.subplots(nrows,ncols,figsize = (10,10))\n",
        "ax = ax.flatten()\n",
        "\n",
        "for i in range(nrows*ncols):\n",
        "  if i < 8:\n",
        "    pic = plt.imread(samples_correct_seq[i%8])\n",
        "    ax[i].imshow(pic)\n",
        "    ax[i].set_axis_off()\n",
        "  else:\n",
        "    pic = plt.imread(samples_wrong_seq[i%8])\n",
        "    ax[i].imshow(pic)\n",
        "    ax[i].set_axis_off()\n",
        "plt.show()"
      ],
      "metadata": {
        "id": "62EtJ7xjIE6r"
      },
      "execution_count": null,
      "outputs": []
    },
    {
      "cell_type": "code",
      "source": [
        "traindir = \"/content/data/training\"\n",
        "testdir = \"/content/data/validation\"\n",
        "\n",
        "#transformations\n",
        "train_transforms = transforms.Compose([transforms.Resize((224,224)),\n",
        "                                       transforms.ToTensor(),                                \n",
        "                                       torchvision.transforms.Normalize(\n",
        "                                           mean=[0.485, 0.456, 0.406],\n",
        "                                           std=[0.229, 0.224, 0.225],\n",
        "    ),\n",
        "                                       ])\n",
        "test_transforms = transforms.Compose([transforms.Resize((224,224)),\n",
        "                                      transforms.ToTensor(),\n",
        "                                      torchvision.transforms.Normalize(\n",
        "                                          mean=[0.485, 0.456, 0.406],\n",
        "                                          std=[0.229, 0.224, 0.225],\n",
        "    ),\n",
        "                                      ])\n",
        "\n",
        "#datasets\n",
        "train_data = datasets.ImageFolder(traindir,transform=train_transforms)\n",
        "test_data = datasets.ImageFolder(testdir,transform=test_transforms)\n",
        "\n",
        "#dataloader\n",
        "trainloader = torch.utils.data.DataLoader(train_data, shuffle = True, batch_size=16)\n",
        "testloader = torch.utils.data.DataLoader(test_data, shuffle = True, batch_size=16)"
      ],
      "metadata": {
        "id": "vo33m3ZfInmf"
      },
      "execution_count": null,
      "outputs": []
    },
    {
      "cell_type": "code",
      "source": [
        "def make_train_step(model, optimizer, loss_fn):\n",
        "  def train_step(x,y):\n",
        "    #make prediction\n",
        "    yhat = model(x)\n",
        "    #enter train mode\n",
        "    model.train()\n",
        "    #compute loss\n",
        "    loss = loss_fn(yhat,y)\n",
        "\n",
        "    loss.backward()\n",
        "    optimizer.step()\n",
        "    optimizer.zero_grad()\n",
        "    #optimizer.cleargrads()\n",
        "\n",
        "    return loss\n",
        "  return train_step"
      ],
      "metadata": {
        "id": "c9RRH3NYPQZl"
      },
      "execution_count": null,
      "outputs": []
    },
    {
      "cell_type": "code",
      "source": [
        "device = \"cuda\" if torch.cuda.is_available() else \"cpu\"\n",
        "model = models.resnet50(pretrained=True)\n",
        "\n",
        "#freeze all params\n",
        "for params in model.parameters():\n",
        "  params.requires_grad_ = False\n",
        "\n",
        "#add a new final layer\n",
        "nr_filters = model.fc.in_features  #number of input features of last layer\n",
        "model.fc = nn.Linear(nr_filters, 1)\n",
        "\n",
        "model = model.to(device)"
      ],
      "metadata": {
        "id": "Sc8YpSU6RNMC"
      },
      "execution_count": null,
      "outputs": []
    },
    {
      "cell_type": "code",
      "source": [
        "#loss\n",
        "loss_fn = BCEWithLogitsLoss() #binary cross entropy with sigmoid, so no need to use sigmoid in the model\n",
        "\n",
        "#optimizer\n",
        "optimizer = torch.optim.Adam(model.fc.parameters()) \n",
        "\n",
        "#train step\n",
        "train_step = make_train_step(model, optimizer, loss_fn)"
      ],
      "metadata": {
        "id": "4E7GeVkkRWbo"
      },
      "execution_count": null,
      "outputs": []
    },
    {
      "cell_type": "code",
      "source": [
        "%%capture\n",
        "\n",
        "losses = []\n",
        "val_losses = []\n",
        "\n",
        "epoch_train_losses = []\n",
        "epoch_test_losses = []\n",
        "\n",
        "n_epochs = 10\n",
        "early_stopping_tolerance = 3\n",
        "early_stopping_threshold = 0.03\n",
        "\n",
        "for epoch in range(n_epochs):\n",
        "  epoch_loss = 0\n",
        "  for i ,data in tqdm(enumerate(trainloader), total = len(trainloader)): #iterate ove batches\n",
        "    x_batch , y_batch = data\n",
        "    x_batch = x_batch.to(device) #move to gpu\n",
        "    y_batch = y_batch.unsqueeze(1).float() #convert target to same nn output shape\n",
        "    y_batch = y_batch.to(device) #move to gpu\n",
        "\n",
        "\n",
        "    loss = train_step(x_batch, y_batch)\n",
        "    epoch_loss += loss/len(trainloader)\n",
        "    losses.append(loss)\n",
        "    \n",
        "  epoch_train_losses.append(epoch_loss)\n",
        "  print('\\nEpoch : {}, train loss : {}'.format(epoch+1,epoch_loss))\n",
        "\n",
        "  #validation doesnt requires gradient\n",
        "  with torch.no_grad():\n",
        "    cum_loss = 0\n",
        "    for x_batch, y_batch in testloader:\n",
        "      x_batch = x_batch.to(device)\n",
        "      y_batch = y_batch.unsqueeze(1).float() #convert target to same nn output shape\n",
        "      y_batch = y_batch.to(device)\n",
        "\n",
        "      #model to eval mode\n",
        "      model.eval()\n",
        "\n",
        "      yhat = model(x_batch)\n",
        "      val_loss = loss_fn(yhat,y_batch)\n",
        "      cum_loss += loss/len(testloader)\n",
        "      val_losses.append(val_loss.item())\n",
        "\n",
        "\n",
        "    epoch_test_losses.append(cum_loss)\n",
        "    print('Epoch : {}, val loss : {}'.format(epoch+1,cum_loss))  \n",
        "    \n",
        "    best_loss = min(epoch_test_losses)\n",
        "    \n",
        "    #save best model\n",
        "    if cum_loss <= best_loss:\n",
        "      best_model_wts = model.state_dict()\n",
        "    \n",
        "    #early stopping\n",
        "    early_stopping_counter = 0\n",
        "    if cum_loss > best_loss:\n",
        "      early_stopping_counter +=1\n",
        "\n",
        "    if (early_stopping_counter == early_stopping_tolerance) or (best_loss <= early_stopping_threshold):\n",
        "      print(\"/nTerminating: early stopping\")\n",
        "      break #terminate training\n",
        "    \n",
        "#load best model\n",
        "model.load_state_dict(best_model_wts)"
      ],
      "metadata": {
        "id": "tRjltr3qXNid"
      },
      "execution_count": null,
      "outputs": []
    },
    {
      "cell_type": "code",
      "source": [
        "def inference(test_data):\n",
        "  idx = torch.randint(1, len(test_data), (1,))\n",
        "  sample = torch.unsqueeze(test_data[idx][0], dim=0).to(device)\n",
        "\n",
        "  if torch.sigmoid(model(sample)) < 0.5:\n",
        "    print(\"Prediction : correct_seq\")\n",
        "  else:\n",
        "    print(\"Prediction : wrong_seq\")\n",
        "\n",
        "\n",
        "  plt.imshow(test_data[idx][0].permute(1, 2, 0))"
      ],
      "metadata": {
        "id": "L5ce5HngX1qC"
      },
      "execution_count": null,
      "outputs": []
    },
    {
      "cell_type": "code",
      "source": [
        "#iterate_validation_images\n",
        "# plot_confusion_matrix"
      ],
      "metadata": {
        "id": "gSPEnADVZdDz"
      },
      "execution_count": null,
      "outputs": []
    }
  ]
}