{
 "cells": [
  {
   "cell_type": "markdown",
   "metadata": {},
   "source": [
    "# Example\n",
    "#### Notebook with examples of using different submodules of our KBQA system"
   ]
  },
  {
   "cell_type": "code",
   "execution_count": 1,
   "metadata": {},
   "outputs": [],
   "source": [
    "from caches.wikidata_entity_to_label import WikidataEntityToLabel\n",
    "from caches.genre import GENREWikidataEntityesCache\n",
    "from caches.wikidata_shortest_path import WikidataShortestPathCache"
   ]
  },
  {
   "cell_type": "markdown",
   "metadata": {},
   "source": [
    "# WikidataEntityToLabel"
   ]
  },
  {
   "cell_type": "code",
   "execution_count": 6,
   "metadata": {},
   "outputs": [
    {
     "output_type": "stream",
     "name": "stdout",
     "text": [
      "Paris\n"
     ]
    }
   ],
   "source": [
    "entity2label = WikidataEntityToLabel()\n",
    "print(entity2label.get_label(\"Q90\"))"
   ]
  },
  {
   "cell_type": "markdown",
   "metadata": {},
   "source": [
    "# WikidataShortestPathCache"
   ]
  },
  {
   "cell_type": "code",
   "execution_count": 12,
   "metadata": {},
   "outputs": [
    {
     "name": "stdout",
     "output_type": "stream",
     "text": [
      "sleep 60...\n"
     ]
    },
    {
     "data": {
      "text/plain": [
       "['http://www.wikidata.org/entity/Q142', 'http://www.wikidata.org/entity/Q90']"
      ]
     },
     "execution_count": 12,
     "metadata": {},
     "output_type": "execute_result"
    }
   ],
   "source": [
    "shortest_path = WikidataShortestPathCache()\n",
    "shortest_path.get_shortest_path(\"Q142\", \"Q90\")"
   ]
  },
  {
   "cell_type": "markdown",
   "metadata": {},
   "source": [
    "# mGENRE\n",
    "\n",
    "Firstly, clone https://github.com/SergeyPetrakov/mGENRE_MEL and check **mGENRE_and_Uncertainty_Estimation.ipynb** with preparation GENRE model steps\n",
    "\n",
    "After that, you will have mGENRE_MEL directory with all that you need for **GENREWikidataEntityesCache module**"
   ]
  },
  {
   "cell_type": "code",
   "execution_count": 6,
   "metadata": {},
   "outputs": [
    {
     "name": "stdout",
     "output_type": "stream",
     "text": [
      "mGENRE loaded\n"
     ]
    }
   ],
   "source": [
    "import pickle\n",
    "import torch\n",
    "from mGENRE_MEL.GENRE.genre.trie import Trie, MarisaTrie\n",
    "from mGENRE_MEL.GENRE.genre.fairseq_model import mGENRE\n",
    "\n",
    "with open(\"./mGENRE_MEL/lang_title2wikidataID-normalized_with_redirect.pkl\", \"rb\") as f:\n",
    "    lang_title2wikidataID = pickle.load(f)\n",
    "\n",
    "with open(\"./mGENRE_MEL/titles_lang_all105_marisa_trie_with_redirect.pkl\", \"rb\") as f:\n",
    "    trie = pickle.load(f)\n",
    "\n",
    "device = torch.device(\"cuda\" if torch.cuda.is_available() else \"cpu\")\n",
    "model_mGENRE = mGENRE.from_pretrained(\n",
    "    \"./mGENRE_MEL/fairseq_multilingual_entity_disambiguation\"\n",
    ").eval()\n",
    "model_mGENRE.to(device)\n",
    "print(\"mGENRE loaded\")"
   ]
  },
  {
   "cell_type": "code",
   "execution_count": 10,
   "metadata": {},
   "outputs": [
    {
     "data": {
      "text/plain": [
       "[{'Q2856873': 'Antoine de Févin',\n",
       "  'Q7742': 'Louis XIV of France',\n",
       "  'Q185075': 'Saint-Germain-en-Laye'},\n",
       " {}]"
      ]
     },
     "execution_count": 10,
     "metadata": {},
     "output_type": "execute_result"
    }
   ],
   "source": [
    "entity2label = WikidataEntityToLabel()\n",
    "wikidata_label2entity_vocab_en = {v: k for k, v in entity2label.cache.items()}\n",
    "\n",
    "genre_entityes = GENREWikidataEntityesCache(\n",
    "    model_mGENRE,\n",
    "    wikidata_label2entity_vocab_en,\n",
    "    trie,\n",
    "    lang_title2wikidataID,\n",
    ")\n",
    "genre_entityes.sentences_batch_to_entities(\n",
    "    [\n",
    "        \"[START] in what french city did antoine de févin die  [END]\",\n",
    "        \"[START] What job does jamie hewlett have [END]\",\n",
    "    ]\n",
    ")"
   ]
  },
  {
   "source": [
    "# Subgraph Extraction"
   ],
   "cell_type": "markdown",
   "metadata": {}
  },
  {
   "cell_type": "code",
   "execution_count": 28,
   "metadata": {},
   "outputs": [
    {
     "output_type": "error",
     "ename": "IndexError",
     "evalue": "tuple index out of range",
     "traceback": [
      "\u001b[0;31m---------------------------------------------------------------------------\u001b[0m",
      "\u001b[0;31mIndexError\u001b[0m                                Traceback (most recent call last)",
      "\u001b[0;32m<ipython-input-28-0231f8a4b36b>\u001b[0m in \u001b[0;36m<module>\u001b[0;34m\u001b[0m\n\u001b[1;32m     15\u001b[0m \u001b[0msubgraph_obj\u001b[0m \u001b[0;34m=\u001b[0m \u001b[0mSubgraphsRetriever\u001b[0m\u001b[0;34m(\u001b[0m\u001b[0mentity2label\u001b[0m\u001b[0;34m,\u001b[0m \u001b[0mshortest_path\u001b[0m\u001b[0;34m,\u001b[0m \u001b[0medge_between_path\u001b[0m\u001b[0;34m=\u001b[0m\u001b[0;32mFalse\u001b[0m\u001b[0;34m)\u001b[0m\u001b[0;34m\u001b[0m\u001b[0;34m\u001b[0m\u001b[0m\n\u001b[1;32m     16\u001b[0m \u001b[0msubgraph\u001b[0m \u001b[0;34m=\u001b[0m \u001b[0msubgraph_obj\u001b[0m\u001b[0;34m.\u001b[0m\u001b[0mget_subgraphs\u001b[0m\u001b[0;34m(\u001b[0m\u001b[0mEs\u001b[0m\u001b[0;34m,\u001b[0m \u001b[0mC\u001b[0m\u001b[0;34m)\u001b[0m\u001b[0;34m\u001b[0m\u001b[0;34m\u001b[0m\u001b[0m\n\u001b[0;32m---> 17\u001b[0;31m \u001b[0msubgraph_obj\u001b[0m\u001b[0;34m.\u001b[0m\u001b[0mvisualize_subgraph\u001b[0m\u001b[0;34m(\u001b[0m\u001b[0msubgraph\u001b[0m\u001b[0;34m)\u001b[0m\u001b[0;34m\u001b[0m\u001b[0;34m\u001b[0m\u001b[0m\n\u001b[0m",
      "\u001b[0;32m~/kbqa/caches/wikidata_subgraphs_retriever.py\u001b[0m in \u001b[0;36mvisualize_subgraph\u001b[0;34m(self, graph)\u001b[0m\n\u001b[1;32m    166\u001b[0m                     \u001b[0mcolor\u001b[0m\u001b[0;34m=\u001b[0m\u001b[0;34m\"0.5\"\u001b[0m\u001b[0;34m,\u001b[0m\u001b[0;34m\u001b[0m\u001b[0;34m\u001b[0m\u001b[0m\n\u001b[1;32m    167\u001b[0m                     \u001b[0mshrinkA\u001b[0m\u001b[0;34m=\u001b[0m\u001b[0;36m5\u001b[0m\u001b[0;34m,\u001b[0m\u001b[0;34m\u001b[0m\u001b[0;34m\u001b[0m\u001b[0m\n\u001b[0;32m--> 168\u001b[0;31m                     \u001b[0mshrinkB\u001b[0m\u001b[0;34m=\u001b[0m\u001b[0;36m5\u001b[0m\u001b[0;34m,\u001b[0m\u001b[0;34m\u001b[0m\u001b[0;34m\u001b[0m\u001b[0m\n\u001b[0m\u001b[1;32m    169\u001b[0m                     \u001b[0mpatchA\u001b[0m\u001b[0;34m=\u001b[0m\u001b[0;32mNone\u001b[0m\u001b[0;34m,\u001b[0m\u001b[0;34m\u001b[0m\u001b[0;34m\u001b[0m\u001b[0m\n\u001b[1;32m    170\u001b[0m                     \u001b[0mpatchB\u001b[0m\u001b[0;34m=\u001b[0m\u001b[0;32mNone\u001b[0m\u001b[0;34m,\u001b[0m\u001b[0;34m\u001b[0m\u001b[0;34m\u001b[0m\u001b[0m\n",
      "\u001b[0;31mIndexError\u001b[0m: tuple index out of range"
     ]
    }
   ],
   "source": [
    "from caches.wikidata_subgraphs_retriever import SubgraphsRetriever\n",
    "from caches.wikidata_entity_to_label import WikidataEntityToLabel\n",
    "from caches.wikidata_shortest_path import WikidataShortestPathCache\n",
    "import matplotlib.pyplot as plt\n",
    "import os\n",
    "\n",
    "\n",
    "# sample question: in what french city did antoine de févin die\n",
    "E1 = \"Q22686\"  # Doland Trump\n",
    "E2 = \"Q242351\"  # Ivanka Trump\n",
    "E3 = \"Q432473\"  # Melania Trump\n",
    "Es = [E1, E2, E3]\n",
    "\n",
    "C = \"Q881\"  # USA\n",
    "entity2label = WikidataEntityToLabel()\n",
    "shortest_path = WikidataShortestPathCache()\n",
    "subgraph_obj = SubgraphsRetriever(entity2label, shortest_path, edge_between_path=False)\n",
    "subgraph = subgraph_obj.get_subgraph(Es, C)\n",
    "ax = subgraph_obj.visualize_subgraph(subgraph, Es, C)\n",
    "\n",
    "path = \"visualization\"\n",
    "if not os.path.exists(path):\n",
    "    os.makedirs(path)\n",
    "\n",
    "plt.savefig(path + \"/sub.svg\")\n",
    "print(\"Visualization can be viewed at visualization/subgraph.svg\")"
   ]
  },
  {
   "cell_type": "code",
   "execution_count": null,
   "metadata": {},
   "outputs": [],
   "source": []
  }
 ],
 "metadata": {
  "kernelspec": {
   "display_name": "Python 3",
   "language": "python",
   "name": "python3"
  },
  "language_info": {
   "codemirror_mode": {
    "name": "ipython",
    "version": 3
   },
   "file_extension": ".py",
   "mimetype": "text/x-python",
   "name": "python",
   "nbconvert_exporter": "python",
   "pygments_lexer": "ipython3",
   "version": "3.7.4-final"
  },
  "orig_nbformat": 4,
  "vscode": {
   "interpreter": {
    "hash": "31f2aee4e71d21fbe5cf8b01ff0e069b9275f58929596ceb00d14d90e3e16cd6"
   }
  }
 },
 "nbformat": 4,
 "nbformat_minor": 2
}