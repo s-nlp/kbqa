{
 "cells": [
  {
   "cell_type": "markdown",
   "metadata": {},
   "source": [
    "# Example\n",
    "#### Notebook with examples of using different submodules of our KBQA system"
   ]
  },
  {
   "cell_type": "code",
   "execution_count": 6,
   "metadata": {},
   "outputs": [],
   "source": [
    "from kbqa.caches.genre import GENREWikidataEntityesCache\n",
    "\n",
    "from kbqa.wikidata import (\n",
    "    WikidataEntityToLabel,\n",
    "    WikidataShortestPathCache,\n",
    "    WikidataLabelToEntity,\n",
    "    WikidataRedirectsCache,\n",
    ")"
   ]
  },
  {
   "attachments": {},
   "cell_type": "markdown",
   "metadata": {},
   "source": [
    "# WikidataRedirectsCache"
   ]
  },
  {
   "cell_type": "code",
   "execution_count": 9,
   "metadata": {},
   "outputs": [
    {
     "data": {
      "text/plain": [
       "['New York',\n",
       " 'New York (film)',\n",
       " 'NEW YORK',\n",
       " 'NewYork (disambiguation)',\n",
       " 'Noo Yawk',\n",
       " 'Nova York',\n",
       " 'New York, US',\n",
       " 'New York, USA',\n",
       " 'New York (book)',\n",
       " 'New York (movie)',\n",
       " 'Neo York',\n",
       " 'New-York',\n",
       " 'NewYork',\n",
       " \"New York's\",\n",
       " 'New York, England',\n",
       " 'New York, U.S.',\n",
       " 'New York, U.S.A',\n",
       " 'New York, United States',\n",
       " 'New York, United States of America',\n",
       " 'New York (disambiguation)',\n",
       " 'New York (song)',\n",
       " 'New York (typeface)',\n",
       " 'New York UK',\n",
       " 'New Yorke',\n",
       " 'New Yourk',\n",
       " 'New Yrok',\n",
       " 'New york',\n",
       " 'Newyork',\n",
       " 'Ne York']"
      ]
     },
     "execution_count": 9,
     "metadata": {},
     "output_type": "execute_result"
    }
   ],
   "source": [
    "redirect = WikidataRedirectsCache()\n",
    "redirect.get_redirects(\"New York\")"
   ]
  },
  {
   "cell_type": "markdown",
   "metadata": {},
   "source": [
    "# WikidataEntityToLabel"
   ]
  },
  {
   "cell_type": "code",
   "execution_count": 2,
   "metadata": {},
   "outputs": [
    {
     "name": "stdout",
     "output_type": "stream",
     "text": [
      "Boston\n"
     ]
    }
   ],
   "source": [
    "entity2label = WikidataEntityToLabel()\n",
    "print(entity2label.get_label(f\"Q100\"))"
   ]
  },
  {
   "cell_type": "markdown",
   "metadata": {},
   "source": [
    "# WikidataLabelToEntity"
   ]
  },
  {
   "cell_type": "code",
   "execution_count": 3,
   "metadata": {},
   "outputs": [
    {
     "name": "stdout",
     "output_type": "stream",
     "text": [
      "Q60\n"
     ]
    }
   ],
   "source": [
    "redirect_cache = WikidataRedirectsCache()\n",
    "label2entity = WikidataLabelToEntity(\n",
    "    redirect_cache=redirect_cache,\n",
    ")\n",
    "\n",
    "print(label2entity.get_id(\"newyork\"))"
   ]
  },
  {
   "cell_type": "markdown",
   "metadata": {},
   "source": [
    "# WikidataShortestPathCache"
   ]
  },
  {
   "cell_type": "code",
   "execution_count": 4,
   "metadata": {},
   "outputs": [
    {
     "name": "stderr",
     "output_type": "stream",
     "text": [
      "WARNING:root:For Blazegraph engine, only one path will be returned\n"
     ]
    },
    {
     "data": {
      "text/plain": [
       "[['http://www.wikidata.org/entity/Q90',\n",
       "  'http://www.wikidata.org/entity/Q142',\n",
       "  'http://www.wikidata.org/entity/Q7270']]"
      ]
     },
     "execution_count": 4,
     "metadata": {},
     "output_type": "execute_result"
    }
   ],
   "source": [
    "shortest_path = WikidataShortestPathCache()\n",
    "pathes = shortest_path.get_shortest_path(\n",
    "    \"Q90\",\n",
    "    \"Q7270\",\n",
    "    return_edges=False,\n",
    "    return_only_first=False,\n",
    ")\n",
    "pathes"
   ]
  },
  {
   "cell_type": "markdown",
   "metadata": {},
   "source": [
    "# mGENRE\n",
    "\n",
    "Firstly, clone https://github.com/SergeyPetrakov/mGENRE_MEL and check **mGENRE_and_Uncertainty_Estimation.ipynb** with preparation GENRE model steps\n",
    "\n",
    "After that, you will have mGENRE_MEL directory with all that you need for **GENREWikidataEntityesCache module**"
   ]
  },
  {
   "cell_type": "code",
   "execution_count": 1,
   "metadata": {},
   "outputs": [
    {
     "name": "stderr",
     "output_type": "stream",
     "text": [
      "/usr/local/lib/python3.8/dist-packages/tqdm/auto.py:22: TqdmWarning: IProgress not found. Please update jupyter and ipywidgets. See https://ipywidgets.readthedocs.io/en/stable/user_install.html\n",
      "  from .autonotebook import tqdm as notebook_tqdm\n"
     ]
    },
    {
     "name": "stdout",
     "output_type": "stream",
     "text": [
      "mGENRE loaded\n"
     ]
    }
   ],
   "source": [
    "import os\n",
    "\n",
    "os.environ[\"PYTHONPATH\"] = \"/fairseq/\"\n",
    "\n",
    "import pickle\n",
    "import torch\n",
    "from genre.trie import Trie, MarisaTrie\n",
    "from genre.fairseq_model import mGENRE\n",
    "\n",
    "with open(\"./lang_title2wikidataID-normalized_with_redirect.pkl\", \"rb\") as f:\n",
    "    lang_title2wikidataID = pickle.load(f)\n",
    "\n",
    "with open(\"./titles_lang_all105_marisa_trie_with_redirect.pkl\", \"rb\") as f:\n",
    "    trie = pickle.load(f)\n",
    "\n",
    "device = torch.device(\"cuda\" if torch.cuda.is_available() else \"cpu\")\n",
    "model_mGENRE = mGENRE.from_pretrained(\n",
    "    \"./fairseq_multilingual_entity_disambiguation\"\n",
    ").eval()\n",
    "model_mGENRE.to(device)\n",
    "print(\"mGENRE loaded\")"
   ]
  },
  {
   "cell_type": "code",
   "execution_count": null,
   "metadata": {},
   "outputs": [],
   "source": [
    "genre_entityes = GENREWikidataEntityesCache(\n",
    "    model_mGENRE,\n",
    "    trie,\n",
    "    lang_title2wikidataID,\n",
    ")\n",
    "genre_entityes.sentences_batch_to_entities(\n",
    "    [\n",
    "        \"[START] in what french city did antoine de févin die  [END]\",\n",
    "        \"[START] What job does jamie hewlett have [END]\",\n",
    "    ]\n",
    ")"
   ]
  },
  {
   "cell_type": "markdown",
   "metadata": {},
   "source": [
    "# Subgraph Extraction"
   ]
  },
  {
   "cell_type": "code",
   "execution_count": 4,
   "metadata": {},
   "outputs": [
    {
     "name": "stdout",
     "output_type": "stream",
     "text": [
      "sleep 60...\n",
      "Visualization can be viewed at visualization/subgraph.svg\n"
     ]
    },
    {
     "data": {
      "image/png": "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",
      "text/plain": [
       "<Figure size 864x720 with 1 Axes>"
      ]
     },
     "metadata": {},
     "output_type": "display_data"
    }
   ],
   "source": [
    "from kbqa.wikidata.wikidata_subgraphs_retriever import SubgraphsRetriever\n",
    "from kbqa.wikidata.wikidata_entity_to_label import WikidataEntityToLabel\n",
    "from kbqa.wikidata.wikidata_shortest_path import WikidataShortestPathCache\n",
    "import matplotlib.pyplot as plt\n",
    "import os\n",
    "\n",
    "\n",
    "# sample question: in what french city did antoine de févin die\n",
    "E1 = \"Q22686\"  # Doland Trump\n",
    "E2 = \"Q242351\"  # Ivanka Trump\n",
    "E3 = \"Q432473\"  # Melania Trump\n",
    "Es = [E1, E2, E3]\n",
    "\n",
    "C = \"Q881\"  # USA\n",
    "entity2label = WikidataEntityToLabel()\n",
    "shortest_path = WikidataShortestPathCache()\n",
    "subgraph_obj = SubgraphsRetriever(entity2label, shortest_path, edge_between_path=False)\n",
    "subgraph = subgraph_obj.get_subgraph(Es, C)\n",
    "ax = subgraph_obj.visualize_subgraph(subgraph, Es, C)\n",
    "\n",
    "path = \"visualization\"\n",
    "if not os.path.exists(path):\n",
    "    os.makedirs(path)\n",
    "\n",
    "plt.savefig(path + \"/sub.svg\")\n",
    "print(\"Visualization can be viewed at visualization/subgraph.svg\")"
   ]
<<<<<<< HEAD
  },
  {
   "attachments": {},
   "cell_type": "markdown",
   "metadata": {},
   "source": [
    "# Igraph shortest path"
   ]
  },
  {
   "cell_type": "code",
   "execution_count": null,
   "metadata": {},
   "outputs": [
    {
     "ename": "",
     "evalue": "",
     "output_type": "error",
     "traceback": [
      "\u001b[1;31mRunning cells with 'base' requires ipykernel package.\n",
      "\u001b[1;31mRun the following command to install 'ipykernel' into the Python environment. \n",
      "\u001b[1;31mCommand: 'conda install -n base ipykernel --update-deps --force-reinstall'"
     ]
    }
   ],
   "source": [
    "import time\n",
    "from kbqa.wikidata.wikidata_shortest_path_igraph import WikidataShortestPathIgraphCache\n",
    "from kbqa.wikidata.wikidata_subgraphs_retriever_igraph import SubgraphsRetrieverIgraph\n",
    "from kbqa.wikidata.wikidata_entity_to_label import WikidataEntityToLabel"
   ]
  },
  {
   "cell_type": "code",
   "execution_count": null,
   "metadata": {},
   "outputs": [],
   "source": [
    "data_dir = \"/workspace/storage/prev_wikidata\"\n",
    "graph_path = data_dir + \"/clean_wikidata.txt\"\n",
    "start_map_path = data_dir + \"/mapping/start_nodes_mapping.pkl\"\n",
    "end_map_path = data_dir + \"/mapping/end_nodes_mapping.pkl\"\n",
    "edge_map_path = data_dir + \"/mapping/edge_nodes_mapping.pkl\"\n",
    "\n",
    "wd_shortest_path = WikidataShortestPathIgraphCache(\n",
    "    graph_path=graph_path,\n",
    "    start_node_mapping=start_map_path,\n",
    "    end_node_mapping=end_map_path,\n",
    "    edge_node_mapping=edge_map_path,\n",
    ")"
   ]
  },
  {
   "cell_type": "code",
   "execution_count": null,
   "metadata": {},
   "outputs": [],
   "source": [
    "e1 = \"Q2422302\"\n",
    "candidate = \"Q8776398\"\n",
    "print(wd_shortest_path.get_shortest_path(e1, candidate))"
   ]
  },
  {
   "attachments": {},
   "cell_type": "markdown",
   "metadata": {},
   "source": [
    "# Igraph Subgraph Extraction"
   ]
  },
  {
   "cell_type": "code",
   "execution_count": null,
   "metadata": {},
   "outputs": [],
   "source": [
    "entity2label = WikidataEntityToLabel()\n",
    "subgraph_retrieiver = SubgraphsRetrieverIgraph(\n",
    "    entity2label, wd_shortest_path, edge_between_path=True\n",
    ")\n",
    "\n",
    "e1 = \"Q2422302\"\n",
    "e2 = \"Q1152722\"\n",
    "entities = [e1, e2]\n",
    "candidate = \"Q8776398\"\n",
    "\n",
    "curr_time = time.time()\n",
    "graph = subgraph_retrieiver.get_subgraph(entities=entities, candidate=candidate)\n",
    "print(graph)\n",
    "subgraph_retrieiver.visualize(graph=graph, output_path=\"./visualization/graph.png\")\n",
    "res_time = time.time() - curr_time\n",
    "print(f\"took {res_time}\")"
   ]
=======
>>>>>>> f05ffd290a842160b134ded9b19c9816801178c0
  }
 ],
 "metadata": {
  "kernelspec": {
<<<<<<< HEAD
   "display_name": "Python 3",
=======
   "display_name": "Python 3 (ipykernel)",
>>>>>>> f05ffd290a842160b134ded9b19c9816801178c0
   "language": "python",
   "name": "python3"
  },
  "language_info": {
<<<<<<< HEAD
   "file_extension": ".jl",
   "mimetype": "application/julia",
=======
   "codemirror_mode": {
    "name": "ipython",
    "version": 3
   },
   "file_extension": ".py",
   "mimetype": "text/x-python",
>>>>>>> f05ffd290a842160b134ded9b19c9816801178c0
   "name": "python",
   "nbconvert_exporter": "python",
   "pygments_lexer": "ipython3",
   "version": "3.8.10"
  },
  "orig_nbformat": 4,
  "vscode": {
   "interpreter": {
    "hash": "31f2aee4e71d21fbe5cf8b01ff0e069b9275f58929596ceb00d14d90e3e16cd6"
   }
  }
 },
 "nbformat": 4,
 "nbformat_minor": 2
}
