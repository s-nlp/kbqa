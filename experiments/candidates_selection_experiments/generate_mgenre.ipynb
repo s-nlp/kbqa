{
 "cells": [
  {
   "cell_type": "code",
   "execution_count": 1,
   "metadata": {},
   "outputs": [
    {
     "name": "stderr",
     "output_type": "stream",
     "text": [
      "/usr/local/lib/python3.8/dist-packages/tqdm/auto.py:22: TqdmWarning: IProgress not found. Please update jupyter and ipywidgets. See https://ipywidgets.readthedocs.io/en/stable/user_install.html\n",
      "  from .autonotebook import tqdm as notebook_tqdm\n",
      "2023-01-08 19:06:59.867700: I tensorflow/core/platform/cpu_feature_guard.cc:193] This TensorFlow binary is optimized with oneAPI Deep Neural Network Library (oneDNN) to use the following CPU instructions in performance-critical operations:  AVX2 AVX512F AVX512_VNNI FMA\n",
      "To enable them in other operations, rebuild TensorFlow with the appropriate compiler flags.\n",
      "2023-01-08 19:07:00.038280: I tensorflow/core/util/util.cc:169] oneDNN custom operations are on. You may see slightly different numerical results due to floating-point round-off errors from different computation orders. To turn them off, set the environment variable `TF_ENABLE_ONEDNN_OPTS=0`.\n",
      "2023-01-08 19:07:00.070643: E tensorflow/stream_executor/cuda/cuda_blas.cc:2981] Unable to register cuBLAS factory: Attempting to register factory for plugin cuBLAS when one has already been registered\n",
      "2023-01-08 19:07:00.725098: W tensorflow/stream_executor/platform/default/dso_loader.cc:64] Could not load dynamic library 'libnvinfer.so.7'; dlerror: libnvinfer.so.7: cannot open shared object file: No such file or directory; LD_LIBRARY_PATH: /usr/local/nvidia/lib:/usr/local/nvidia/lib64\n",
      "2023-01-08 19:07:00.725185: W tensorflow/stream_executor/platform/default/dso_loader.cc:64] Could not load dynamic library 'libnvinfer_plugin.so.7'; dlerror: libnvinfer_plugin.so.7: cannot open shared object file: No such file or directory; LD_LIBRARY_PATH: /usr/local/nvidia/lib:/usr/local/nvidia/lib64\n",
      "2023-01-08 19:07:00.725192: W tensorflow/compiler/tf2tensorrt/utils/py_utils.cc:38] TF-TRT Warning: Cannot dlopen some TensorRT libraries. If you would like to use Nvidia GPU with TensorRT, please make sure the missing libraries mentioned above are installed properly.\n"
     ]
    }
   ],
   "source": [
    "from tqdm import tqdm\n",
    "import pandas as pd\n",
    "import datasets\n",
    "from pathlib import Path\n",
    "from transformers import Pipeline\n",
    "from transformers import AutoTokenizer, AutoModelForSeq2SeqLM\n",
    "from typing import List, Optional, Dict\n",
    "import pickle\n",
    "import torch\n",
    "from torch.utils.data import DataLoader\n",
    "from functools import lru_cache\n",
    "from nltk.stem.porter import PorterStemmer\n",
    "from collections import defaultdict\n",
    "\n",
    "tqdm.pandas()\n",
    "\n",
    "%load_ext autoreload\n",
    "%autoreload 2\n",
    "\n",
    "from pywikidata import Entity\n",
    "from kbqa.utils.train_eval import get_best_checkpoint_path\n",
    "from kbqa.caches.ner_to_sentence_insertion import NerToSentenceInsertion\n",
    "\n",
    "from trie import MarisaTrie"
   ]
  },
  {
   "cell_type": "code",
   "execution_count": 2,
   "metadata": {},
   "outputs": [
    {
     "name": "stdout",
     "output_type": "stream",
     "text": [
      "fatal: destination path 'wikidata-simplequestions' already exists and is not an empty directory.\n"
     ]
    }
   ],
   "source": [
    "!git clone https://github.com/askplatypus/wikidata-simplequestions.git\n",
    "\n",
    "test_df = pd.read_csv(\n",
    "    \"./wikidata-simplequestions/annotated_wd_data_test_answerable.txt\",\n",
    "    sep=\"\\t\",\n",
    "    names=[\"S\", \"P\", \"O\", \"Q\"],\n",
    ")\n",
    "a\n",
    "train_df = pd.read_csv(\n",
    "    \"./wikidata-simplequestions/annotated_wd_data_train_answerable.txt\",\n",
    "    sep=\"\\t\",\n",
    "    names=[\"S\", \"P\", \"O\", \"Q\"],\n",
    ")\n",
    "\n",
    "valid_df = pd.read_csv(\n",
    "    \"./wikidata-simplequestions/annotated_wd_data_valid_answerable.txt\",\n",
    "    sep=\"\\t\",\n",
    "    names=[\"S\", \"P\", \"O\", \"Q\"],\n",
    ")"
   ]
  },
  {
   "cell_type": "code",
   "execution_count": 3,
   "metadata": {},
   "outputs": [],
   "source": [
    "# import numpy as np\n",
    "\n",
    "# filtered_test = np.load('simple_questions_filtered.npy')\n",
    "# test_df = pd.DataFrame(filtered_test, columns=[\"S\", \"P\", \"O\", \"Q\"])\n",
    "# test_df.head()"
   ]
  },
  {
   "cell_type": "code",
   "execution_count": 4,
   "metadata": {},
   "outputs": [],
   "source": [
    "class MGENREPipeline(Pipeline):\n",
    "    \"\"\"MGENREPipeline - HF Pipeline for mGENRE EntityLinking model\"\"\"\n",
    "\n",
    "    def _sanitize_parameters(self, **kwargs):\n",
    "        forward_kwargs = {}\n",
    "        if \"num_beams\" in kwargs:\n",
    "            forward_kwargs[\"num_beams\"] = kwargs.get(\"num_beams\", 20)\n",
    "        if \"num_return_sequences\" in kwargs:\n",
    "            forward_kwargs[\"num_return_sequences\"] = kwargs.get(\n",
    "                \"num_return_sequences\", 20\n",
    "            )\n",
    "        if \"mgenre_trie\" in kwargs:\n",
    "            forward_kwargs[\"mgenre_trie\"] = kwargs.get(\"mgenre_trie\")\n",
    "        return {}, forward_kwargs, {}\n",
    "\n",
    "    def preprocess(self, input_):\n",
    "        return self.tokenizer(\n",
    "            input_,\n",
    "            return_tensors=\"pt\",\n",
    "        )\n",
    "\n",
    "    def _forward(\n",
    "        self,\n",
    "        input_tensors,\n",
    "        num_beams=10,\n",
    "        num_return_sequences=10,\n",
    "        mgenre_trie=None,\n",
    "    ):\n",
    "        outputs = self.model.generate(\n",
    "            **{k: v.to(self.device) for k, v in input_tensors.items()},\n",
    "            num_beams=num_beams,\n",
    "            num_return_sequences=num_return_sequences,\n",
    "            prefix_allowed_tokens_fn=lambda batch_id, sent: mgenre_trie.get(\n",
    "                sent.tolist()\n",
    "            )\n",
    "            if mgenre_trie is not None\n",
    "            else None,\n",
    "        )\n",
    "        return outputs\n",
    "\n",
    "    def postprocess(self, model_outputs):\n",
    "        outputs = self.tokenizer.batch_decode(\n",
    "            model_outputs,\n",
    "            skip_special_tokens=True,\n",
    "            clean_up_tokenization_spaces=False,\n",
    "        )\n",
    "        return outputs\n",
    "\n",
    "\n",
    "class EntitiesSelection:\n",
    "    def __init__(self, ner_model):\n",
    "        self.stemmer = PorterStemmer()\n",
    "        self.ner_model = ner_model\n",
    "\n",
    "    def entities_selection(self, entities_list, mgenre_predicted_entities_list):\n",
    "        final_preds = []\n",
    "\n",
    "        for pred_text in mgenre_predicted_entities_list:\n",
    "            labels = []\n",
    "            try:\n",
    "                _label, lang = pred_text.split(\" >> \")\n",
    "                if lang == \"en\":\n",
    "                    labels.append(_label)\n",
    "            except Exception as e:\n",
    "                print(f\"Error {str(e)} with pred_text={pred_text}\")\n",
    "\n",
    "            if len(labels) > 0:\n",
    "                for label in labels:\n",
    "                    label = label.lower()\n",
    "                    if self._check_label_fn(label, entities_list):\n",
    "                        final_preds.append(pred_text)\n",
    "\n",
    "        return list(dict.fromkeys(final_preds))\n",
    "\n",
    "    @lru_cache(maxsize=8192)\n",
    "    def _label_format_fn(self, label):\n",
    "        return \" \".join(\n",
    "            [self.stemmer.stem(str(token)) for token in self.ner_model(label)]\n",
    "        )\n",
    "\n",
    "    def _check_label_fn(self, label, entities_list):\n",
    "        label = self._label_format_fn(label)\n",
    "        for entity in entities_list:\n",
    "            entity = self._label_format_fn(entity)\n",
    "            if label == entity:\n",
    "                return True\n",
    "        return False"
   ]
  },
  {
   "cell_type": "code",
   "execution_count": 5,
   "metadata": {},
   "outputs": [
    {
     "ename": "RuntimeError",
     "evalue": "CUDA out of memory. Tried to allocate 16.00 MiB (GPU 5; 10.76 GiB total capacity; 1.15 GiB already allocated; 16.81 MiB free; 1.17 GiB reserved in total by PyTorch) If reserved memory is >> allocated memory try setting max_split_size_mb to avoid fragmentation.  See documentation for Memory Management and PYTORCH_CUDA_ALLOC_CONF",
     "output_type": "error",
     "traceback": [
      "\u001b[0;31m---------------------------------------------------------------------------\u001b[0m",
      "\u001b[0;31mRuntimeError\u001b[0m                              Traceback (most recent call last)",
      "\u001b[1;32m/workspace/kbqa/experiments/custome_prefix_tree/generate_mgenre_with_prefix_tree.ipynb Cell 5\u001b[0m in \u001b[0;36m<cell line: 9>\u001b[0;34m()\u001b[0m\n\u001b[1;32m      <a href='vscode-notebook-cell://attached-container%2B7b22636f6e7461696e65724e616d65223a222f73616c6e696b6f765f7067222c2273657474696e6773223a7b22636f6e74657874223a226e6c7031227d7d/workspace/kbqa/experiments/custome_prefix_tree/generate_mgenre_with_prefix_tree.ipynb#W4sdnNjb2RlLXJlbW90ZQ%3D%3D?line=3'>4</a>\u001b[0m mgenre_model \u001b[39m=\u001b[39m AutoModelForSeq2SeqLM\u001b[39m.\u001b[39mfrom_pretrained(\u001b[39m\"\u001b[39m\u001b[39mfacebook/mgenre-wiki\u001b[39m\u001b[39m\"\u001b[39m)\u001b[39m.\u001b[39meval()\n\u001b[1;32m      <a href='vscode-notebook-cell://attached-container%2B7b22636f6e7461696e65724e616d65223a222f73616c6e696b6f765f7067222c2273657474696e6773223a7b22636f6e74657874223a226e6c7031227d7d/workspace/kbqa/experiments/custome_prefix_tree/generate_mgenre_with_prefix_tree.ipynb#W4sdnNjb2RlLXJlbW90ZQ%3D%3D?line=5'>6</a>\u001b[0m \u001b[39m# with open('./wdsq_mgenre_trie.pkl', 'rb') as f:\u001b[39;00m\n\u001b[1;32m      <a href='vscode-notebook-cell://attached-container%2B7b22636f6e7461696e65724e616d65223a222f73616c6e696b6f765f7067222c2273657474696e6773223a7b22636f6e74657874223a226e6c7031227d7d/workspace/kbqa/experiments/custome_prefix_tree/generate_mgenre_with_prefix_tree.ipynb#W4sdnNjb2RlLXJlbW90ZQ%3D%3D?line=6'>7</a>\u001b[0m \u001b[39m#     trie = pickle.load(f)\u001b[39;00m\n\u001b[0;32m----> <a href='vscode-notebook-cell://attached-container%2B7b22636f6e7461696e65724e616d65223a222f73616c6e696b6f765f7067222c2273657474696e6773223a7b22636f6e74657874223a226e6c7031227d7d/workspace/kbqa/experiments/custome_prefix_tree/generate_mgenre_with_prefix_tree.ipynb#W4sdnNjb2RlLXJlbW90ZQ%3D%3D?line=8'>9</a>\u001b[0m mgenre \u001b[39m=\u001b[39m MGENREPipeline(\n\u001b[1;32m     <a href='vscode-notebook-cell://attached-container%2B7b22636f6e7461696e65724e616d65223a222f73616c6e696b6f765f7067222c2273657474696e6773223a7b22636f6e74657874223a226e6c7031227d7d/workspace/kbqa/experiments/custome_prefix_tree/generate_mgenre_with_prefix_tree.ipynb#W4sdnNjb2RlLXJlbW90ZQ%3D%3D?line=9'>10</a>\u001b[0m     mgenre_model,\n\u001b[1;32m     <a href='vscode-notebook-cell://attached-container%2B7b22636f6e7461696e65724e616d65223a222f73616c6e696b6f765f7067222c2273657474696e6773223a7b22636f6e74657874223a226e6c7031227d7d/workspace/kbqa/experiments/custome_prefix_tree/generate_mgenre_with_prefix_tree.ipynb#W4sdnNjb2RlLXJlbW90ZQ%3D%3D?line=10'>11</a>\u001b[0m     mgenre_tokenizer,\n\u001b[1;32m     <a href='vscode-notebook-cell://attached-container%2B7b22636f6e7461696e65724e616d65223a222f73616c6e696b6f765f7067222c2273657474696e6773223a7b22636f6e74657874223a226e6c7031227d7d/workspace/kbqa/experiments/custome_prefix_tree/generate_mgenre_with_prefix_tree.ipynb#W4sdnNjb2RlLXJlbW90ZQ%3D%3D?line=11'>12</a>\u001b[0m     \u001b[39m# mgenre_trie=trie,\u001b[39;49;00m\n\u001b[1;32m     <a href='vscode-notebook-cell://attached-container%2B7b22636f6e7461696e65724e616d65223a222f73616c6e696b6f765f7067222c2273657474696e6773223a7b22636f6e74657874223a226e6c7031227d7d/workspace/kbqa/experiments/custome_prefix_tree/generate_mgenre_with_prefix_tree.ipynb#W4sdnNjb2RlLXJlbW90ZQ%3D%3D?line=12'>13</a>\u001b[0m     device\u001b[39m=\u001b[39;49mdevice,\n\u001b[1;32m     <a href='vscode-notebook-cell://attached-container%2B7b22636f6e7461696e65724e616d65223a222f73616c6e696b6f765f7067222c2273657474696e6773223a7b22636f6e74657874223a226e6c7031227d7d/workspace/kbqa/experiments/custome_prefix_tree/generate_mgenre_with_prefix_tree.ipynb#W4sdnNjb2RlLXJlbW90ZQ%3D%3D?line=13'>14</a>\u001b[0m )\n\u001b[1;32m     <a href='vscode-notebook-cell://attached-container%2B7b22636f6e7461696e65724e616d65223a222f73616c6e696b6f765f7067222c2273657474696e6773223a7b22636f6e74657874223a226e6c7031227d7d/workspace/kbqa/experiments/custome_prefix_tree/generate_mgenre_with_prefix_tree.ipynb#W4sdnNjb2RlLXJlbW90ZQ%3D%3D?line=16'>17</a>\u001b[0m ner \u001b[39m=\u001b[39m NerToSentenceInsertion(model_path\u001b[39m=\u001b[39m\u001b[39m'\u001b[39m\u001b[39m../../../ner/\u001b[39m\u001b[39m'\u001b[39m)\n\u001b[1;32m     <a href='vscode-notebook-cell://attached-container%2B7b22636f6e7461696e65724e616d65223a222f73616c6e696b6f765f7067222c2273657474696e6773223a7b22636f6e74657874223a226e6c7031227d7d/workspace/kbqa/experiments/custome_prefix_tree/generate_mgenre_with_prefix_tree.ipynb#W4sdnNjb2RlLXJlbW90ZQ%3D%3D?line=17'>18</a>\u001b[0m entities_selection_module \u001b[39m=\u001b[39m EntitiesSelection(ner\u001b[39m.\u001b[39mmodel)\n",
      "File \u001b[0;32m/usr/local/lib/python3.8/dist-packages/transformers/pipelines/base.py:773\u001b[0m, in \u001b[0;36mPipeline.__init__\u001b[0;34m(self, model, tokenizer, feature_extractor, modelcard, framework, task, args_parser, device, binary_output, **kwargs)\u001b[0m\n\u001b[1;32m    771\u001b[0m \u001b[39m# Special handling\u001b[39;00m\n\u001b[1;32m    772\u001b[0m \u001b[39mif\u001b[39;00m \u001b[39mself\u001b[39m\u001b[39m.\u001b[39mframework \u001b[39m==\u001b[39m \u001b[39m\"\u001b[39m\u001b[39mpt\u001b[39m\u001b[39m\"\u001b[39m \u001b[39mand\u001b[39;00m \u001b[39mself\u001b[39m\u001b[39m.\u001b[39mdevice\u001b[39m.\u001b[39mtype \u001b[39m==\u001b[39m \u001b[39m\"\u001b[39m\u001b[39mcuda\u001b[39m\u001b[39m\"\u001b[39m:\n\u001b[0;32m--> 773\u001b[0m     \u001b[39mself\u001b[39m\u001b[39m.\u001b[39mmodel \u001b[39m=\u001b[39m \u001b[39mself\u001b[39;49m\u001b[39m.\u001b[39;49mmodel\u001b[39m.\u001b[39;49mto(\u001b[39mself\u001b[39;49m\u001b[39m.\u001b[39;49mdevice)\n\u001b[1;32m    775\u001b[0m \u001b[39m# Update config with task specific parameters\u001b[39;00m\n\u001b[1;32m    776\u001b[0m task_specific_params \u001b[39m=\u001b[39m \u001b[39mself\u001b[39m\u001b[39m.\u001b[39mmodel\u001b[39m.\u001b[39mconfig\u001b[39m.\u001b[39mtask_specific_params\n",
      "File \u001b[0;32m/usr/local/lib/python3.8/dist-packages/torch/nn/modules/module.py:927\u001b[0m, in \u001b[0;36mModule.to\u001b[0;34m(self, *args, **kwargs)\u001b[0m\n\u001b[1;32m    923\u001b[0m         \u001b[39mreturn\u001b[39;00m t\u001b[39m.\u001b[39mto(device, dtype \u001b[39mif\u001b[39;00m t\u001b[39m.\u001b[39mis_floating_point() \u001b[39mor\u001b[39;00m t\u001b[39m.\u001b[39mis_complex() \u001b[39melse\u001b[39;00m \u001b[39mNone\u001b[39;00m,\n\u001b[1;32m    924\u001b[0m                     non_blocking, memory_format\u001b[39m=\u001b[39mconvert_to_format)\n\u001b[1;32m    925\u001b[0m     \u001b[39mreturn\u001b[39;00m t\u001b[39m.\u001b[39mto(device, dtype \u001b[39mif\u001b[39;00m t\u001b[39m.\u001b[39mis_floating_point() \u001b[39mor\u001b[39;00m t\u001b[39m.\u001b[39mis_complex() \u001b[39melse\u001b[39;00m \u001b[39mNone\u001b[39;00m, non_blocking)\n\u001b[0;32m--> 927\u001b[0m \u001b[39mreturn\u001b[39;00m \u001b[39mself\u001b[39;49m\u001b[39m.\u001b[39;49m_apply(convert)\n",
      "File \u001b[0;32m/usr/local/lib/python3.8/dist-packages/torch/nn/modules/module.py:579\u001b[0m, in \u001b[0;36mModule._apply\u001b[0;34m(self, fn)\u001b[0m\n\u001b[1;32m    577\u001b[0m \u001b[39mdef\u001b[39;00m \u001b[39m_apply\u001b[39m(\u001b[39mself\u001b[39m, fn):\n\u001b[1;32m    578\u001b[0m     \u001b[39mfor\u001b[39;00m module \u001b[39min\u001b[39;00m \u001b[39mself\u001b[39m\u001b[39m.\u001b[39mchildren():\n\u001b[0;32m--> 579\u001b[0m         module\u001b[39m.\u001b[39;49m_apply(fn)\n\u001b[1;32m    581\u001b[0m     \u001b[39mdef\u001b[39;00m \u001b[39mcompute_should_use_set_data\u001b[39m(tensor, tensor_applied):\n\u001b[1;32m    582\u001b[0m         \u001b[39mif\u001b[39;00m torch\u001b[39m.\u001b[39m_has_compatible_shallow_copy_type(tensor, tensor_applied):\n\u001b[1;32m    583\u001b[0m             \u001b[39m# If the new tensor has compatible tensor type as the existing tensor,\u001b[39;00m\n\u001b[1;32m    584\u001b[0m             \u001b[39m# the current behavior is to change the tensor in-place using `.data =`,\u001b[39;00m\n\u001b[0;32m   (...)\u001b[0m\n\u001b[1;32m    589\u001b[0m             \u001b[39m# global flag to let the user control whether they want the future\u001b[39;00m\n\u001b[1;32m    590\u001b[0m             \u001b[39m# behavior of overwriting the existing tensor or not.\u001b[39;00m\n",
      "File \u001b[0;32m/usr/local/lib/python3.8/dist-packages/torch/nn/modules/module.py:579\u001b[0m, in \u001b[0;36mModule._apply\u001b[0;34m(self, fn)\u001b[0m\n\u001b[1;32m    577\u001b[0m \u001b[39mdef\u001b[39;00m \u001b[39m_apply\u001b[39m(\u001b[39mself\u001b[39m, fn):\n\u001b[1;32m    578\u001b[0m     \u001b[39mfor\u001b[39;00m module \u001b[39min\u001b[39;00m \u001b[39mself\u001b[39m\u001b[39m.\u001b[39mchildren():\n\u001b[0;32m--> 579\u001b[0m         module\u001b[39m.\u001b[39;49m_apply(fn)\n\u001b[1;32m    581\u001b[0m     \u001b[39mdef\u001b[39;00m \u001b[39mcompute_should_use_set_data\u001b[39m(tensor, tensor_applied):\n\u001b[1;32m    582\u001b[0m         \u001b[39mif\u001b[39;00m torch\u001b[39m.\u001b[39m_has_compatible_shallow_copy_type(tensor, tensor_applied):\n\u001b[1;32m    583\u001b[0m             \u001b[39m# If the new tensor has compatible tensor type as the existing tensor,\u001b[39;00m\n\u001b[1;32m    584\u001b[0m             \u001b[39m# the current behavior is to change the tensor in-place using `.data =`,\u001b[39;00m\n\u001b[0;32m   (...)\u001b[0m\n\u001b[1;32m    589\u001b[0m             \u001b[39m# global flag to let the user control whether they want the future\u001b[39;00m\n\u001b[1;32m    590\u001b[0m             \u001b[39m# behavior of overwriting the existing tensor or not.\u001b[39;00m\n",
      "    \u001b[0;31m[... skipping similar frames: Module._apply at line 579 (2 times)]\u001b[0m\n",
      "File \u001b[0;32m/usr/local/lib/python3.8/dist-packages/torch/nn/modules/module.py:579\u001b[0m, in \u001b[0;36mModule._apply\u001b[0;34m(self, fn)\u001b[0m\n\u001b[1;32m    577\u001b[0m \u001b[39mdef\u001b[39;00m \u001b[39m_apply\u001b[39m(\u001b[39mself\u001b[39m, fn):\n\u001b[1;32m    578\u001b[0m     \u001b[39mfor\u001b[39;00m module \u001b[39min\u001b[39;00m \u001b[39mself\u001b[39m\u001b[39m.\u001b[39mchildren():\n\u001b[0;32m--> 579\u001b[0m         module\u001b[39m.\u001b[39;49m_apply(fn)\n\u001b[1;32m    581\u001b[0m     \u001b[39mdef\u001b[39;00m \u001b[39mcompute_should_use_set_data\u001b[39m(tensor, tensor_applied):\n\u001b[1;32m    582\u001b[0m         \u001b[39mif\u001b[39;00m torch\u001b[39m.\u001b[39m_has_compatible_shallow_copy_type(tensor, tensor_applied):\n\u001b[1;32m    583\u001b[0m             \u001b[39m# If the new tensor has compatible tensor type as the existing tensor,\u001b[39;00m\n\u001b[1;32m    584\u001b[0m             \u001b[39m# the current behavior is to change the tensor in-place using `.data =`,\u001b[39;00m\n\u001b[0;32m   (...)\u001b[0m\n\u001b[1;32m    589\u001b[0m             \u001b[39m# global flag to let the user control whether they want the future\u001b[39;00m\n\u001b[1;32m    590\u001b[0m             \u001b[39m# behavior of overwriting the existing tensor or not.\u001b[39;00m\n",
      "File \u001b[0;32m/usr/local/lib/python3.8/dist-packages/torch/nn/modules/module.py:602\u001b[0m, in \u001b[0;36mModule._apply\u001b[0;34m(self, fn)\u001b[0m\n\u001b[1;32m    598\u001b[0m \u001b[39m# Tensors stored in modules are graph leaves, and we don't want to\u001b[39;00m\n\u001b[1;32m    599\u001b[0m \u001b[39m# track autograd history of `param_applied`, so we have to use\u001b[39;00m\n\u001b[1;32m    600\u001b[0m \u001b[39m# `with torch.no_grad():`\u001b[39;00m\n\u001b[1;32m    601\u001b[0m \u001b[39mwith\u001b[39;00m torch\u001b[39m.\u001b[39mno_grad():\n\u001b[0;32m--> 602\u001b[0m     param_applied \u001b[39m=\u001b[39m fn(param)\n\u001b[1;32m    603\u001b[0m should_use_set_data \u001b[39m=\u001b[39m compute_should_use_set_data(param, param_applied)\n\u001b[1;32m    604\u001b[0m \u001b[39mif\u001b[39;00m should_use_set_data:\n",
      "File \u001b[0;32m/usr/local/lib/python3.8/dist-packages/torch/nn/modules/module.py:925\u001b[0m, in \u001b[0;36mModule.to.<locals>.convert\u001b[0;34m(t)\u001b[0m\n\u001b[1;32m    922\u001b[0m \u001b[39mif\u001b[39;00m convert_to_format \u001b[39mis\u001b[39;00m \u001b[39mnot\u001b[39;00m \u001b[39mNone\u001b[39;00m \u001b[39mand\u001b[39;00m t\u001b[39m.\u001b[39mdim() \u001b[39min\u001b[39;00m (\u001b[39m4\u001b[39m, \u001b[39m5\u001b[39m):\n\u001b[1;32m    923\u001b[0m     \u001b[39mreturn\u001b[39;00m t\u001b[39m.\u001b[39mto(device, dtype \u001b[39mif\u001b[39;00m t\u001b[39m.\u001b[39mis_floating_point() \u001b[39mor\u001b[39;00m t\u001b[39m.\u001b[39mis_complex() \u001b[39melse\u001b[39;00m \u001b[39mNone\u001b[39;00m,\n\u001b[1;32m    924\u001b[0m                 non_blocking, memory_format\u001b[39m=\u001b[39mconvert_to_format)\n\u001b[0;32m--> 925\u001b[0m \u001b[39mreturn\u001b[39;00m t\u001b[39m.\u001b[39;49mto(device, dtype \u001b[39mif\u001b[39;49;00m t\u001b[39m.\u001b[39;49mis_floating_point() \u001b[39mor\u001b[39;49;00m t\u001b[39m.\u001b[39;49mis_complex() \u001b[39melse\u001b[39;49;00m \u001b[39mNone\u001b[39;49;00m, non_blocking)\n",
      "\u001b[0;31mRuntimeError\u001b[0m: CUDA out of memory. Tried to allocate 16.00 MiB (GPU 5; 10.76 GiB total capacity; 1.15 GiB already allocated; 16.81 MiB free; 1.17 GiB reserved in total by PyTorch) If reserved memory is >> allocated memory try setting max_split_size_mb to avoid fragmentation.  See documentation for Memory Management and PYTORCH_CUDA_ALLOC_CONF"
     ]
    }
   ],
   "source": [
    "device = torch.device(\"cuda:2\" if torch.cuda.is_available() else \"cpu\")\n",
    "\n",
    "mgenre_tokenizer = AutoTokenizer.from_pretrained(\"facebook/mgenre-wiki\")\n",
    "mgenre_model = AutoModelForSeq2SeqLM.from_pretrained(\"facebook/mgenre-wiki\").eval()\n",
    "\n",
    "# with open('./wdsq_mgenre_trie.pkl', 'rb') as f:\n",
    "#     trie = pickle.load(f)\n",
    "\n",
    "mgenre = MGENREPipeline(\n",
    "    mgenre_model,\n",
    "    mgenre_tokenizer,\n",
    "    # mgenre_trie=trie,\n",
    "    device=device,\n",
    ")\n",
    "\n",
    "\n",
    "ner = NerToSentenceInsertion(model_path=\"../../../ner/\")\n",
    "entities_selection_module = EntitiesSelection(ner.model)"
   ]
  },
  {
   "cell_type": "code",
   "execution_count": 7,
   "metadata": {},
   "outputs": [
    {
     "name": "stderr",
     "output_type": "stream",
     "text": [
      "  0%|          | 0/19481 [00:00<?, ?it/s]/usr/local/lib/python3.8/dist-packages/transformers/generation_utils.py:1202: UserWarning: Neither `max_length` nor `max_new_tokens` have been set, `max_length` will default to 20 (`self.config.max_length`). Controlling `max_length` via the config is deprecated and `max_length` will be removed from the config in v5 of Transformers -- we recommend using `max_new_tokens` to control the maximum length of the generation.\n",
      "  warnings.warn(\n",
      "  0%|          | 4/19481 [00:01<2:07:33,  2.54it/s]"
     ]
    },
    {
     "name": "stdout",
     "output_type": "stream",
     "text": [
      "Error not enough values to unpack (expected 2, got 1) with pred_text=List of American football players who have taken five-wicket hauls on Test match >>\n",
      "Error not enough values to unpack (expected 2, got 1) with pred_text=List of American football players who have taken five-wicket hauls on their careers >>\n",
      "Error not enough values to unpack (expected 2, got 1) with pred_text=List of American football players who have taken five-wicket hauls on Test debut >>\n",
      "Error not enough values to unpack (expected 2, got 1) with pred_text=List of American football players who have taken five-wicket hauls on Test match squ\n"
     ]
    },
    {
     "name": "stderr",
     "output_type": "stream",
     "text": [
      "  0%|          | 10/19481 [00:06<3:06:56,  1.74it/s]/usr/local/lib/python3.8/dist-packages/transformers/pipelines/base.py:1036: UserWarning: You seem to be using the pipelines sequentially on GPU. In order to maximize efficiency please use a dataset\n",
      "  warnings.warn(\n",
      "  0%|          | 35/19481 [00:20<2:57:01,  1.83it/s]"
     ]
    },
    {
     "name": "stdout",
     "output_type": "stream",
     "text": [
      "Error not enough values to unpack (expected 2, got 1) with pred_text=Communist Party of Britain (Marxist–Leninist) (historical)\n",
      "Error not enough values to unpack (expected 2, got 1) with pred_text=Communist Party of Britain (Marxist–Leninist) Commonwealth Federation >>\n"
     ]
    },
    {
     "name": "stderr",
     "output_type": "stream",
     "text": [
      "  0%|          | 61/19481 [00:34<2:33:14,  2.11it/s]"
     ]
    },
    {
     "name": "stdout",
     "output_type": "stream",
     "text": [
      "Error not enough values to unpack (expected 2, got 1) with pred_text=ジョン・オブ・ギャント (初代ランカスター侯爵) >>\n",
      "Error not enough values to unpack (expected 2, got 1) with pred_text=ジョン・オブ・ガンタウリー (初代ランカスター公)\n",
      "Error not enough values to unpack (expected 2, got 1) with pred_text=ジョン・オブ・ギャント (初代ランカスター女伯) >>\n"
     ]
    },
    {
     "name": "stderr",
     "output_type": "stream",
     "text": [
      "  0%|          | 70/19481 [00:43<4:07:06,  1.31it/s]"
     ]
    },
    {
     "name": "stdout",
     "output_type": "stream",
     "text": [
      "Error not enough values to unpack (expected 2, got 1) with pred_text=List of Mr. Hankey's Christmas Classics and Mr. Hankey's\n"
     ]
    },
    {
     "name": "stderr",
     "output_type": "stream",
     "text": [
      "  1%|          | 186/19481 [01:54<2:42:31,  1.98it/s]"
     ]
    },
    {
     "name": "stdout",
     "output_type": "stream",
     "text": [
      "Error not enough values to unpack (expected 2, got 1) with pred_text=List of Major League Baseball players who have thrown an immaculateate inning >>\n",
      "Error not enough values to unpack (expected 2, got 1) with pred_text=List of Major League Baseball players who have thrown an immaculateateate inning\n"
     ]
    },
    {
     "name": "stderr",
     "output_type": "stream",
     "text": [
      "  1%|          | 198/19481 [01:59<2:23:49,  2.23it/s]"
     ]
    },
    {
     "name": "stdout",
     "output_type": "stream",
     "text": [
      "Error too many values to unpack (expected 2) with pred_text=Haifa >> en) >> en\n"
     ]
    },
    {
     "name": "stderr",
     "output_type": "stream",
     "text": [
      "  1%|▏         | 251/19481 [02:29<2:20:35,  2.28it/s]"
     ]
    },
    {
     "name": "stdout",
     "output_type": "stream",
     "text": [
      "Error not enough values to unpack (expected 2, got 1) with pred_text=List of people on the postage stamps of the Federated States of Micronesia\n"
     ]
    },
    {
     "name": "stderr",
     "output_type": "stream",
     "text": [
      "  2%|▏         | 365/19481 [03:36<3:43:22,  1.43it/s]"
     ]
    },
    {
     "name": "stdout",
     "output_type": "stream",
     "text": [
      "Error not enough values to unpack (expected 2, got 1) with pred_text=Micheál Ó Domhnaill, 1st Marquess of Londonderry >>\n",
      "Error not enough values to unpack (expected 2, got 1) with pred_text=Micheál Ó Domhnaill, 2nd Marquess of Londonderry >>\n"
     ]
    },
    {
     "name": "stderr",
     "output_type": "stream",
     "text": [
      "  2%|▏         | 386/19481 [03:49<2:29:33,  2.13it/s]"
     ]
    },
    {
     "name": "stdout",
     "output_type": "stream",
     "text": [
      "Error not enough values to unpack (expected 2, got 1) with pred_text=What Coast Does Was Nominated for Classical Album of the Year Declare Nationality >>\n",
      "Error not enough values to unpack (expected 2, got 1) with pred_text=What Coast Does Was Nominated For Classical Album of the Year Declare Nationality >>\n",
      "Error not enough values to unpack (expected 2, got 1) with pred_text=What Coast Does Was Nominated For Classical Album Of The Year Declare Nationality >>\n",
      "Error not enough values to unpack (expected 2, got 1) with pred_text=What Coast Does Was Nominated for Classical Album Of The Year Declare Nationality >>\n",
      "Error not enough values to unpack (expected 2, got 1) with pred_text=What Coast Does Was Nominated For Classical Album of The Year Declare Nationality >>\n",
      "Error not enough values to unpack (expected 2, got 1) with pred_text=What Coast Does Was Nominated for Classical Album of The Year Declare Nationality >>\n",
      "Error not enough values to unpack (expected 2, got 1) with pred_text=What Coast Does Was Nominated for Classical Album of the Year Declare Nationality (\n",
      "Error not enough values to unpack (expected 2, got 1) with pred_text=What Coast Does Was Nominated For Classical Album Of The Year Declare Nationality (\n",
      "Error not enough values to unpack (expected 2, got 1) with pred_text=What Coast Does Was Nominated For Classical Album of the Year Declare Nationality (\n",
      "Error not enough values to unpack (expected 2, got 1) with pred_text=What Coast Does Was Nominated for Classical album of the Year Declare Nationality >>\n"
     ]
    },
    {
     "name": "stderr",
     "output_type": "stream",
     "text": [
      "  3%|▎         | 574/19481 [05:33<2:51:55,  1.83it/s]"
     ]
    },
    {
     "name": "stdout",
     "output_type": "stream",
     "text": [
      "Error not enough values to unpack (expected 2, got 1) with pred_text=Name a Gameplay Mode in Which Nba Showtime: Nbc Can Be Played\n"
     ]
    },
    {
     "name": "stderr",
     "output_type": "stream",
     "text": [
      "  3%|▎         | 609/19481 [05:54<2:17:40,  2.28it/s]"
     ]
    },
    {
     "name": "stdout",
     "output_type": "stream",
     "text": [
      "Error too many values to unpack (expected 2) with pred_text=Forward (association football) >> en) >> en\n"
     ]
    },
    {
     "name": "stderr",
     "output_type": "stream",
     "text": [
      "  4%|▎         | 704/19481 [06:43<2:52:51,  1.81it/s]"
     ]
    },
    {
     "name": "stdout",
     "output_type": "stream",
     "text": [
      "Error too many values to unpack (expected 2) with pred_text=Irrawaddy River >> en) >> en\n"
     ]
    },
    {
     "name": "stderr",
     "output_type": "stream",
     "text": [
      "  4%|▎         | 708/19481 [06:45<2:33:10,  2.04it/s]"
     ]
    },
    {
     "name": "stdout",
     "output_type": "stream",
     "text": [
      "Error not enough values to unpack (expected 2, got 1) with pred_text=ジャック・ギルフォード (西オーストラリア州の政治家)\n",
      "Error not enough values to unpack (expected 2, got 1) with pred_text=ジャック・ギルフォード (マサチューセッツ州知事\n",
      "Error not enough values to unpack (expected 2, got 1) with pred_text=ジャック・ギルフォード (初代ギルフォード男爵)\n",
      "Error not enough values to unpack (expected 2, got 1) with pred_text=ジャック・ギルフォード (マサチューセッツ湾植民\n",
      "Error not enough values to unpack (expected 2, got 1) with pred_text=ジャック・ギルフォード (マサチューセッツ州出身の\n"
     ]
    },
    {
     "name": "stderr",
     "output_type": "stream",
     "text": [
      "  4%|▍         | 750/19481 [07:11<3:43:18,  1.40it/s]"
     ]
    },
    {
     "name": "stdout",
     "output_type": "stream",
     "text": [
      "Error too many values to unpack (expected 2) with pred_text=Violin >> en) >> en\n"
     ]
    },
    {
     "name": "stderr",
     "output_type": "stream",
     "text": [
      "  4%|▍         | 802/19481 [07:40<2:08:39,  2.42it/s]"
     ]
    },
    {
     "name": "stdout",
     "output_type": "stream",
     "text": [
      "Error not enough values to unpack (expected 2, got 1) with pred_text=List of Major League Baseball players who have thrown an immaculateate inning >>\n"
     ]
    },
    {
     "name": "stderr",
     "output_type": "stream",
     "text": [
      "  5%|▍         | 880/19481 [08:24<3:14:02,  1.60it/s]"
     ]
    },
    {
     "name": "stdout",
     "output_type": "stream",
     "text": [
      "Error too many values to unpack (expected 2) with pred_text=Midfielder >> en) >> en\n"
     ]
    },
    {
     "name": "stderr",
     "output_type": "stream",
     "text": [
      "  5%|▍         | 903/19481 [08:36<2:59:35,  1.72it/s]"
     ]
    },
    {
     "name": "stdout",
     "output_type": "stream",
     "text": [
      "Error too many values to unpack (expected 2) with pred_text=Paraná River >> en) >> en\n"
     ]
    },
    {
     "name": "stderr",
     "output_type": "stream",
     "text": [
      "  5%|▌         | 1022/19481 [09:40<3:14:46,  1.58it/s]"
     ]
    },
    {
     "name": "stdout",
     "output_type": "stream",
     "text": [
      "Error not enough values to unpack (expected 2, got 1) with pred_text=List of settlements in the London Borough of Hammersmith and Fulham >>\n"
     ]
    },
    {
     "name": "stderr",
     "output_type": "stream",
     "text": [
      "  6%|▌         | 1078/19481 [10:13<2:36:12,  1.96it/s]"
     ]
    },
    {
     "name": "stdout",
     "output_type": "stream",
     "text": [
      "Error not enough values to unpack (expected 2, got 1) with pred_text=ローソン・ロビンソン (初代ロビンソン男爵)\n",
      "Error not enough values to unpack (expected 2, got 1) with pred_text=ローソン・ロビンソン (初代ロビンソン子爵)\n"
     ]
    },
    {
     "name": "stderr",
     "output_type": "stream",
     "text": [
      "  6%|▌         | 1097/19481 [10:27<2:55:20,  1.75it/s]\n"
     ]
    },
    {
     "ename": "KeyboardInterrupt",
     "evalue": "",
     "output_type": "error",
     "traceback": [
      "\u001b[0;31m---------------------------------------------------------------------------\u001b[0m",
      "\u001b[0;31mKeyboardInterrupt\u001b[0m                         Traceback (most recent call last)",
      "\u001b[1;32m/workspace/kbqa/experiments/custome_prefix_tree/generate_mgenre_with_prefix_tree.ipynb Cell 6\u001b[0m in \u001b[0;36m<cell line: 5>\u001b[0;34m()\u001b[0m\n\u001b[1;32m     <a href='vscode-notebook-cell://attached-container%2B7b22636f6e7461696e65724e616d65223a222f73616c6e696b6f765f7067222c2273657474696e6773223a7b22636f6e74657874223a226e6c7031227d7d/workspace/kbqa/experiments/custome_prefix_tree/generate_mgenre_with_prefix_tree.ipynb#W5sdnNjb2RlLXJlbW90ZQ%3D%3D?line=15'>16</a>\u001b[0m     lbl \u001b[39m=\u001b[39m lbl[:lbl\u001b[39m.\u001b[39mindex(\u001b[39m'\u001b[39m\u001b[39m>>\u001b[39m\u001b[39m'\u001b[39m)]\n\u001b[1;32m     <a href='vscode-notebook-cell://attached-container%2B7b22636f6e7461696e65724e616d65223a222f73616c6e696b6f765f7067222c2273657474696e6773223a7b22636f6e74657874223a226e6c7031227d7d/workspace/kbqa/experiments/custome_prefix_tree/generate_mgenre_with_prefix_tree.ipynb#W5sdnNjb2RlLXJlbW90ZQ%3D%3D?line=16'>17</a>\u001b[0m \u001b[39mtry\u001b[39;00m:\n\u001b[0;32m---> <a href='vscode-notebook-cell://attached-container%2B7b22636f6e7461696e65724e616d65223a222f73616c6e696b6f765f7067222c2273657474696e6773223a7b22636f6e74657874223a226e6c7031227d7d/workspace/kbqa/experiments/custome_prefix_tree/generate_mgenre_with_prefix_tree.ipynb#W5sdnNjb2RlLXJlbW90ZQ%3D%3D?line=17'>18</a>\u001b[0m     entities\u001b[39m.\u001b[39mextend(Entity\u001b[39m.\u001b[39;49mfrom_label(lbl))\n\u001b[1;32m     <a href='vscode-notebook-cell://attached-container%2B7b22636f6e7461696e65724e616d65223a222f73616c6e696b6f765f7067222c2273657474696e6773223a7b22636f6e74657874223a226e6c7031227d7d/workspace/kbqa/experiments/custome_prefix_tree/generate_mgenre_with_prefix_tree.ipynb#W5sdnNjb2RlLXJlbW90ZQ%3D%3D?line=18'>19</a>\u001b[0m \u001b[39mexcept\u001b[39;00m \u001b[39mValueError\u001b[39;00m:\n\u001b[1;32m     <a href='vscode-notebook-cell://attached-container%2B7b22636f6e7461696e65724e616d65223a222f73616c6e696b6f765f7067222c2273657474696e6773223a7b22636f6e74657874223a226e6c7031227d7d/workspace/kbqa/experiments/custome_prefix_tree/generate_mgenre_with_prefix_tree.ipynb#W5sdnNjb2RlLXJlbW90ZQ%3D%3D?line=19'>20</a>\u001b[0m     \u001b[39mpass\u001b[39;00m\n",
      "File \u001b[0;32m/workspace/kbqa/kbqa/wikidata/entity.py:159\u001b[0m, in \u001b[0;36mEntity.from_label\u001b[0;34m(cls, label)\u001b[0m\n\u001b[1;32m    157\u001b[0m \u001b[39m@classmethod\u001b[39m\n\u001b[1;32m    158\u001b[0m \u001b[39mdef\u001b[39;00m \u001b[39mfrom_label\u001b[39m(\u001b[39mcls\u001b[39m, label):\n\u001b[0;32m--> 159\u001b[0m     responce \u001b[39m=\u001b[39m \u001b[39mcls\u001b[39;49m\u001b[39m.\u001b[39;49m_request_entity_by_label(label)\n\u001b[1;32m    160\u001b[0m     \u001b[39mif\u001b[39;00m \u001b[39mlen\u001b[39m(responce) \u001b[39m>\u001b[39m \u001b[39m0\u001b[39m:\n\u001b[1;32m    161\u001b[0m         \u001b[39mreturn\u001b[39;00m [Entity(r[\u001b[39m\"\u001b[39m\u001b[39mitem\u001b[39m\u001b[39m\"\u001b[39m][\u001b[39m\"\u001b[39m\u001b[39mvalue\u001b[39m\u001b[39m\"\u001b[39m]) \u001b[39mfor\u001b[39;00m r \u001b[39min\u001b[39;00m responce]\n",
      "File \u001b[0;32m/workspace/kbqa/kbqa/wikidata/entity.py:128\u001b[0m, in \u001b[0;36m_WikiDataBase._request_entity_by_label\u001b[0;34m(label)\u001b[0m\n\u001b[1;32m    117\u001b[0m \u001b[39m@staticmethod\u001b[39m\n\u001b[1;32m    118\u001b[0m \u001b[39mdef\u001b[39;00m \u001b[39m_request_entity_by_label\u001b[39m(label):\n\u001b[1;32m    119\u001b[0m     query \u001b[39m=\u001b[39m \u001b[39m\"\"\"\u001b[39m\n\u001b[1;32m    120\u001b[0m \u001b[39m    PREFIX rdfs: <http://www.w3.org/2000/01/rdf-schema#> \u001b[39m\n\u001b[1;32m    121\u001b[0m \u001b[39m    SELECT * WHERE\u001b[39m\u001b[39m{\u001b[39m\n\u001b[0;32m   (...)\u001b[0m\n\u001b[1;32m    125\u001b[0m         \u001b[39m\"\u001b[39m\u001b[39m<LABEL>\u001b[39m\u001b[39m\"\u001b[39m, label\n\u001b[1;32m    126\u001b[0m     )\n\u001b[0;32m--> 128\u001b[0m     responce \u001b[39m=\u001b[39m request_to_wikidata(query)\n\u001b[1;32m    129\u001b[0m     \u001b[39mreturn\u001b[39;00m responce\n",
      "File \u001b[0;32m/usr/local/lib/python3.8/dist-packages/joblib/memory.py:594\u001b[0m, in \u001b[0;36mMemorizedFunc.__call__\u001b[0;34m(self, *args, **kwargs)\u001b[0m\n\u001b[1;32m    593\u001b[0m \u001b[39mdef\u001b[39;00m \u001b[39m__call__\u001b[39m(\u001b[39mself\u001b[39m, \u001b[39m*\u001b[39margs, \u001b[39m*\u001b[39m\u001b[39m*\u001b[39mkwargs):\n\u001b[0;32m--> 594\u001b[0m     \u001b[39mreturn\u001b[39;00m \u001b[39mself\u001b[39;49m\u001b[39m.\u001b[39;49m_cached_call(args, kwargs)[\u001b[39m0\u001b[39m]\n",
      "File \u001b[0;32m/usr/local/lib/python3.8/dist-packages/joblib/memory.py:537\u001b[0m, in \u001b[0;36mMemorizedFunc._cached_call\u001b[0;34m(self, args, kwargs, shelving)\u001b[0m\n\u001b[1;32m    534\u001b[0m         must_call \u001b[39m=\u001b[39m \u001b[39mTrue\u001b[39;00m\n\u001b[1;32m    536\u001b[0m \u001b[39mif\u001b[39;00m must_call:\n\u001b[0;32m--> 537\u001b[0m     out, metadata \u001b[39m=\u001b[39m \u001b[39mself\u001b[39;49m\u001b[39m.\u001b[39;49mcall(\u001b[39m*\u001b[39;49margs, \u001b[39m*\u001b[39;49m\u001b[39m*\u001b[39;49mkwargs)\n\u001b[1;32m    538\u001b[0m     \u001b[39mif\u001b[39;00m \u001b[39mself\u001b[39m\u001b[39m.\u001b[39mmmap_mode \u001b[39mis\u001b[39;00m \u001b[39mnot\u001b[39;00m \u001b[39mNone\u001b[39;00m:\n\u001b[1;32m    539\u001b[0m         \u001b[39m# Memmap the output at the first call to be consistent with\u001b[39;00m\n\u001b[1;32m    540\u001b[0m         \u001b[39m# later calls\u001b[39;00m\n\u001b[1;32m    541\u001b[0m         \u001b[39mif\u001b[39;00m \u001b[39mself\u001b[39m\u001b[39m.\u001b[39m_verbose:\n",
      "File \u001b[0;32m/usr/local/lib/python3.8/dist-packages/joblib/memory.py:779\u001b[0m, in \u001b[0;36mMemorizedFunc.call\u001b[0;34m(self, *args, **kwargs)\u001b[0m\n\u001b[1;32m    777\u001b[0m \u001b[39mif\u001b[39;00m \u001b[39mself\u001b[39m\u001b[39m.\u001b[39m_verbose \u001b[39m>\u001b[39m \u001b[39m0\u001b[39m:\n\u001b[1;32m    778\u001b[0m     \u001b[39mprint\u001b[39m(format_call(\u001b[39mself\u001b[39m\u001b[39m.\u001b[39mfunc, args, kwargs))\n\u001b[0;32m--> 779\u001b[0m output \u001b[39m=\u001b[39m \u001b[39mself\u001b[39;49m\u001b[39m.\u001b[39;49mfunc(\u001b[39m*\u001b[39;49margs, \u001b[39m*\u001b[39;49m\u001b[39m*\u001b[39;49mkwargs)\n\u001b[1;32m    780\u001b[0m \u001b[39mself\u001b[39m\u001b[39m.\u001b[39mstore_backend\u001b[39m.\u001b[39mdump_item(\n\u001b[1;32m    781\u001b[0m     [func_id, args_id], output, verbose\u001b[39m=\u001b[39m\u001b[39mself\u001b[39m\u001b[39m.\u001b[39m_verbose)\n\u001b[1;32m    783\u001b[0m duration \u001b[39m=\u001b[39m time\u001b[39m.\u001b[39mtime() \u001b[39m-\u001b[39m start_time\n",
      "File \u001b[0;32m/workspace/kbqa/kbqa/wikidata/utils.py:31\u001b[0m, in \u001b[0;36mrequest_to_wikidata\u001b[0;34m(query, sparql_endpoint)\u001b[0m\n\u001b[1;32m     20\u001b[0m headers \u001b[39m=\u001b[39m {\n\u001b[1;32m     21\u001b[0m     \u001b[39m\"\u001b[39m\u001b[39mAccept\u001b[39m\u001b[39m\"\u001b[39m: \u001b[39m\"\u001b[39m\u001b[39mapplication/json\u001b[39m\u001b[39m\"\u001b[39m,\n\u001b[1;32m     22\u001b[0m     \u001b[39m\"\u001b[39m\u001b[39mUser-Agent\u001b[39m\u001b[39m\"\u001b[39m: \u001b[39m\"\u001b[39m\u001b[39mMozilla/5.0 (Macintosh; Intel Mac OS X 10_11_5) AppleWebKit/537.36 (KHTML, like Gecko) Chrome/50.0.2661.102 Safari/537.36\u001b[39m\u001b[39m\"\u001b[39m,\n\u001b[1;32m     23\u001b[0m }\n\u001b[1;32m     24\u001b[0m logger\u001b[39m.\u001b[39minfo(\n\u001b[1;32m     25\u001b[0m     {\n\u001b[1;32m     26\u001b[0m         \u001b[39m\"\u001b[39m\u001b[39mmsg\u001b[39m\u001b[39m\"\u001b[39m: \u001b[39m\"\u001b[39m\u001b[39mSend request to Wikidata\u001b[39m\u001b[39m\"\u001b[39m,\n\u001b[0;32m   (...)\u001b[0m\n\u001b[1;32m     29\u001b[0m     }\n\u001b[1;32m     30\u001b[0m )\n\u001b[0;32m---> 31\u001b[0m response \u001b[39m=\u001b[39m requests\u001b[39m.\u001b[39;49mget(\n\u001b[1;32m     32\u001b[0m     sparql_endpoint,\n\u001b[1;32m     33\u001b[0m     params\u001b[39m=\u001b[39;49mparams,\n\u001b[1;32m     34\u001b[0m     headers\u001b[39m=\u001b[39;49mheaders,\n\u001b[1;32m     35\u001b[0m )\n\u001b[1;32m     36\u001b[0m to_sleep \u001b[39m=\u001b[39m \u001b[39m0.2\u001b[39m\n\u001b[1;32m     37\u001b[0m \u001b[39mwhile\u001b[39;00m response\u001b[39m.\u001b[39mstatus_code \u001b[39m==\u001b[39m \u001b[39m429\u001b[39m:\n",
      "File \u001b[0;32m/usr/local/lib/python3.8/dist-packages/requests/api.py:73\u001b[0m, in \u001b[0;36mget\u001b[0;34m(url, params, **kwargs)\u001b[0m\n\u001b[1;32m     62\u001b[0m \u001b[39mdef\u001b[39;00m \u001b[39mget\u001b[39m(url, params\u001b[39m=\u001b[39m\u001b[39mNone\u001b[39;00m, \u001b[39m*\u001b[39m\u001b[39m*\u001b[39mkwargs):\n\u001b[1;32m     63\u001b[0m     \u001b[39mr\u001b[39m\u001b[39m\"\"\"Sends a GET request.\u001b[39;00m\n\u001b[1;32m     64\u001b[0m \n\u001b[1;32m     65\u001b[0m \u001b[39m    :param url: URL for the new :class:`Request` object.\u001b[39;00m\n\u001b[0;32m   (...)\u001b[0m\n\u001b[1;32m     70\u001b[0m \u001b[39m    :rtype: requests.Response\u001b[39;00m\n\u001b[1;32m     71\u001b[0m \u001b[39m    \"\"\"\u001b[39;00m\n\u001b[0;32m---> 73\u001b[0m     \u001b[39mreturn\u001b[39;00m request(\u001b[39m\"\u001b[39;49m\u001b[39mget\u001b[39;49m\u001b[39m\"\u001b[39;49m, url, params\u001b[39m=\u001b[39;49mparams, \u001b[39m*\u001b[39;49m\u001b[39m*\u001b[39;49mkwargs)\n",
      "File \u001b[0;32m/usr/local/lib/python3.8/dist-packages/requests/api.py:59\u001b[0m, in \u001b[0;36mrequest\u001b[0;34m(method, url, **kwargs)\u001b[0m\n\u001b[1;32m     55\u001b[0m \u001b[39m# By using the 'with' statement we are sure the session is closed, thus we\u001b[39;00m\n\u001b[1;32m     56\u001b[0m \u001b[39m# avoid leaving sockets open which can trigger a ResourceWarning in some\u001b[39;00m\n\u001b[1;32m     57\u001b[0m \u001b[39m# cases, and look like a memory leak in others.\u001b[39;00m\n\u001b[1;32m     58\u001b[0m \u001b[39mwith\u001b[39;00m sessions\u001b[39m.\u001b[39mSession() \u001b[39mas\u001b[39;00m session:\n\u001b[0;32m---> 59\u001b[0m     \u001b[39mreturn\u001b[39;00m session\u001b[39m.\u001b[39;49mrequest(method\u001b[39m=\u001b[39;49mmethod, url\u001b[39m=\u001b[39;49murl, \u001b[39m*\u001b[39;49m\u001b[39m*\u001b[39;49mkwargs)\n",
      "File \u001b[0;32m/usr/local/lib/python3.8/dist-packages/requests/sessions.py:587\u001b[0m, in \u001b[0;36mSession.request\u001b[0;34m(self, method, url, params, data, headers, cookies, files, auth, timeout, allow_redirects, proxies, hooks, stream, verify, cert, json)\u001b[0m\n\u001b[1;32m    582\u001b[0m send_kwargs \u001b[39m=\u001b[39m {\n\u001b[1;32m    583\u001b[0m     \u001b[39m\"\u001b[39m\u001b[39mtimeout\u001b[39m\u001b[39m\"\u001b[39m: timeout,\n\u001b[1;32m    584\u001b[0m     \u001b[39m\"\u001b[39m\u001b[39mallow_redirects\u001b[39m\u001b[39m\"\u001b[39m: allow_redirects,\n\u001b[1;32m    585\u001b[0m }\n\u001b[1;32m    586\u001b[0m send_kwargs\u001b[39m.\u001b[39mupdate(settings)\n\u001b[0;32m--> 587\u001b[0m resp \u001b[39m=\u001b[39m \u001b[39mself\u001b[39;49m\u001b[39m.\u001b[39;49msend(prep, \u001b[39m*\u001b[39;49m\u001b[39m*\u001b[39;49msend_kwargs)\n\u001b[1;32m    589\u001b[0m \u001b[39mreturn\u001b[39;00m resp\n",
      "File \u001b[0;32m/usr/local/lib/python3.8/dist-packages/requests/sessions.py:701\u001b[0m, in \u001b[0;36mSession.send\u001b[0;34m(self, request, **kwargs)\u001b[0m\n\u001b[1;32m    698\u001b[0m start \u001b[39m=\u001b[39m preferred_clock()\n\u001b[1;32m    700\u001b[0m \u001b[39m# Send the request\u001b[39;00m\n\u001b[0;32m--> 701\u001b[0m r \u001b[39m=\u001b[39m adapter\u001b[39m.\u001b[39;49msend(request, \u001b[39m*\u001b[39;49m\u001b[39m*\u001b[39;49mkwargs)\n\u001b[1;32m    703\u001b[0m \u001b[39m# Total elapsed time of the request (approximately)\u001b[39;00m\n\u001b[1;32m    704\u001b[0m elapsed \u001b[39m=\u001b[39m preferred_clock() \u001b[39m-\u001b[39m start\n",
      "File \u001b[0;32m/usr/local/lib/python3.8/dist-packages/requests/adapters.py:489\u001b[0m, in \u001b[0;36mHTTPAdapter.send\u001b[0;34m(self, request, stream, timeout, verify, cert, proxies)\u001b[0m\n\u001b[1;32m    487\u001b[0m \u001b[39mtry\u001b[39;00m:\n\u001b[1;32m    488\u001b[0m     \u001b[39mif\u001b[39;00m \u001b[39mnot\u001b[39;00m chunked:\n\u001b[0;32m--> 489\u001b[0m         resp \u001b[39m=\u001b[39m conn\u001b[39m.\u001b[39;49murlopen(\n\u001b[1;32m    490\u001b[0m             method\u001b[39m=\u001b[39;49mrequest\u001b[39m.\u001b[39;49mmethod,\n\u001b[1;32m    491\u001b[0m             url\u001b[39m=\u001b[39;49murl,\n\u001b[1;32m    492\u001b[0m             body\u001b[39m=\u001b[39;49mrequest\u001b[39m.\u001b[39;49mbody,\n\u001b[1;32m    493\u001b[0m             headers\u001b[39m=\u001b[39;49mrequest\u001b[39m.\u001b[39;49mheaders,\n\u001b[1;32m    494\u001b[0m             redirect\u001b[39m=\u001b[39;49m\u001b[39mFalse\u001b[39;49;00m,\n\u001b[1;32m    495\u001b[0m             assert_same_host\u001b[39m=\u001b[39;49m\u001b[39mFalse\u001b[39;49;00m,\n\u001b[1;32m    496\u001b[0m             preload_content\u001b[39m=\u001b[39;49m\u001b[39mFalse\u001b[39;49;00m,\n\u001b[1;32m    497\u001b[0m             decode_content\u001b[39m=\u001b[39;49m\u001b[39mFalse\u001b[39;49;00m,\n\u001b[1;32m    498\u001b[0m             retries\u001b[39m=\u001b[39;49m\u001b[39mself\u001b[39;49m\u001b[39m.\u001b[39;49mmax_retries,\n\u001b[1;32m    499\u001b[0m             timeout\u001b[39m=\u001b[39;49mtimeout,\n\u001b[1;32m    500\u001b[0m         )\n\u001b[1;32m    502\u001b[0m     \u001b[39m# Send the request.\u001b[39;00m\n\u001b[1;32m    503\u001b[0m     \u001b[39melse\u001b[39;00m:\n\u001b[1;32m    504\u001b[0m         \u001b[39mif\u001b[39;00m \u001b[39mhasattr\u001b[39m(conn, \u001b[39m\"\u001b[39m\u001b[39mproxy_pool\u001b[39m\u001b[39m\"\u001b[39m):\n",
      "File \u001b[0;32m/usr/local/lib/python3.8/dist-packages/urllib3/connectionpool.py:703\u001b[0m, in \u001b[0;36mHTTPConnectionPool.urlopen\u001b[0;34m(self, method, url, body, headers, retries, redirect, assert_same_host, timeout, pool_timeout, release_conn, chunked, body_pos, **response_kw)\u001b[0m\n\u001b[1;32m    700\u001b[0m     \u001b[39mself\u001b[39m\u001b[39m.\u001b[39m_prepare_proxy(conn)\n\u001b[1;32m    702\u001b[0m \u001b[39m# Make the request on the httplib connection object.\u001b[39;00m\n\u001b[0;32m--> 703\u001b[0m httplib_response \u001b[39m=\u001b[39m \u001b[39mself\u001b[39;49m\u001b[39m.\u001b[39;49m_make_request(\n\u001b[1;32m    704\u001b[0m     conn,\n\u001b[1;32m    705\u001b[0m     method,\n\u001b[1;32m    706\u001b[0m     url,\n\u001b[1;32m    707\u001b[0m     timeout\u001b[39m=\u001b[39;49mtimeout_obj,\n\u001b[1;32m    708\u001b[0m     body\u001b[39m=\u001b[39;49mbody,\n\u001b[1;32m    709\u001b[0m     headers\u001b[39m=\u001b[39;49mheaders,\n\u001b[1;32m    710\u001b[0m     chunked\u001b[39m=\u001b[39;49mchunked,\n\u001b[1;32m    711\u001b[0m )\n\u001b[1;32m    713\u001b[0m \u001b[39m# If we're going to release the connection in ``finally:``, then\u001b[39;00m\n\u001b[1;32m    714\u001b[0m \u001b[39m# the response doesn't need to know about the connection. Otherwise\u001b[39;00m\n\u001b[1;32m    715\u001b[0m \u001b[39m# it will also try to release it and we'll have a double-release\u001b[39;00m\n\u001b[1;32m    716\u001b[0m \u001b[39m# mess.\u001b[39;00m\n\u001b[1;32m    717\u001b[0m response_conn \u001b[39m=\u001b[39m conn \u001b[39mif\u001b[39;00m \u001b[39mnot\u001b[39;00m release_conn \u001b[39melse\u001b[39;00m \u001b[39mNone\u001b[39;00m\n",
      "File \u001b[0;32m/usr/local/lib/python3.8/dist-packages/urllib3/connectionpool.py:449\u001b[0m, in \u001b[0;36mHTTPConnectionPool._make_request\u001b[0;34m(self, conn, method, url, timeout, chunked, **httplib_request_kw)\u001b[0m\n\u001b[1;32m    444\u001b[0m             httplib_response \u001b[39m=\u001b[39m conn\u001b[39m.\u001b[39mgetresponse()\n\u001b[1;32m    445\u001b[0m         \u001b[39mexcept\u001b[39;00m \u001b[39mBaseException\u001b[39;00m \u001b[39mas\u001b[39;00m e:\n\u001b[1;32m    446\u001b[0m             \u001b[39m# Remove the TypeError from the exception chain in\u001b[39;00m\n\u001b[1;32m    447\u001b[0m             \u001b[39m# Python 3 (including for exceptions like SystemExit).\u001b[39;00m\n\u001b[1;32m    448\u001b[0m             \u001b[39m# Otherwise it looks like a bug in the code.\u001b[39;00m\n\u001b[0;32m--> 449\u001b[0m             six\u001b[39m.\u001b[39;49mraise_from(e, \u001b[39mNone\u001b[39;49;00m)\n\u001b[1;32m    450\u001b[0m \u001b[39mexcept\u001b[39;00m (SocketTimeout, BaseSSLError, SocketError) \u001b[39mas\u001b[39;00m e:\n\u001b[1;32m    451\u001b[0m     \u001b[39mself\u001b[39m\u001b[39m.\u001b[39m_raise_timeout(err\u001b[39m=\u001b[39me, url\u001b[39m=\u001b[39murl, timeout_value\u001b[39m=\u001b[39mread_timeout)\n",
      "File \u001b[0;32m<string>:3\u001b[0m, in \u001b[0;36mraise_from\u001b[0;34m(value, from_value)\u001b[0m\n",
      "File \u001b[0;32m/usr/local/lib/python3.8/dist-packages/urllib3/connectionpool.py:444\u001b[0m, in \u001b[0;36mHTTPConnectionPool._make_request\u001b[0;34m(self, conn, method, url, timeout, chunked, **httplib_request_kw)\u001b[0m\n\u001b[1;32m    441\u001b[0m \u001b[39mexcept\u001b[39;00m \u001b[39mTypeError\u001b[39;00m:\n\u001b[1;32m    442\u001b[0m     \u001b[39m# Python 3\u001b[39;00m\n\u001b[1;32m    443\u001b[0m     \u001b[39mtry\u001b[39;00m:\n\u001b[0;32m--> 444\u001b[0m         httplib_response \u001b[39m=\u001b[39m conn\u001b[39m.\u001b[39;49mgetresponse()\n\u001b[1;32m    445\u001b[0m     \u001b[39mexcept\u001b[39;00m \u001b[39mBaseException\u001b[39;00m \u001b[39mas\u001b[39;00m e:\n\u001b[1;32m    446\u001b[0m         \u001b[39m# Remove the TypeError from the exception chain in\u001b[39;00m\n\u001b[1;32m    447\u001b[0m         \u001b[39m# Python 3 (including for exceptions like SystemExit).\u001b[39;00m\n\u001b[1;32m    448\u001b[0m         \u001b[39m# Otherwise it looks like a bug in the code.\u001b[39;00m\n\u001b[1;32m    449\u001b[0m         six\u001b[39m.\u001b[39mraise_from(e, \u001b[39mNone\u001b[39;00m)\n",
      "File \u001b[0;32m/usr/lib/python3.8/http/client.py:1348\u001b[0m, in \u001b[0;36mHTTPConnection.getresponse\u001b[0;34m(self)\u001b[0m\n\u001b[1;32m   1346\u001b[0m \u001b[39mtry\u001b[39;00m:\n\u001b[1;32m   1347\u001b[0m     \u001b[39mtry\u001b[39;00m:\n\u001b[0;32m-> 1348\u001b[0m         response\u001b[39m.\u001b[39;49mbegin()\n\u001b[1;32m   1349\u001b[0m     \u001b[39mexcept\u001b[39;00m \u001b[39mConnectionError\u001b[39;00m:\n\u001b[1;32m   1350\u001b[0m         \u001b[39mself\u001b[39m\u001b[39m.\u001b[39mclose()\n",
      "File \u001b[0;32m/usr/lib/python3.8/http/client.py:316\u001b[0m, in \u001b[0;36mHTTPResponse.begin\u001b[0;34m(self)\u001b[0m\n\u001b[1;32m    314\u001b[0m \u001b[39m# read until we get a non-100 response\u001b[39;00m\n\u001b[1;32m    315\u001b[0m \u001b[39mwhile\u001b[39;00m \u001b[39mTrue\u001b[39;00m:\n\u001b[0;32m--> 316\u001b[0m     version, status, reason \u001b[39m=\u001b[39m \u001b[39mself\u001b[39;49m\u001b[39m.\u001b[39;49m_read_status()\n\u001b[1;32m    317\u001b[0m     \u001b[39mif\u001b[39;00m status \u001b[39m!=\u001b[39m CONTINUE:\n\u001b[1;32m    318\u001b[0m         \u001b[39mbreak\u001b[39;00m\n",
      "File \u001b[0;32m/usr/lib/python3.8/http/client.py:277\u001b[0m, in \u001b[0;36mHTTPResponse._read_status\u001b[0;34m(self)\u001b[0m\n\u001b[1;32m    276\u001b[0m \u001b[39mdef\u001b[39;00m \u001b[39m_read_status\u001b[39m(\u001b[39mself\u001b[39m):\n\u001b[0;32m--> 277\u001b[0m     line \u001b[39m=\u001b[39m \u001b[39mstr\u001b[39m(\u001b[39mself\u001b[39;49m\u001b[39m.\u001b[39;49mfp\u001b[39m.\u001b[39;49mreadline(_MAXLINE \u001b[39m+\u001b[39;49m \u001b[39m1\u001b[39;49m), \u001b[39m\"\u001b[39m\u001b[39miso-8859-1\u001b[39m\u001b[39m\"\u001b[39m)\n\u001b[1;32m    278\u001b[0m     \u001b[39mif\u001b[39;00m \u001b[39mlen\u001b[39m(line) \u001b[39m>\u001b[39m _MAXLINE:\n\u001b[1;32m    279\u001b[0m         \u001b[39mraise\u001b[39;00m LineTooLong(\u001b[39m\"\u001b[39m\u001b[39mstatus line\u001b[39m\u001b[39m\"\u001b[39m)\n",
      "File \u001b[0;32m/usr/lib/python3.8/socket.py:669\u001b[0m, in \u001b[0;36mSocketIO.readinto\u001b[0;34m(self, b)\u001b[0m\n\u001b[1;32m    667\u001b[0m \u001b[39mwhile\u001b[39;00m \u001b[39mTrue\u001b[39;00m:\n\u001b[1;32m    668\u001b[0m     \u001b[39mtry\u001b[39;00m:\n\u001b[0;32m--> 669\u001b[0m         \u001b[39mreturn\u001b[39;00m \u001b[39mself\u001b[39;49m\u001b[39m.\u001b[39;49m_sock\u001b[39m.\u001b[39;49mrecv_into(b)\n\u001b[1;32m    670\u001b[0m     \u001b[39mexcept\u001b[39;00m timeout:\n\u001b[1;32m    671\u001b[0m         \u001b[39mself\u001b[39m\u001b[39m.\u001b[39m_timeout_occurred \u001b[39m=\u001b[39m \u001b[39mTrue\u001b[39;00m\n",
      "File \u001b[0;32m/usr/lib/python3.8/ssl.py:1241\u001b[0m, in \u001b[0;36mSSLSocket.recv_into\u001b[0;34m(self, buffer, nbytes, flags)\u001b[0m\n\u001b[1;32m   1237\u001b[0m     \u001b[39mif\u001b[39;00m flags \u001b[39m!=\u001b[39m \u001b[39m0\u001b[39m:\n\u001b[1;32m   1238\u001b[0m         \u001b[39mraise\u001b[39;00m \u001b[39mValueError\u001b[39;00m(\n\u001b[1;32m   1239\u001b[0m           \u001b[39m\"\u001b[39m\u001b[39mnon-zero flags not allowed in calls to recv_into() on \u001b[39m\u001b[39m%s\u001b[39;00m\u001b[39m\"\u001b[39m \u001b[39m%\u001b[39m\n\u001b[1;32m   1240\u001b[0m           \u001b[39mself\u001b[39m\u001b[39m.\u001b[39m\u001b[39m__class__\u001b[39m)\n\u001b[0;32m-> 1241\u001b[0m     \u001b[39mreturn\u001b[39;00m \u001b[39mself\u001b[39;49m\u001b[39m.\u001b[39;49mread(nbytes, buffer)\n\u001b[1;32m   1242\u001b[0m \u001b[39melse\u001b[39;00m:\n\u001b[1;32m   1243\u001b[0m     \u001b[39mreturn\u001b[39;00m \u001b[39msuper\u001b[39m()\u001b[39m.\u001b[39mrecv_into(buffer, nbytes, flags)\n",
      "File \u001b[0;32m/usr/lib/python3.8/ssl.py:1099\u001b[0m, in \u001b[0;36mSSLSocket.read\u001b[0;34m(self, len, buffer)\u001b[0m\n\u001b[1;32m   1097\u001b[0m \u001b[39mtry\u001b[39;00m:\n\u001b[1;32m   1098\u001b[0m     \u001b[39mif\u001b[39;00m buffer \u001b[39mis\u001b[39;00m \u001b[39mnot\u001b[39;00m \u001b[39mNone\u001b[39;00m:\n\u001b[0;32m-> 1099\u001b[0m         \u001b[39mreturn\u001b[39;00m \u001b[39mself\u001b[39;49m\u001b[39m.\u001b[39;49m_sslobj\u001b[39m.\u001b[39;49mread(\u001b[39mlen\u001b[39;49m, buffer)\n\u001b[1;32m   1100\u001b[0m     \u001b[39melse\u001b[39;00m:\n\u001b[1;32m   1101\u001b[0m         \u001b[39mreturn\u001b[39;00m \u001b[39mself\u001b[39m\u001b[39m.\u001b[39m_sslobj\u001b[39m.\u001b[39mread(\u001b[39mlen\u001b[39m)\n",
      "\u001b[0;31mKeyboardInterrupt\u001b[0m: "
     ]
    }
   ],
   "source": [
    "df = train_df\n",
    "\n",
    "final_results = defaultdict(list)\n",
    "\n",
    "for q in tqdm(df[\"Q\"].values):\n",
    "    text_with_labeling, entities_list = ner.entity_labeling(q, True)\n",
    "    mgenre_results = mgenre(text_with_labeling)\n",
    "    selected_mgenre_results = entities_selection_module.entities_selection(\n",
    "        entities_list, mgenre_results\n",
    "    )\n",
    "\n",
    "    entities = []\n",
    "    for lbl in selected_mgenre_results:\n",
    "        try:\n",
    "            lbl = lbl.split(\" >> \")[0]\n",
    "        except:\n",
    "            lbl = lbl[: lbl.index(\" >>\")]\n",
    "            lbl = lbl[: lbl.index(\">>\")]\n",
    "        try:\n",
    "            entities.extend(Entity.from_label(lbl))\n",
    "        except ValueError:\n",
    "            pass\n",
    "\n",
    "    final_results[\"Q\"].append(q)\n",
    "    final_results[\"mgenre_results\"].append(mgenre_results)\n",
    "    final_results[\"selected_mgenre_results\"].append(selected_mgenre_results)\n",
    "    final_results[\"selected_entities\"].append(entities)\n",
    "\n",
    "\n",
    "final_df = pd.concat([df, pd.DataFrame(final_results)], axis=1)\n",
    "final_df[\"selected_entities\"] = final_df[\"selected_entities\"].apply(\n",
    "    lambda x: [_x.idx for _x in x]\n",
    ")\n",
    "\n",
    "final_df.to_pickle(\"wdsq_train_with_mgenre_no_prefix_tree.pkl\")\n",
    "final_df.to_csv(\"wdsq_train_with_mgenre_no_prefix_tree.csv\", index=False)"
   ]
  },
  {
   "cell_type": "code",
   "execution_count": 13,
   "metadata": {},
   "outputs": [],
   "source": [
    "final_df = pd.concat([test_df, pd.DataFrame(final_results)], axis=1)\n",
    "final_df[\"selected_entities\"] = final_df[\"selected_entities\"].apply(\n",
    "    lambda x: [_x.idx for _x in x]\n",
    ")\n",
    "\n",
    "final_df.to_pickle(\"filtered_test_with_mgenre_prefix_tree.pkl\")\n",
    "final_df.to_csv(\"filtered_test_with_mgenre_prefix_tree.csv\", index=False)"
   ]
  },
  {
   "cell_type": "code",
   "execution_count": 14,
   "metadata": {},
   "outputs": [
    {
     "name": "stdout",
     "output_type": "stream",
     "text": [
      "huggingface/tokenizers: The current process just got forked, after parallelism has already been used. Disabling parallelism to avoid deadlocks...\n",
      "To disable this warning, you can either:\n",
      "\t- Avoid using `tokenizers` before the fork if possible\n",
      "\t- Explicitly set the environment variable TOKENIZERS_PARALLELISM=(true | false)\n",
      "fatal: destination path 'RuBQ' already exists and is not an empty directory.\n"
     ]
    }
   ],
   "source": [
    "!git clone https://github.com/vladislavneon/RuBQ.git"
   ]
  },
  {
   "cell_type": "code",
   "execution_count": 15,
   "metadata": {},
   "outputs": [],
   "source": [
    "import json\n",
    "\n",
    "with open(\"./RuBQ/RuBQ_2.0/RuBQ_2.0_test.json\", \"r\") as f:\n",
    "    rubq = json.load(f)"
   ]
  },
  {
   "cell_type": "code",
   "execution_count": 16,
   "metadata": {},
   "outputs": [
    {
     "name": "stderr",
     "output_type": "stream",
     "text": [
      "  0%|          | 0/2330 [00:00<?, ?it/s]/usr/local/lib/python3.8/dist-packages/transformers/pipelines/base.py:1036: UserWarning: You seem to be using the pipelines sequentially on GPU. In order to maximize efficiency please use a dataset\n",
      "  warnings.warn(\n",
      "/usr/local/lib/python3.8/dist-packages/transformers/generation_utils.py:1202: UserWarning: Neither `max_length` nor `max_new_tokens` have been set, `max_length` will default to 20 (`self.config.max_length`). Controlling `max_length` via the config is deprecated and `max_length` will be removed from the config in v5 of Transformers -- we recommend using `max_new_tokens` to control the maximum length of the generation.\n",
      "  warnings.warn(\n",
      "  0%|          | 11/2330 [00:03<12:49,  3.01it/s]"
     ]
    },
    {
     "name": "stdout",
     "output_type": "stream",
     "text": [
      "Error not enough values to unpack (expected 2, got 1) with pred_text=What Modern State Occupies The Territory Where The Ancient Assyrian City Of\n",
      "Error not enough values to unpack (expected 2, got 1) with pred_text=What Modern State Occupies The Territory Where The Ancient Assyrian City of\n",
      "Error not enough values to unpack (expected 2, got 1) with pred_text=What Modern State Occupies the Territory Where the Ancient Assyrian City of\n",
      "Error not enough values to unpack (expected 2, got 1) with pred_text=What Modern State Occupies, The Territory Where The Ancient Assyrian City\n",
      "Error not enough values to unpack (expected 2, got 1) with pred_text=What Modern State Occupies the Territory Where The Ancient Assyrian City Of\n",
      "Error not enough values to unpack (expected 2, got 1) with pred_text=What Modern State Occupies the Territory Where The Ancient Assyrian City of\n",
      "Error not enough values to unpack (expected 2, got 1) with pred_text=What Modern State Occupies the Territory of the Ancient Assyrian City of\n",
      "Error not enough values to unpack (expected 2, got 1) with pred_text=What Modern State Occupies The Territory Where the Ancient Assyrian City Of\n",
      "Error not enough values to unpack (expected 2, got 1) with pred_text=What Modern State Occupies The Territory Where the Ancient Assyrian City of\n"
     ]
    },
    {
     "name": "stderr",
     "output_type": "stream",
     "text": [
      "  1%|          | 14/2330 [00:04<09:47,  3.94it/s]"
     ]
    },
    {
     "name": "stdout",
     "output_type": "stream",
     "text": [
      "Error too many values to unpack (expected 2) with pred_text=Golf >> en) >> en\n"
     ]
    },
    {
     "name": "stderr",
     "output_type": "stream",
     "text": [
      "  1%|          | 18/2330 [00:05<10:35,  3.64it/s]"
     ]
    },
    {
     "name": "stdout",
     "output_type": "stream",
     "text": [
      "Error not enough values to unpack (expected 2, got 1) with pred_text=What Was the Name of the Creator of the Faculty of Ravenclaw)? >>\n",
      "Error not enough values to unpack (expected 2, got 1) with pred_text=What Was the Name of the Creator of the Faculty of Ravenclaw? >>\n",
      "Error not enough values to unpack (expected 2, got 1) with pred_text=What Was the Name of the Creator of the Faculty of Ravenclaw (R\n",
      "Error not enough values to unpack (expected 2, got 1) with pred_text=What Was the Name of the Creator of the Faculty of Ravenclaw? (\n",
      "Error not enough values to unpack (expected 2, got 1) with pred_text=What Was The Name Of The Creator Of The Faculty Of Ravenclaw)? >>\n",
      "Error not enough values to unpack (expected 2, got 1) with pred_text=What Was The Name of the Creator of the Faculty of Ravenclaw)? >>\n",
      "Error not enough values to unpack (expected 2, got 1) with pred_text=What Was The Name Of The Creator Of The Faculty Of Ravenclaw (R\n",
      "Error not enough values to unpack (expected 2, got 1) with pred_text=What Was The Name Of The Creator Of The Faculty of Ravenclaw)? >>\n",
      "Error not enough values to unpack (expected 2, got 1) with pred_text=What Was the Name of The Creator of the Faculty of Ravenclaw)? >>\n"
     ]
    },
    {
     "name": "stderr",
     "output_type": "stream",
     "text": [
      "  1%|          | 23/2330 [00:06<09:49,  3.91it/s]"
     ]
    },
    {
     "name": "stdout",
     "output_type": "stream",
     "text": [
      "Error not enough values to unpack (expected 2, got 1) with pred_text=What Strait Did the Ancient Greeks Call the Pillars of Hercules?\n",
      "Error not enough values to unpack (expected 2, got 1) with pred_text=What Strait Did the Ancient Greeks Call the Pillars of Hercules >>\n",
      "Error not enough values to unpack (expected 2, got 1) with pred_text=What Strait Did the Ancient Greeks Call The Pillars of Hercules\"? >>\n",
      "Error not enough values to unpack (expected 2, got 1) with pred_text=What Strait Did the Ancient Greeks Call the Pillars of Hercules\"?\n",
      "Error not enough values to unpack (expected 2, got 1) with pred_text=What Strait Did the Ancient Greeks Call the Pillars of Hercules? >>\n",
      "Error not enough values to unpack (expected 2, got 1) with pred_text=What Strait Did the Ancient Greeks Call The Pillars of Hercules?\n",
      "Error not enough values to unpack (expected 2, got 1) with pred_text=What Strait Did the Ancient Greeks Call the Pillares of Hercules?\n",
      "Error not enough values to unpack (expected 2, got 1) with pred_text=What Strait Did the Ancient Greeks Call The Pillars of Hercules\"?\n",
      "Error not enough values to unpack (expected 2, got 1) with pred_text=What Strait Did The Ancient Greeks Call Thepillars Of Hercules\"? >>\n"
     ]
    },
    {
     "name": "stderr",
     "output_type": "stream",
     "text": [
      "  1%|▏         | 31/2330 [00:08<10:56,  3.50it/s]"
     ]
    },
    {
     "name": "stdout",
     "output_type": "stream",
     "text": [
      "Error too many values to unpack (expected 2) with pred_text=Grand Canyon >> en アメリカ合衆国地区の歴史地区 >> ja\n",
      "Error too many values to unpack (expected 2) with pred_text=Grand Canyon >> en アメリカ合衆国地区の歴史地区と地域群 >> ja\n",
      "Error too many values to unpack (expected 2) with pred_text=Grand Canyon >> en アメリカ合衆国南部の歴史地区群 >> ja\n",
      "Error too many values to unpack (expected 2) with pred_text=Grand Canyon >> en アメリカ合衆国南部の歴史地区) >> ja\n",
      "Error too many values to unpack (expected 2) with pred_text=Grand Canyon >> en アメリカ合衆国地区の歴史地区群 >> ja\n",
      "Error too many values to unpack (expected 2) with pred_text=Grand Canyon >> en アメリカ合衆国地区の歴史地区と地域 >> ja\n"
     ]
    },
    {
     "name": "stderr",
     "output_type": "stream",
     "text": [
      "  2%|▏         | 38/2330 [00:10<10:58,  3.48it/s]"
     ]
    },
    {
     "name": "stdout",
     "output_type": "stream",
     "text": [
      "Error not enough values to unpack (expected 2, got 1) with pred_text=From What Breed of Fish Was the Aquarium Goldfish Bred In Ancient China?\n",
      "Error not enough values to unpack (expected 2, got 1) with pred_text=From What Breed of Fish Was the Aquarium Goldfish Bred in Ancient China?\n",
      "Error not enough values to unpack (expected 2, got 1) with pred_text=From What Breed Of Fish Was the Aquarium Goldfish Bred In Ancient China?\n",
      "Error not enough values to unpack (expected 2, got 1) with pred_text=From What Breed of Fish Was The Aquarium Goldfish Bred In Ancient China?\n",
      "Error not enough values to unpack (expected 2, got 1) with pred_text=From What Breed Of Fish Was The Aquarium Goldfish Bred In Ancient China?\n",
      "Error not enough values to unpack (expected 2, got 1) with pred_text=From What Breed Of Fish Was the Aquarium Goldfish Bred in Ancient China?\n",
      "Error not enough values to unpack (expected 2, got 1) with pred_text=From What Breed of Fish Was The Aquarium Goldfish Bred in Ancient China?\n",
      "Error not enough values to unpack (expected 2, got 1) with pred_text=From What Breed of Fish was the Aquarium Goldfish Bred in Ancient China?\n",
      "Error not enough values to unpack (expected 2, got 1) with pred_text=What Breed of Fish Was the Aquarium Goldfish Bred in Ancient China? >>\n",
      "Error not enough values to unpack (expected 2, got 1) with pred_text=From What Breed of Fish Was the Aquarium Goldfish Bred in Ancient China >>\n"
     ]
    },
    {
     "name": "stderr",
     "output_type": "stream",
     "text": [
      "  2%|▏         | 55/2330 [00:14<08:57,  4.23it/s]"
     ]
    },
    {
     "name": "stdout",
     "output_type": "stream",
     "text": [
      "Error not enough values to unpack (expected 2, got 1) with pred_text=What Path Did the Frenchman Michel de Montaigne Choose In The Fifth Decade,\n",
      "Error not enough values to unpack (expected 2, got 1) with pred_text=What Path Did the Frenchman Michel De Montaigne Choose In The Fifth Decade,\n",
      "Error not enough values to unpack (expected 2, got 1) with pred_text=What Path Did the Frenchman Michel de Montaigne Choose in the Fifth Decade,\n",
      "Error not enough values to unpack (expected 2, got 1) with pred_text=What Path Did The Frenchman Michel De Montaigne Choose In The Fifth Decade,\n",
      "Error not enough values to unpack (expected 2, got 1) with pred_text=What Path Did the Frenchman Michel de Montaigne Choose, After Having Had a Good Fight\n",
      "Error not enough values to unpack (expected 2, got 1) with pred_text=What Path Did The Frenchman Michel de Montaigne Choose In The Fifth Decade,\n",
      "Error not enough values to unpack (expected 2, got 1) with pred_text=What Path Did the Frenchman Michel de Montaigne Choose In the Fifth Decade,\n",
      "Error not enough values to unpack (expected 2, got 1) with pred_text=What Path Did the Frenchman Michel de Montaigne Choose: After Having Had a Good Fight\n"
     ]
    },
    {
     "name": "stderr",
     "output_type": "stream",
     "text": [
      "  3%|▎         | 74/2330 [00:19<09:30,  3.95it/s]"
     ]
    },
    {
     "name": "stdout",
     "output_type": "stream",
     "text": [
      "Error not enough values to unpack (expected 2, got 1) with pred_text=Which Architect Built St. Isaac's Cathedral In St. Petersburg? >>\n",
      "Error not enough values to unpack (expected 2, got 1) with pred_text=Which Architect Built St. Isaac's Cathedral in St. Petersburg? >>\n"
     ]
    },
    {
     "name": "stderr",
     "output_type": "stream",
     "text": [
      "  3%|▎         | 77/2330 [00:20<10:22,  3.62it/s]"
     ]
    },
    {
     "name": "stdout",
     "output_type": "stream",
     "text": [
      "Error not enough values to unpack (expected 2, got 1) with pred_text=Which Building In Hanoi Was Dubbed The Hanoi Hilton By American Soldiers? >>\n",
      "Error not enough values to unpack (expected 2, got 1) with pred_text=Which Building In Hanoi Was Dubbed The Hanoi Hilton by American Soldiers? >>\n",
      "Error not enough values to unpack (expected 2, got 1) with pred_text=Which Building In Hanoi Was Collide the Hanoi Hilton by American Soldiers?\n",
      "Error not enough values to unpack (expected 2, got 1) with pred_text=Which Building In Hanoi Was!\" The Hanoi Hilton By American Soldiers? >>\n",
      "Error not enough values to unpack (expected 2, got 1) with pred_text=Which Building In Hanoi Was!\" The Hanoi Hilton by American Soldiers? >>\n",
      "Error not enough values to unpack (expected 2, got 1) with pred_text=Which Building in Hanoi Was Collide the Hanoi Hilton by American Soldiers?\n",
      "Error not enough values to unpack (expected 2, got 1) with pred_text=Which Building In Hanoi Was Kiev The Hanoi Hilton by American Soldiers? >>\n",
      "Error not enough values to unpack (expected 2, got 1) with pred_text=Which Building In Hanoi Was Collide the Hanoi Hilton By American Soldiers?\n"
     ]
    },
    {
     "name": "stderr",
     "output_type": "stream",
     "text": [
      "  4%|▎         | 84/2330 [00:22<10:30,  3.56it/s]"
     ]
    },
    {
     "name": "stdout",
     "output_type": "stream",
     "text": [
      "Error not enough values to unpack (expected 2, got 1) with pred_text=What Was the Name of Father Romulus, After Whom The Romans Even Altered\n",
      "Error not enough values to unpack (expected 2, got 1) with pred_text=What Was the Name of Father Romulus, After Whom the Romans Even Altered\n",
      "Error not enough values to unpack (expected 2, got 1) with pred_text=What Was The Name of Father Romulus, After Whom The Romans Even Altered\n",
      "Error not enough values to unpack (expected 2, got 1) with pred_text=What Was The Name Of Father Romulus, After Whom The Romans Even Altered\n",
      "Error not enough values to unpack (expected 2, got 1) with pred_text=What Was the Name of Father Romulus, after Whom the Romans Even Altered\n",
      "Error not enough values to unpack (expected 2, got 1) with pred_text=What Was The Name of Father Romulus, After Whom the Romans Even Altered\n",
      "Error not enough values to unpack (expected 2, got 1) with pred_text=What Was the Name of Father Romulus, After the Romans Even Altered Their Calendar\n"
     ]
    },
    {
     "name": "stderr",
     "output_type": "stream",
     "text": [
      "  4%|▍         | 88/2330 [00:23<13:16,  2.81it/s]"
     ]
    },
    {
     "name": "stdout",
     "output_type": "stream",
     "text": [
      "Error not enough values to unpack (expected 2, got 1) with pred_text=Which Hero Served as the Prototype for A. Tolstoy to Create the\n",
      "Error not enough values to unpack (expected 2, got 1) with pred_text=Which Hero Served As The Prototype For A. Tolstoy To Create The\n",
      "Error not enough values to unpack (expected 2, got 1) with pred_text=Which Hero Served as the Prototype for A. Tolstoy To Create the\n",
      "Error not enough values to unpack (expected 2, got 1) with pred_text=Which Hero Served as the Prototype for A. Tolstoy To Create The\n",
      "Error not enough values to unpack (expected 2, got 1) with pred_text=Which Hero Served As The Prototype for A. Tolstoy To Create The\n",
      "Error not enough values to unpack (expected 2, got 1) with pred_text=Which Hero Served As the Prototype for A. Tolstoy To Create The\n",
      "Error not enough values to unpack (expected 2, got 1) with pred_text=Which Hero Served As the Prototype For A. Tolstoy To Create The\n",
      "Error not enough values to unpack (expected 2, got 1) with pred_text=Which Hero Served as the Prototype for A. Tolstoy to Create The\n",
      "Error not enough values to unpack (expected 2, got 1) with pred_text=Which Hero Served as the Prototype for a. Tolstoy to Create the\n",
      "Error not enough values to unpack (expected 2, got 1) with pred_text=Which Hero Served as the Prototype For A. Tolstoy To Create The\n"
     ]
    },
    {
     "name": "stderr",
     "output_type": "stream",
     "text": [
      "  4%|▍         | 91/2330 [00:24<12:14,  3.05it/s]"
     ]
    },
    {
     "name": "stdout",
     "output_type": "stream",
     "text": [
      "Error not enough values to unpack (expected 2, got 1) with pred_text=Which of the Achaean Heroes of the Trojan War Was the Husband of C\n",
      "Error not enough values to unpack (expected 2, got 1) with pred_text=Which of the Achaean Heroes of the Trojan War Was The Husband of C\n",
      "Error not enough values to unpack (expected 2, got 1) with pred_text=Which Of The Achaean Heroes Of The Trojan War Was The Husband Of C\n",
      "Error not enough values to unpack (expected 2, got 1) with pred_text=Which of the Achaean Heroes Of The Trojan War Was The Husband of C\n",
      "Error not enough values to unpack (expected 2, got 1) with pred_text=Which Of The Achaean Heroes Of The Trojan War Was The Husband of C\n",
      "Error not enough values to unpack (expected 2, got 1) with pred_text=Which of the Achaean Heroes Of The Trojan War Was the Husband of C\n",
      "Error not enough values to unpack (expected 2, got 1) with pred_text=Which of the Achaean Heroes of the Trojan War was the Husband of C\n",
      "Error not enough values to unpack (expected 2, got 1) with pred_text=Which of the Achaean Heroes Of The Trojan War Was The Husband Of C\n",
      "Error not enough values to unpack (expected 2, got 1) with pred_text=Which of the Achaean Heroes of The Trojan War Was the Husband of C\n"
     ]
    },
    {
     "name": "stderr",
     "output_type": "stream",
     "text": [
      "  4%|▍         | 104/2330 [00:27<08:06,  4.57it/s]"
     ]
    },
    {
     "name": "stdout",
     "output_type": "stream",
     "text": [
      "Error not enough values to unpack (expected 2, got 1) with pred_text=What Is the Name of the Monetary Unit of Aomin? (Macao)? >>\n",
      "Error not enough values to unpack (expected 2, got 1) with pred_text=What is the Name of the Monetary Unit of Aomin? (Macao)? >>\n"
     ]
    },
    {
     "name": "stderr",
     "output_type": "stream",
     "text": [
      "  5%|▍         | 108/2330 [00:28<08:36,  4.30it/s]"
     ]
    },
    {
     "name": "stdout",
     "output_type": "stream",
     "text": [
      "Error not enough values to unpack (expected 2, got 1) with pred_text=What Science Fiction Writer Came Up with the Three Laws of Robotics? >>\n",
      "Error not enough values to unpack (expected 2, got 1) with pred_text=What Science Fiction Writer Came Up With The Three Laws Of Robotics? >>\n",
      "Error not enough values to unpack (expected 2, got 1) with pred_text=What Science Fiction Writer Came Up with The Three Laws of Robotics? >>\n",
      "Error not enough values to unpack (expected 2, got 1) with pred_text=What Science Fiction Writer Came Up With The Three Laws of Robotics? >>\n",
      "Error not enough values to unpack (expected 2, got 1) with pred_text=What Science Fiction Writer Came Up with The Three Laws Of Robotics? >>\n",
      "Error not enough values to unpack (expected 2, got 1) with pred_text=What Science Fiction Writer Came Up With the Three Laws of Robotics? >>\n",
      "Error not enough values to unpack (expected 2, got 1) with pred_text=What Science Fiction Writer Came Up with the Three Laws Of Robotics? >>\n",
      "Error not enough values to unpack (expected 2, got 1) with pred_text=What Science Fiction Writer Came up with the Three Laws of Robotics? >>\n",
      "Error not enough values to unpack (expected 2, got 1) with pred_text=What Science Fiction Writer Came Up with the Three Laws of Robotics? >>\n"
     ]
    },
    {
     "name": "stderr",
     "output_type": "stream",
     "text": [
      "  5%|▍         | 114/2330 [00:29<08:57,  4.12it/s]"
     ]
    },
    {
     "name": "stdout",
     "output_type": "stream",
     "text": [
      "Error not enough values to unpack (expected 2, got 1) with pred_text=Who Was the Famous Greek Aristotle, Who Lived In The IV Century BC\n",
      "Error not enough values to unpack (expected 2, got 1) with pred_text=Who Was the Famous Greek Aristotle, Who Lived in the IV Century BC\n",
      "Error not enough values to unpack (expected 2, got 1) with pred_text=Who Was the Famous Greek Aristotle, Who Lived in The IV Century BC\n",
      "Error not enough values to unpack (expected 2, got 1) with pred_text=Who Was The Famous Greek Aristotle, Who Lived In The IV Century BC\n",
      "Error not enough values to unpack (expected 2, got 1) with pred_text=Who Was the Famous Greek Aristotle, Who Lived In the IV Century BC\n",
      "Error not enough values to unpack (expected 2, got 1) with pred_text=Who was the Famous Greek Aristotle, Who Lived in the IV Century BC\n",
      "Error not enough values to unpack (expected 2, got 1) with pred_text=Who was the Famous Greek Aristotle, Who Lived In The IV Century BC\n",
      "Error not enough values to unpack (expected 2, got 1) with pred_text=Who Was The Famous Greek Aristotle, Who Lived in The IV Century BC\n",
      "Error not enough values to unpack (expected 2, got 1) with pred_text=Who Was the Famous Greek Aristotle Who Lived in the IV Century BC?\n"
     ]
    },
    {
     "name": "stderr",
     "output_type": "stream",
     "text": [
      "  5%|▌         | 128/2330 [00:33<08:24,  4.36it/s]"
     ]
    },
    {
     "name": "stdout",
     "output_type": "stream",
     "text": [
      "Error not enough values to unpack (expected 2, got 1) with pred_text=Which of the Characters in Tolstoy's Novel War and Peace Is Natasha\n",
      "Error not enough values to unpack (expected 2, got 1) with pred_text=Which of the Characters in Tolstoy's Novel War And Peace Is Natasha\n",
      "Error not enough values to unpack (expected 2, got 1) with pred_text=Which of the Characters in Tolstoy's Novel War and Peace is Natasha\n",
      "Error not enough values to unpack (expected 2, got 1) with pred_text=Which Of The Characters In Tolstoy's Novel War And Peace Is Natasha\n",
      "Error not enough values to unpack (expected 2, got 1) with pred_text=Which Of The Characters in Tolstoy's Novel War And Peace Is Natasha\n",
      "Error not enough values to unpack (expected 2, got 1) with pred_text=Which of The Characters in Tolstoy's Novel War and Peace Is Natasha\n",
      "Error not enough values to unpack (expected 2, got 1) with pred_text=Which Of The Characters in Tolstoy's Novel War and Peace Is Natasha\n",
      "Error not enough values to unpack (expected 2, got 1) with pred_text=Which of The Characters in Tolstoy's Novel War And Peace Is Natasha\n",
      "Error not enough values to unpack (expected 2, got 1) with pred_text=Which of the Characters in Tolstoy's Novel War And Peace is Natasha\n",
      "Error not enough values to unpack (expected 2, got 1) with pred_text=Which Of The Characters In Tolstoy's Novel War and Peace Is Natasha\n"
     ]
    },
    {
     "name": "stderr",
     "output_type": "stream",
     "text": [
      "  6%|▌         | 135/2330 [00:34<09:17,  3.93it/s]"
     ]
    },
    {
     "name": "stdout",
     "output_type": "stream",
     "text": [
      "Error not enough values to unpack (expected 2, got 1) with pred_text=Which of the Great Renaissance Artists Painted the Sistine Chapel of the Vatican\n",
      "Error not enough values to unpack (expected 2, got 1) with pred_text=Which of the Great Renaissance Artists Painted The Sistine Chapel Of The Vatican\n",
      "Error not enough values to unpack (expected 2, got 1) with pred_text=Which Of The Great Renaissance Artists Painted The Sistine Chapel Of The Vatican\n",
      "Error not enough values to unpack (expected 2, got 1) with pred_text=Which of the Great Renaissance Artists painted the Sistine Chapel of the Vatican\n",
      "Error not enough values to unpack (expected 2, got 1) with pred_text=Which of the Great Renaissance Artists Painted The Sistine Chapel of the Vatican\n",
      "Error not enough values to unpack (expected 2, got 1) with pred_text=Which of the Great Renaissance Artists Painted the Sistine Chapel Of The Vatican\n",
      "Error not enough values to unpack (expected 2, got 1) with pred_text=Which of the Sistine Chapel Painted the Sistine Chapel of the Vatican?\n",
      "Error not enough values to unpack (expected 2, got 1) with pred_text=Which of the Great Renaissance Artists Painted The Sistine Chapel of The Vatican\n",
      "Error not enough values to unpack (expected 2, got 1) with pred_text=Which of the Great Renaissance artists painted the Sistine Chapel of the Vatican?\n"
     ]
    },
    {
     "name": "stderr",
     "output_type": "stream",
     "text": [
      "  6%|▌         | 136/2330 [00:35<09:58,  3.67it/s]"
     ]
    },
    {
     "name": "stdout",
     "output_type": "stream",
     "text": [
      "Error not enough values to unpack (expected 2, got 1) with pred_text=What Time of Year Does the 2nd Month of the French Republican Brumaire Calendar Cor\n",
      "Error not enough values to unpack (expected 2, got 1) with pred_text=What Time of the Year Does the 2nd Month of the French Republican Brumaire Calendar\n",
      "Error not enough values to unpack (expected 2, got 1) with pred_text=What Time of Year Does The 2nd Month Of The French Republican Brumaire Calendar Cor\n",
      "Error not enough values to unpack (expected 2, got 1) with pred_text=What Time Of Year Does The 2nd Month Of The French Republican Brumaire Calendar Cor\n",
      "Error not enough values to unpack (expected 2, got 1) with pred_text=What Time of Year Does the 2nd Month Of The French Republican Brumaire Calendar Cor\n",
      "Error not enough values to unpack (expected 2, got 1) with pred_text=What Time of Year Does The 2nd Month of the French Republican Brumaire Calendar Cor\n",
      "Error not enough values to unpack (expected 2, got 1) with pred_text=What Time of the Year Does The 2nd Month of the French Republican Brumaire Calendar\n",
      "Error not enough values to unpack (expected 2, got 1) with pred_text=What Time of Year Does the 2nd Month Of the French Republican Brumaire Calendar Cor\n",
      "Error not enough values to unpack (expected 2, got 1) with pred_text=What Time of Year Does the 2nd Month of the French Republic Brumaire Calendar Cor\n"
     ]
    },
    {
     "name": "stderr",
     "output_type": "stream",
     "text": [
      "  6%|▋         | 148/2330 [00:38<09:14,  3.93it/s]"
     ]
    },
    {
     "name": "stdout",
     "output_type": "stream",
     "text": [
      "Error not enough values to unpack (expected 2, got 1) with pred_text=In What City Did the Collaborationist Petain Government Settle During the Occupation\n",
      "Error not enough values to unpack (expected 2, got 1) with pred_text=In What City Did The Collaborationist Petain Government Settle During The Occupation\n",
      "Error not enough values to unpack (expected 2, got 1) with pred_text=In What City Did The Collaborationist Petain Government Settle During the Occupation\n",
      "Error not enough values to unpack (expected 2, got 1) with pred_text=In What City Did the Collaborationist Petain Government Settle During The Occupation\n",
      "Error not enough values to unpack (expected 2, got 1) with pred_text=In what city Did the Collaborationist Petain Government Settle During the Occupation\n",
      "Error not enough values to unpack (expected 2, got 1) with pred_text=In What City Did the Collaborationist Government Settle During the Occupation of France\n",
      "Error not enough values to unpack (expected 2, got 1) with pred_text=In What City Did the Collaborationist Petain Government Settle in the Occupation\n",
      "Error not enough values to unpack (expected 2, got 1) with pred_text=In What City Did the Collaborationist Petain Government Settle during the Occupation\n",
      "Error not enough values to unpack (expected 2, got 1) with pred_text=In what city Did the collaborationist Petain Government Settle During the Occupation\n",
      "Error not enough values to unpack (expected 2, got 1) with pred_text=In what city Did the collaborationist Petain government settle During the occupation of\n"
     ]
    },
    {
     "name": "stderr",
     "output_type": "stream",
     "text": [
      "  7%|▋         | 166/2330 [00:42<07:35,  4.75it/s]"
     ]
    },
    {
     "name": "stdout",
     "output_type": "stream",
     "text": [
      "Error not enough values to unpack (expected 2, got 1) with pred_text=In Some of the Countries There Are the Resorts Sunny Day and Sunny Beach? >>\n",
      "Error not enough values to unpack (expected 2, got 1) with pred_text=In Some Of The Countries There Are The Resorts Sunny Day And Sunny Beach? >>\n",
      "Error not enough values to unpack (expected 2, got 1) with pred_text=In Some of the Countries There Are The Resorts Sunny Day and Sunny Beach? >>\n",
      "Error not enough values to unpack (expected 2, got 1) with pred_text=In Some of the Countries There Are the Resorts Sunny Day And Sunny Beach? >>\n",
      "Error not enough values to unpack (expected 2, got 1) with pred_text=In Some of the Countries There Are The Resorts Sunny Day And Sunny Beach? >>\n",
      "Error not enough values to unpack (expected 2, got 1) with pred_text=In Some Of The Countries There Are The Resorts Sunny Day and Sunny Beach? >>\n",
      "Error not enough values to unpack (expected 2, got 1) with pred_text=In Some of the Countries There are the Resorts Sunny Day and Sunny Beach? >>\n",
      "Error not enough values to unpack (expected 2, got 1) with pred_text=In Some of The Countries There Are The Resorts Sunny Day and Sunny Beach? >>\n",
      "Error not enough values to unpack (expected 2, got 1) with pred_text=In Some of The Countries There Are The Resorts Sunny Day And Sunny Beach? >>\n"
     ]
    },
    {
     "name": "stderr",
     "output_type": "stream",
     "text": [
      "  8%|▊         | 180/2330 [00:46<08:48,  4.07it/s]"
     ]
    },
    {
     "name": "stdout",
     "output_type": "stream",
     "text": [
      "Error not enough values to unpack (expected 2, got 1) with pred_text=Which Branch of Philosophy Includes The Study Of Ethics And Aesthetics?\n",
      "Error not enough values to unpack (expected 2, got 1) with pred_text=Which Branch of Philosophy Includes The Study of Ethics and Aesthetics?\n",
      "Error not enough values to unpack (expected 2, got 1) with pred_text=Which Branch of Philosophy Includes the Study of Ethics and Aesthetics?\n",
      "Error not enough values to unpack (expected 2, got 1) with pred_text=Which Branch Of Philosophy Includes The Study Of Ethics And Aesthetics?\n",
      "Error not enough values to unpack (expected 2, got 1) with pred_text=Which Branch of Philosophy Includes The Study Of Ethics and Aesthetics?\n",
      "Error not enough values to unpack (expected 2, got 1) with pred_text=Which Branch of Philosophy Includes The Study of Ethics And Aesthetics?\n",
      "Error not enough values to unpack (expected 2, got 1) with pred_text=Which Branch of Philosophy Includes: The Study of Ethics and Aesthetics\n",
      "Error not enough values to unpack (expected 2, got 1) with pred_text=Which Branch of Philosophy Includes the Study Of Ethics And Aesthetics?\n",
      "Error not enough values to unpack (expected 2, got 1) with pred_text=Which Branch of Philosophy Includes the Study of Ethics And Aesthetics?\n",
      "Error not enough values to unpack (expected 2, got 1) with pred_text=Which Branch Of Philosophy Includes The Study of Ethics and Aesthetics?\n"
     ]
    },
    {
     "name": "stderr",
     "output_type": "stream",
     "text": [
      "  8%|▊         | 181/2330 [00:46<09:41,  3.70it/s]"
     ]
    },
    {
     "name": "stdout",
     "output_type": "stream",
     "text": [
      "Error not enough values to unpack (expected 2, got 1) with pred_text=Russian Russian Seasons, Which Made Russian Ballet Famous At The Beginning Of The\n",
      "Error not enough values to unpack (expected 2, got 1) with pred_text=Russian Russian Seasons, Which Made Russian Ballet Famous at the Beginning of the\n",
      "Error not enough values to unpack (expected 2, got 1) with pred_text=Russian Russian Seasons, Which Made Russian Ballet Famous At The Beginning of the\n",
      "Error not enough values to unpack (expected 2, got 1) with pred_text=Russian Russian Seasons, Which Made Russian Ballet Famous at The Beginning Of The\n",
      "Error not enough values to unpack (expected 2, got 1) with pred_text=Russian Russian Seasons, Which Made Russian Ballet Famous at The Beginning of the\n",
      "Error not enough values to unpack (expected 2, got 1) with pred_text=Russian Russian Seasons, Which Made Russian Ballet Famous At The Beginning of The\n",
      "Error not enough values to unpack (expected 2, got 1) with pred_text=Russian Russian Seasons, Which Made Russian Ballet Famous At The Beginning Of the\n",
      "Error not enough values to unpack (expected 2, got 1) with pred_text=Russian Russian Seasons: Which Made Russian Ballet Famous at the Beginning of the\n"
     ]
    },
    {
     "name": "stderr",
     "output_type": "stream",
     "text": [
      "  8%|▊         | 188/2330 [00:49<11:19,  3.15it/s]"
     ]
    },
    {
     "name": "stdout",
     "output_type": "stream",
     "text": [
      "Error not enough values to unpack (expected 2, got 1) with pred_text=Which Country Belongs to the Bocas del Toro Archipelago, Where the Last Hero\n",
      "Error not enough values to unpack (expected 2, got 1) with pred_text=Which Country Belongs to the Bocas Del Toro Archipelago, Where the Last Hero\n",
      "Error not enough values to unpack (expected 2, got 1) with pred_text=Which Country Belongs to the Bocas del Toro Archipelago, Where The Last Hero\n",
      "Error not enough values to unpack (expected 2, got 1) with pred_text=Which Country Belongs to the Bocas Del Toro Archipelago, Where The Last Hero\n",
      "Error not enough values to unpack (expected 2, got 1) with pred_text=Which Country Belongs To The Bocas Del Toro Archipelago, Where The Last Hero\n",
      "Error not enough values to unpack (expected 2, got 1) with pred_text=Which Country Belongs to the Bocas del Toro Archipelago: Where the Last Hero\n",
      "Error not enough values to unpack (expected 2, got 1) with pred_text=Which Country Belongs to The Bocas Del Toro Archipelago, Where the Last Hero\n"
     ]
    },
    {
     "name": "stderr",
     "output_type": "stream",
     "text": [
      "  8%|▊         | 191/2330 [00:50<11:25,  3.12it/s]"
     ]
    },
    {
     "name": "stdout",
     "output_type": "stream",
     "text": [
      "Error not enough values to unpack (expected 2, got 1) with pred_text=In Which Country Has the Leftist Terrorist Organization Sendero Luminoso Been Rampaging\n",
      "Error not enough values to unpack (expected 2, got 1) with pred_text=In Which Country Has The Leftist Terrorist Organization Sendero Luminoso Been Rampaging\n",
      "Error not enough values to unpack (expected 2, got 1) with pred_text=In Which Country Has the Leftist Terrorist Organization Luminoso Been Rampaging for Many\n",
      "Error not enough values to unpack (expected 2, got 1) with pred_text=In Which Country Has the Leftist Terrorist Organisation Sendero Luminoso Been Rampaging\n",
      "Error not enough values to unpack (expected 2, got 1) with pred_text=En Which Country Has the Leftist Terrorist Organization Sendero Luminoso Been Rampaging\n",
      "Error not enough values to unpack (expected 2, got 1) with pred_text=In Which Country Has the Leftist Terrorist Organization Luminoso Been Rampaging For Many\n",
      "Error not enough values to unpack (expected 2, got 1) with pred_text=In Which Country Has the Leftist Terrorist Organization: Sendero Luminoso Been Ramp\n",
      "Error not enough values to unpack (expected 2, got 1) with pred_text=In Which Country Has the Leftist Terrorist Organization's Rampaging for Many Years?\n"
     ]
    },
    {
     "name": "stderr",
     "output_type": "stream",
     "text": [
      "  9%|▉         | 206/2330 [00:54<09:34,  3.70it/s]"
     ]
    },
    {
     "name": "stdout",
     "output_type": "stream",
     "text": [
      "Error not enough values to unpack (expected 2, got 1) with pred_text=Where Is One of the Best Preserved Fossil Formations of the Berges-\n",
      "Error not enough values to unpack (expected 2, got 1) with pred_text=Where Is One of The Best Preserved Fossil Formations Of The Berges-\n",
      "Error not enough values to unpack (expected 2, got 1) with pred_text=Where Is One of the Best Preserved Fossil Formations Of The Berges-\n",
      "Error not enough values to unpack (expected 2, got 1) with pred_text=Where Is One Of The Best Preserved Fossil Formations Of The Berges-\n",
      "Error not enough values to unpack (expected 2, got 1) with pred_text=Where Is One of The Best Preserved Fossil Formations of the Berges-\n",
      "Error not enough values to unpack (expected 2, got 1) with pred_text=Where Is One of the Best Preserved Fossil Formations of the Berges Sh\n",
      "Error not enough values to unpack (expected 2, got 1) with pred_text=Where Is One of the Best Preserved Fossil Formations of The Berges-\n",
      "Error not enough values to unpack (expected 2, got 1) with pred_text=Where Is One of The Best Preserved Fossil Formations of The Berges-\n",
      "Error not enough values to unpack (expected 2, got 1) with pred_text=Where Is the Best Preserved Fossil Formations of the Berges-shale\n",
      "Error not enough values to unpack (expected 2, got 1) with pred_text=Where Is One Of The Best Preserved Fossil Formations of The Berges-\n"
     ]
    },
    {
     "name": "stderr",
     "output_type": "stream",
     "text": [
      " 11%|█         | 256/2330 [01:08<09:13,  3.75it/s]"
     ]
    },
    {
     "name": "stdout",
     "output_type": "stream",
     "text": [
      "Error too many values to unpack (expected 2) with pred_text=Lake Balaton >> en) >> en\n"
     ]
    },
    {
     "name": "stderr",
     "output_type": "stream",
     "text": [
      " 11%|█▏        | 264/2330 [01:10<09:35,  3.59it/s]"
     ]
    },
    {
     "name": "stdout",
     "output_type": "stream",
     "text": [
      "Error not enough values to unpack (expected 2, got 1) with pred_text=Which Architect Built The Sagrada Familia Cathedral In Barcelona For More Than 40 Years\n",
      "Error not enough values to unpack (expected 2, got 1) with pred_text=Which Architect Built the Sagrada Familia Cathedral in Barcelona For More Than 40 Years\n",
      "Error not enough values to unpack (expected 2, got 1) with pred_text=Which Architect Built the Sagrada Familia Cathedral in Barcelona for More Than 40 Years\n",
      "Error not enough values to unpack (expected 2, got 1) with pred_text=Which Architect Built The Sagrada Familia Cathedral in Barcelona For More Than 40 Years\n",
      "Error not enough values to unpack (expected 2, got 1) with pred_text=Which Architect Built the Sagrada Familia Cathedral In Barcelona For More Than 40 Years\n",
      "Error not enough values to unpack (expected 2, got 1) with pred_text=Which Architect Built The Sagrada Familia Cathedral In Barcelona for More Than 40 Years\n",
      "Error not enough values to unpack (expected 2, got 1) with pred_text=Which Architect Built The Sagrada Familia Cathedral in Barcelona for More Than 40 Years\n",
      "Error not enough values to unpack (expected 2, got 1) with pred_text=Which Architect Built the Sagrada Familia Cathedral in Barcelona for More than 40 Years\n"
     ]
    },
    {
     "name": "stderr",
     "output_type": "stream",
     "text": [
      " 12%|█▏        | 282/2330 [01:16<12:04,  2.83it/s]"
     ]
    },
    {
     "name": "stdout",
     "output_type": "stream",
     "text": [
      "Error not enough values to unpack (expected 2, got 1) with pred_text=In Which Suburb of St. Petersburg, Can You Admire the Amber Room? >>\n"
     ]
    },
    {
     "name": "stderr",
     "output_type": "stream",
     "text": [
      " 12%|█▏        | 283/2330 [01:17<13:09,  2.59it/s]"
     ]
    },
    {
     "name": "stdout",
     "output_type": "stream",
     "text": [
      "Error not enough values to unpack (expected 2, got 1) with pred_text=Who Is The Author Of The Musical Play The Sorcerer's Apprentice\n",
      "Error not enough values to unpack (expected 2, got 1) with pred_text=Who Is the Author of the Musical Play: The Sorcerer's Apprenti\n"
     ]
    },
    {
     "name": "stderr",
     "output_type": "stream",
     "text": [
      " 14%|█▍        | 321/2330 [01:28<09:48,  3.41it/s]"
     ]
    },
    {
     "name": "stdout",
     "output_type": "stream",
     "text": [
      "Error not enough values to unpack (expected 2, got 1) with pred_text=What the Composer Had to Finish the Opera Mussorgsky Khovanshchina\n",
      "Error not enough values to unpack (expected 2, got 1) with pred_text=What The Composer Had To Finish The Opera Mussorgsky Khovanshchina\n",
      "Error not enough values to unpack (expected 2, got 1) with pred_text=What the Composer Had to Finish The Opera Mussorgsky Khovanshchina\n",
      "Error not enough values to unpack (expected 2, got 1) with pred_text=What The Composer Had to Finish The Opera Mussorgsky Khovanshchina\n",
      "Error not enough values to unpack (expected 2, got 1) with pred_text=What the Composer Had To Finish The Opera Mussorgsky Khovanshchina\n",
      "Error not enough values to unpack (expected 2, got 1) with pred_text=What The Composer Had to Finish the Opera Mussorgsky Khovanshchina\n",
      "Error not enough values to unpack (expected 2, got 1) with pred_text=What the Composer Had to Finish the Opera of Mussorgsky Khovansh\n",
      "Error not enough values to unpack (expected 2, got 1) with pred_text=What the Composer Had to Finish the Opera of Khovanshchina? >>\n"
     ]
    },
    {
     "name": "stderr",
     "output_type": "stream",
     "text": [
      " 14%|█▍        | 327/2330 [01:30<08:58,  3.72it/s]"
     ]
    },
    {
     "name": "stdout",
     "output_type": "stream",
     "text": [
      "Error not enough values to unpack (expected 2, got 1) with pred_text=In What Field of Creativity Was the Austrian Gustav Klimt Famous? >>\n",
      "Error not enough values to unpack (expected 2, got 1) with pred_text=In What Field of Creativity Was The Austrian Gustav Klimt Famous? >>\n",
      "Error not enough values to unpack (expected 2, got 1) with pred_text=In What Field Of Creativity Was The Austrian Gustav Klimt Famous? >>\n",
      "Error not enough values to unpack (expected 2, got 1) with pred_text=In What Field Of Creativity Was the Austrian Gustav Klimt Famous? >>\n",
      "Error not enough values to unpack (expected 2, got 1) with pred_text=In What Field of Creativity Was the Austriaan Gustav Klimt Famous? >>\n",
      "Error not enough values to unpack (expected 2, got 1) with pred_text=In What Field of Creativity Was the Austrian Gustaf Klimt Famous? >>\n",
      "Error not enough values to unpack (expected 2, got 1) with pred_text=In What Field of Creativity was the Austrian Gustav Klimt Famous? >>\n"
     ]
    },
    {
     "name": "stderr",
     "output_type": "stream",
     "text": [
      " 15%|█▍        | 344/2330 [01:34<08:07,  4.08it/s]"
     ]
    },
    {
     "name": "stdout",
     "output_type": "stream",
     "text": [
      "Error not enough values to unpack (expected 2, got 1) with pred_text=Who Is the Lead Singer of the DDT Group Yuriy Shevchuk by Education?\n",
      "Error not enough values to unpack (expected 2, got 1) with pred_text=Who Is the Lead Singer of the DDT Group Yuriy Shevchuk By Education?\n",
      "Error not enough values to unpack (expected 2, got 1) with pred_text=Who Is The Lead Singer Of The DDT Group Yuriy Shevchuk By Education?\n",
      "Error not enough values to unpack (expected 2, got 1) with pred_text=Who is the Lead Singer of the DDT Group Yuriy Shevchuk by Education?\n",
      "Error not enough values to unpack (expected 2, got 1) with pred_text=Who Is the Lead Singer Of The DDT Group Yuriy Shevchuk By Education?\n",
      "Error not enough values to unpack (expected 2, got 1) with pred_text=Who Is the Lead Singer of The DDT Group Yuriy Shevchuk By Education?\n",
      "Error not enough values to unpack (expected 2, got 1) with pred_text=Who is the Lead Singer of the DDT Group Yuriy Shevchuk By Education?\n",
      "Error not enough values to unpack (expected 2, got 1) with pred_text=Who Is the Lead Singer of The DDT Group Yuriy Shevchuk by Education?\n"
     ]
    },
    {
     "name": "stderr",
     "output_type": "stream",
     "text": [
      " 15%|█▍        | 346/2330 [01:35<09:51,  3.35it/s]"
     ]
    },
    {
     "name": "stdout",
     "output_type": "stream",
     "text": [
      "Error not enough values to unpack (expected 2, got 1) with pred_text=List of composers of The Hitchhiker's Guide to the Galaxy characters >>\n",
      "Error not enough values to unpack (expected 2, got 1) with pred_text=List of composers of The Hitchhiker's Guide to the Galaxy (Brit\n",
      "Error not enough values to unpack (expected 2, got 1) with pred_text=List of composers of The Hitchhiker's Guide to the Galaxy by Han\n",
      "Error not enough values to unpack (expected 2, got 1) with pred_text=List of composers of The Hitchhiker's Guide to the Galaxy by number\n"
     ]
    },
    {
     "name": "stderr",
     "output_type": "stream",
     "text": [
      " 16%|█▌        | 362/2330 [01:39<10:23,  3.16it/s]"
     ]
    },
    {
     "name": "stdout",
     "output_type": "stream",
     "text": [
      "Error not enough values to unpack (expected 2, got 1) with pred_text=What Is the Name of the Administrative Center of the Chinese Province of Qinghai? >>\n",
      "Error not enough values to unpack (expected 2, got 1) with pred_text=What Is the Name of the Administrative Center of the Chinese Province Of Qinghai? >>\n",
      "Error not enough values to unpack (expected 2, got 1) with pred_text=What Is The Name Of The Administrative Center Of The Chinese Province Of Qinghai? >>\n",
      "Error not enough values to unpack (expected 2, got 1) with pred_text=What Is The Name of the Administrative Center of the Chinese Province of Qinghai? >>\n",
      "Error not enough values to unpack (expected 2, got 1) with pred_text=What is the Name of the Administrative Center of the Chinese Province of Qinghai? >>\n",
      "Error not enough values to unpack (expected 2, got 1) with pred_text=What Is The Name of the Administrative Center Of The Chinese Province Of Qinghai? >>\n"
     ]
    },
    {
     "name": "stderr",
     "output_type": "stream",
     "text": [
      " 16%|█▌        | 364/2330 [01:40<13:19,  2.46it/s]"
     ]
    },
    {
     "name": "stdout",
     "output_type": "stream",
     "text": [
      "Error not enough values to unpack (expected 2, got 1) with pred_text=Where Did They Develop The Zastava-a Modification Of The Kalashnikov Assa\n",
      "Error not enough values to unpack (expected 2, got 1) with pred_text=Where Did They Develop the Zastava-a Modification of the Kalashnikov Assa\n",
      "Error not enough values to unpack (expected 2, got 1) with pred_text=Where Did They Develop the Zastava-a Modification Of The Kalashnikov Assa\n",
      "Error not enough values to unpack (expected 2, got 1) with pred_text=Where Did They Develop the Zastava Modification of the Kalashnikov Assault Rif\n",
      "Error not enough values to unpack (expected 2, got 1) with pred_text=Where Did They Develop The Zastava-a Modification of The Kalashnikov Assa\n",
      "Error not enough values to unpack (expected 2, got 1) with pred_text=Where Did They Develop The Zastava-a Modification of the Kalashnikov Assa\n",
      "Error not enough values to unpack (expected 2, got 1) with pred_text=Where Did They Develop the Zastava-a Modification of The Kalashnikov Assa\n",
      "Error not enough values to unpack (expected 2, got 1) with pred_text=Where Did They Develop the Zastava Modification Of The Kalashnikov Assault Rif\n",
      "Error not enough values to unpack (expected 2, got 1) with pred_text=Where Did They Develop The Zastava Modification Of The Kalashnikov Assault Rif\n"
     ]
    },
    {
     "name": "stderr",
     "output_type": "stream",
     "text": [
      " 16%|█▌        | 368/2330 [01:41<09:56,  3.29it/s]"
     ]
    },
    {
     "name": "stdout",
     "output_type": "stream",
     "text": [
      "Error not enough values to unpack (expected 2, got 1) with pred_text=What Is the Location of the Djoser Pyramid Built by Imhotep?\n",
      "Error not enough values to unpack (expected 2, got 1) with pred_text=What Is the Location of the Djoser Pyramid Built By Imhotep?\n",
      "Error not enough values to unpack (expected 2, got 1) with pred_text=What is the location of the Djoser pyramid built by Imhotep? >>\n",
      "Error not enough values to unpack (expected 2, got 1) with pred_text=What Is the Location Of The Djoser Pyramid Built By Imhotep?\n",
      "Error not enough values to unpack (expected 2, got 1) with pred_text=What Is The Location Of The Djoser Pyramid Built By Imhotep?\n",
      "Error not enough values to unpack (expected 2, got 1) with pred_text=What is the location of the djoser pyramid built by Imhotep? >>\n",
      "Error not enough values to unpack (expected 2, got 1) with pred_text=What Is the Location of the Djoser-Pyramid Built by Imho\n",
      "Error not enough values to unpack (expected 2, got 1) with pred_text=What Is the Location of the Djoser pyramid built by Imhotep? >>\n",
      "Error not enough values to unpack (expected 2, got 1) with pred_text=What Is the Location of the Djoser Pyramid Built by Imhotep >>\n",
      "Error not enough values to unpack (expected 2, got 1) with pred_text=What Is the Location of the Djoser Pyramid Built By Imhotep >>\n"
     ]
    },
    {
     "name": "stderr",
     "output_type": "stream",
     "text": [
      " 16%|█▌        | 377/2330 [01:43<09:35,  3.39it/s]"
     ]
    },
    {
     "name": "stdout",
     "output_type": "stream",
     "text": [
      "Error not enough values to unpack (expected 2, got 1) with pred_text=The Fantastic Story: The Story of H.R.D.A.R. >>\n",
      "Error not enough values to unpack (expected 2, got 1) with pred_text=The Fantastic Story: The Story of H.M.S.K.H. >>\n"
     ]
    },
    {
     "name": "stderr",
     "output_type": "stream",
     "text": [
      " 17%|█▋        | 386/2330 [01:46<09:04,  3.57it/s]"
     ]
    },
    {
     "name": "stdout",
     "output_type": "stream",
     "text": [
      "Error not enough values to unpack (expected 2, got 1) with pred_text=Who Is the Author of the Philosophical Treatise on the Nature of Things? >>\n",
      "Error not enough values to unpack (expected 2, got 1) with pred_text=Who Is the Author of the Philosophical Treatise on the Nature of Things! >>\n",
      "Error not enough values to unpack (expected 2, got 1) with pred_text=Who Is the Author of the Philosophical Treatise on the Nature of Things... >>\n",
      "Error not enough values to unpack (expected 2, got 1) with pred_text=Who is the Author of the Philosophical Treatise on the Nature of Things? >>\n"
     ]
    },
    {
     "name": "stderr",
     "output_type": "stream",
     "text": [
      " 17%|█▋        | 397/2330 [01:48<07:49,  4.12it/s]"
     ]
    },
    {
     "name": "stdout",
     "output_type": "stream",
     "text": [
      "Error not enough values to unpack (expected 2, got 1) with pred_text=Who Was the First Editor-in-chief of the First Edition of the BSE\n",
      "Error not enough values to unpack (expected 2, got 1) with pred_text=Who Was the First Editor-in-Chief of the First Edition of the BSE\n",
      "Error not enough values to unpack (expected 2, got 1) with pred_text=Who Was the First Editor-in-chief of the First Edition of The BSE\n",
      "Error not enough values to unpack (expected 2, got 1) with pred_text=Who Was the First Editor-in-Chief of the First Edition of The BSE\n",
      "Error not enough values to unpack (expected 2, got 1) with pred_text=Who Was The First Editor-in-chief Of The First Edition Of The BSE\n",
      "Error not enough values to unpack (expected 2, got 1) with pred_text=Who Was the First Editor-in-chief Of The First Edition Of The BSE\n",
      "Error not enough values to unpack (expected 2, got 1) with pred_text=Who Was the First Editor-in-chief of the First Edition Of The BSE\n",
      "Error not enough values to unpack (expected 2, got 1) with pred_text=Who Was The First Editor-in-chief of the First Edition of The BSE\n",
      "Error not enough values to unpack (expected 2, got 1) with pred_text=Who Was the First Editor-in-chief Of The First Edition of The BSE\n",
      "Error not enough values to unpack (expected 2, got 1) with pred_text=Who Was the First Editor-in-Chief of the First Edition Of The BSE\n"
     ]
    },
    {
     "name": "stderr",
     "output_type": "stream",
     "text": [
      " 17%|█▋        | 402/2330 [01:50<09:27,  3.40it/s]"
     ]
    },
    {
     "name": "stdout",
     "output_type": "stream",
     "text": [
      "Error not enough values to unpack (expected 2, got 1) with pred_text=On the Tendency of Species to form Varieties; and on the Perpet\n",
      "Error not enough values to unpack (expected 2, got 1) with pred_text=On the Tendency of Species to form Varieties; and on the Perception\n",
      "Error not enough values to unpack (expected 2, got 1) with pred_text=On the Tendency of Species to form Varieties; and on the Peripat\n",
      "Error not enough values to unpack (expected 2, got 1) with pred_text=On the Tendency of Species to form Varieties; and on the Perplex\n",
      "Error not enough values to unpack (expected 2, got 1) with pred_text=On the Tendency of Species to form Varieties; and on the Peril\n"
     ]
    },
    {
     "name": "stderr",
     "output_type": "stream",
     "text": [
      " 18%|█▊        | 416/2330 [01:53<07:28,  4.27it/s]"
     ]
    },
    {
     "name": "stdout",
     "output_type": "stream",
     "text": [
      "Error not enough values to unpack (expected 2, got 1) with pred_text=In Which City on Lake Geneva Did V. V. Nabokov Spend The Last\n",
      "Error not enough values to unpack (expected 2, got 1) with pred_text=In Which City on Lake Geneva Did V. V. Nabokov Spend the Last\n",
      "Error not enough values to unpack (expected 2, got 1) with pred_text=In Which City On Lake Geneva Did V. V. Nabokov Spend The Last\n",
      "Error not enough values to unpack (expected 2, got 1) with pred_text=Which City on Lake Geneva Did V. V. Nabokov Spend The Last Years\n",
      "Error not enough values to unpack (expected 2, got 1) with pred_text=In Which City on Lake Geneva Did V.V. Nabokov Spend The Last\n",
      "Error not enough values to unpack (expected 2, got 1) with pred_text=In Which City on Lake Geneva Did V.V. Nabokov Spend the Last\n",
      "Error not enough values to unpack (expected 2, got 1) with pred_text=Which City on Lake Geneva Did V. V. Nabokov Spend the Last Years\n",
      "Error not enough values to unpack (expected 2, got 1) with pred_text=Which City on Lake Geneva Did V.V. Nabokov Spend The Last Years\n",
      "Error not enough values to unpack (expected 2, got 1) with pred_text=In Which City On Lake Geneva Did V. V. Nabokov Spend the Last\n",
      "Error not enough values to unpack (expected 2, got 1) with pred_text=In Which City On Lake Geneva Did V.V. Nabokov Spend The Last\n"
     ]
    },
    {
     "name": "stderr",
     "output_type": "stream",
     "text": [
      " 18%|█▊        | 428/2330 [01:56<07:06,  4.46it/s]"
     ]
    },
    {
     "name": "stdout",
     "output_type": "stream",
     "text": [
      "Error not enough values to unpack (expected 2, got 1) with pred_text=In What Sport Did the Visually Impaired Korean Im Don Hyun Become a Two-\n",
      "Error not enough values to unpack (expected 2, got 1) with pred_text=In What Sport Did the Visually Impaired Korean Im Don Hyun Become A Two-\n",
      "Error not enough values to unpack (expected 2, got 1) with pred_text=In What Sport Did The Visually Impaired Korean Im Don Hyun Become A Two-\n",
      "Error not enough values to unpack (expected 2, got 1) with pred_text=The Visually Impaired Korean Im Don Hyun Become a Two-time Olympic Champion?\n",
      "Error not enough values to unpack (expected 2, got 1) with pred_text=In What Sport Did the Visually Impaired Korean im Don Hyun Become a Two-\n",
      "Error not enough values to unpack (expected 2, got 1) with pred_text=In What Sport Did the Visually Impaired Korea Im Don Hyun Become a Two-\n",
      "Error not enough values to unpack (expected 2, got 1) with pred_text=What Did the Visually Impaired Korean Im Don Hyun Become a Two-time Olympic\n",
      "Error not enough values to unpack (expected 2, got 1) with pred_text=What Did the Visually Impaired Korean Im Don Hyun Become a Two-Time Olympic\n",
      "Error not enough values to unpack (expected 2, got 1) with pred_text=In what sport Did the Visually Impaired Korean Im Don Hyun Become a Two-\n"
     ]
    },
    {
     "name": "stderr",
     "output_type": "stream",
     "text": [
      " 18%|█▊        | 429/2330 [01:56<08:10,  3.88it/s]"
     ]
    },
    {
     "name": "stdout",
     "output_type": "stream",
     "text": [
      "Error not enough values to unpack (expected 2, got 1) with pred_text=What Modern City in the Crimea is the Site of the Ancient Greek City of Pan\n",
      "Error not enough values to unpack (expected 2, got 1) with pred_text=What Modern City in the Crimea Is the Site of the Ancient Greek City of Pan\n",
      "Error not enough values to unpack (expected 2, got 1) with pred_text=What Modern City in the Crimea Is The Site Of The Ancient Greek City Of Pan\n",
      "Error not enough values to unpack (expected 2, got 1) with pred_text=What Modern City in the Crimea is the Site of the Ancient Greek City Of Pan\n",
      "Error not enough values to unpack (expected 2, got 1) with pred_text=What Modern City in the Crimea is the Site of The Ancient Greek City of Pan\n",
      "Error not enough values to unpack (expected 2, got 1) with pred_text=What Modern City in the Crimea is the Site Of The Ancient Greek City of Pan\n",
      "Error not enough values to unpack (expected 2, got 1) with pred_text=What Modern City in the Crimea is the Site Of The Ancient Greek City Of Pan\n"
     ]
    },
    {
     "name": "stderr",
     "output_type": "stream",
     "text": [
      " 19%|█▉        | 439/2330 [01:59<07:24,  4.26it/s]"
     ]
    },
    {
     "name": "stdout",
     "output_type": "stream",
     "text": [
      "Error not enough values to unpack (expected 2, got 1) with pred_text=Which Country's Citizenship Did The Dancer Rudolf Nuriev Take In 1982 After\n",
      "Error not enough values to unpack (expected 2, got 1) with pred_text=Which Country's Citizenship Did the Dancer Rudolf Nuriev Take In 1982 After\n",
      "Error not enough values to unpack (expected 2, got 1) with pred_text=Which Country’s Citizenship Did the Dancer Rudolf Nuriev Take In 1982 After\n",
      "Error not enough values to unpack (expected 2, got 1) with pred_text=Which Country's Citizenship Did the Dancer Rudolf Nuriev Take in 1982 After\n",
      "Error not enough values to unpack (expected 2, got 1) with pred_text=Which Country's Citizenship Did The Dancer Rudolf Nuriev Take in 1982 After\n",
      "Error not enough values to unpack (expected 2, got 1) with pred_text=Which Country’s Citizenship Did The Dancer Rudolf Nuriev Take In 1982 After\n",
      "Error not enough values to unpack (expected 2, got 1) with pred_text=Which Country's citizenship Did the Dancer Rudolf Nuriev Take In 1982 After Ref\n",
      "Error not enough values to unpack (expected 2, got 1) with pred_text=Which Country's Citizenship Did The Dancer Rudolf Nuriev Take In 1982,\n",
      "Error not enough values to unpack (expected 2, got 1) with pred_text=Which Country's Citizenship Did the Dancer Rudolf Nuriev Take In 1982,\n",
      "Error not enough values to unpack (expected 2, got 1) with pred_text=Which Country's Citizenship Did The Dancer Rudolf Nuriev Take In 1982 after\n"
     ]
    },
    {
     "name": "stderr",
     "output_type": "stream",
     "text": [
      " 20%|█▉        | 457/2330 [02:04<10:07,  3.09it/s]"
     ]
    },
    {
     "name": "stdout",
     "output_type": "stream",
     "text": [
      "Error not enough values to unpack (expected 2, got 1) with pred_text=The Song of Hiawatha (Coleridge-Taylor Swift) >>\n"
     ]
    },
    {
     "name": "stderr",
     "output_type": "stream",
     "text": [
      " 20%|█▉        | 459/2330 [02:04<08:39,  3.60it/s]"
     ]
    },
    {
     "name": "stdout",
     "output_type": "stream",
     "text": [
      "Error not enough values to unpack (expected 2, got 1) with pred_text=In What Irish Castle Can You Kiss the Stone of Eloquence to Gain the Gift\n",
      "Error not enough values to unpack (expected 2, got 1) with pred_text=In What Irish Castle Can You Kiss The Stone Of Eloquence To Gain The Gift\n",
      "Error not enough values to unpack (expected 2, got 1) with pred_text=In What Irish Castle Can You Kiss the Stone of Eloquence to Gain The Gift\n",
      "Error not enough values to unpack (expected 2, got 1) with pred_text=In What Irish Castle Can You Kiss The Stone of Eloquence to Gain the Gift\n",
      "Error not enough values to unpack (expected 2, got 1) with pred_text=In What Irish Castle Can You Kiss The Stone of Eloquence To Gain The Gift\n",
      "Error not enough values to unpack (expected 2, got 1) with pred_text=In What Irish Castle Can You Kiss the Stone of Eloquence To Gain The Gift\n",
      "Error not enough values to unpack (expected 2, got 1) with pred_text=In What Irish Castle Can You Kiss the Stone of Eloquence To Gain the Gift\n",
      "Error not enough values to unpack (expected 2, got 1) with pred_text=In What Irish Castle Can You Kiss The Stone of Eloquence to Gain The Gift\n",
      "Error not enough values to unpack (expected 2, got 1) with pred_text=In What Irish Castle Can You Kiss The Stone Of Eloquence to Gain The Gift\n",
      "Error not enough values to unpack (expected 2, got 1) with pred_text=In What Irish Castle Can You Kiss The Stone Of Eloquence to Gain the Gift\n"
     ]
    },
    {
     "name": "stderr",
     "output_type": "stream",
     "text": [
      " 20%|██        | 472/2330 [02:07<08:37,  3.59it/s]"
     ]
    },
    {
     "name": "stdout",
     "output_type": "stream",
     "text": [
      "Error not enough values to unpack (expected 2, got 1) with pred_text=Which Country Was Ruled By Muammar Gaddafi For More Than 40 Years? >>\n",
      "Error not enough values to unpack (expected 2, got 1) with pred_text=Which Country Was Ruled By Muammar Gaddafi for More Than 40 Years? >>\n",
      "Error not enough values to unpack (expected 2, got 1) with pred_text=Which Country Was Ruled by Muammar Gaddafi for More Than 40 Years? >>\n",
      "Error not enough values to unpack (expected 2, got 1) with pred_text=Which Country Was Ruled by Muammar Gaddafi for More than 40 Years? >>\n",
      "Error not enough values to unpack (expected 2, got 1) with pred_text=Which Country Was Ruled by Muammar Gaddafi For More Than 40 Years? >>\n",
      "Error not enough values to unpack (expected 2, got 1) with pred_text=Which Country Was Ruled By Muammar Gaddafi for More than 40 Years? >>\n",
      "Error not enough values to unpack (expected 2, got 1) with pred_text=Which Country Was Ruled By Muammar Gaddafi For More than 40 Years? >>\n",
      "Error not enough values to unpack (expected 2, got 1) with pred_text=Which Country was ruled by Muammar Gaddafi for more than 40 years? >>\n",
      "Error not enough values to unpack (expected 2, got 1) with pred_text=Which Country Was Ruled By Muammar Gaddafi For More Than 40 Years? (\n",
      "Error not enough values to unpack (expected 2, got 1) with pred_text=Which country Was ruled by Muammar Gaddafi for more than 40 years? >>\n"
     ]
    },
    {
     "name": "stderr",
     "output_type": "stream",
     "text": [
      " 20%|██        | 477/2330 [02:09<08:27,  3.65it/s]"
     ]
    },
    {
     "name": "stdout",
     "output_type": "stream",
     "text": [
      "Error not enough values to unpack (expected 2, got 1) with pred_text=What Crimean City Was Built On The Site Of Scythian Naples That Ex\n",
      "Error not enough values to unpack (expected 2, got 1) with pred_text=What Crimean City Was Built on the Site of Scythian Naples That Ex\n",
      "Error not enough values to unpack (expected 2, got 1) with pred_text=What Crimean City Was Built On The Site of Scythian Naples That Ex\n",
      "Error not enough values to unpack (expected 2, got 1) with pred_text=What Crimean City Was Built On the Site of Scythian Naples That Ex\n",
      "Error not enough values to unpack (expected 2, got 1) with pred_text=What Crimean City Was Built on the Site of Scythian Naples that Ex\n",
      "Error not enough values to unpack (expected 2, got 1) with pred_text=What Crimean City Was Built on the Site Of Scythian Naples That Ex\n",
      "Error not enough values to unpack (expected 2, got 1) with pred_text=What Crimean City Was Built On the Site Of Scythian Naples That Ex\n",
      "Error not enough values to unpack (expected 2, got 1) with pred_text=What Crimean City Was Built on the Site of Scythian Naples, That\n"
     ]
    },
    {
     "name": "stderr",
     "output_type": "stream",
     "text": [
      " 21%|██        | 478/2330 [02:09<09:35,  3.22it/s]"
     ]
    },
    {
     "name": "stdout",
     "output_type": "stream",
     "text": [
      "Error not enough values to unpack (expected 2, got 1) with pred_text=St. Helena, Ascension and Tristan da Cunha, U.S. Virgin\n"
     ]
    },
    {
     "name": "stderr",
     "output_type": "stream",
     "text": [
      " 21%|██        | 481/2330 [02:10<07:40,  4.02it/s]"
     ]
    },
    {
     "name": "stdout",
     "output_type": "stream",
     "text": [
      "Error not enough values to unpack (expected 2, got 1) with pred_text=Which City Was the Capital of the Kingdom of Both Sicilies That Existed in the\n",
      "Error not enough values to unpack (expected 2, got 1) with pred_text=Which City Was the Capital of the Kingdom of Both Sicilies that Existed in the\n",
      "Error not enough values to unpack (expected 2, got 1) with pred_text=Which City Was the Capital of the Kingdom of Both Sicilies That Existed In The\n",
      "Error not enough values to unpack (expected 2, got 1) with pred_text=Which City Was the Capital of Both Sicilies That Existed in the XIX Century?\n",
      "Error not enough values to unpack (expected 2, got 1) with pred_text=Which City Was The Capital Of Both Sicilies That Existed In The XIX Century?\n",
      "Error not enough values to unpack (expected 2, got 1) with pred_text=Which City Was the Capital of Both Sicilies that Existed in the XIX Century?\n",
      "Error not enough values to unpack (expected 2, got 1) with pred_text=Which City Was the Capital Of Both Sicilies That Existed In The XIX Century?\n",
      "Error not enough values to unpack (expected 2, got 1) with pred_text=Which City Was the Capital of the Kingdom of Both Sicilies That Existed In the\n",
      "Error not enough values to unpack (expected 2, got 1) with pred_text=Which City Was the Capital Of The Kingdom Of Both Sicilies That Existed In The\n",
      "Error not enough values to unpack (expected 2, got 1) with pred_text=Which City Was the Capital of the Kingdom of Both Sicilies that Existed In the\n"
     ]
    },
    {
     "name": "stderr",
     "output_type": "stream",
     "text": [
      " 21%|██▏       | 497/2330 [02:13<07:45,  3.93it/s]"
     ]
    },
    {
     "name": "stdout",
     "output_type": "stream",
     "text": [
      "Error not enough values to unpack (expected 2, got 1) with pred_text=Which City Is Home To One Of The Oldest Ambrosian Libraries In Europe\n",
      "Error not enough values to unpack (expected 2, got 1) with pred_text=Which City Is Home to One of the Oldest Ambrosian Libraries in Europe\n",
      "Error not enough values to unpack (expected 2, got 1) with pred_text=Which City Is Home to One Of The Oldest Ambrosian Libraries In Europe\n",
      "Error not enough values to unpack (expected 2, got 1) with pred_text=Which City is Home to One of the Oldest Ambrosian Libraries in Europe\n",
      "Error not enough values to unpack (expected 2, got 1) with pred_text=Which City Is Home to One of the Oldest Ambrosian Libraries In Europe\n",
      "Error not enough values to unpack (expected 2, got 1) with pred_text=Which City is Home to One Of The Oldest Ambrosian Libraries In Europe\n",
      "Error not enough values to unpack (expected 2, got 1) with pred_text=Which City Is Home To One Of The Oldest Ambrosian Libraries in Europe\n",
      "Error not enough values to unpack (expected 2, got 1) with pred_text=Which City Is Home to One Of The Oldest Ambrosian Libraries in Europe\n",
      "Error not enough values to unpack (expected 2, got 1) with pred_text=Which City is Home to One of the Oldest Ambrosian Libraries In Europe\n",
      "Error not enough values to unpack (expected 2, got 1) with pred_text=Which City Is Home To One of the Oldest Ambrosian Libraries in Europe\n"
     ]
    },
    {
     "name": "stderr",
     "output_type": "stream",
     "text": [
      " 21%|██▏       | 498/2330 [02:14<08:19,  3.66it/s]"
     ]
    },
    {
     "name": "stdout",
     "output_type": "stream",
     "text": [
      "Error not enough values to unpack (expected 2, got 1) with pred_text=What Monet Painting Gave The Name To A New Direction In Painting - Impression\n",
      "Error not enough values to unpack (expected 2, got 1) with pred_text=What Monet Painting Gave the Name to a New Direction in Painting – Impression\n",
      "Error not enough values to unpack (expected 2, got 1) with pred_text=What Monet Painting Gave the Name to a New Direction in Painting - Impression\n",
      "Error not enough values to unpack (expected 2, got 1) with pred_text=What Monet Painting Gave The Name To A New Direction In Painting – Impression\n",
      "Error not enough values to unpack (expected 2, got 1) with pred_text=What Monet Painting Gave the Name to a New Direction In Painting - Impression\n",
      "Error not enough values to unpack (expected 2, got 1) with pred_text=What Monet Painting Gave The Name to A New Direction In Painting - Impression\n",
      "Error not enough values to unpack (expected 2, got 1) with pred_text=What Monet Painting Gave the Name to a New Direction In Painting – Impression\n",
      "Error not enough values to unpack (expected 2, got 1) with pred_text=What Monet Painting Gave The Name to a New Direction In Painting - Impression\n",
      "Error not enough values to unpack (expected 2, got 1) with pred_text=What Monet Painting Gave the Name To A New Direction In Painting - Impression\n"
     ]
    },
    {
     "name": "stderr",
     "output_type": "stream",
     "text": [
      " 22%|██▏       | 514/2330 [02:18<08:51,  3.41it/s]"
     ]
    },
    {
     "name": "stdout",
     "output_type": "stream",
     "text": [
      "Error not enough values to unpack (expected 2, got 1) with pred_text=In Which Russian City Can You Visit The Museum of the Arctic and Antarctic\"? >>\n",
      "Error not enough values to unpack (expected 2, got 1) with pred_text=In Which Russian City Can You Visit The Museum of the Arctic and Antarctic! >>\n",
      "Error not enough values to unpack (expected 2, got 1) with pred_text=In Which Russian City Can You Visit The Museum Of The Arctic And Antarctic\"? >>\n",
      "Error not enough values to unpack (expected 2, got 1) with pred_text=In Which Russian City Can You Visit the Museum of the Arctic and Antarctic\"? >>\n"
     ]
    },
    {
     "name": "stderr",
     "output_type": "stream",
     "text": [
      " 22%|██▏       | 516/2330 [02:18<09:24,  3.22it/s]"
     ]
    },
    {
     "name": "stdout",
     "output_type": "stream",
     "text": [
      "Error not enough values to unpack (expected 2, got 1) with pred_text=In Which Country Is the Famous Shwedagon Pagoda (a 98-meter G\n",
      "Error not enough values to unpack (expected 2, got 1) with pred_text=In Which Country is the Famous Shwedagon Pagoda (a 98-meter G\n",
      "Error not enough values to unpack (expected 2, got 1) with pred_text=In Which Country Is The Famous Shwedagon Pagoda (a 98-meter G\n",
      "Error not enough values to unpack (expected 2, got 1) with pred_text=In Which Country Is the Famous Shwedagon Pagoda (A 98-meter G\n",
      "Error not enough values to unpack (expected 2, got 1) with pred_text=In Which Country Is the Famous Shwedagon Pagoda, a 98-meter G\n",
      "Error not enough values to unpack (expected 2, got 1) with pred_text=In Which Country is the Famous Shwedagon Pagoda, a 98-meter G\n",
      "Error not enough values to unpack (expected 2, got 1) with pred_text=In Which Country Is the Famous Shwedagon Pagoda, A 98-meter G\n"
     ]
    },
    {
     "name": "stderr",
     "output_type": "stream",
     "text": [
      " 23%|██▎       | 526/2330 [02:21<06:36,  4.56it/s]"
     ]
    },
    {
     "name": "stdout",
     "output_type": "stream",
     "text": [
      "Error not enough values to unpack (expected 2, got 1) with pred_text=What Anglo-Saxon King Ordered King Ragnar Lothbrok To Be Thro\n",
      "Error not enough values to unpack (expected 2, got 1) with pred_text=What Anglo-Saxon King Ordered King Ragnar Lothbrok to Be Thro\n",
      "Error not enough values to unpack (expected 2, got 1) with pred_text=What Anglo-Saxon King Ordered King Ragnar Lothbrok to be Thro\n",
      "Error not enough values to unpack (expected 2, got 1) with pred_text=What Anglo-Saxon King Ordered King Ragnar Lothbrok To be Thro\n",
      "Error not enough values to unpack (expected 2, got 1) with pred_text=What Anglo-Saxon Kingdom Ordered King Ragnar Lothbrok to Be Thro\n",
      "Error not enough values to unpack (expected 2, got 1) with pred_text=What Anglo-Saxon King Ordered King Ragnar Lodbrok to Be Thrown\n",
      "Error not enough values to unpack (expected 2, got 1) with pred_text=What Anglo-Saxon King Ordered King Ragnar Lothbroc to Be Thro\n",
      "Error not enough values to unpack (expected 2, got 1) with pred_text=What Anglo-Saxon King ordered King Ragnar Lothbrok to be Thro\n",
      "Error not enough values to unpack (expected 2, got 1) with pred_text=What Anglo-Saxon King Ordered King Ragnar lothbrok to be Thro\n"
     ]
    },
    {
     "name": "stderr",
     "output_type": "stream",
     "text": [
      " 23%|██▎       | 530/2330 [02:22<07:54,  3.79it/s]"
     ]
    },
    {
     "name": "stdout",
     "output_type": "stream",
     "text": [
      "Error not enough values to unpack (expected 2, got 1) with pred_text=In Which City Of The Minsk Region Is The Belarusian Automobile Plant Located?\n",
      "Error not enough values to unpack (expected 2, got 1) with pred_text=In Which City of the Minsk Region Is The Belarusian Automobile Plant Located?\n",
      "Error not enough values to unpack (expected 2, got 1) with pred_text=In Which City of the Minsk Region Is the Belarusian Automobile Plant Located?\n",
      "Error not enough values to unpack (expected 2, got 1) with pred_text=In Which City of the Minsk Region is the Belarusian Automobile Plant Located?\n",
      "Error not enough values to unpack (expected 2, got 1) with pred_text=In Which City of the Minsk Region is The Belarusian Automobile Plant Located?\n",
      "Error not enough values to unpack (expected 2, got 1) with pred_text=In Which City Of the Minsk Region Is The Belarusian Automobile Plant Located?\n",
      "Error not enough values to unpack (expected 2, got 1) with pred_text=In Which City of the Minsk Region is the Belarusian Automobile Plant Located >>\n"
     ]
    },
    {
     "name": "stderr",
     "output_type": "stream",
     "text": [
      " 24%|██▍       | 557/2330 [02:29<07:16,  4.06it/s]"
     ]
    },
    {
     "name": "stdout",
     "output_type": "stream",
     "text": [
      "Error not enough values to unpack (expected 2, got 1) with pred_text=What Is a Historical Region of France Is Home Of Cheese Camembert, Pont\n",
      "Error not enough values to unpack (expected 2, got 1) with pred_text=What Is a Historical Region Of France Is Home Of Cheese Camembert, Pont\n",
      "Error not enough values to unpack (expected 2, got 1) with pred_text=What Is a Historical Region of France Is Home of Cheese Camembert, Pont\n",
      "Error not enough values to unpack (expected 2, got 1) with pred_text=What Is A Historical Region Of France Is Home Of Cheese Camembert, Pont\n",
      "Error not enough values to unpack (expected 2, got 1) with pred_text=Cheese Camembert, Pont-l'Évêque, Neuchâ\n",
      "Error not enough values to unpack (expected 2, got 1) with pred_text=What is a historic region of France is home of cheese camembert, Pont-l\n",
      "Error not enough values to unpack (expected 2, got 1) with pred_text=What Is a Historical Region of France is Home of Cheese Camembert, Pont\n",
      "Error not enough values to unpack (expected 2, got 1) with pred_text=Cheese Camembert, Pont-l'Évque, Neuchâtel\n"
     ]
    },
    {
     "name": "stderr",
     "output_type": "stream",
     "text": [
      " 24%|██▍       | 561/2330 [02:30<09:00,  3.27it/s]"
     ]
    },
    {
     "name": "stdout",
     "output_type": "stream",
     "text": [
      "Error not enough values to unpack (expected 2, got 1) with pred_text=Who Is the Author of the Opera Tancred, Based on Voltaire's Drama\n",
      "Error not enough values to unpack (expected 2, got 1) with pred_text=Who Is the Author of the Opera Tancred, Based On Voltaire's Drama\n",
      "Error not enough values to unpack (expected 2, got 1) with pred_text=Who is the Author of the Opera Tancred, Based on Voltaire's Drama\n",
      "Error not enough values to unpack (expected 2, got 1) with pred_text=Who Is The Author Of The Opera Tancred, Based On Voltaire's Drama\n",
      "Error not enough values to unpack (expected 2, got 1) with pred_text=Who Is the Author of the Opera Tancred, Based on the Drama of the Same\n",
      "Error not enough values to unpack (expected 2, got 1) with pred_text=Who Is The Author of the Opera Tancred, Based on Voltaire's Drama\n",
      "Error not enough values to unpack (expected 2, got 1) with pred_text=Who Is The Author of the Opera Tancred, Based On Voltaire's Drama\n",
      "Error not enough values to unpack (expected 2, got 1) with pred_text=Who Is the Author of the Opera Tancred, Based on Voltaire’s Drama\n"
     ]
    },
    {
     "name": "stderr",
     "output_type": "stream",
     "text": [
      " 26%|██▌       | 597/2330 [02:40<07:38,  3.78it/s]"
     ]
    },
    {
     "name": "stdout",
     "output_type": "stream",
     "text": [
      "Error not enough values to unpack (expected 2, got 1) with pred_text=What Object In Barnaul Is Named After Herman Stepanovich Titov? >>\n",
      "Error not enough values to unpack (expected 2, got 1) with pred_text=What Object in Barnaul Is Named After Herman Stepanovich Titov? >>\n",
      "Error not enough values to unpack (expected 2, got 1) with pred_text=What Object in Barnaul is Named After Herman Stepanovich Titov? >>\n",
      "Error not enough values to unpack (expected 2, got 1) with pred_text=What Object In Barnaul is Named After Herman Stepanovich Titov? >>\n",
      "Error not enough values to unpack (expected 2, got 1) with pred_text=What Object in Barnaul Is Named after Herman Stepanovich Titov? >>\n",
      "Error not enough values to unpack (expected 2, got 1) with pred_text=What Object In Barnaul Is Named after Herman Stepanovich Titov? >>\n"
     ]
    },
    {
     "name": "stderr",
     "output_type": "stream",
     "text": [
      " 26%|██▌       | 601/2330 [02:42<09:54,  2.91it/s]"
     ]
    },
    {
     "name": "stdout",
     "output_type": "stream",
     "text": [
      "Error not enough values to unpack (expected 2, got 1) with pred_text=List of universities and colleges in the United Arab Emirates, United Arab Emirates and Bahamas >>\n"
     ]
    },
    {
     "name": "stderr",
     "output_type": "stream",
     "text": [
      " 26%|██▌       | 603/2330 [02:42<08:49,  3.26it/s]"
     ]
    },
    {
     "name": "stdout",
     "output_type": "stream",
     "text": [
      "Error not enough values to unpack (expected 2, got 1) with pred_text=In Which French City Was the Impressionist Master Pierre-Auguste Renoir Born\n",
      "Error not enough values to unpack (expected 2, got 1) with pred_text=In Which French City Was The Impressionist Master Pierre-Auguste Renoir Born\n",
      "Error not enough values to unpack (expected 2, got 1) with pred_text=Which French City Was the Impressionist Master Pierre-Auguste Renoir Born?\n",
      "Error not enough values to unpack (expected 2, got 1) with pred_text=Which Which French City Was the Impressionist Master Pierre-Auguste Renoir Born\n",
      "Error not enough values to unpack (expected 2, got 1) with pred_text=In Which French City was the Impressionist Master Pierre-Auguste Renoir Born\n",
      "Error not enough values to unpack (expected 2, got 1) with pred_text=In Which French City Was the Impressionist's Master Pierre-Auguste Reno\n",
      "Error not enough values to unpack (expected 2, got 1) with pred_text=In Which French City Was the Impressionist Master Pierre-Auguste Renoir born\n",
      "Error not enough values to unpack (expected 2, got 1) with pred_text=In Which French City Was the Impressionist Master Pierre-Auguste Renoir >>\n",
      "Error not enough values to unpack (expected 2, got 1) with pred_text=In Which French City Was the Impressionist Master Pierre-Auguste Renoir,\n"
     ]
    },
    {
     "name": "stderr",
     "output_type": "stream",
     "text": [
      " 26%|██▌       | 611/2330 [02:44<08:51,  3.24it/s]"
     ]
    },
    {
     "name": "stdout",
     "output_type": "stream",
     "text": [
      "Error not enough values to unpack (expected 2, got 1) with pred_text=Under What Russian Ruler Was the Novodevichy Monastery Founded In\n",
      "Error not enough values to unpack (expected 2, got 1) with pred_text=Under What Russian Ruler Was The Novodevichy Monastery Founded In\n",
      "Error not enough values to unpack (expected 2, got 1) with pred_text=Under What Russian Ruler Was the Novodevichy Monastery Founded in\n",
      "Error not enough values to unpack (expected 2, got 1) with pred_text=Under What Russian Ruler Was The Novodevichy Monastery Founded in\n"
     ]
    },
    {
     "name": "stderr",
     "output_type": "stream",
     "text": [
      " 27%|██▋       | 621/2330 [02:47<07:47,  3.66it/s]"
     ]
    },
    {
     "name": "stdout",
     "output_type": "stream",
     "text": [
      "Error too many values to unpack (expected 2) with pred_text=Pashto >> en) >> en\n"
     ]
    },
    {
     "name": "stderr",
     "output_type": "stream",
     "text": [
      " 27%|██▋       | 627/2330 [02:49<09:55,  2.86it/s]"
     ]
    },
    {
     "name": "stdout",
     "output_type": "stream",
     "text": [
      "Error not enough values to unpack (expected 2, got 1) with pred_text=Semezhevo New Year's Ceremony of the Village of Semezhe\n"
     ]
    },
    {
     "name": "stderr",
     "output_type": "stream",
     "text": [
      " 27%|██▋       | 629/2330 [02:50<08:09,  3.47it/s]"
     ]
    },
    {
     "name": "stdout",
     "output_type": "stream",
     "text": [
      "Error not enough values to unpack (expected 2, got 1) with pred_text=On What Mountain, According to the Old Testament, Did the Prophet Moses Die? >>\n",
      "Error not enough values to unpack (expected 2, got 1) with pred_text=On What Mountain, According To The Old Testament, Did The Prophet Moses Die? >>\n",
      "Error not enough values to unpack (expected 2, got 1) with pred_text=On What Mountain, According to The Old Testament, Did the Prophet Moses Die? >>\n",
      "Error not enough values to unpack (expected 2, got 1) with pred_text=On What Mountain, According To The Old Testament, Did the Prophet Moses Die? >>\n",
      "Error not enough values to unpack (expected 2, got 1) with pred_text=On What Mountain, According to the Old Testament, Did The Prophet Moses Die? >>\n",
      "Error not enough values to unpack (expected 2, got 1) with pred_text=On What Mountain, According to The Old Testament, Did The Prophet Moses Die? >>\n",
      "Error not enough values to unpack (expected 2, got 1) with pred_text=On What Mountain, According to the Old Testament: Did the Prophet Moses Die? >>\n",
      "Error not enough values to unpack (expected 2, got 1) with pred_text=On What Mountain, According To the Old Testament, Did the Prophet Moses Die? >>\n",
      "Error not enough values to unpack (expected 2, got 1) with pred_text=On What Mountain, According To the Old Testament, Did The Prophet Moses Die? >>\n"
     ]
    },
    {
     "name": "stderr",
     "output_type": "stream",
     "text": [
      " 27%|██▋       | 637/2330 [02:52<07:23,  3.81it/s]"
     ]
    },
    {
     "name": "stdout",
     "output_type": "stream",
     "text": [
      "Error not enough values to unpack (expected 2, got 1) with pred_text=Which City, to Which Jules Verne Dedicated The Story \"The Ideal City\"\n",
      "Error not enough values to unpack (expected 2, got 1) with pred_text=Which City, to Which Jules Verne Dedicated The Story \"the Ideal City\"\n",
      "Error not enough values to unpack (expected 2, got 1) with pred_text=Which City, to Which Jules Verne Dedicated The Story “the Ideal City”\n",
      "Error not enough values to unpack (expected 2, got 1) with pred_text=Which City, To Which Jules Verne Dedicated The Story \"The Ideal City\"\n",
      "Error not enough values to unpack (expected 2, got 1) with pred_text=Which City, to Which Jules Verne Dedicated The Story “The Ideal City”\n",
      "Error not enough values to unpack (expected 2, got 1) with pred_text=Which City, to Which Jules Verne Dedicated The Story 'the Ideal City,\n",
      "Error not enough values to unpack (expected 2, got 1) with pred_text=Which City, to Which Jules Verne Dedicated The Story «the Ideal City,\n",
      "Error not enough values to unpack (expected 2, got 1) with pred_text=Which City, to Which Jules Verne Dedicated The Story 'the Ideal City'\n",
      "Error not enough values to unpack (expected 2, got 1) with pred_text=Which City, to Which Jules Verne Dedicated The Story „The Ideal City”\n",
      "Error not enough values to unpack (expected 2, got 1) with pred_text=Which City, to Which Jules Verne Dedicated The Story „the Ideal City”\n"
     ]
    },
    {
     "name": "stderr",
     "output_type": "stream",
     "text": [
      " 27%|██▋       | 638/2330 [02:52<08:02,  3.50it/s]"
     ]
    },
    {
     "name": "stdout",
     "output_type": "stream",
     "text": [
      "Error not enough values to unpack (expected 2, got 1) with pred_text=Which City Is the Administrative Center of the Spanish Autonomous Community of Andalusia?\n",
      "Error not enough values to unpack (expected 2, got 1) with pred_text=Which City is the Administrative Center of the Spanish Autonomous Community of Andalusia?\n",
      "Error not enough values to unpack (expected 2, got 1) with pred_text=Which City Is The Administrative Center Of The Spanish Autonomous Community of Andalusia?\n",
      "Error not enough values to unpack (expected 2, got 1) with pred_text=Which City Is The Administrative Center of the Spanish Autonomous Community of Andalusia?\n",
      "Error not enough values to unpack (expected 2, got 1) with pred_text=Which City Is the Administrative Center of the Autonomous Community of Andalusia? >>\n",
      "Error not enough values to unpack (expected 2, got 1) with pred_text=Which City Is The Administrative Center Of The Spanish Autonomous Community Of Andalusia?\n",
      "Error not enough values to unpack (expected 2, got 1) with pred_text=Which City is the Administrative Center of the Autonomous Community of Andalusia? >>\n"
     ]
    },
    {
     "name": "stderr",
     "output_type": "stream",
     "text": [
      " 28%|██▊       | 641/2330 [02:53<08:36,  3.27it/s]"
     ]
    },
    {
     "name": "stdout",
     "output_type": "stream",
     "text": [
      "Error not enough values to unpack (expected 2, got 1) with pred_text=Which British New Wave Duo Performed The Popular Hit Video Killed The Radio Star\"? >>\n",
      "Error not enough values to unpack (expected 2, got 1) with pred_text=Which British New Wave Duo Performed The Popular Hit Video Killed the Radio Star\"? >>\n",
      "Error not enough values to unpack (expected 2, got 1) with pred_text=Which British New Wave Duo Performed the Popular Hit Video Killed the Radio Star\"? >>\n",
      "Error not enough values to unpack (expected 2, got 1) with pred_text=Which British New Wave Duo Performed The Popular Hit (Video Killed the Radio Star\"?\n",
      "Error not enough values to unpack (expected 2, got 1) with pred_text=Which British New Wave Duo Performed The Popular Hit (Video Killed the Radio Star)\n"
     ]
    },
    {
     "name": "stderr",
     "output_type": "stream",
     "text": [
      " 28%|██▊       | 646/2330 [02:54<06:58,  4.02it/s]"
     ]
    },
    {
     "name": "stdout",
     "output_type": "stream",
     "text": [
      "Error not enough values to unpack (expected 2, got 1) with pred_text=What Is the Name of the Monetary Unit of the Bosnia and Herzegovina? >>\n",
      "Error not enough values to unpack (expected 2, got 1) with pred_text=What Is the Name of the Monetary Unit of the Federation of Bosnia and Herzegovina\n",
      "Error not enough values to unpack (expected 2, got 1) with pred_text=What Is the Name of the Monetary Unit of the Republic of Bosnia and Herzegovina\n",
      "Error not enough values to unpack (expected 2, got 1) with pred_text=What Is the Name of the Monetary Unit of the State of Bosnia and Herzegovina\n"
     ]
    },
    {
     "name": "stderr",
     "output_type": "stream",
     "text": [
      " 28%|██▊       | 655/2330 [02:57<07:21,  3.79it/s]"
     ]
    },
    {
     "name": "stdout",
     "output_type": "stream",
     "text": [
      "Error not enough values to unpack (expected 2, got 1) with pred_text=What River Formed By The Confluence Of The Rivers Marañón And Ucay\n",
      "Error not enough values to unpack (expected 2, got 1) with pred_text=What River Formed by the Confluence of the Rivers Marañón and Ucay\n",
      "Error not enough values to unpack (expected 2, got 1) with pred_text=What River Formed By The Confluence of the Rivers Marañón And Ucay\n",
      "Error not enough values to unpack (expected 2, got 1) with pred_text=What River Formed By The Confluence of the Rivers Marañón and Ucay\n",
      "Error not enough values to unpack (expected 2, got 1) with pred_text=What River Formed By The Confluence Of The Rivers Marañón and Ucay\n",
      "Error not enough values to unpack (expected 2, got 1) with pred_text=What River Formed By the Confluence of the Rivers Marañón and Ucay\n",
      "Error not enough values to unpack (expected 2, got 1) with pred_text=What River Formed By The Confluence of The Rivers Marañón And Ucay\n",
      "Error not enough values to unpack (expected 2, got 1) with pred_text=What River Formed by the Confluence of the Rivers Marañón And Ucay\n",
      "Error not enough values to unpack (expected 2, got 1) with pred_text=What River Formed by the Confluence of the River Marañón and Ucay\n",
      "Error not enough values to unpack (expected 2, got 1) with pred_text=What River Formed By the Confluence of the Rivers Marañón And Ucay\n"
     ]
    },
    {
     "name": "stderr",
     "output_type": "stream",
     "text": [
      " 29%|██▉       | 673/2330 [03:02<08:25,  3.28it/s]"
     ]
    },
    {
     "name": "stdout",
     "output_type": "stream",
     "text": [
      "Error not enough values to unpack (expected 2, got 1) with pred_text=What Is the Name of the Curve That the Earth Moves Around the Sun? >>\n",
      "Error not enough values to unpack (expected 2, got 1) with pred_text=What Is the Name of the Curve that the Earth Moves Around the Sun? >>\n",
      "Error not enough values to unpack (expected 2, got 1) with pred_text=What Is The Name Of The Curve That The Earth Moves Around The Sun? >>\n",
      "Error not enough values to unpack (expected 2, got 1) with pred_text=What Is the Name of the Curve That the Earth Moves Around The Sun? >>\n",
      "Error not enough values to unpack (expected 2, got 1) with pred_text=What Is the Name of the Curve That The Earth Moves Around the Sun? >>\n",
      "Error not enough values to unpack (expected 2, got 1) with pred_text=What Is The Name of The Curve That The Earth Moves Around The Sun? >>\n",
      "Error not enough values to unpack (expected 2, got 1) with pred_text=What Is The Name of the Curve That The Earth Moves Around The Sun? >>\n",
      "Error not enough values to unpack (expected 2, got 1) with pred_text=What Is the Name of the Curve That The Earth Moves Around The Sun? >>\n",
      "Error not enough values to unpack (expected 2, got 1) with pred_text=What Is the Name of The Curve That the Earth Moves Around the Sun? >>\n"
     ]
    },
    {
     "name": "stderr",
     "output_type": "stream",
     "text": [
      " 29%|██▉       | 682/2330 [03:04<07:39,  3.58it/s]"
     ]
    },
    {
     "name": "stdout",
     "output_type": "stream",
     "text": [
      "Error not enough values to unpack (expected 2, got 1) with pred_text=What Is the Equipment Used at the Olympic Games Athletes Competing in the Half-p\n",
      "Error not enough values to unpack (expected 2, got 1) with pred_text=What Is the Equipment Used at the Olympic Games Athletes Competing in the Half-P\n",
      "Error not enough values to unpack (expected 2, got 1) with pred_text=What Is the Equipment Used at the Olympic Games Athletes Competing In The Half-p\n",
      "Error not enough values to unpack (expected 2, got 1) with pred_text=What Is the Equipment Used at the Olympic Games Athletes Competing in The Half-p\n",
      "Error not enough values to unpack (expected 2, got 1) with pred_text=What Is the Equipment Used at the Olympic Games Athletes Competing in the Half Pipe\n",
      "Error not enough values to unpack (expected 2, got 1) with pred_text=What Is the Equipment Used At The Olympic Games Athletes Competing In The Half-p\n",
      "Error not enough values to unpack (expected 2, got 1) with pred_text=What Is The Equipment Used At The Olympic Games Athletes Competing In The Half-p\n",
      "Error not enough values to unpack (expected 2, got 1) with pred_text=What Is the Equipment Used at The Olympic Games Athletes Competing In The Half-p\n",
      "Error not enough values to unpack (expected 2, got 1) with pred_text=What Is the Equipment Used at The Olympic Games Athletes Competing in the Half-p\n"
     ]
    },
    {
     "name": "stderr",
     "output_type": "stream",
     "text": [
      " 30%|███       | 707/2330 [03:11<07:58,  3.39it/s]"
     ]
    },
    {
     "name": "stdout",
     "output_type": "stream",
     "text": [
      "Error not enough values to unpack (expected 2, got 1) with pred_text=Which King Built the First Tower in the Tower of London More than 900 Years Ago?\n",
      "Error not enough values to unpack (expected 2, got 1) with pred_text=Which King Built the First Tower in the Tower of London More Than 900 Years Ago?\n",
      "Error not enough values to unpack (expected 2, got 1) with pred_text=Which King Built The First Tower In The Tower Of London More Than 900 Years Ago?\n",
      "Error not enough values to unpack (expected 2, got 1) with pred_text=Which King Built the First Tower In The Tower Of London More Than 900 Years Ago?\n",
      "Error not enough values to unpack (expected 2, got 1) with pred_text=Which King Built the First Tower in the Tower of London more than 900 Years Ago?\n",
      "Error not enough values to unpack (expected 2, got 1) with pred_text=Which King Built The First Tower in the Tower of London More Than 900 Years Ago?\n",
      "Error not enough values to unpack (expected 2, got 1) with pred_text=Which King Built the First Tower in the Tower of London: More than 900 Years Ago\n",
      "Error not enough values to unpack (expected 2, got 1) with pred_text=Which King Built the First Tower in The Tower of London More Than 900 Years Ago?\n",
      "Error not enough values to unpack (expected 2, got 1) with pred_text=Which King Built the First Tower in the Tower of London More than 900 Years Ago >>\n"
     ]
    },
    {
     "name": "stderr",
     "output_type": "stream",
     "text": [
      " 31%|███       | 712/2330 [03:12<04:54,  5.50it/s]"
     ]
    },
    {
     "name": "stdout",
     "output_type": "stream",
     "text": [
      "Error too many values to unpack (expected 2) with pred_text=Pacific Ocean >> en) >> en\n"
     ]
    },
    {
     "name": "stderr",
     "output_type": "stream",
     "text": [
      " 31%|███       | 713/2330 [03:12<05:54,  4.56it/s]"
     ]
    },
    {
     "name": "stdout",
     "output_type": "stream",
     "text": [
      "Error not enough values to unpack (expected 2, got 1) with pred_text=In Which City Was the Agreement Signed That Ended The Soviet-Polish War (19\n",
      "Error not enough values to unpack (expected 2, got 1) with pred_text=In Which City Was the Agreement Signed That Ended the Soviet–Polish War (19\n",
      "Error not enough values to unpack (expected 2, got 1) with pred_text=In Which City Was the Agreement Signed That Ended The Soviet–Polish War (19\n",
      "Error not enough values to unpack (expected 2, got 1) with pred_text=In Which City Was The Agreement Signed That Ended The Soviet-Polish War (19\n",
      "Error not enough values to unpack (expected 2, got 1) with pred_text=In Which City Was the Agreement Signed That Ended the Soviet-Polish War (19\n",
      "Error not enough values to unpack (expected 2, got 1) with pred_text=In Which City Was The Agreement Signed That Ended The Soviet–Polish War (19\n",
      "Error not enough values to unpack (expected 2, got 1) with pred_text=In Which City Was the Agreement Signed that Ended the Soviet–Polish War (19\n",
      "Error not enough values to unpack (expected 2, got 1) with pred_text=In Which City Was The Agreement Signed That Ended the Soviet–Polish War (19\n",
      "Error not enough values to unpack (expected 2, got 1) with pred_text=In Which City Was the Agreement signed that ended the Soviet–Polish War (19\n",
      "Error not enough values to unpack (expected 2, got 1) with pred_text=In Which City Was The Agreement Signed That Ended the Soviet-Polish War (19\n"
     ]
    },
    {
     "name": "stderr",
     "output_type": "stream",
     "text": [
      " 31%|███       | 722/2330 [03:14<07:13,  3.71it/s]"
     ]
    },
    {
     "name": "stdout",
     "output_type": "stream",
     "text": [
      "Error not enough values to unpack (expected 2, got 1) with pred_text=What Is the Name of the City Where the German Philosopher Immanuel Kant Was Born and\n",
      "Error not enough values to unpack (expected 2, got 1) with pred_text=What Is the Name of the City Where The German Philosopher Immanuel Kant Was Born And\n",
      "Error not enough values to unpack (expected 2, got 1) with pred_text=What Is the Name of the City Where the German Philosopher Immanuel Kant Was Born And\n",
      "Error not enough values to unpack (expected 2, got 1) with pred_text=What Is the Name of the City Where The German Philosopher Immanuel Kant Was Born and\n",
      "Error not enough values to unpack (expected 2, got 1) with pred_text=What Is the Name of the City Where Immanuel Kant Was Born and Lived All His\n",
      "Error not enough values to unpack (expected 2, got 1) with pred_text=What Is the Name of the City Where Immanuel Kant Was Born And Lived All His\n",
      "Error not enough values to unpack (expected 2, got 1) with pred_text=What is the Name of the City Where the German Philosopher Immanuel Kant Was Born and\n",
      "Error not enough values to unpack (expected 2, got 1) with pred_text=What Is The Name of the City Where The German Philosopher Immanuel Kant Was Born And\n",
      "Error not enough values to unpack (expected 2, got 1) with pred_text=What is the Name of the City Where the German Philosopher Immanuel Kant Was Born And\n"
     ]
    },
    {
     "name": "stderr",
     "output_type": "stream",
     "text": [
      " 32%|███▏      | 738/2330 [03:19<08:05,  3.28it/s]"
     ]
    },
    {
     "name": "stdout",
     "output_type": "stream",
     "text": [
      "Error not enough values to unpack (expected 2, got 1) with pred_text=In What Sport Did The Scientist Niels Bohr And His Brother Harald, Who Played\n",
      "Error not enough values to unpack (expected 2, got 1) with pred_text=In What Sport Did the Scientist Niels Bohr and His Brother Harald, Who Played\n",
      "Error not enough values to unpack (expected 2, got 1) with pred_text=In What Sport Did the Scientist Niels Bohr And His Brother Harald, Who Played\n",
      "Error not enough values to unpack (expected 2, got 1) with pred_text=In What Sport Did The Scientist Niels Bohr and His Brother Harald, Who Played\n",
      "Error not enough values to unpack (expected 2, got 1) with pred_text=In What Sport Did the Scientist Niels Bohr, and His Brother Harald, Who Play\n",
      "Error not enough values to unpack (expected 2, got 1) with pred_text=In What Sport Did the Scientist Niels Bohr and his Brother Harald, Who Played\n",
      "Error not enough values to unpack (expected 2, got 1) with pred_text=Niels Bohr and His Brother Harald, Who Played For The Danish National Team, Ach\n",
      "Error not enough values to unpack (expected 2, got 1) with pred_text=Niels Bohr and His Brother Harald, Who Played for the Danish National Team, Ach\n"
     ]
    },
    {
     "name": "stderr",
     "output_type": "stream",
     "text": [
      " 32%|███▏      | 757/2330 [03:24<08:34,  3.06it/s]"
     ]
    },
    {
     "name": "stdout",
     "output_type": "stream",
     "text": [
      "Error not enough values to unpack (expected 2, got 1) with pred_text=List of Monty Python's Flying Circus appearances in the United States >>\n"
     ]
    },
    {
     "name": "stderr",
     "output_type": "stream",
     "text": [
      " 33%|███▎      | 758/2330 [03:25<07:57,  3.29it/s]"
     ]
    },
    {
     "name": "stdout",
     "output_type": "stream",
     "text": [
      "Error too many values to unpack (expected 2) with pred_text=Glucose >> en라더스) >> ko\n"
     ]
    },
    {
     "name": "stderr",
     "output_type": "stream",
     "text": [
      " 33%|███▎      | 762/2330 [03:26<08:21,  3.13it/s]"
     ]
    },
    {
     "name": "stdout",
     "output_type": "stream",
     "text": [
      "Error not enough values to unpack (expected 2, got 1) with pred_text=What Is the Result of the Confluence of the BII-Khem and Ka\n",
      "Error not enough values to unpack (expected 2, got 1) with pred_text=What Is the Result of the Confluence of the BII-Khem and Ka\n",
      "Error not enough values to unpack (expected 2, got 1) with pred_text=What Is the Result of the Confluence of the BII-Hem and Ka-\n",
      "Error not enough values to unpack (expected 2, got 1) with pred_text=What Is the Result of the Confluence of the BII-Khem And Ka\n",
      "Error not enough values to unpack (expected 2, got 1) with pred_text=What Is the Result of the Confluence of the BII-Khém and Ka\n",
      "Error not enough values to unpack (expected 2, got 1) with pred_text=What Is The Result Of The Confluence Of The BII-Khem And Ka\n",
      "Error not enough values to unpack (expected 2, got 1) with pred_text=What Is the Result of the Confluence of the BII-khem and Ka\n",
      "Error not enough values to unpack (expected 2, got 1) with pred_text=What Is the Result of the Confluence of the BII-Khema and Ka\n",
      "Error not enough values to unpack (expected 2, got 1) with pred_text=What Is the Result Of The Confluence Of The BII-Khem And Ka\n",
      "Error not enough values to unpack (expected 2, got 1) with pred_text=What Is the Result of the Confluence of the Confluence of the BII\n"
     ]
    },
    {
     "name": "stderr",
     "output_type": "stream",
     "text": [
      " 33%|███▎      | 778/2330 [03:30<07:19,  3.53it/s]"
     ]
    },
    {
     "name": "stdout",
     "output_type": "stream",
     "text": [
      "Error not enough values to unpack (expected 2, got 1) with pred_text=What Was the Name of the Spear of the Supreme Scandinavian God Odin?\n",
      "Error not enough values to unpack (expected 2, got 1) with pred_text=What Was The Name Of The Spear Of The Supreme Scandinavian God Odin?\n",
      "Error not enough values to unpack (expected 2, got 1) with pred_text=What Was The Name of the Spear Of The Supreme Scandinavian God Odin?\n",
      "Error not enough values to unpack (expected 2, got 1) with pred_text=What Was The Name of The Spear Of The Supreme Scandinavian God Odin?\n",
      "Error not enough values to unpack (expected 2, got 1) with pred_text=What Was The Name of the Spear of the Supreme Scandinavian God Odin?\n",
      "Error not enough values to unpack (expected 2, got 1) with pred_text=What Was the Name of the Spear of the Supreme Scandinavian God Odin >>\n",
      "Error not enough values to unpack (expected 2, got 1) with pred_text=What Was the Name of the Spear Of The Supreme Scandinavian God Odin?\n",
      "Error not enough values to unpack (expected 2, got 1) with pred_text=What Was The Name Of The Spear of the Supreme Scandinavian God Odin?\n",
      "Error not enough values to unpack (expected 2, got 1) with pred_text=What Was The Name of The Spear of the Supreme Scandinavian God Odin?\n",
      "Error not enough values to unpack (expected 2, got 1) with pred_text=What Was the Name of The Spear of the Supreme Scandinavian God Odin?\n"
     ]
    },
    {
     "name": "stderr",
     "output_type": "stream",
     "text": [
      " 33%|███▎      | 779/2330 [03:30<07:55,  3.26it/s]"
     ]
    },
    {
     "name": "stdout",
     "output_type": "stream",
     "text": [
      "Error not enough values to unpack (expected 2, got 1) with pred_text=Alpine skiing at the 2018 Winter Olympics – Men's double-slalom >>\n",
      "Error not enough values to unpack (expected 2, got 1) with pred_text=Alpine skiing at the 2018 Winter Olympics – Men's double sculls >>\n",
      "Error not enough values to unpack (expected 2, got 1) with pred_text=Alpine skiing at the 2010 Winter Olympics – Men's double-slalom >>\n",
      "Error not enough values to unpack (expected 2, got 1) with pred_text=Alpine skiing at the 1998 Winter Olympics – Men's double-slalom >>\n",
      "Error not enough values to unpack (expected 2, got 1) with pred_text=Alpine skiing at the 1984 Winter Olympics – Men's double-slalom >>\n",
      "Error not enough values to unpack (expected 2, got 1) with pred_text=Alpine skiing at the 2018 Winter Olympics – Women's double-slalom >>\n"
     ]
    },
    {
     "name": "stderr",
     "output_type": "stream",
     "text": [
      " 34%|███▍      | 795/2330 [03:35<07:42,  3.32it/s]"
     ]
    },
    {
     "name": "stdout",
     "output_type": "stream",
     "text": [
      "Error not enough values to unpack (expected 2, got 1) with pred_text=What, According to Ohm's Law, Will Happen If The Voltage Is\n",
      "Error not enough values to unpack (expected 2, got 1) with pred_text=What, According to Ohm's Law, Will Happen If the Voltage Is\n",
      "Error not enough values to unpack (expected 2, got 1) with pred_text=What, According To Ohm's Law, Will Happen If The Voltage Is\n",
      "Error not enough values to unpack (expected 2, got 1) with pred_text=What, According to Ohm's Law, Will Happen if the Voltage Is\n",
      "Error not enough values to unpack (expected 2, got 1) with pred_text=What, According to Ohm's Law, Will Happen If The Voltage is\n",
      "Error not enough values to unpack (expected 2, got 1) with pred_text=What, According to Ohm's Law, Will Happen If the Voltage is\n",
      "Error not enough values to unpack (expected 2, got 1) with pred_text=What, According to Ohm’s Law, Will Happen If the Voltage Is\n",
      "Error not enough values to unpack (expected 2, got 1) with pred_text=What, According To Ohm's Law, Will Happen If the Voltage Is\n",
      "Error not enough values to unpack (expected 2, got 1) with pred_text=What, According to Ohm's Law Will Happen If The Voltage Is D\n"
     ]
    },
    {
     "name": "stderr",
     "output_type": "stream",
     "text": [
      " 34%|███▍      | 800/2330 [03:36<08:11,  3.11it/s]"
     ]
    },
    {
     "name": "stdout",
     "output_type": "stream",
     "text": [
      "Error not enough values to unpack (expected 2, got 1) with pred_text=In Which State of the United States Are Giant Carved Sculptural Portraits\n",
      "Error not enough values to unpack (expected 2, got 1) with pred_text=In Which State of the United States are Giant Carved Sculptural Portraits\n",
      "Error not enough values to unpack (expected 2, got 1) with pred_text=In Which State Of The United States Are Giant Carved Sculptural Portraits\n",
      "Error not enough values to unpack (expected 2, got 1) with pred_text=In Which State of The United States Are Giant Carved Sculptural Portraits\n",
      "Error not enough values to unpack (expected 2, got 1) with pred_text=In Which State Of the United States Are Giant Carved Sculptural Portraits\n"
     ]
    },
    {
     "name": "stderr",
     "output_type": "stream",
     "text": [
      " 34%|███▍      | 802/2330 [03:37<07:56,  3.21it/s]"
     ]
    },
    {
     "name": "stdout",
     "output_type": "stream",
     "text": [
      "Error not enough values to unpack (expected 2, got 1) with pred_text=What River Is Formed at the Confluence of the Katuni and Biya Rivers\n",
      "Error not enough values to unpack (expected 2, got 1) with pred_text=What River Is Formed At The Confluence Of The Katuni And Biya Rivers\n",
      "Error not enough values to unpack (expected 2, got 1) with pred_text=What River Is Formed at the Confluence of the Katuni And Biya Rivers\n",
      "Error not enough values to unpack (expected 2, got 1) with pred_text=What River is Formed at the Confluence of the Katuni and Biya Rivers\n",
      "Error not enough values to unpack (expected 2, got 1) with pred_text=What River Is Formed At The Confluence of the Katuni And Biya Rivers\n",
      "Error not enough values to unpack (expected 2, got 1) with pred_text=What River is Formed at the Confluence of the Katuni And Biya Rivers\n",
      "Error not enough values to unpack (expected 2, got 1) with pred_text=What River Is Formed At the Confluence of the Katuni And Biya Rivers\n",
      "Error not enough values to unpack (expected 2, got 1) with pred_text=What River Is Formed At the Confluence of the Katuni and Biya Rivers\n",
      "Error not enough values to unpack (expected 2, got 1) with pred_text=What River Is Formed at the Confluence of the Katuni and Biya River\n",
      "Error not enough values to unpack (expected 2, got 1) with pred_text=What River is Formed At The Confluence Of The Katuni And Biya Rivers\n"
     ]
    },
    {
     "name": "stderr",
     "output_type": "stream",
     "text": [
      " 35%|███▍      | 808/2330 [03:39<06:46,  3.75it/s]"
     ]
    },
    {
     "name": "stdout",
     "output_type": "stream",
     "text": [
      "Error not enough values to unpack (expected 2, got 1) with pred_text=What Sport Did the NBA's Greatest Player, Michael Jordan, Play During a Break\n",
      "Error not enough values to unpack (expected 2, got 1) with pred_text=What Sport Did the NBA's Greatest Player, Michael Jordan, Play During A Break\n",
      "Error not enough values to unpack (expected 2, got 1) with pred_text=What Sport Did The NBA's Greatest Player, Michael Jordan, Play During A Break\n",
      "Error not enough values to unpack (expected 2, got 1) with pred_text=What Sport Did the NBA's Greatest Player Play During a Break in His Basketball Career\n",
      "Error not enough values to unpack (expected 2, got 1) with pred_text=What Sport Did The NBA's Greatest Player, Michael Jordan, Play During a Break\n",
      "Error not enough values to unpack (expected 2, got 1) with pred_text=What Sport Did the NBA's Greatest Player, Michael Jordan Play During a Break in\n",
      "Error not enough values to unpack (expected 2, got 1) with pred_text=What Sport Did the NBA's Greatest Player... Play During a Break in His Basketball\n",
      "Error not enough values to unpack (expected 2, got 1) with pred_text=What Sport Did the NBA's Greatest Player, Michael Jordan, Play During the Break\n"
     ]
    },
    {
     "name": "stderr",
     "output_type": "stream",
     "text": [
      " 35%|███▌      | 821/2330 [03:42<05:42,  4.40it/s]"
     ]
    },
    {
     "name": "stdout",
     "output_type": "stream",
     "text": [
      "Error not enough values to unpack (expected 2, got 1) with pred_text=What Is the Measure of the Account of Small Haberdashery and Stationer\n",
      "Error not enough values to unpack (expected 2, got 1) with pred_text=What Is the Measure of the Account of Small Haberdashery And Stationer\n",
      "Error not enough values to unpack (expected 2, got 1) with pred_text=What Is the Measure of the Account of the Account of Small Haberdashery\n",
      "Error not enough values to unpack (expected 2, got 1) with pred_text=Account of Small Haberdashery and Stationery Items Equal to 144?\n",
      "Error not enough values to unpack (expected 2, got 1) with pred_text=The Account of Small Haberdashery and Stationery Items Equal to 144\n",
      "Error not enough values to unpack (expected 2, got 1) with pred_text=What is the measure of the account of small haberdashery and stationery\n",
      "Error not enough values to unpack (expected 2, got 1) with pred_text=What Is The Measure Of The Account Of Small Haberdashery And Stationer\n",
      "Error not enough values to unpack (expected 2, got 1) with pred_text=What Is the Measure Of The Account Of Small Haberdashery And Stationer\n",
      "Error not enough values to unpack (expected 2, got 1) with pred_text=What Is the Measure of the Account Of Small Haberdashery And Stationer\n",
      "Error not enough values to unpack (expected 2, got 1) with pred_text=What Is the Measure of the Account of the Small Haberdashery and St\n"
     ]
    },
    {
     "name": "stderr",
     "output_type": "stream",
     "text": [
      " 36%|███▌      | 832/2330 [03:45<07:27,  3.35it/s]"
     ]
    },
    {
     "name": "stdout",
     "output_type": "stream",
     "text": [
      "Error not enough values to unpack (expected 2, got 1) with pred_text=What Was the Name of the Postman from the Village of Prostokvashino?\n",
      "Error not enough values to unpack (expected 2, got 1) with pred_text=What Was the Name of the Postman from The Village of Prostokvashino?\n",
      "Error not enough values to unpack (expected 2, got 1) with pred_text=What Was The Name Of The Postman From The Village Of Prostokvashino?\n",
      "Error not enough values to unpack (expected 2, got 1) with pred_text=What Was The Name Of The Postman From The Village of Prostokvashino?\n",
      "Error not enough values to unpack (expected 2, got 1) with pred_text=What Was the Name of the Postman From The Village of Prostokvashino?\n",
      "Error not enough values to unpack (expected 2, got 1) with pred_text=What Was The Name Of The Postman from The Village Of Prostokvashino?\n",
      "Error not enough values to unpack (expected 2, got 1) with pred_text=What Was The Name of the Postman from the Village of Prostokvashino?\n",
      "Error not enough values to unpack (expected 2, got 1) with pred_text=What Was the Name of The Postman from the Village of Prostokvashino?\n",
      "Error not enough values to unpack (expected 2, got 1) with pred_text=What Was The Name of The Postman From The Village Of Prostokvashino?\n",
      "Error not enough values to unpack (expected 2, got 1) with pred_text=What Was The Name Of The Postman from The Village of Prostokvashino?\n"
     ]
    },
    {
     "name": "stderr",
     "output_type": "stream",
     "text": [
      " 36%|███▌      | 836/2330 [03:46<07:40,  3.24it/s]"
     ]
    },
    {
     "name": "stdout",
     "output_type": "stream",
     "text": [
      "Error not enough values to unpack (expected 2, got 1) with pred_text=What Was the Name of the Methuselah's Great-grandson? >>\n"
     ]
    },
    {
     "name": "stderr",
     "output_type": "stream",
     "text": [
      " 37%|███▋      | 853/2330 [03:50<06:28,  3.81it/s]"
     ]
    },
    {
     "name": "stdout",
     "output_type": "stream",
     "text": [
      "Error not enough values to unpack (expected 2, got 1) with pred_text=Where Is the World's Only High-altitude Open-air Skating Rink >>\n",
      "Error not enough values to unpack (expected 2, got 1) with pred_text=Where Is the World's Only High-altitude Open-air Skating Rink?\n",
      "Error not enough values to unpack (expected 2, got 1) with pred_text=Where Is the World's Only High-altitude Open-Air Skating Rink >>\n",
      "Error not enough values to unpack (expected 2, got 1) with pred_text=Where Is the World's Only High-altitude Open-air Skating Rink Mede\n",
      "Error not enough values to unpack (expected 2, got 1) with pred_text=Where Is the World's Only High-altitude Open-Air Skating Rink?\n",
      "Error not enough values to unpack (expected 2, got 1) with pred_text=Where Is the World's Only High-Altitude Open-Air Skating Rink\n",
      "Error not enough values to unpack (expected 2, got 1) with pred_text=Where Is the World's Only High-altitude Open-Air Skating Rink Mede\n",
      "Error not enough values to unpack (expected 2, got 1) with pred_text=Where Is The World's Only High-altitude Open-air Skating Rink >>\n",
      "Error not enough values to unpack (expected 2, got 1) with pred_text=Where Is the World's Only High-altitude Open-air Skating Rink Me\n"
     ]
    },
    {
     "name": "stderr",
     "output_type": "stream",
     "text": [
      " 37%|███▋      | 855/2330 [03:51<07:26,  3.31it/s]"
     ]
    },
    {
     "name": "stdout",
     "output_type": "stream",
     "text": [
      "Error not enough values to unpack (expected 2, got 1) with pred_text=List of comics magazines published by Magazine Management in the 1970s (Japanese era) >>\n"
     ]
    },
    {
     "name": "stderr",
     "output_type": "stream",
     "text": [
      " 37%|███▋      | 870/2330 [03:55<06:50,  3.56it/s]"
     ]
    },
    {
     "name": "stdout",
     "output_type": "stream",
     "text": [
      "Error not enough values to unpack (expected 2, got 1) with pred_text=Which City in the Kaliningrad Region Was Called Heiligenbail Before 1947?\n",
      "Error not enough values to unpack (expected 2, got 1) with pred_text=Which City In The Kaliningrad Region Was Called Heiligenbail Before 1947?\n",
      "Error not enough values to unpack (expected 2, got 1) with pred_text=Which city in the Kaliningrad Region Was Called Heiligenbail Before 1947?\n",
      "Error not enough values to unpack (expected 2, got 1) with pred_text=Which city in the Kaliningrad region was called Heiligenbail Before 1947? >>\n",
      "Error not enough values to unpack (expected 2, got 1) with pred_text=Which City In the Kaliningrad Region Was Called Heiligenbail Before 1947?\n",
      "Error not enough values to unpack (expected 2, got 1) with pred_text=Which city in the Kaliningrad Region was called Heiligenbail Before 1947? >>\n",
      "Error not enough values to unpack (expected 2, got 1) with pred_text=Which City in the Kaliningrad Region was Called Heiligenbail Before 1947?\n",
      "Error not enough values to unpack (expected 2, got 1) with pred_text=Which City in the Kaliningrad Region Was Called Heiligenbail Before 1947 >>\n"
     ]
    },
    {
     "name": "stderr",
     "output_type": "stream",
     "text": [
      " 38%|███▊      | 877/2330 [03:57<07:05,  3.42it/s]"
     ]
    },
    {
     "name": "stdout",
     "output_type": "stream",
     "text": [
      "Error not enough values to unpack (expected 2, got 1) with pred_text=What Will the Residents of Tallinn Show If You Want to Look at a Thick Margar\n",
      "Error not enough values to unpack (expected 2, got 1) with pred_text=What Will the Residents of Tallinn Show if You Want to Look at a Thick Margar\n",
      "Error not enough values to unpack (expected 2, got 1) with pred_text=What Will the Residents of Tallinn Show If You Want To Look At A Thick Margar\n",
      "Error not enough values to unpack (expected 2, got 1) with pred_text=What Will The Residents Of Tallinn Show If You Want To Look At A Thick Margar\n",
      "Error not enough values to unpack (expected 2, got 1) with pred_text=What Will the Residents Of Tallinn Show If You Want To Look At A Thick Margar\n",
      "Error not enough values to unpack (expected 2, got 1) with pred_text=What Will The Residents of Tallinn Show If You Want To Look At A Thick Margar\n",
      "Error not enough values to unpack (expected 2, got 1) with pred_text=What Will the Residents of Tallinn Show If You Want to Look At A Thick Margar\n",
      "Error not enough values to unpack (expected 2, got 1) with pred_text=What Will The Residents of Tallinn Show If You Want to Look at a Thick Margar\n",
      "Error not enough values to unpack (expected 2, got 1) with pred_text=What Will the Residents of Tallinn Show if you Want to Look at a Thick Margar\n",
      "Error not enough values to unpack (expected 2, got 1) with pred_text=What Will the Residents of Tallinn Show If You Want To Look at a Thick Margar\n"
     ]
    },
    {
     "name": "stderr",
     "output_type": "stream",
     "text": [
      " 38%|███▊      | 881/2330 [03:58<07:20,  3.29it/s]"
     ]
    },
    {
     "name": "stdout",
     "output_type": "stream",
     "text": [
      "Error not enough values to unpack (expected 2, got 1) with pred_text=What Is the Name of Stalin's Order No. 227 of July 28, 1942? >>\n",
      "Error not enough values to unpack (expected 2, got 1) with pred_text=What Is the Name of Stalin's Order No. 227 Of July 28, 1942? >>\n",
      "Error not enough values to unpack (expected 2, got 1) with pred_text=What Is The Name of Stalin's Order No. 227 Of July 28, 1942? >>\n",
      "Error not enough values to unpack (expected 2, got 1) with pred_text=What Is the Name of the Stalin's Order No. 227 of July 28, 1942?\n"
     ]
    },
    {
     "name": "stderr",
     "output_type": "stream",
     "text": [
      " 39%|███▊      | 899/2330 [04:03<07:45,  3.08it/s]"
     ]
    },
    {
     "name": "stdout",
     "output_type": "stream",
     "text": [
      "Error not enough values to unpack (expected 2, got 1) with pred_text=Which State Is the City of Hershey and the Famous American Chocolate Company of the Same\n",
      "Error not enough values to unpack (expected 2, got 1) with pred_text=Which State Is the City of Hershey and the Famous American Chocolate Company Of The Same\n",
      "Error not enough values to unpack (expected 2, got 1) with pred_text=Which State Is the City of Hershey and the Famous American Chocolate Company of The Same\n",
      "Error not enough values to unpack (expected 2, got 1) with pred_text=Which State Is the City of Hershey and The Famous American Chocolate Company Of The Same\n",
      "Error not enough values to unpack (expected 2, got 1) with pred_text=Which State Is the City of Hershey And The Famous American Chocolate Company Of The Same\n",
      "Error not enough values to unpack (expected 2, got 1) with pred_text=Which State is the City of Hershey and the Famous American Chocolate Company of the Same\n",
      "Error not enough values to unpack (expected 2, got 1) with pred_text=Which State Is the City Of Hershey And The Famous American Chocolate Company Of The Same\n",
      "Error not enough values to unpack (expected 2, got 1) with pred_text=Which State Is The City Of Hershey And The Famous American Chocolate Company Of The Same\n",
      "Error not enough values to unpack (expected 2, got 1) with pred_text=Which State Is the City of Hershey and The Famous American Chocolate Company of The Same\n"
     ]
    },
    {
     "name": "stderr",
     "output_type": "stream",
     "text": [
      " 39%|███▉      | 903/2330 [04:04<07:26,  3.19it/s]"
     ]
    },
    {
     "name": "stdout",
     "output_type": "stream",
     "text": [
      "Error not enough values to unpack (expected 2, got 1) with pred_text=Who Was One of the Strongest Opponents of Rome, Pyrrhus? >>\n",
      "Error not enough values to unpack (expected 2, got 1) with pred_text=Who Was One Of The Strongest Opponents Of Rome, Pyrrhus? >>\n",
      "Error not enough values to unpack (expected 2, got 1) with pred_text=Who Was One Of The Strongest Opponents of Rome, Pyrrhus? >>\n",
      "Error not enough values to unpack (expected 2, got 1) with pred_text=Who Was One of the Strongest Opponents Of Rome, Pyrrhus? >>\n",
      "Error not enough values to unpack (expected 2, got 1) with pred_text=Who Was One of the Strongest Opponents of the Rome, Pyrrhus?\n",
      "Error not enough values to unpack (expected 2, got 1) with pred_text=Who Was One of the Strongest Opponents of Rome, Pirrhus? >>\n"
     ]
    },
    {
     "name": "stderr",
     "output_type": "stream",
     "text": [
      " 39%|███▉      | 904/2330 [04:04<07:23,  3.22it/s]"
     ]
    },
    {
     "name": "stdout",
     "output_type": "stream",
     "text": [
      "Error not enough values to unpack (expected 2, got 1) with pred_text=In Which Italian City Was Born, Lived and Created The Father of Modern Electroph\n",
      "Error not enough values to unpack (expected 2, got 1) with pred_text=In Which Italian City Was Born, Lived And Created The Father Of Modern Electroph\n",
      "Error not enough values to unpack (expected 2, got 1) with pred_text=In Which Italian City Was Born, Lived and Created the Father of Modern Electroph\n",
      "Error not enough values to unpack (expected 2, got 1) with pred_text=In Which Italian City Was Born, Lived And Created The Father of Modern Electroph\n",
      "Error not enough values to unpack (expected 2, got 1) with pred_text=In Which Italian City Was Born, Lived and Created The Father Of Modern Electroph\n",
      "Error not enough values to unpack (expected 2, got 1) with pred_text=In Which Italian City Was Born, Lived, And Created The Father Of Modern Electro\n",
      "Error not enough values to unpack (expected 2, got 1) with pred_text=In Which Italian City Was Born, Lived, and Created The Father of Modern Electro\n",
      "Error not enough values to unpack (expected 2, got 1) with pred_text=In Which Italian City Was Born, Lived and Created: The Father of Modern Electro\n",
      "Error not enough values to unpack (expected 2, got 1) with pred_text=In Which Italian City Was Born, Lived, And Created The Father of Modern Electro\n",
      "Error not enough values to unpack (expected 2, got 1) with pred_text=In Which Italian City Was Born, Lived and Created the Father Of Modern Electroph\n"
     ]
    },
    {
     "name": "stderr",
     "output_type": "stream",
     "text": [
      " 39%|███▉      | 907/2330 [04:05<07:17,  3.26it/s]"
     ]
    },
    {
     "name": "stdout",
     "output_type": "stream",
     "text": [
      "Error not enough values to unpack (expected 2, got 1) with pred_text=What Was the Name of the Wife of Calliope's Son, Orpheus\n",
      "Error not enough values to unpack (expected 2, got 1) with pred_text=What Was The Name of the Wife Of Calliope's Son, Orpheus\n",
      "Error not enough values to unpack (expected 2, got 1) with pred_text=What Was The Name of the Wife of Calliope's Son, Orpheus\n",
      "Error not enough values to unpack (expected 2, got 1) with pred_text=What Was the Name of the Wife Of Calliope's Son, Orpheus\n",
      "Error not enough values to unpack (expected 2, got 1) with pred_text=What Was The Name Of The Wife Of Calliope's Son, Orpheus\n",
      "Error not enough values to unpack (expected 2, got 1) with pred_text=What Was the Name of the Wife of Calliope’s Son, Orpheus\n",
      "Error not enough values to unpack (expected 2, got 1) with pred_text=What Was The Name Of The Wife of Calliope's Son, Orpheus\n",
      "Error not enough values to unpack (expected 2, got 1) with pred_text=What Was the Name of the Wife of the Calliope's Son, Orp\n"
     ]
    },
    {
     "name": "stderr",
     "output_type": "stream",
     "text": [
      " 39%|███▉      | 916/2330 [04:07<05:57,  3.95it/s]"
     ]
    },
    {
     "name": "stdout",
     "output_type": "stream",
     "text": [
      "Error not enough values to unpack (expected 2, got 1) with pred_text=What Title Did The Writer Antoine De Saint-Exupery Inherit From His Anc\n",
      "Error not enough values to unpack (expected 2, got 1) with pred_text=What Title Did The Writer Antoine De Saint-Exupery Inherit from His Anc\n",
      "Error not enough values to unpack (expected 2, got 1) with pred_text=What Title Did the Writer Antoine De Saint-Exupery Inherit from His Anc\n",
      "Error not enough values to unpack (expected 2, got 1) with pred_text=What Title Did the Writer Antoine De Saint-Exupery Inherit From His Anc\n",
      "Error not enough values to unpack (expected 2, got 1) with pred_text=What Title Did The Writer Antoine De Saint-Exupéry Inherit From His Anc\n",
      "Error not enough values to unpack (expected 2, got 1) with pred_text=What Title Did The Writer Antoine de Saint-Exupery Inherit from His Anc\n",
      "Error not enough values to unpack (expected 2, got 1) with pred_text=What Title Did the Writer Antoine De Saint-Exupéry Inherit from His Anc\n",
      "Error not enough values to unpack (expected 2, got 1) with pred_text=What Title Did The Writer Antoine de Saint-Exupéry Inherit from His Anc\n",
      "Error not enough values to unpack (expected 2, got 1) with pred_text=What Title Did The Writer Antoine De Saint-Exupéry Inherit from His Anc\n"
     ]
    },
    {
     "name": "stderr",
     "output_type": "stream",
     "text": [
      " 40%|███▉      | 924/2330 [04:10<07:10,  3.27it/s]"
     ]
    },
    {
     "name": "stdout",
     "output_type": "stream",
     "text": [
      "Error not enough values to unpack (expected 2, got 1) with pred_text=Honourable Corps of Gentlemen at Arms of the United States House of Representatives\n"
     ]
    },
    {
     "name": "stderr",
     "output_type": "stream",
     "text": [
      " 40%|███▉      | 928/2330 [04:11<06:10,  3.79it/s]"
     ]
    },
    {
     "name": "stdout",
     "output_type": "stream",
     "text": [
      "Error not enough values to unpack (expected 2, got 1) with pred_text=Which Galaxy Is Predicted to Collide with the Milky Way in About Four Billion\n",
      "Error not enough values to unpack (expected 2, got 1) with pred_text=Which Galaxy is Predicted to Collide with the Milky Way in About Four Billion\n",
      "Error not enough values to unpack (expected 2, got 1) with pred_text=Which Galaxy is predicted to Collide with the Milky Way in about Four Billion\n",
      "Error not enough values to unpack (expected 2, got 1) with pred_text=Which Galaxy Is Predicted to Collide with the Milky Way In About Four Billion\n",
      "Error not enough values to unpack (expected 2, got 1) with pred_text=Which Galaxy is Predicted to Collide with the Milky Way in about Four Billion\n",
      "Error not enough values to unpack (expected 2, got 1) with pred_text=Which Galaxy is predicted to Collide with the Milky Way in About Four Billion\n",
      "Error not enough values to unpack (expected 2, got 1) with pred_text=Which Galaxy is Predicted to Collide with the Milky Way In About Four Billion\n",
      "Error not enough values to unpack (expected 2, got 1) with pred_text=Which Galaxy Is Predicted to Collide with the Milky Way in about Four Billion\n",
      "Error not enough values to unpack (expected 2, got 1) with pred_text=Which Galaxy Is Predicted to Collide with The Milky Way in About Four Billion\n",
      "Error not enough values to unpack (expected 2, got 1) with pred_text=Which Galaxy is predicted to collide with the Milky Way in about four Billion\n"
     ]
    },
    {
     "name": "stderr",
     "output_type": "stream",
     "text": [
      " 40%|███▉      | 929/2330 [04:11<06:29,  3.60it/s]"
     ]
    },
    {
     "name": "stdout",
     "output_type": "stream",
     "text": [
      "Error not enough values to unpack (expected 2, got 1) with pred_text=Who Among the Fighters for Indian Independence Became the First President of This Country?\n",
      "Error not enough values to unpack (expected 2, got 1) with pred_text=Who Among the Fighters for Indian Independence Became The First President of This Country?\n",
      "Error not enough values to unpack (expected 2, got 1) with pred_text=Who Among the Fighters for Indian Independence Became The First President Of This Country?\n",
      "Error not enough values to unpack (expected 2, got 1) with pred_text=Who Among The Fighters For Indian Independence Became The First President Of This Country?\n",
      "Error not enough values to unpack (expected 2, got 1) with pred_text=Who Among the Fighters for Indian Independence Became the First President Of This Country?\n",
      "Error not enough values to unpack (expected 2, got 1) with pred_text=Who Among The Fighters For Indian Independence Became The First President of This Country?\n",
      "Error not enough values to unpack (expected 2, got 1) with pred_text=Who Among the Fighters For Indian Independence Became The First President of This Country?\n",
      "Error not enough values to unpack (expected 2, got 1) with pred_text=Who Among the Fighters For Indian Independence Became The First President Of This Country?\n",
      "Error not enough values to unpack (expected 2, got 1) with pred_text=Who Among The Fighters for Indian Independence Became The First President Of This Country?\n",
      "Error not enough values to unpack (expected 2, got 1) with pred_text=Who Among The Fighters for Indian Independence Became The First President of This Country?\n"
     ]
    },
    {
     "name": "stderr",
     "output_type": "stream",
     "text": [
      " 40%|████      | 934/2330 [04:12<06:37,  3.51it/s]"
     ]
    },
    {
     "name": "stdout",
     "output_type": "stream",
     "text": [
      "Error not enough values to unpack (expected 2, got 1) with pred_text=Which City Was the Capital of the State of Ashanti, Which Existed On The Territ\n",
      "Error not enough values to unpack (expected 2, got 1) with pred_text=Which City Was the Capital of the State of Ashanti, Which Existed on the Territ\n",
      "Error not enough values to unpack (expected 2, got 1) with pred_text=Which City Was The Capital Of The State of Ashanti, Which Existed On The Territ\n",
      "Error not enough values to unpack (expected 2, got 1) with pred_text=Which City Was The Capital Of The State Of Ashanti, Which Existed On The Territ\n",
      "Error not enough values to unpack (expected 2, got 1) with pred_text=Which City Was the Capital of the State of Ashanti: Which Existed On The Territ\n",
      "Error not enough values to unpack (expected 2, got 1) with pred_text=Which City Was the Capital of the State of Ashanti, Which Existed On the Territ\n",
      "Error not enough values to unpack (expected 2, got 1) with pred_text=Which City Was The Capital of the State of Ashanti, Which Existed On The Territ\n",
      "Error not enough values to unpack (expected 2, got 1) with pred_text=Which City Was the Capital Of The State of Ashanti, Which Existed On The Territ\n"
     ]
    },
    {
     "name": "stderr",
     "output_type": "stream",
     "text": [
      " 40%|████      | 936/2330 [04:13<05:45,  4.03it/s]"
     ]
    },
    {
     "name": "stdout",
     "output_type": "stream",
     "text": [
      "Error not enough values to unpack (expected 2, got 1) with pred_text=In Which Concentration Camp Did the Life of Joseph Stalin's Eldest Son Trag\n",
      "Error not enough values to unpack (expected 2, got 1) with pred_text=In Which Concentration Camp Did The Life Of Joseph Stalin's Eldest Son Trag\n",
      "Error not enough values to unpack (expected 2, got 1) with pred_text=In Which Concentration Camp Did The Life of Joseph Stalin's Eldest Son Trag\n",
      "Error not enough values to unpack (expected 2, got 1) with pred_text=In Which Concentration Camp Did the Life Of Joseph Stalin's Eldest Son Trag\n",
      "Error not enough values to unpack (expected 2, got 1) with pred_text=Joseph Stalin in Which Concentration Camp Did the Life of Joseph Stalin's Eldest\n",
      "Error not enough values to unpack (expected 2, got 1) with pred_text=Joseph Stalin in Which Concentration Camp Did the Life Of Joseph Stalin's Eldest\n",
      "Error not enough values to unpack (expected 2, got 1) with pred_text=In Which Concentration Camp Did the Life of Joseph Stalin’s Eldest Son Trag\n",
      "Error not enough values to unpack (expected 2, got 1) with pred_text=In Which Concentration Camp Did The Life Of Joseph Stalin’s Eldest Son Trag\n"
     ]
    },
    {
     "name": "stderr",
     "output_type": "stream",
     "text": [
      " 40%|████      | 940/2330 [04:14<05:35,  4.14it/s]"
     ]
    },
    {
     "name": "stdout",
     "output_type": "stream",
     "text": [
      "Error not enough values to unpack (expected 2, got 1) with pred_text=What Was the Name of the Literary Mother of the Amateur Detective Poirot? >>\n",
      "Error not enough values to unpack (expected 2, got 1) with pred_text=What Was the Name of The Literary Mother of the Amateur Detective Poirot? >>\n",
      "Error not enough values to unpack (expected 2, got 1) with pred_text=What Was The Name of the Literary Mother of the Amateur Detective Poirot? >>\n",
      "Error not enough values to unpack (expected 2, got 1) with pred_text=What Was The Name of The Literary Mother of the Amateur Detective Poirot? >>\n",
      "Error not enough values to unpack (expected 2, got 1) with pred_text=What Was The Name of The Literary Mother Of The Amateur Detective Poirot? >>\n",
      "Error not enough values to unpack (expected 2, got 1) with pred_text=What Was The Name Of The Literary Mother Of The Amateur Detective Poirot? >>\n",
      "Error not enough values to unpack (expected 2, got 1) with pred_text=What Was the Name of the Literary Mother of The Amateur Detective Poirot? >>\n",
      "Error not enough values to unpack (expected 2, got 1) with pred_text=What Was the Name of The Literary Mother Of The Amateur Detective Poirot? >>\n",
      "Error not enough values to unpack (expected 2, got 1) with pred_text=What Was the Name of the Literary Mother of the Amateur Detective Poirot? (\n"
     ]
    },
    {
     "name": "stderr",
     "output_type": "stream",
     "text": [
      " 41%|████      | 948/2330 [04:16<06:02,  3.81it/s]"
     ]
    },
    {
     "name": "stdout",
     "output_type": "stream",
     "text": [
      "Error not enough values to unpack (expected 2, got 1) with pred_text=הנרי השמיני, דוכס סקסוניה-קובורג-גותה\n",
      "Error not enough values to unpack (expected 2, got 1) with pred_text=הנרי השמיני, דוכס סקסוניה-מיינינגן\n"
     ]
    },
    {
     "name": "stderr",
     "output_type": "stream",
     "text": [
      " 41%|████      | 961/2330 [04:19<06:41,  3.41it/s]"
     ]
    },
    {
     "name": "stdout",
     "output_type": "stream",
     "text": [
      "Error not enough values to unpack (expected 2, got 1) with pred_text=The Scientific Hierarchy of Archaeology, Anthropology, and Ethnology\n",
      "Error not enough values to unpack (expected 2, got 1) with pred_text=The Scientific Hierarchy of Archaeology, Anthology, and Ethnology >>\n",
      "Error not enough values to unpack (expected 2, got 1) with pred_text=The Scientific Hierarchy of Archaeology, Anthropology, and Ethnologie >>\n"
     ]
    },
    {
     "name": "stderr",
     "output_type": "stream",
     "text": [
      " 42%|████▏     | 972/2330 [04:22<06:56,  3.26it/s]"
     ]
    },
    {
     "name": "stdout",
     "output_type": "stream",
     "text": [
      "Error not enough values to unpack (expected 2, got 1) with pred_text=What Scientific Discipline Studies the Flight Path of a Bullet Fired from a Rifle\n",
      "Error not enough values to unpack (expected 2, got 1) with pred_text=The Flight Path of a Bullet Fired from a Rifle or Pistol? >>\n",
      "Error not enough values to unpack (expected 2, got 1) with pred_text=What Scientific Discipline Studies The Flight Path of a Bullet Fired from a Rifle\n",
      "Error not enough values to unpack (expected 2, got 1) with pred_text=What Scientific Discipline Studies The Flight Path Of A Bullet Fired From A Rifle\n",
      "Error not enough values to unpack (expected 2, got 1) with pred_text=What Scientific Discipline Studies The Flight Path Of A Bullet Fired from a Rifle\n",
      "Error not enough values to unpack (expected 2, got 1) with pred_text=What Scientific Discipline Studies the Flight Path of a Bullet Fired From a Rifle\n",
      "Error not enough values to unpack (expected 2, got 1) with pred_text=The Flight Path of a Bullet Fired from a Rifle or Pistol? (\n"
     ]
    },
    {
     "name": "stderr",
     "output_type": "stream",
     "text": [
      " 42%|████▏     | 978/2330 [04:24<06:32,  3.44it/s]"
     ]
    },
    {
     "name": "stdout",
     "output_type": "stream",
     "text": [
      "Error not enough values to unpack (expected 2, got 1) with pred_text=Which River, Figuratively Speaking, Is Crossed After Making an Irrevocable\n",
      "Error not enough values to unpack (expected 2, got 1) with pred_text=Which River, Figuratively Speaking, Is Crossed After Making An Irrevocable\n",
      "Error not enough values to unpack (expected 2, got 1) with pred_text=Which River, Figuratively Speaking, is Crossed After Making an Irrevocable\n",
      "Error not enough values to unpack (expected 2, got 1) with pred_text=Which River, Figuratively Speaking, Is Crossed after Making an Irrevocable\n",
      "Error not enough values to unpack (expected 2, got 1) with pred_text=Which River, Figuratively Speaking, Is Crossed After Making a Irrevocable\n",
      "Error not enough values to unpack (expected 2, got 1) with pred_text=Which River, Figuratively Speaking, Is Crossed, After Making an Irrevoc\n",
      "Error not enough values to unpack (expected 2, got 1) with pred_text=Which River, Figuratively Speaking... Is Crossed After Making an Irrevocable\n",
      "Error not enough values to unpack (expected 2, got 1) with pred_text=Which River... Figuratively Speaking, Is Crossed After Making an Irrevocable\n",
      "Error not enough values to unpack (expected 2, got 1) with pred_text=Which River, Figuratively Speaking, Is Crossed After Making an Irrevocable\n"
     ]
    },
    {
     "name": "stderr",
     "output_type": "stream",
     "text": [
      " 42%|████▏     | 980/2330 [04:24<06:43,  3.34it/s]"
     ]
    },
    {
     "name": "stdout",
     "output_type": "stream",
     "text": [
      "Error too many values to unpack (expected 2) with pred_text=Siberia (continent) >> en Richardson >> en\n",
      "Error too many values to unpack (expected 2) with pred_text=Siberia (continent) >> en) >> en\n"
     ]
    },
    {
     "name": "stderr",
     "output_type": "stream",
     "text": [
      " 43%|████▎     | 1013/2330 [04:33<05:39,  3.88it/s]"
     ]
    },
    {
     "name": "stdout",
     "output_type": "stream",
     "text": [
      "Error not enough values to unpack (expected 2, got 1) with pred_text=Which Plant Lives Up to 1000 Years, And In Favorable Conditions Up To 4000 Years\n",
      "Error not enough values to unpack (expected 2, got 1) with pred_text=Which Plant Lives Up to 1000 Years, and In Favorable Conditions Up to 4000 Years\n",
      "Error not enough values to unpack (expected 2, got 1) with pred_text=Which Plant Lives Up To 1000 Years, And In Favorable Conditions Up To 4000 Years\n",
      "Error not enough values to unpack (expected 2, got 1) with pred_text=Which Plant Lives Up to 1000 Years, And In Favorable Conditions Up to 4000 Years\n",
      "Error not enough values to unpack (expected 2, got 1) with pred_text=Which Plant Lives Up to 1000 Years, and in Favorable Conditions Up to 4000 Years\n",
      "Error not enough values to unpack (expected 2, got 1) with pred_text=Which Plant Lives Up to 1000 Years, and In Favorable Conditions Up To 4000 Years\n",
      "Error not enough values to unpack (expected 2, got 1) with pred_text=Which Plant Lives Up To 1000 Years, and In Favorable Conditions Up To 4000 Years\n",
      "Error not enough values to unpack (expected 2, got 1) with pred_text=Which Plant Lives Up to 1000 Years and in Favorable Conditions Up to 4000 Years?\n",
      "Error not enough values to unpack (expected 2, got 1) with pred_text=Which Plant Lives Up To 1000 Years, And In Favorable Conditions Up to 4000 Years\n",
      "Error not enough values to unpack (expected 2, got 1) with pred_text=Which Plant Lives Up to 1000 Years and In Favorable Conditions Up to 4000 Years?\n"
     ]
    },
    {
     "name": "stderr",
     "output_type": "stream",
     "text": [
      " 44%|████▍     | 1027/2330 [04:38<06:31,  3.33it/s]"
     ]
    },
    {
     "name": "stdout",
     "output_type": "stream",
     "text": [
      "Error not enough values to unpack (expected 2, got 1) with pred_text=What Cartoon Character Belongs to The Phrase (what For To Undress,\n",
      "Error not enough values to unpack (expected 2, got 1) with pred_text=What Cartoon Character Belongs to The Phrase:what For To Undress,\n",
      "Error not enough values to unpack (expected 2, got 1) with pred_text=What Cartoon Character Belongs to the Phrase (what For To Undress,\n",
      "Error not enough values to unpack (expected 2, got 1) with pred_text=What Cartoon Character Belongs to The Phrase (what for to Undress,\n",
      "Error not enough values to unpack (expected 2, got 1) with pred_text=What Cartoon Character Belongs to The Phrase (what For to Undress,\n"
     ]
    },
    {
     "name": "stderr",
     "output_type": "stream",
     "text": [
      " 45%|████▍     | 1038/2330 [04:41<06:12,  3.47it/s]"
     ]
    },
    {
     "name": "stdout",
     "output_type": "stream",
     "text": [
      "Error not enough values to unpack (expected 2, got 1) with pred_text=A Decisive Contribution to the Process of Extracting Turnips from the\n"
     ]
    },
    {
     "name": "stderr",
     "output_type": "stream",
     "text": [
      " 45%|████▍     | 1040/2330 [04:41<06:35,  3.26it/s]"
     ]
    },
    {
     "name": "stdout",
     "output_type": "stream",
     "text": [
      "Error not enough values to unpack (expected 2, got 1) with pred_text=You Two Hundred Tangas for What You Understand About Diseases, and I Two\n",
      "Error not enough values to unpack (expected 2, got 1) with pred_text=You Two Hundred Tangas for What You Understand About Diseases, And I Two\n",
      "Error not enough values to unpack (expected 2, got 1) with pred_text=You Two Hundred Tangas For What You Understand About Diseases, And I Two\n",
      "Error not enough values to unpack (expected 2, got 1) with pred_text=You Two Hundred Tangas For What You Understand About Diseases, and I Two\n",
      "Error not enough values to unpack (expected 2, got 1) with pred_text=Who Divided the Award As Follows for What You Understand About Diseases,\n",
      "Error not enough values to unpack (expected 2, got 1) with pred_text=Who Divided the Award as Follows for What You Understand About Diseases,\n"
     ]
    },
    {
     "name": "stderr",
     "output_type": "stream",
     "text": [
      " 45%|████▍     | 1045/2330 [04:43<06:19,  3.39it/s]"
     ]
    },
    {
     "name": "stdout",
     "output_type": "stream",
     "text": [
      "Error not enough values to unpack (expected 2, got 1) with pred_text=Who Went to the Goose, as a Bullfighter to the Bull? >>\n",
      "Error not enough values to unpack (expected 2, got 1) with pred_text=Who Went To The Goose, As A Bullfighter To The Bull? >>\n",
      "Error not enough values to unpack (expected 2, got 1) with pred_text=Who Went to the Goose, As a Bullfighter to the Bull? >>\n",
      "Error not enough values to unpack (expected 2, got 1) with pred_text=Who Went To The Goose, as a Bullfighter to the Bull? >>\n",
      "Error not enough values to unpack (expected 2, got 1) with pred_text=Who Went To The Goose, As A Bullfighter to The Bull? >>\n",
      "Error not enough values to unpack (expected 2, got 1) with pred_text=Who Went to the Goose, as A Bullfighter to the Bull? >>\n",
      "Error not enough values to unpack (expected 2, got 1) with pred_text=Who Went To the Goose, as a Bullfighter to the Bull? >>\n",
      "Error not enough values to unpack (expected 2, got 1) with pred_text=Who Went to the Goose... as a Bullfighter to the Bull? >>\n"
     ]
    },
    {
     "name": "stderr",
     "output_type": "stream",
     "text": [
      " 45%|████▍     | 1047/2330 [04:43<06:10,  3.46it/s]"
     ]
    },
    {
     "name": "stdout",
     "output_type": "stream",
     "text": [
      "Error not enough values to unpack (expected 2, got 1) with pred_text=Who, Having Woken Up the Soldiers at Night, Saved Rome? >>\n",
      "Error not enough values to unpack (expected 2, got 1) with pred_text=Who, Having Woken Up The Soldiers At Night, Saved Rome? >>\n",
      "Error not enough values to unpack (expected 2, got 1) with pred_text=Who, Having Woken Up the Soldiers At Night, Saved Rome? >>\n",
      "Error not enough values to unpack (expected 2, got 1) with pred_text=Who, Having Woken Up The Soldiers at Night, Saved Rome? >>\n"
     ]
    },
    {
     "name": "stderr",
     "output_type": "stream",
     "text": [
      " 45%|████▌     | 1052/2330 [04:45<06:09,  3.45it/s]"
     ]
    },
    {
     "name": "stdout",
     "output_type": "stream",
     "text": [
      "Error not enough values to unpack (expected 2, got 1) with pred_text=What Kind of Transport In The Era Of Stagnation Ticket Cost 4 Kopecks?\n",
      "Error not enough values to unpack (expected 2, got 1) with pred_text=What Kind Of Transport In The Era Of Stagnation Ticket Cost 4 Kopecks?\n",
      "Error not enough values to unpack (expected 2, got 1) with pred_text=What Kind of Transport in the Era of Stagnation Ticket Cost 4 Kopecks?\n",
      "Error not enough values to unpack (expected 2, got 1) with pred_text=What Kind of Transport In The Era of Stagnation Ticket Cost 4 Kopecks?\n",
      "Error not enough values to unpack (expected 2, got 1) with pred_text=What Kind Of Transport In The Era of Stagnation Ticket Cost 4 Kopecks?\n",
      "Error not enough values to unpack (expected 2, got 1) with pred_text=What Kind Of Transport in the Era of Stagnation Ticket Cost 4 Kopecks?\n",
      "Error not enough values to unpack (expected 2, got 1) with pred_text=What Kind of Transport in The Era Of Stagnation Ticket Cost 4 Kopecks?\n",
      "Error not enough values to unpack (expected 2, got 1) with pred_text=What Kind Of Transport in the Era Of Stagnation Ticket Cost 4 Kopecks?\n",
      "Error not enough values to unpack (expected 2, got 1) with pred_text=What Kind of Transport In the Era of Stagnation Ticket Cost 4 Kopecks?\n",
      "Error not enough values to unpack (expected 2, got 1) with pred_text=What Kind of Transport In The Era Of Stagnation Ticket Cost 4 Kopecks >>\n"
     ]
    },
    {
     "name": "stderr",
     "output_type": "stream",
     "text": [
      " 45%|████▌     | 1058/2330 [04:46<05:24,  3.92it/s]"
     ]
    },
    {
     "name": "stdout",
     "output_type": "stream",
     "text": [
      "Error not enough values to unpack (expected 2, got 1) with pred_text=What Is Thrown Into the Trevi Fountain in Rome with the Right Hand Over the\n",
      "Error not enough values to unpack (expected 2, got 1) with pred_text=What Is Thrown into the Trevi Fountain in Rome with the Right Hand Over the\n",
      "Error not enough values to unpack (expected 2, got 1) with pred_text=What Is Thrown into the Trevi Fountain in Rome with the Right Hand over the\n",
      "Error not enough values to unpack (expected 2, got 1) with pred_text=What Is Thrown Into the Trevi Fountain in Rome with the Right Hand over the\n",
      "Error not enough values to unpack (expected 2, got 1) with pred_text=What Is Thrown Into The Trevi Fountain in Rome with the Right Hand Over the\n",
      "Error not enough values to unpack (expected 2, got 1) with pred_text=What Is Thrown Into the Trevi Fountain In Rome with the Right Hand Over the\n",
      "Error not enough values to unpack (expected 2, got 1) with pred_text=What Is Thrown Into The Trevi Fountain In Rome With The Right Hand Over The\n",
      "Error not enough values to unpack (expected 2, got 1) with pred_text=What Is Thrown Into the Trevi Fountain in Rome With the Right Hand Over the\n",
      "Error not enough values to unpack (expected 2, got 1) with pred_text=What Is Thrown Into The Trevi Fountain In Rome with the Right Hand Over the\n",
      "Error not enough values to unpack (expected 2, got 1) with pred_text=What is Thrown into the Trevi Fountain in Rome with the Right Hand over the\n"
     ]
    },
    {
     "name": "stderr",
     "output_type": "stream",
     "text": [
      " 46%|████▌     | 1062/2330 [04:47<05:38,  3.74it/s]"
     ]
    },
    {
     "name": "stdout",
     "output_type": "stream",
     "text": [
      "Error not enough values to unpack (expected 2, got 1) with pred_text=What Happened Immediately After the Dog Became a Friend of a Person?\n",
      "Error not enough values to unpack (expected 2, got 1) with pred_text=What Happened Immediately After the Dog Became a Friend Of A Person?\n",
      "Error not enough values to unpack (expected 2, got 1) with pred_text=What Happened Immediately After The Dog Became a Friend of a Person?\n",
      "Error not enough values to unpack (expected 2, got 1) with pred_text=What Happened Immediately After The Dog Became a Friend Of A Person?\n",
      "Error not enough values to unpack (expected 2, got 1) with pred_text=What Happened Immediately After The Dog Became A Friend Of A Person?\n",
      "Error not enough values to unpack (expected 2, got 1) with pred_text=What Happened Immediately After the Dog Became a Friend of A Person?\n",
      "Error not enough values to unpack (expected 2, got 1) with pred_text=What Happened Immediately After the Dog Became a Friend of a Person >>\n",
      "Error not enough values to unpack (expected 2, got 1) with pred_text=What Happened Immediately after the Dog Became a Friend of a Person?\n",
      "Error not enough values to unpack (expected 2, got 1) with pred_text=What Happened Immediately After the Dog Became a Friend of the Person?\n",
      "Error not enough values to unpack (expected 2, got 1) with pred_text=What Happened Immediately, After the Dog Became a Friend of a Person\n"
     ]
    },
    {
     "name": "stderr",
     "output_type": "stream",
     "text": [
      " 46%|████▌     | 1066/2330 [04:48<06:10,  3.41it/s]"
     ]
    },
    {
     "name": "stdout",
     "output_type": "stream",
     "text": [
      "Error not enough values to unpack (expected 2, got 1) with pred_text=What Kind of Plant Clusters of Fragrant All Night Long Can Drive You Crazy\n",
      "Error not enough values to unpack (expected 2, got 1) with pred_text=What Kind Of Plant Clusters Of Fragrant All Night Long Can Drive You Crazy\n",
      "Error not enough values to unpack (expected 2, got 1) with pred_text=What Kind of Plant Clusters Of Fragrant All Night Long Can Drive You Crazy\n",
      "Error not enough values to unpack (expected 2, got 1) with pred_text=What Kind Of Plant Clusters of Fragrant All Night Long Can Drive You Crazy\n",
      "Error not enough values to unpack (expected 2, got 1) with pred_text=What Kind of Plant Clusters (of Fragrant All Night Long Can Drive You\n",
      "Error not enough values to unpack (expected 2, got 1) with pred_text=What Kind of Plant Clusters of Fragrant, All Night Long Can Drive You\n",
      "Error not enough values to unpack (expected 2, got 1) with pred_text=What Kind of Plant Clusters of Fragrant Long Can Drive You Crazy (s\n",
      "Error not enough values to unpack (expected 2, got 1) with pred_text=What Kind of Plant Clusters of Fragrant All Night long Can Drive You Crazy\n",
      "Error not enough values to unpack (expected 2, got 1) with pred_text=What Kind of Plant Clusters of Fragrant All-Night Long Can Drive\n"
     ]
    },
    {
     "name": "stderr",
     "output_type": "stream",
     "text": [
      " 46%|████▌     | 1067/2330 [04:49<06:43,  3.13it/s]"
     ]
    },
    {
     "name": "stdout",
     "output_type": "stream",
     "text": [
      "Error not enough values to unpack (expected 2, got 1) with pred_text=List of English-language idioms of the 19th century (Faithful Wife\n"
     ]
    },
    {
     "name": "stderr",
     "output_type": "stream",
     "text": [
      " 46%|████▌     | 1072/2330 [04:50<05:55,  3.54it/s]"
     ]
    },
    {
     "name": "stdout",
     "output_type": "stream",
     "text": [
      "Error not enough values to unpack (expected 2, got 1) with pred_text=Which Alloy Contains from Two to Five Percent Carbon and from Ninety-five\n",
      "Error not enough values to unpack (expected 2, got 1) with pred_text=Which Alloy Contains From Two To Five Percent Carbon And From Ninety-five\n",
      "Error not enough values to unpack (expected 2, got 1) with pred_text=Which Alloy Contains from Two To Five Percent Carbon and from Ninety-five\n",
      "Error not enough values to unpack (expected 2, got 1) with pred_text=Which Alloy Contains From Two To Five Percent Carbon and From Ninety-five\n",
      "Error not enough values to unpack (expected 2, got 1) with pred_text=Which Alloy Contains From Two to Five Percent Carbon and from Ninety-five\n",
      "Error not enough values to unpack (expected 2, got 1) with pred_text=Which Alloy Contains From Two To Five Percent Carbon and from Ninety-five\n",
      "Error not enough values to unpack (expected 2, got 1) with pred_text=Which Alloy Contains from Two To Five Percent Carbon And From Ninety-five\n",
      "Error not enough values to unpack (expected 2, got 1) with pred_text=Which Alloy Contains from Two to Five Percent Carbon and From Ninety-five\n",
      "Error not enough values to unpack (expected 2, got 1) with pred_text=Which Alloy Contains From Two To Five Percent Carbon And from Ninety-five\n",
      "Error not enough values to unpack (expected 2, got 1) with pred_text=Which Alloy Contains from Two To Five Percent Carbon and From Ninety-five\n"
     ]
    },
    {
     "name": "stderr",
     "output_type": "stream",
     "text": [
      " 46%|████▌     | 1073/2330 [04:51<06:01,  3.47it/s]"
     ]
    },
    {
     "name": "stdout",
     "output_type": "stream",
     "text": [
      "Error not enough values to unpack (expected 2, got 1) with pred_text=Which Hydrofoil Ship Was Built In 1957 At The Krasnoe Sormovo\n",
      "Error not enough values to unpack (expected 2, got 1) with pred_text=Which Hydrofoil Ship Was Built In 1957 at the Krasnoe Sormovo\n",
      "Error not enough values to unpack (expected 2, got 1) with pred_text=Which Hydrofoil Ship Was Built in 1957 at the Krasnoe Sormovo\n",
      "Error not enough values to unpack (expected 2, got 1) with pred_text=Which Hydrofoil Ship Was Built in 1957 At The Krasnoe Sormovo\n",
      "Error not enough values to unpack (expected 2, got 1) with pred_text=Which Hydrofoil Ship Was Built In 1957 At the Krasnoe Sormovo\n",
      "Error not enough values to unpack (expected 2, got 1) with pred_text=Which Hydrofoil Ship Was Built In 1957 at The Krasnoe Sormovo\n",
      "Error not enough values to unpack (expected 2, got 1) with pred_text=Which Hydrofoil Ship Was Built in 1957 At the Krasnoe Sormovo\n",
      "Error not enough values to unpack (expected 2, got 1) with pred_text=Which Hydrofoil Ship Was Built At The Krasnoe Sormovo Plant?\n",
      "Error not enough values to unpack (expected 2, got 1) with pred_text=Which Hydrofoil Ship Was Built in 1957 at The Krasnoe Sormovo\n",
      "Error not enough values to unpack (expected 2, got 1) with pred_text=Which Hydrofoil Ship Was Built in 1957 at the Krasnoye Sormovo\n"
     ]
    },
    {
     "name": "stderr",
     "output_type": "stream",
     "text": [
      " 46%|████▌     | 1074/2330 [04:51<06:06,  3.43it/s]"
     ]
    },
    {
     "name": "stdout",
     "output_type": "stream",
     "text": [
      "Error not enough values to unpack (expected 2, got 1) with pred_text=What a World Champion Among Professionals and Now Trains in the Prison Gym. This\n",
      "Error not enough values to unpack (expected 2, got 1) with pred_text=What a World Champion Among Professionals And Now Trains In The Prison Gym. This\n",
      "Error not enough values to unpack (expected 2, got 1) with pred_text=What A World Champion Among Professionals And Now Trains In The Prison Gym. This\n",
      "Error not enough values to unpack (expected 2, got 1) with pred_text=What a World Champion Among Professionals and Now Trains In The Prison Gym. This\n",
      "Error not enough values to unpack (expected 2, got 1) with pred_text=What a World Champion Among Professionals And Now Trains in the Prison Gym. This\n",
      "Error not enough values to unpack (expected 2, got 1) with pred_text=What A World Champion Among Professionals and Now Trains In The Prison Gym. This\n",
      "Error not enough values to unpack (expected 2, got 1) with pred_text=What A World Champion Among Professionals and Now Trains in the Prison Gym. This\n",
      "Error not enough values to unpack (expected 2, got 1) with pred_text=What a World Champion Among Professionals and Now Trains In the Prison Gym. This\n",
      "Error not enough values to unpack (expected 2, got 1) with pred_text=What a World Champion Among Professionals and Now Trains in The Prison Gym. This\n",
      "Error not enough values to unpack (expected 2, got 1) with pred_text=What A World Champion Among Professionals And Now Trains in the Prison Gym. This\n"
     ]
    },
    {
     "name": "stderr",
     "output_type": "stream",
     "text": [
      " 46%|████▋     | 1081/2330 [04:53<05:43,  3.64it/s]"
     ]
    },
    {
     "name": "stdout",
     "output_type": "stream",
     "text": [
      "Error not enough values to unpack (expected 2, got 1) with pred_text=What Role Did King Louis XIV Of France Play In The Royal Ballet Of The Night?\n",
      "Error not enough values to unpack (expected 2, got 1) with pred_text=What Role Did King Louis XIV of France Play In The Royal Ballet Of The Night?\n",
      "Error not enough values to unpack (expected 2, got 1) with pred_text=What Role Did King Louis XIV of France Play In The Royal Ballet of The Night?\n",
      "Error not enough values to unpack (expected 2, got 1) with pred_text=What Role Did King Louis XIV Of France Play In The Royal Ballet of The Night?\n",
      "Error not enough values to unpack (expected 2, got 1) with pred_text=What Role Did King Louis XIV of France Play in the Royal Ballet of the Night?\n",
      "Error not enough values to unpack (expected 2, got 1) with pred_text=What Role Did King Louis XIV Of France Play in The Royal Ballet Of The Night?\n",
      "Error not enough values to unpack (expected 2, got 1) with pred_text=What Role Did King Louis XIV Of France Play in the Royal Ballet Of The Night?\n",
      "Error not enough values to unpack (expected 2, got 1) with pred_text=What Role Did King Louis XIV of France Play In The Royal Ballet of the Night?\n",
      "Error not enough values to unpack (expected 2, got 1) with pred_text=What Role Did King Louis XIV of France Play in the Royal Ballet Of The Night?\n",
      "Error not enough values to unpack (expected 2, got 1) with pred_text=What Role Did King Louis XIV of France Play in The Royal Ballet Of The Night?\n"
     ]
    },
    {
     "name": "stderr",
     "output_type": "stream",
     "text": [
      " 46%|████▋     | 1083/2330 [04:53<06:01,  3.45it/s]"
     ]
    },
    {
     "name": "stdout",
     "output_type": "stream",
     "text": [
      "Error not enough values to unpack (expected 2, got 1) with pred_text=Who Drew the Cover for the First Edition of Chichikov's Adventures? >>\n",
      "Error not enough values to unpack (expected 2, got 1) with pred_text=Who Drew The Cover For The First Edition Of Chichikov's Adventures? >>\n",
      "Error not enough values to unpack (expected 2, got 1) with pred_text=Who Drew the Cover for The First Edition of Chichikov's Adventures? >>\n",
      "Error not enough values to unpack (expected 2, got 1) with pred_text=Who Drew the Cover for the First Edition Of Chichikov's Adventures? >>\n",
      "Error not enough values to unpack (expected 2, got 1) with pred_text=Who Drew the Cover for The First Edition Of Chichikov's Adventures? >>\n",
      "Error not enough values to unpack (expected 2, got 1) with pred_text=Who Drew The Cover for The First Edition Of Chichikov's Adventures? >>\n",
      "Error not enough values to unpack (expected 2, got 1) with pred_text=Who Drew the Cover For The First Edition of Chichikov's Adventures? >>\n",
      "Error not enough values to unpack (expected 2, got 1) with pred_text=Who Drew the Cover For The First Edition Of Chichikov's Adventures? >>\n"
     ]
    },
    {
     "name": "stderr",
     "output_type": "stream",
     "text": [
      " 47%|████▋     | 1086/2330 [04:54<06:02,  3.44it/s]"
     ]
    },
    {
     "name": "stdout",
     "output_type": "stream",
     "text": [
      "Error not enough values to unpack (expected 2, got 1) with pred_text=An Actress Who Was Repeatedly Threatened By Anatoly Papan\n",
      "Error not enough values to unpack (expected 2, got 1) with pred_text=An Actress Who Was Repeatedly Threatened by Anatoly Papan\n",
      "Error not enough values to unpack (expected 2, got 1) with pred_text=An Actress Who Was Repeatedly Threatened by Anatoli Papan\n",
      "Error not enough values to unpack (expected 2, got 1) with pred_text=An Actor Who Was Repeatedly Threatened by Anatoly Papanov\n",
      "Error not enough values to unpack (expected 2, got 1) with pred_text=An Actress Who was Repeatedly Threatened By Anatoly Papan\n",
      "Error not enough values to unpack (expected 2, got 1) with pred_text=An Actress Who Was Repeatedly Threatened By Анатоoly Papan\n",
      "Error not enough values to unpack (expected 2, got 1) with pred_text=An Actress Who was Repeatedly Threatened by Anatoly Papan\n",
      "Error not enough values to unpack (expected 2, got 1) with pred_text=Who Was Repeatedly Threatened by Anatoly Papanov? >>\n",
      "Error not enough values to unpack (expected 2, got 1) with pred_text=An Actress Who Was Repeatedly Threatened By Anatoli Papan\n"
     ]
    },
    {
     "name": "stderr",
     "output_type": "stream",
     "text": [
      " 47%|████▋     | 1088/2330 [04:55<06:17,  3.29it/s]"
     ]
    },
    {
     "name": "stdout",
     "output_type": "stream",
     "text": [
      "Error not enough values to unpack (expected 2, got 1) with pred_text=In Which of Grigory Alexandrov's Film Comedies Did Orlov's\n",
      "Error not enough values to unpack (expected 2, got 1) with pred_text=In Which Of Grigory Alexandrov's Film Comedies Did Orlov's\n",
      "Error not enough values to unpack (expected 2, got 1) with pred_text=In Which of the Grigory Alexandrov's Film Comedies Did Orlov'\n",
      "Error not enough values to unpack (expected 2, got 1) with pred_text=In Which of Grigory Aleksandrov's Film Comedies Did Orlov's\n",
      "Error not enough values to unpack (expected 2, got 1) with pred_text=In Which of Grigory Alexandrov's Film Comedies Did Orlov’s\n",
      "Error not enough values to unpack (expected 2, got 1) with pred_text=In Which of Grigory Alexandrov's Film Comedies: Did Orlov'\n",
      "Error not enough values to unpack (expected 2, got 1) with pred_text=In Which of the Film Comedies Did Orlov's Magnificent Love Su\n",
      "Error not enough values to unpack (expected 2, got 1) with pred_text=In Which of Grigory Alexandrov's Film comedies Did Orlov's\n"
     ]
    },
    {
     "name": "stderr",
     "output_type": "stream",
     "text": [
      " 47%|████▋     | 1095/2330 [04:56<04:46,  4.32it/s]"
     ]
    },
    {
     "name": "stdout",
     "output_type": "stream",
     "text": [
      "Error too many values to unpack (expected 2) with pred_text=Mint (facility) >> en) >> en\n"
     ]
    },
    {
     "name": "stderr",
     "output_type": "stream",
     "text": [
      " 47%|████▋     | 1098/2330 [04:58<06:16,  3.27it/s]"
     ]
    },
    {
     "name": "stdout",
     "output_type": "stream",
     "text": [
      "Error not enough values to unpack (expected 2, got 1) with pred_text=Where Can I See The Fold On The Fold, The Sun, The Cross?\n",
      "Error not enough values to unpack (expected 2, got 1) with pred_text=Where Can I See the Fold on the Fold, the Sun, the Cross?\n",
      "Error not enough values to unpack (expected 2, got 1) with pred_text=Where Can I See the Fold on the Fold, the Sun, and the Cross\n"
     ]
    },
    {
     "name": "stderr",
     "output_type": "stream",
     "text": [
      " 48%|████▊     | 1107/2330 [05:00<05:41,  3.58it/s]"
     ]
    },
    {
     "name": "stdout",
     "output_type": "stream",
     "text": [
      "Error not enough values to unpack (expected 2, got 1) with pred_text=How Many Lagrange Points Exist in a System of Two Massive Cosmic Bodies?\n",
      "Error not enough values to unpack (expected 2, got 1) with pred_text=How Many Lagrange Points Exist In A System Of Two Massive Cosmic Bodies?\n",
      "Error not enough values to unpack (expected 2, got 1) with pred_text=How Many Lagrange Points Exist In A System of Two Massive Cosmic Bodies?\n",
      "Error not enough values to unpack (expected 2, got 1) with pred_text=How Many Lagrange Points Exist In a System of Two Massive Cosmic Bodies?\n",
      "Error not enough values to unpack (expected 2, got 1) with pred_text=How Many Lagrange Points Exist in a System Of Two Massive Cosmic Bodies?\n",
      "Error not enough values to unpack (expected 2, got 1) with pred_text=How Many Lagrange Points Exist in the System of Two Massive Cosmic Bodies?\n",
      "Error not enough values to unpack (expected 2, got 1) with pred_text=How Many Lagrange Points Exist in a System of Two Massive Cosmic Bodies >>\n",
      "Error not enough values to unpack (expected 2, got 1) with pred_text=How Many Lagrange Points Exist In a System Of Two Massive Cosmic Bodies?\n",
      "Error not enough values to unpack (expected 2, got 1) with pred_text=How Many Lagrange Points exist in a System of Two Massive Cosmic Bodies?\n",
      "Error not enough values to unpack (expected 2, got 1) with pred_text=How Many Lagrange Points Exist in A System of Two Massive Cosmic Bodies?\n"
     ]
    },
    {
     "name": "stderr",
     "output_type": "stream",
     "text": [
      " 48%|████▊     | 1113/2330 [05:02<06:02,  3.35it/s]"
     ]
    },
    {
     "name": "stdout",
     "output_type": "stream",
     "text": [
      "Error not enough values to unpack (expected 2, got 1) with pred_text=What Circus Was Founded By A.V. Salamonsky In 1880? >>\n",
      "Error not enough values to unpack (expected 2, got 1) with pred_text=What Circus Was Founded By A. V. Salamonsky In 1880? >>\n",
      "Error not enough values to unpack (expected 2, got 1) with pred_text=What Circus Was Founded By A.V. Salamonsky in 1880? >>\n",
      "Error not enough values to unpack (expected 2, got 1) with pred_text=What Circus Was Founded by A. V. Salamonsky in 1880? >>\n",
      "Error not enough values to unpack (expected 2, got 1) with pred_text=What Circus Was Founded by A.V. Salamonsky in 1880? >>\n",
      "Error not enough values to unpack (expected 2, got 1) with pred_text=What Circus Was Founded by A.V. Salamonsky In 1880? >>\n",
      "Error not enough values to unpack (expected 2, got 1) with pred_text=What Circus Was Founded by A. V. Salamonsky In 1880? >>\n",
      "Error not enough values to unpack (expected 2, got 1) with pred_text=What Circus Was Founded By A. V. Salamonsky in 1880? >>\n"
     ]
    },
    {
     "name": "stderr",
     "output_type": "stream",
     "text": [
      " 48%|████▊     | 1114/2330 [05:02<06:18,  3.21it/s]"
     ]
    },
    {
     "name": "stdout",
     "output_type": "stream",
     "text": [
      "Error not enough values to unpack (expected 2, got 1) with pred_text=What Day of the Week Will Be December 1 if November 1 Fell on a Monday? >>\n",
      "Error not enough values to unpack (expected 2, got 1) with pred_text=What Day of the Week Will Be December 1 If November 1 Fell on a Monday? >>\n",
      "Error not enough values to unpack (expected 2, got 1) with pred_text=What Day of the Week Will Be December 1 If November 1 Fell On A Monday? >>\n",
      "Error not enough values to unpack (expected 2, got 1) with pred_text=What Day of the Week Will Be December 1, If November 1 Fell on a Monday? >>\n",
      "Error not enough values to unpack (expected 2, got 1) with pred_text=What Day of the Week Will Be December 1 if November 1 Fell On A Monday? >>\n",
      "Error not enough values to unpack (expected 2, got 1) with pred_text=What Day of the Week Will Be December 1 If November 1 Fell on A Monday? >>\n"
     ]
    },
    {
     "name": "stderr",
     "output_type": "stream",
     "text": [
      " 48%|████▊     | 1123/2330 [05:04<04:48,  4.19it/s]"
     ]
    },
    {
     "name": "stdout",
     "output_type": "stream",
     "text": [
      "Error not enough values to unpack (expected 2, got 1) with pred_text=What Battle Marked the Beginning of the Liberation of Russia from the Tatar-\n",
      "Error not enough values to unpack (expected 2, got 1) with pred_text=What Battle Marked The Beginning Of The Liberation Of Russia From The Tatar-\n",
      "Error not enough values to unpack (expected 2, got 1) with pred_text=What Battle Marked the Beginning of the Liberation of Russia from the Tatar Mong\n",
      "Error not enough values to unpack (expected 2, got 1) with pred_text=What Battle Marked The Beginning Of The Liberation of Russia From The Tatar-\n",
      "Error not enough values to unpack (expected 2, got 1) with pred_text=What Battle Marked the Beginning of the Liberation of the Tatar-Mong\n",
      "Error not enough values to unpack (expected 2, got 1) with pred_text=What Battle Marked the Beginning of the Liberation of Russia From the Tatar-\n",
      "Error not enough values to unpack (expected 2, got 1) with pred_text=What Battle Marked the Beginning of the Liberation of Russia from the Tatar–\n",
      "Error not enough values to unpack (expected 2, got 1) with pred_text=What Battle Marked the Beginning of the Liberation of Russia From The Tatar-\n",
      "Error not enough values to unpack (expected 2, got 1) with pred_text=What Battle Marked The Beginning Of The Liberation of Russia from the Tatar-\n"
     ]
    },
    {
     "name": "stderr",
     "output_type": "stream",
     "text": [
      " 49%|████▉     | 1139/2330 [05:08<04:46,  4.16it/s]"
     ]
    },
    {
     "name": "stdout",
     "output_type": "stream",
     "text": [
      "Error not enough values to unpack (expected 2, got 1) with pred_text=The Emblem of What Science Is a Scalpel and a Soldering Iron Connected\n",
      "Error not enough values to unpack (expected 2, got 1) with pred_text=The Emblem of What Science is a Scalpel and a Soldering Iron Connected\n",
      "Error not enough values to unpack (expected 2, got 1) with pred_text=The Emblem of What Science Is A Scalpel and A Soldering Iron Connected\n",
      "Error not enough values to unpack (expected 2, got 1) with pred_text=The Emblem of What Science Is a Scalpel And a Soldering Iron Connected\n",
      "Error not enough values to unpack (expected 2, got 1) with pred_text=What Science Is a Scalpel and a Soldering Iron Connected by the Integral\n",
      "Error not enough values to unpack (expected 2, got 1) with pred_text=The Emblem of What Science Is A Scalpel and a Soldering Iron Connected\n",
      "Error not enough values to unpack (expected 2, got 1) with pred_text=The Emblem Of What Science Is A Scalpel And A Soldering Iron Connected\n",
      "Error not enough values to unpack (expected 2, got 1) with pred_text=The Emblem Of What Science Is A Scalpel and A Soldering Iron Connected\n",
      "Error not enough values to unpack (expected 2, got 1) with pred_text=The Emblem of What Science Is A Scalpel And A Soldering Iron Connected\n"
     ]
    },
    {
     "name": "stderr",
     "output_type": "stream",
     "text": [
      " 49%|████▉     | 1153/2330 [05:12<05:41,  3.45it/s]"
     ]
    },
    {
     "name": "stdout",
     "output_type": "stream",
     "text": [
      "Error not enough values to unpack (expected 2, got 1) with pred_text=What Did Tom Do With The State Seal In M. TWAIN's Novel >>\n",
      "Error not enough values to unpack (expected 2, got 1) with pred_text=What Did Tom Do with The State Seal In M. TWAIN's Novel >>\n",
      "Error not enough values to unpack (expected 2, got 1) with pred_text=What Did Tom Do With The State Seal In M. TWAIN's Novel The\n",
      "Error not enough values to unpack (expected 2, got 1) with pred_text=What Did Tom Do with The State Seal In M. TWAIN's Novel The\n",
      "Error not enough values to unpack (expected 2, got 1) with pred_text=What Did Tom Do with The State Seal in M. TWAIN's Novel >>\n",
      "Error not enough values to unpack (expected 2, got 1) with pred_text=What Did Tom Do with the State Seal in M. TWAIN's Novel >>\n"
     ]
    },
    {
     "name": "stderr",
     "output_type": "stream",
     "text": [
      " 50%|████▉     | 1156/2330 [05:13<05:45,  3.40it/s]"
     ]
    },
    {
     "name": "stdout",
     "output_type": "stream",
     "text": [
      "Error not enough values to unpack (expected 2, got 1) with pred_text=What, According to the Ancient Arabs, Served as Food for the Mythical\n",
      "Error not enough values to unpack (expected 2, got 1) with pred_text=What, According to the Ancient Arabs, Served As Food for the Mythical\n",
      "Error not enough values to unpack (expected 2, got 1) with pred_text=What, According To The Ancient Arabs, Served As Food For The Mythical\n",
      "Error not enough values to unpack (expected 2, got 1) with pred_text=What, According to the Ancient Arabs: Served as Food for the Mythical\n",
      "Error not enough values to unpack (expected 2, got 1) with pred_text=What, According to the Ancient Arabs, Served As Food For The Mythical\n",
      "Error not enough values to unpack (expected 2, got 1) with pred_text=What, According to the Ancient Arabs, Served as Food For the Mythical\n",
      "Error not enough values to unpack (expected 2, got 1) with pred_text=What, According to the Ancient Arabs, Served as Food For The Mythical\n",
      "Error not enough values to unpack (expected 2, got 1) with pred_text=What, According to the Ancient Arabs. Served as Food for the Mythical\n",
      "Error not enough values to unpack (expected 2, got 1) with pred_text=What, According to the Ancient Arabs Served as Food for the Mythical Bird\n"
     ]
    },
    {
     "name": "stderr",
     "output_type": "stream",
     "text": [
      " 50%|████▉     | 1157/2330 [05:14<06:02,  3.24it/s]"
     ]
    },
    {
     "name": "stdout",
     "output_type": "stream",
     "text": [
      "Error not enough values to unpack (expected 2, got 1) with pred_text=What Color Is the Double-headed Eagle on the Full Version of the Coat of\n",
      "Error not enough values to unpack (expected 2, got 1) with pred_text=What Color is the Double-headed Eagle on the Full Version of the Coat of\n",
      "Error not enough values to unpack (expected 2, got 1) with pred_text=What Color Is the Double-Headed Eagle on the Full Version of the Coat of\n",
      "Error not enough values to unpack (expected 2, got 1) with pred_text=What Color is the Double-Headed Eagle on the Full Version of the Coat of\n",
      "Error not enough values to unpack (expected 2, got 1) with pred_text=What Color Is the Double-headed Eagle on the Full Version of The Coat of\n",
      "Error not enough values to unpack (expected 2, got 1) with pred_text=What Colour Is the Double-headed Eagle on the Full Version of the Coat of\n",
      "Error not enough values to unpack (expected 2, got 1) with pred_text=What Color is the Double-headed Eagle on the Full Version of The Coat of\n"
     ]
    },
    {
     "name": "stderr",
     "output_type": "stream",
     "text": [
      " 50%|████▉     | 1158/2330 [05:14<05:59,  3.26it/s]"
     ]
    },
    {
     "name": "stdout",
     "output_type": "stream",
     "text": [
      "Error not enough values to unpack (expected 2, got 1) with pred_text=How Many Conversations Did The Writer And Publicist Felix Chuev Have With Vya\n",
      "Error not enough values to unpack (expected 2, got 1) with pred_text=How Many Conversations Did The Writer and Publicist Felix Chuev Have With Vya\n",
      "Error not enough values to unpack (expected 2, got 1) with pred_text=How Many Conversations Did The Writer And Publicist Felix Chuev Have with Vya\n",
      "Error not enough values to unpack (expected 2, got 1) with pred_text=How Many Conversations Did The Writer and Publicist Felix Chuev Have with Vya\n",
      "Error not enough values to unpack (expected 2, got 1) with pred_text=How Many Conversations Did the Writer And Publicist Felix Chuev Have With Vya\n",
      "Error not enough values to unpack (expected 2, got 1) with pred_text=How Many Conversations Did the Writer and Publicist Felix Chuev Have with Vya\n",
      "Error not enough values to unpack (expected 2, got 1) with pred_text=How Many Conversations Did the Writer and Publicist Felix Chuev Have With Vya\n",
      "Error not enough values to unpack (expected 2, got 1) with pred_text=How Many Conversations Did the Writer And Publicist Felix Chuev Have with Vya\n",
      "Error not enough values to unpack (expected 2, got 1) with pred_text=How Many Conversations Did The Writer And Publicist Felix Chuev Have And Later Write\n",
      "Error not enough values to unpack (expected 2, got 1) with pred_text=How Many Conversations Did The Writer And Publicist Felix Chuev Have Have With V\n"
     ]
    },
    {
     "name": "stderr",
     "output_type": "stream",
     "text": [
      " 50%|████▉     | 1160/2330 [05:14<05:57,  3.27it/s]"
     ]
    },
    {
     "name": "stdout",
     "output_type": "stream",
     "text": [
      "Error not enough values to unpack (expected 2, got 1) with pred_text=What Event in the Life of the Chemist I. R. Glauber Contributed\n",
      "Error not enough values to unpack (expected 2, got 1) with pred_text=What Event In The Life Of The Chemist I. R. Glauber Contributed\n",
      "Error not enough values to unpack (expected 2, got 1) with pred_text=What Event In The Life of the Chemist I. R. Glauber Contributed\n",
      "Error not enough values to unpack (expected 2, got 1) with pred_text=What Event in the Life of The Chemist I. R. Glauber Contributed\n",
      "Error not enough values to unpack (expected 2, got 1) with pred_text=What Event In The Life of The Chemist I. R. Glauber Contributed\n",
      "Error not enough values to unpack (expected 2, got 1) with pred_text=What Event In the Life of the Chemist I. R. Glauber Contributed\n"
     ]
    },
    {
     "name": "stderr",
     "output_type": "stream",
     "text": [
      " 50%|█████     | 1166/2330 [05:16<05:32,  3.50it/s]"
     ]
    },
    {
     "name": "stdout",
     "output_type": "stream",
     "text": [
      "Error not enough values to unpack (expected 2, got 1) with pred_text=Which of the Kings of Ancient Rome, According to Legend, Persuaded Jupiter to\n",
      "Error not enough values to unpack (expected 2, got 1) with pred_text=Which Of The Kings Of Ancient Rome, According To Legend, Persuaded Jupiter To\n",
      "Error not enough values to unpack (expected 2, got 1) with pred_text=Which of the Kings of ancient Rome, According to Legend, Persuaded Jupiter to Ref\n",
      "Error not enough values to unpack (expected 2, got 1) with pred_text=Which of the Kings of Ancient Rome, According to Legend, Persuaded Jupiter To\n",
      "Error not enough values to unpack (expected 2, got 1) with pred_text=Which of the Kings of ancient Rome, According to Legend, Persuaded Jupiter to\n",
      "Error not enough values to unpack (expected 2, got 1) with pred_text=Which Of The Kings of Ancient Rome, According To Legend, Persuaded Jupiter To\n",
      "Error not enough values to unpack (expected 2, got 1) with pred_text=Which of the kings of ancient Rome, According to Legend, Persuaded Jupiter to\n",
      "Error not enough values to unpack (expected 2, got 1) with pred_text=Which of the Kings of Ancient Rome, According To Legend, Persuaded Jupiter to\n",
      "Error not enough values to unpack (expected 2, got 1) with pred_text=Which Of The Kings Of Ancient Rome, According To Legend, Persuaded Jupiter to\n",
      "Error not enough values to unpack (expected 2, got 1) with pred_text=Which Of The Kings Of Ancient Rome, According to Legend, Persuaded Jupiter To\n"
     ]
    },
    {
     "name": "stderr",
     "output_type": "stream",
     "text": [
      " 50%|█████     | 1169/2330 [05:17<05:37,  3.44it/s]"
     ]
    },
    {
     "name": "stdout",
     "output_type": "stream",
     "text": [
      "Error not enough values to unpack (expected 2, got 1) with pred_text=Who Or What Is Included In The Daily Diet Of Red Ibises That Provides The\n",
      "Error not enough values to unpack (expected 2, got 1) with pred_text=Who or What Is Included in the Daily Diet of Red Ibises That Provides the\n",
      "Error not enough values to unpack (expected 2, got 1) with pred_text=Who or What Is Included in the Daily Diet of Red Ibises that Provides the\n",
      "Error not enough values to unpack (expected 2, got 1) with pred_text=Who Or What Is Included in the Daily Diet of Red Ibises That Provides The\n",
      "Error not enough values to unpack (expected 2, got 1) with pred_text=Who or What Is Included in the Daily Diet of Red Ibises That Provides The\n",
      "Error not enough values to unpack (expected 2, got 1) with pred_text=Who Or What Is Included In The Daily Diet of Red Ibises That Provides The\n",
      "Error not enough values to unpack (expected 2, got 1) with pred_text=Who Or What Is Included in the Daily Diet of Red Ibises That Provides the\n",
      "Error not enough values to unpack (expected 2, got 1) with pred_text=Who or What Is Included In The Daily Diet Of Red Ibises That Provides The\n",
      "Error not enough values to unpack (expected 2, got 1) with pred_text=Who Or What Is Included in The Daily Diet Of Red Ibises That Provides The\n"
     ]
    },
    {
     "name": "stderr",
     "output_type": "stream",
     "text": [
      " 51%|█████     | 1185/2330 [05:22<05:18,  3.60it/s]"
     ]
    },
    {
     "name": "stdout",
     "output_type": "stream",
     "text": [
      "Error not enough values to unpack (expected 2, got 1) with pred_text=What Sin Did the Guests of the Rich Roman Consul Lucullus, Whose Name\n",
      "Error not enough values to unpack (expected 2, got 1) with pred_text=What Sin Did The Guests Of The Rich Roman Consul Lucullus, Whose Name\n",
      "Error not enough values to unpack (expected 2, got 1) with pred_text=What Sin Did The Guests of the Rich Roman Consul Lucullus, Whose Name\n",
      "Error not enough values to unpack (expected 2, got 1) with pred_text=What Sin Did the Guests Of The Rich Roman Consul Lucullus, Whose Name\n",
      "Error not enough values to unpack (expected 2, got 1) with pred_text=What Sin Did The Guests of The Rich Roman Consul Lucullus, Whose Name\n",
      "Error not enough values to unpack (expected 2, got 1) with pred_text=What Sin Did the Guests of The Rich Roman Consul Lucullus, Whose Name\n",
      "Error not enough values to unpack (expected 2, got 1) with pred_text=What Sin Did the Guests of Lucullus, Whose Name Was Famous for\n",
      "Error not enough values to unpack (expected 2, got 1) with pred_text=The Rich Roman Consul Lucullus, Whose Name Was Famous for Centuries,\n",
      "Error not enough values to unpack (expected 2, got 1) with pred_text=What Sin Did the Guests of Lucullus, Whose Name Was Famous For\n"
     ]
    },
    {
     "name": "stderr",
     "output_type": "stream",
     "text": [
      " 51%|█████     | 1186/2330 [05:22<05:25,  3.51it/s]"
     ]
    },
    {
     "name": "stdout",
     "output_type": "stream",
     "text": [
      "Error not enough values to unpack (expected 2, got 1) with pred_text=Which Submachine Gun, According to M. Kalashnikov, Was the Best During the\n",
      "Error not enough values to unpack (expected 2, got 1) with pred_text=Which Submachine Gun, According To M. Kalashnikov, Was The Best During The\n",
      "Error not enough values to unpack (expected 2, got 1) with pred_text=Which Submachine Gun, According to M. Kalashnikov, Was the Best During The\n",
      "Error not enough values to unpack (expected 2, got 1) with pred_text=Which Submachine Gun, According to M. Kalashnikov, Was The Best During The\n",
      "Error not enough values to unpack (expected 2, got 1) with pred_text=Which Submachine Gun According to M. Kalashnikov, Was the Best During the Second\n",
      "Error not enough values to unpack (expected 2, got 1) with pred_text=Which Submachine Gun, According to M. Kalashnikov, Was The Best During the\n",
      "Error not enough values to unpack (expected 2, got 1) with pred_text=Which Submachine Gun, According To M. Kalashnikov, Was The Best During the\n",
      "Error not enough values to unpack (expected 2, got 1) with pred_text=Which Submachine Gun, According To M. Kalashnikov, Was the Best During The\n",
      "Error not enough values to unpack (expected 2, got 1) with pred_text=Which Submachine Gun According to M. Kalashnikov, Was the Best During The Second\n",
      "Error not enough values to unpack (expected 2, got 1) with pred_text=Which Submachine Gun According to M. Kalashnikov, Was The Best During The Second\n"
     ]
    },
    {
     "name": "stderr",
     "output_type": "stream",
     "text": [
      " 51%|█████     | 1193/2330 [05:24<06:04,  3.12it/s]"
     ]
    },
    {
     "name": "stdout",
     "output_type": "stream",
     "text": [
      "Error not enough values to unpack (expected 2, got 1) with pred_text=Three Poplars by the Heroine of Tatyana Doronina (film)\n",
      "Error not enough values to unpack (expected 2, got 1) with pred_text=Sung in a Taxi by the Heroine of Tatyana Doronina (film)\n"
     ]
    },
    {
     "name": "stderr",
     "output_type": "stream",
     "text": [
      " 51%|█████▏    | 1196/2330 [05:25<05:42,  3.32it/s]"
     ]
    },
    {
     "name": "stdout",
     "output_type": "stream",
     "text": [
      "Error not enough values to unpack (expected 2, got 1) with pred_text=How Many Percent of Their Lives Do Sloths Spend in Sleep? >>\n",
      "Error not enough values to unpack (expected 2, got 1) with pred_text=How Many Percent of Their Lives Do Sloths Spend In Sleep? >>\n",
      "Error not enough values to unpack (expected 2, got 1) with pred_text=How Many Percent Of Their Lives Do Sloths Spend In Sleep? >>\n",
      "Error not enough values to unpack (expected 2, got 1) with pred_text=How Many Percent Of Their Lives Do Sloths Spend in Sleep? >>\n",
      "Error not enough values to unpack (expected 2, got 1) with pred_text=How Many Percent of Their Lives do Sloths Spend in Sleep? >>\n",
      "Error not enough values to unpack (expected 2, got 1) with pred_text=How Many Percent of Their Lives Do Sloths Spend in Sleep? (\n",
      "Error not enough values to unpack (expected 2, got 1) with pred_text=How Many Percent of Their Lives Do Sloths Spend In Sleep? (\n",
      "Error not enough values to unpack (expected 2, got 1) with pred_text=How Many Percent of Their Lives Do Sloths Spend in Sleep ? >>\n",
      "Error not enough values to unpack (expected 2, got 1) with pred_text=How Many-Percent of Their Lives Do Sloths Spend in Sleep?\n"
     ]
    },
    {
     "name": "stderr",
     "output_type": "stream",
     "text": [
      " 54%|█████▍    | 1263/2330 [05:42<03:33,  5.01it/s]"
     ]
    },
    {
     "name": "stdout",
     "output_type": "stream",
     "text": [
      "Error not enough values to unpack (expected 2, got 1) with pred_text=In What Style Is St. Isaac's Cathedral Built In St. Petersburg?\n",
      "Error not enough values to unpack (expected 2, got 1) with pred_text=In What Style Is St. Isaac's Cathedral Built in St. Petersburg?\n",
      "Error not enough values to unpack (expected 2, got 1) with pred_text=In What Style is St. Isaac's Cathedral Built in St. Petersburg?\n",
      "Error not enough values to unpack (expected 2, got 1) with pred_text=In What Style is St. Isaac's Cathedral Built In St. Petersburg?\n"
     ]
    },
    {
     "name": "stderr",
     "output_type": "stream",
     "text": [
      " 55%|█████▌    | 1285/2330 [05:47<03:50,  4.54it/s]"
     ]
    },
    {
     "name": "stdout",
     "output_type": "stream",
     "text": [
      "Error not enough values to unpack (expected 2, got 1) with pred_text=What Title Did The Founder Of The Modern Olympic Movement, Pierre De Coubertin,\n",
      "Error not enough values to unpack (expected 2, got 1) with pred_text=What Title Did the Founder of the Modern Olympic Movement, Pierre de Coubertin,\n",
      "Error not enough values to unpack (expected 2, got 1) with pred_text=What Title Did The Founder Of The Modern Olympic Movement, Pierre De Coubertin Have\n",
      "Error not enough values to unpack (expected 2, got 1) with pred_text=What Title Did the Founder of the Modern Olympic Movement, Pierre de Coubertin Have\n",
      "Error not enough values to unpack (expected 2, got 1) with pred_text=What Title Did the Founder of the Modern Olympic Movement, Pierre De Coubertin,\n",
      "Error not enough values to unpack (expected 2, got 1) with pred_text=What Title Did The Founder Of The Modern Olympic Movement, Pierre de Coubertin,\n",
      "Error not enough values to unpack (expected 2, got 1) with pred_text=What Title Did the Founder of the Modern Olympic Movement, Pierre De Coubertin Have\n",
      "Error not enough values to unpack (expected 2, got 1) with pred_text=What Title Did The Founder Of the Modern Olympic Movement, Pierre De Coubertin,\n",
      "Error not enough values to unpack (expected 2, got 1) with pred_text=What Title Did The Founder Of The Modern Olympic Movement, Pierre de Coubertin Have\n"
     ]
    },
    {
     "name": "stderr",
     "output_type": "stream",
     "text": [
      " 55%|█████▌    | 1293/2330 [05:49<03:21,  5.16it/s]"
     ]
    },
    {
     "name": "stdout",
     "output_type": "stream",
     "text": [
      "Error too many values to unpack (expected 2) with pred_text=Internet >> en) >> en\n"
     ]
    },
    {
     "name": "stderr",
     "output_type": "stream",
     "text": [
      " 56%|█████▌    | 1303/2330 [05:52<04:25,  3.87it/s]"
     ]
    },
    {
     "name": "stdout",
     "output_type": "stream",
     "text": [
      "Error too many values to unpack (expected 2) with pred_text=Amway >> en アメリカン・ブロードキャスト・カンパニー >> ja\n",
      "Error too many values to unpack (expected 2) with pred_text=Amway >> en アメリカン・バイス・コーポレーション >> ja\n",
      "Error too many values to unpack (expected 2) with pred_text=Amway >> en アメリカン・バイス・カンパニー >> ja\n",
      "Error too many values to unpack (expected 2) with pred_text=Amway >> en アメリカン・バイス・カンファレンス >> ja\n"
     ]
    },
    {
     "name": "stderr",
     "output_type": "stream",
     "text": [
      " 57%|█████▋    | 1322/2330 [05:56<04:13,  3.98it/s]"
     ]
    },
    {
     "name": "stdout",
     "output_type": "stream",
     "text": [
      "Error not enough values to unpack (expected 2, got 1) with pred_text=List of capitals in the United Kingdom, Crown dependencies and British Overseas Territ\n",
      "Error not enough values to unpack (expected 2, got 1) with pred_text=List of capitals in the United Kingdom, Crown dependencies and their capitals in Europe\n",
      "Error not enough values to unpack (expected 2, got 1) with pred_text=List of capitals in the United Kingdom, Crown dependencies and British Overseans >>\n",
      "Error not enough values to unpack (expected 2, got 1) with pred_text=List of capitals in the United Kingdom, Crown dependences and British Overseas Territ\n"
     ]
    },
    {
     "name": "stderr",
     "output_type": "stream",
     "text": [
      " 58%|█████▊    | 1343/2330 [06:02<04:16,  3.85it/s]"
     ]
    },
    {
     "name": "stdout",
     "output_type": "stream",
     "text": [
      "Error too many values to unpack (expected 2) with pred_text=Amazon River >> en) >> en\n",
      "Error too many values to unpack (expected 2) with pred_text=Ob River >> en) >> en\n"
     ]
    },
    {
     "name": "stderr",
     "output_type": "stream",
     "text": [
      " 58%|█████▊    | 1346/2330 [06:02<03:22,  4.87it/s]"
     ]
    },
    {
     "name": "stdout",
     "output_type": "stream",
     "text": [
      "Error too many values to unpack (expected 2) with pred_text=Gaza Strip >> en) >> en\n"
     ]
    },
    {
     "name": "stderr",
     "output_type": "stream",
     "text": [
      " 59%|█████▉    | 1371/2330 [06:08<03:55,  4.08it/s]"
     ]
    },
    {
     "name": "stdout",
     "output_type": "stream",
     "text": [
      "Error not enough values to unpack (expected 2, got 1) with pred_text=Which Film Studio Made the Film D'artagnan and the Three Musketeers?\n",
      "Error not enough values to unpack (expected 2, got 1) with pred_text=Which Film Studio Made the Film D'Artagnan and the Three Musketeers?\n",
      "Error not enough values to unpack (expected 2, got 1) with pred_text=Which Film Studio Made the Film D'artagnan and The Three Musketeers?\n",
      "Error not enough values to unpack (expected 2, got 1) with pred_text=Which Film Studio Made The Film D'artagnan And The Three Musketeers?\n",
      "Error not enough values to unpack (expected 2, got 1) with pred_text=Which Film Studio Made the Film D'artagnan And The Three Musketeers?\n",
      "Error not enough values to unpack (expected 2, got 1) with pred_text=Which Film Studio Made the Film D'Artagnan and The Three Musketeers?\n",
      "Error not enough values to unpack (expected 2, got 1) with pred_text=Which Film Studio Made the Film D'Artagnan And The Three Musketeers?\n"
     ]
    },
    {
     "name": "stderr",
     "output_type": "stream",
     "text": [
      " 60%|██████    | 1398/2330 [06:15<04:13,  3.67it/s]"
     ]
    },
    {
     "name": "stdout",
     "output_type": "stream",
     "text": [
      "Error not enough values to unpack (expected 2, got 1) with pred_text=What Is the Timbre of the Voice of Zoya Yashchenko the Creator and\n",
      "Error not enough values to unpack (expected 2, got 1) with pred_text=What Is the Timbre of the Voice of Zoya Yashchenko The Creator and\n",
      "Error not enough values to unpack (expected 2, got 1) with pred_text=What Is the Timbre of the Voice of Zoya Yashchenko? The Creator\n",
      "Error not enough values to unpack (expected 2, got 1) with pred_text=What Is the Timbre of the Voice of Zoya Yashchenko The Creator And\n",
      "Error not enough values to unpack (expected 2, got 1) with pred_text=What Is The Timbre Of The Voice Of Zoya Yashchenko The Creator And\n",
      "Error not enough values to unpack (expected 2, got 1) with pred_text=What Is the Timbre of the Voice of Zoya Yashchenko: The Creator\n",
      "Error not enough values to unpack (expected 2, got 1) with pred_text=What Is the Timbre of the Voice of Zoya Yashchenko, The Creator\n",
      "Error not enough values to unpack (expected 2, got 1) with pred_text=What Is the Timbre of the Voice of Zoya Yashchenko and Leader of the\n"
     ]
    },
    {
     "name": "stderr",
     "output_type": "stream",
     "text": [
      " 62%|██████▏   | 1437/2330 [06:25<04:25,  3.37it/s]"
     ]
    },
    {
     "name": "stdout",
     "output_type": "stream",
     "text": [
      "Error too many values to unpack (expected 2) with pred_text=Congo River >> en アフリカ半島の自然保護区の一覧 >> ja\n",
      "Error too many values to unpack (expected 2) with pred_text=Congo River >> en アフリカ半島の自然保護区 >> ja\n",
      "Error too many values to unpack (expected 2) with pred_text=Congo River >> en アフリカ半島の歴史地区の一覧 >> ja\n",
      "Error too many values to unpack (expected 2) with pred_text=Congo River >> en アフリカ半島の歴史地区) >> ja\n"
     ]
    },
    {
     "name": "stderr",
     "output_type": "stream",
     "text": [
      " 62%|██████▏   | 1445/2330 [06:27<04:20,  3.40it/s]"
     ]
    },
    {
     "name": "stdout",
     "output_type": "stream",
     "text": [
      "Error not enough values to unpack (expected 2, got 1) with pred_text=List of places of worship in the London Borough of Hammersmith and Fulham >>\n"
     ]
    },
    {
     "name": "stderr",
     "output_type": "stream",
     "text": [
      " 64%|██████▎   | 1484/2330 [06:36<03:36,  3.90it/s]"
     ]
    },
    {
     "name": "stdout",
     "output_type": "stream",
     "text": [
      "Error too many values to unpack (expected 2) with pred_text=Irtysh River >> en) >> en\n"
     ]
    },
    {
     "name": "stderr",
     "output_type": "stream",
     "text": [
      " 64%|██████▍   | 1493/2330 [06:38<03:01,  4.60it/s]"
     ]
    },
    {
     "name": "stdout",
     "output_type": "stream",
     "text": [
      "Error too many values to unpack (expected 2) with pred_text=Death Valley >> en) >> en\n"
     ]
    },
    {
     "name": "stderr",
     "output_type": "stream",
     "text": [
      " 66%|██████▋   | 1549/2330 [06:52<02:57,  4.39it/s]"
     ]
    },
    {
     "name": "stdout",
     "output_type": "stream",
     "text": [
      "Error not enough values to unpack (expected 2, got 1) with pred_text=What Was the Title of the Portuguese Navigator in the Spanish Service, Fernand Mag\n",
      "Error not enough values to unpack (expected 2, got 1) with pred_text=What Was The Title Of The Portuguese Navigator In The Spanish Service, Fernand Mag\n",
      "Error not enough values to unpack (expected 2, got 1) with pred_text=What Was the Title of the Portuguese Navigator In The Spanish Service, Fernand Mag\n",
      "Error not enough values to unpack (expected 2, got 1) with pred_text=What Was The Title of the Portuguese Navigator In The Spanish Service, Fernand Mag\n",
      "Error not enough values to unpack (expected 2, got 1) with pred_text=What Was The Title of the Portuguese Navigator in the Spanish Service, Fernand Mag\n",
      "Error not enough values to unpack (expected 2, got 1) with pred_text=What Was the Title of the Navigator in the Spanish Service, Fernand Magellan?\n",
      "Error not enough values to unpack (expected 2, got 1) with pred_text=What Was The Title Of The Portuguese Navigator in the Spanish Service, Fernand Mag\n"
     ]
    },
    {
     "name": "stderr",
     "output_type": "stream",
     "text": [
      " 67%|██████▋   | 1564/2330 [06:57<04:27,  2.86it/s]"
     ]
    },
    {
     "name": "stdout",
     "output_type": "stream",
     "text": [
      "Error not enough values to unpack (expected 2, got 1) with pred_text=Lakhta, Lakhta, and Sakkalinsky District, Sakha Republic\n"
     ]
    },
    {
     "name": "stderr",
     "output_type": "stream",
     "text": [
      " 68%|██████▊   | 1589/2330 [07:04<04:27,  2.77it/s]"
     ]
    },
    {
     "name": "stdout",
     "output_type": "stream",
     "text": [
      "Error not enough values to unpack (expected 2, got 1) with pred_text=What Genre of Literature Does B. Scott Ivanhoe's Work Belong To?\n",
      "Error not enough values to unpack (expected 2, got 1) with pred_text=What Genre Of Literature Does B. Scott Ivanhoe's Work Belong To?\n",
      "Error not enough values to unpack (expected 2, got 1) with pred_text=What Genre of Literature Does B Scott Ivanhoe's Work Belong To? >>\n",
      "Error not enough values to unpack (expected 2, got 1) with pred_text=What Genre Of Literature Does B Scott Ivanhoe's Work Belong To? >>\n",
      "Error not enough values to unpack (expected 2, got 1) with pred_text=What Genre of Literature Does B. S. Ivanhoe's Work Belong To\n",
      "Error not enough values to unpack (expected 2, got 1) with pred_text=What Genre of Literature Does B. Scott Ivanhoe’s Work Belong To?\n",
      "Error not enough values to unpack (expected 2, got 1) with pred_text=What Genre Of Literature Does B. S. Ivanhoe's Work Belong To\n",
      "Error not enough values to unpack (expected 2, got 1) with pred_text=What Genre of Literature Does B.S. Ivanhoe's Work Belong To\n",
      "Error not enough values to unpack (expected 2, got 1) with pred_text=What Genre of Literature Does B Scott Ivanhoe’s Work Belong To? >>\n",
      "Error not enough values to unpack (expected 2, got 1) with pred_text=What Genre Of Literature Does B. Scott Ivanhoe’s Work Belong To?\n"
     ]
    },
    {
     "name": "stderr",
     "output_type": "stream",
     "text": [
      " 68%|██████▊   | 1592/2330 [07:05<04:02,  3.05it/s]"
     ]
    },
    {
     "name": "stdout",
     "output_type": "stream",
     "text": [
      "Error not enough values to unpack (expected 2, got 1) with pred_text=What Title Was Awarded To Valentina Tereshkova The First Woman To Conquer Space?\n",
      "Error not enough values to unpack (expected 2, got 1) with pred_text=What Title Was Awarded to Valentina Tereshkova The First Woman to Conquer Space?\n",
      "Error not enough values to unpack (expected 2, got 1) with pred_text=What Title Was Awarded to Valentina Tereshkova The First Woman To Conquer Space?\n",
      "Error not enough values to unpack (expected 2, got 1) with pred_text=What Title Was Awarded To Valentina Tereshkova The First Woman to Conquer Space?\n",
      "Error not enough values to unpack (expected 2, got 1) with pred_text=What Title Was Awarded to Valentina Tereshkova: The First Woman to Conquer Space\n",
      "Error not enough values to unpack (expected 2, got 1) with pred_text=What Title Was Awarded to Valentina Tereshkova the First Woman to Conquer Space?\n",
      "Error not enough values to unpack (expected 2, got 1) with pred_text=What Title Was Awarded to Valentina Tereshkova: The First Woman To Conquer Space\n"
     ]
    },
    {
     "name": "stderr",
     "output_type": "stream",
     "text": [
      " 68%|██████▊   | 1594/2330 [07:06<03:28,  3.53it/s]"
     ]
    },
    {
     "name": "stdout",
     "output_type": "stream",
     "text": [
      "Error too many values to unpack (expected 2) with pred_text=Neva River >> en) >> en\n"
     ]
    },
    {
     "name": "stderr",
     "output_type": "stream",
     "text": [
      " 69%|██████▉   | 1603/2330 [07:08<03:36,  3.35it/s]"
     ]
    },
    {
     "name": "stdout",
     "output_type": "stream",
     "text": [
      "Error not enough values to unpack (expected 2, got 1) with pred_text=Who Is the Architect of the Strelki Exchange Building on Vasilievsky Island?\n",
      "Error not enough values to unpack (expected 2, got 1) with pred_text=Who is the Architect of the Strelki Exchange Building on Vasilievsky Island?\n",
      "Error not enough values to unpack (expected 2, got 1) with pred_text=Who Is the Architect of the Strelki Exchange Building On Vasilievsky Island?\n",
      "Error not enough values to unpack (expected 2, got 1) with pred_text=Who Is the Architect Of The Strelki Exchange Building On Vasilievsky Island?\n",
      "Error not enough values to unpack (expected 2, got 1) with pred_text=Who Is the Architect of the Strelki Exchange Building on Vasilyevsky Island?\n",
      "Error not enough values to unpack (expected 2, got 1) with pred_text=Who Is the Architect Of The Strelki Exchange Building on Vasilievsky Island?\n"
     ]
    },
    {
     "name": "stderr",
     "output_type": "stream",
     "text": [
      " 70%|██████▉   | 1621/2330 [07:13<03:49,  3.09it/s]"
     ]
    },
    {
     "name": "stdout",
     "output_type": "stream",
     "text": [
      "Error not enough values to unpack (expected 2, got 1) with pred_text=List of languages of the German-speaking Confederation and the Swiss Confederation\n"
     ]
    },
    {
     "name": "stderr",
     "output_type": "stream",
     "text": [
      " 74%|███████▎  | 1714/2330 [07:36<02:48,  3.66it/s]"
     ]
    },
    {
     "name": "stdout",
     "output_type": "stream",
     "text": [
      "Error not enough values to unpack (expected 2, got 1) with pred_text=Lena River (Chukotka Autonomous Okrug, Krasnodar Krai)\n",
      "Error not enough values to unpack (expected 2, got 1) with pred_text=Lena River (Chukotka Autonomous Okrug, Murmansk Oblast)\n",
      "Error not enough values to unpack (expected 2, got 1) with pred_text=Lena River (Chukotka Autonomous Okrug, Republic of Adygea)\n",
      "Error not enough values to unpack (expected 2, got 1) with pred_text=Lena River (Chukotka Autonomous Okrug, Republic of Bashkortostan)\n"
     ]
    },
    {
     "name": "stderr",
     "output_type": "stream",
     "text": [
      " 74%|███████▍  | 1728/2330 [07:40<03:09,  3.18it/s]"
     ]
    },
    {
     "name": "stdout",
     "output_type": "stream",
     "text": [
      "Error not enough values to unpack (expected 2, got 1) with pred_text=Papers in the American Revolutionary War and the Commonwealth of Yugoslavia >>\n"
     ]
    },
    {
     "name": "stderr",
     "output_type": "stream",
     "text": [
      " 75%|███████▌  | 1749/2330 [07:45<02:13,  4.35it/s]"
     ]
    },
    {
     "name": "stdout",
     "output_type": "stream",
     "text": [
      "Error too many values to unpack (expected 2) with pred_text=Amazon River >> en Richardson's Creek tributary >> en\n",
      "Error too many values to unpack (expected 2) with pred_text=Amazon River >> en Richardson's River tributary >> en\n",
      "Error too many values to unpack (expected 2) with pred_text=Amazon River >> en Richardson's River basin >> en\n",
      "Error too many values to unpack (expected 2) with pred_text=Amazon River >> en Richardson's River basin) >> en\n",
      "Error too many values to unpack (expected 2) with pred_text=Amazon River >> en Richardson's Creek >> en\n",
      "Error too many values to unpack (expected 2) with pred_text=Amazon River >> en Richardson's River >> en\n"
     ]
    },
    {
     "name": "stderr",
     "output_type": "stream",
     "text": [
      " 75%|███████▌  | 1752/2330 [07:46<01:50,  5.24it/s]"
     ]
    },
    {
     "name": "stdout",
     "output_type": "stream",
     "text": [
      "Error too many values to unpack (expected 2) with pred_text=Ob River >> en) >> en\n"
     ]
    },
    {
     "name": "stderr",
     "output_type": "stream",
     "text": [
      " 77%|███████▋  | 1792/2330 [07:56<03:13,  2.78it/s]"
     ]
    },
    {
     "name": "stdout",
     "output_type": "stream",
     "text": [
      "Error not enough values to unpack (expected 2, got 1) with pred_text=In What Year Was the Armed Forces of the U.S. Formed?\n"
     ]
    },
    {
     "name": "stderr",
     "output_type": "stream",
     "text": [
      " 77%|███████▋  | 1797/2330 [07:58<02:48,  3.17it/s]"
     ]
    },
    {
     "name": "stdout",
     "output_type": "stream",
     "text": [
      "Error not enough values to unpack (expected 2, got 1) with pred_text=In What Year Did the Palace Coup That Brought Catherine the Great to Power Take Place?\n",
      "Error not enough values to unpack (expected 2, got 1) with pred_text=In What Year Did the Palace Coup that Brought Catherine the Great to Power Take Place?\n",
      "Error not enough values to unpack (expected 2, got 1) with pred_text=In What Year Did the Palace Coup That Brought Catherine The Great to Power Take Place?\n",
      "Error not enough values to unpack (expected 2, got 1) with pred_text=In What Year Did the Palace Coup That Brought Catherine the Great To Power Take Place?\n",
      "Error not enough values to unpack (expected 2, got 1) with pred_text=In What Year Did the Palace Coup That Brought Catherine The Great To Power Take Place?\n",
      "Error not enough values to unpack (expected 2, got 1) with pred_text=In What Year Did The Palace Coup That Brought Catherine the Great to Power Take Place?\n",
      "Error not enough values to unpack (expected 2, got 1) with pred_text=In What Year Did the Palace Coup That Brought Catherine: The Great to Power Take Place\n",
      "Error not enough values to unpack (expected 2, got 1) with pred_text=In What Year Did the Palace Coup That Brought Catherine... The Great to Power Take Place\n"
     ]
    },
    {
     "name": "stderr",
     "output_type": "stream",
     "text": [
      " 77%|███████▋  | 1800/2330 [07:59<02:45,  3.19it/s]"
     ]
    },
    {
     "name": "stdout",
     "output_type": "stream",
     "text": [
      "Error not enough values to unpack (expected 2, got 1) with pred_text=In What Year Was the City of Kherson Founded by the Decree of Catherine II\n",
      "Error not enough values to unpack (expected 2, got 1) with pred_text=In What Year Was the City of Kherson Founded By The Decree of Catherine II\n",
      "Error not enough values to unpack (expected 2, got 1) with pred_text=In What Year Was the City of Kherson Founded By The Decree Of Catherine II\n",
      "Error not enough values to unpack (expected 2, got 1) with pred_text=In What Year Was the City of Kherson Founded By the Decree of Catherine II\n",
      "Error not enough values to unpack (expected 2, got 1) with pred_text=In What Year Was The City Of Kherson Founded By The Decree Of Catherine II\n",
      "Error not enough values to unpack (expected 2, got 1) with pred_text=In What Year Was the City of Kherson Founded By the Decree Of Catherine II\n",
      "Error not enough values to unpack (expected 2, got 1) with pred_text=In What Year Was the City Of Kherson Founded By The Decree Of Catherine II\n",
      "Error not enough values to unpack (expected 2, got 1) with pred_text=In What Year Was the City Of Kherson Founded By The Decree of Catherine II\n",
      "Error not enough values to unpack (expected 2, got 1) with pred_text=In What Year Was The City Of Kherson Founded By The Decree of Catherine II\n",
      "Error not enough values to unpack (expected 2, got 1) with pred_text=In What Year Was the City of Kherson Founded by the Decree Of Catherine II\n"
     ]
    },
    {
     "name": "stderr",
     "output_type": "stream",
     "text": [
      " 78%|███████▊  | 1811/2330 [08:02<02:24,  3.59it/s]"
     ]
    },
    {
     "name": "stdout",
     "output_type": "stream",
     "text": [
      "Error not enough values to unpack (expected 2, got 1) with pred_text=When Was the First Constitution of the U.S.S.R. Put Into Effect\n",
      "Error not enough values to unpack (expected 2, got 1) with pred_text=When Was the First Constitution of the U.S.R. Put Into Effect? >>\n",
      "Error not enough values to unpack (expected 2, got 1) with pred_text=When Was the First Constitution of the U.S.S.R. Put into Effect\n"
     ]
    },
    {
     "name": "stderr",
     "output_type": "stream",
     "text": [
      " 78%|███████▊  | 1814/2330 [08:03<02:25,  3.55it/s]"
     ]
    },
    {
     "name": "stdout",
     "output_type": "stream",
     "text": [
      "Error too many values to unpack (expected 2) with pred_text=Livonian War >> en) >> en\n",
      "Error too many values to unpack (expected 2) with pred_text=Livonian War >> en >> en\n"
     ]
    },
    {
     "name": "stderr",
     "output_type": "stream",
     "text": [
      " 79%|███████▉  | 1843/2330 [08:12<02:50,  2.85it/s]"
     ]
    },
    {
     "name": "stdout",
     "output_type": "stream",
     "text": [
      "Error not enough values to unpack (expected 2, got 1) with pred_text=In What Year Was the Union of Struggle for the Emancipation of the\n",
      "Error not enough values to unpack (expected 2, got 1) with pred_text=Union of Struggle for the Emancipation of the Working Class Formed >>\n",
      "Error not enough values to unpack (expected 2, got 1) with pred_text=In What Year Was The Union of Struggle for the Emancipation of the\n",
      "Error not enough values to unpack (expected 2, got 1) with pred_text=Union of Struggle for the Emancipation of the Working Class Formed?\n",
      "Error not enough values to unpack (expected 2, got 1) with pred_text=The Union of Struggle for the Emancipation of the Working Class Formed\n",
      "Error not enough values to unpack (expected 2, got 1) with pred_text=In What Year Was the Union of Struggle For the Emancipation of the\n",
      "Error not enough values to unpack (expected 2, got 1) with pred_text=In What Year Was The Union Of Struggle For The Emancipation Of The\n",
      "Error not enough values to unpack (expected 2, got 1) with pred_text=In What Year Was the Union for the Union of Struggle for the Emancip\n"
     ]
    },
    {
     "name": "stderr",
     "output_type": "stream",
     "text": [
      " 82%|████████▏ | 1900/2330 [08:27<02:14,  3.21it/s]"
     ]
    },
    {
     "name": "stdout",
     "output_type": "stream",
     "text": [
      "Error not enough values to unpack (expected 2, got 1) with pred_text=List of demons in The Hitchhiker's Guide to the Galaxy characters >>\n",
      "Error not enough values to unpack (expected 2, got 1) with pred_text=List of demons in The Hitchhiker's Guide to the Galaxy series >>\n"
     ]
    },
    {
     "name": "stderr",
     "output_type": "stream",
     "text": [
      " 82%|████████▏ | 1911/2330 [08:30<02:01,  3.46it/s]"
     ]
    },
    {
     "name": "stdout",
     "output_type": "stream",
     "text": [
      "Error not enough values to unpack (expected 2, got 1) with pred_text=In What Year Was the Grave of the Unknown Soldier Memorial Ensemble Opened?\n",
      "Error not enough values to unpack (expected 2, got 1) with pred_text=In What Year Was The Grave Of The Unknown Soldier Memorial Ensemble Opened?\n",
      "Error not enough values to unpack (expected 2, got 1) with pred_text=In What Year Was The Grave of the Unknown Soldier Memorial Ensemble Opened?\n",
      "Error not enough values to unpack (expected 2, got 1) with pred_text=In What Year Was the Grave Of The Unknown Soldier Memorial Ensemble Opened?\n",
      "Error not enough values to unpack (expected 2, got 1) with pred_text=In What Year Was The Grave of The Unknown Soldier Memorial Ensemble Opened?\n",
      "Error not enough values to unpack (expected 2, got 1) with pred_text=In What Year Was the Grave of The Unknown Soldier Memorial Ensemble Opened?\n",
      "Error not enough values to unpack (expected 2, got 1) with pred_text=In What Year Was the Grave of the Unknown Soldier Memorial Ensemble Opened >>\n",
      "Error not enough values to unpack (expected 2, got 1) with pred_text=In What Year Was the Grave of the Unknown Soldier's Memorial Ensemble Open\n"
     ]
    },
    {
     "name": "stderr",
     "output_type": "stream",
     "text": [
      " 83%|████████▎ | 1925/2330 [08:34<01:25,  4.76it/s]"
     ]
    },
    {
     "name": "stdout",
     "output_type": "stream",
     "text": [
      "Error too many values to unpack (expected 2) with pred_text=Rurik dynasty >> en) >> en\n"
     ]
    },
    {
     "name": "stderr",
     "output_type": "stream",
     "text": [
      " 84%|████████▎ | 1946/2330 [08:39<01:44,  3.68it/s]"
     ]
    },
    {
     "name": "stdout",
     "output_type": "stream",
     "text": [
      "Error not enough values to unpack (expected 2, got 1) with pred_text=House of Romanov-Holstein-Sonderburg-Plön-Rethwisch\n"
     ]
    },
    {
     "name": "stderr",
     "output_type": "stream",
     "text": [
      " 84%|████████▍ | 1967/2330 [08:44<01:42,  3.54it/s]"
     ]
    },
    {
     "name": "stdout",
     "output_type": "stream",
     "text": [
      "Error not enough values to unpack (expected 2, got 1) with pred_text=In What Year Was the Chernobyl Nuclear Power Power Plant Built? >>\n"
     ]
    },
    {
     "name": "stderr",
     "output_type": "stream",
     "text": [
      " 85%|████████▌ | 1990/2330 [08:50<01:17,  4.38it/s]"
     ]
    },
    {
     "name": "stdout",
     "output_type": "stream",
     "text": [
      "Error too many values to unpack (expected 2) with pred_text=Middle Ages >> en) >> en\n"
     ]
    },
    {
     "name": "stderr",
     "output_type": "stream",
     "text": [
      " 86%|████████▌ | 2007/2330 [08:54<01:32,  3.50it/s]"
     ]
    },
    {
     "name": "stdout",
     "output_type": "stream",
     "text": [
      "Error not enough values to unpack (expected 2, got 1) with pred_text=When Was the Non-Aggression Treaty Signed Between the USSR and Germany\n",
      "Error not enough values to unpack (expected 2, got 1) with pred_text=When Was the Non-aggression Treaty Signed Between the USSR and Germany\n",
      "Error not enough values to unpack (expected 2, got 1) with pred_text=When Was The Non-Aggression Treaty Signed Between the USSR and Germany\n",
      "Error not enough values to unpack (expected 2, got 1) with pred_text=When Was the Non-Aggression Treaty Signed Between the USSR And Germany\n",
      "Error not enough values to unpack (expected 2, got 1) with pred_text=When Was the Non-Aggression Treaty signed Between the USSR and Germany\n",
      "Error not enough values to unpack (expected 2, got 1) with pred_text=When Was the Non-Aggression Treaty Signed Between the U.S.\n",
      "Error not enough values to unpack (expected 2, got 1) with pred_text=When Was The Non-aggression Treaty Signed Between the USSR and Germany\n",
      "Error not enough values to unpack (expected 2, got 1) with pred_text=When Was the Non-Aggress Treaty Signed Between the USSR and Germany\n",
      "Error not enough values to unpack (expected 2, got 1) with pred_text=When Was the Non-Aggression Treaty Signed Between The USSR and Germany\n",
      "Error not enough values to unpack (expected 2, got 1) with pred_text=When Was the Non-Aggression Treaty Signed Between the United States and Germany\n"
     ]
    },
    {
     "name": "stderr",
     "output_type": "stream",
     "text": [
      " 88%|████████▊ | 2039/2330 [09:02<00:55,  5.29it/s]"
     ]
    },
    {
     "name": "stdout",
     "output_type": "stream",
     "text": [
      "Error too many values to unpack (expected 2) with pred_text=Calcium >> en) >> en\n"
     ]
    },
    {
     "name": "stderr",
     "output_type": "stream",
     "text": [
      " 89%|████████▉ | 2076/2330 [09:10<00:53,  4.72it/s]"
     ]
    },
    {
     "name": "stdout",
     "output_type": "stream",
     "text": [
      "Error too many values to unpack (expected 2) with pred_text=Gold (disambiguation) >> en) >> en\n",
      "Error too many values to unpack (expected 2) with pred_text=Gold >> en라더스) >> ko\n",
      "Error too many values to unpack (expected 2) with pred_text=Gold (disambiguation) >> en >> en\n",
      "Error too many values to unpack (expected 2) with pred_text=Gold >> en라더스 >> ko\n"
     ]
    },
    {
     "name": "stderr",
     "output_type": "stream",
     "text": [
      " 90%|█████████ | 2102/2330 [09:17<01:04,  3.54it/s]"
     ]
    },
    {
     "name": "stdout",
     "output_type": "stream",
     "text": [
      "Error not enough values to unpack (expected 2, got 1) with pred_text=How Many Months Did the Fighting of the Russo-Japanese War Last?\n",
      "Error not enough values to unpack (expected 2, got 1) with pred_text=How Many Months Did The Fighting Of The Russo-Japanese War Last?\n",
      "Error not enough values to unpack (expected 2, got 1) with pred_text=How Many Months Did the Fighting Of The Russo-Japanese War Last?\n",
      "Error not enough values to unpack (expected 2, got 1) with pred_text=How Many Months Did The Fighting of the Russo-Japanese War Last?\n",
      "Error not enough values to unpack (expected 2, got 1) with pred_text=How Many Months Did the Fighting of the Russian–Japanese War Last? >>\n",
      "Error not enough values to unpack (expected 2, got 1) with pred_text=How Many Months Did the Fighting of the Russian-Japanese War Last? >>\n",
      "Error not enough values to unpack (expected 2, got 1) with pred_text=How Many Months Did the Fighting of The Russo-Japanese War Last?\n",
      "Error not enough values to unpack (expected 2, got 1) with pred_text=How Many Months Did The Fighting of The Russo-Japanese War Last?\n",
      "Error not enough values to unpack (expected 2, got 1) with pred_text=How Many Months Did the Fighting Of the Russo-Japanese War Last?\n"
     ]
    },
    {
     "name": "stderr",
     "output_type": "stream",
     "text": [
      " 95%|█████████▌| 2215/2330 [09:44<00:36,  3.12it/s]"
     ]
    },
    {
     "name": "stdout",
     "output_type": "stream",
     "text": [
      "Error not enough values to unpack (expected 2, got 1) with pred_text=What Is the Title of James Bond Throughout All the Novels and Films About Him?\n",
      "Error not enough values to unpack (expected 2, got 1) with pred_text=What Is the Title of James Bond Throughout All the Novels And Films About Him?\n",
      "Error not enough values to unpack (expected 2, got 1) with pred_text=What Is the Title of James Bond Throughout All The Novels and Films About Him?\n",
      "Error not enough values to unpack (expected 2, got 1) with pred_text=What Is the Title of James Bond Throughout All The Novels And Films About Him?\n",
      "Error not enough values to unpack (expected 2, got 1) with pred_text=What Is the Title of the James Bond Throughout All the Novels and Films About Him\n",
      "Error not enough values to unpack (expected 2, got 1) with pred_text=What Is The Title Of James Bond Throughout All The Novels And Films About Him?\n",
      "Error not enough values to unpack (expected 2, got 1) with pred_text=What Is The Title of James Bond Throughout All the Novels and Films About Him?\n",
      "Error not enough values to unpack (expected 2, got 1) with pred_text=What Is the Title Of James Bond Throughout All the Novels and Films About Him?\n",
      "Error not enough values to unpack (expected 2, got 1) with pred_text=What Is The Title of James Bond Throughout All The Novels And Films About Him?\n",
      "Error not enough values to unpack (expected 2, got 1) with pred_text=What Is the Title of James Bond Throughout all the novels and films about him?\n"
     ]
    },
    {
     "name": "stderr",
     "output_type": "stream",
     "text": [
      " 95%|█████████▌| 2224/2330 [09:47<00:34,  3.09it/s]"
     ]
    },
    {
     "name": "stdout",
     "output_type": "stream",
     "text": [
      "Error not enough values to unpack (expected 2, got 1) with pred_text=What Part of the Series Is the Film Harry Potter and the Order of the Phoenix? >>\n",
      "Error not enough values to unpack (expected 2, got 1) with pred_text=What Part of the Series Is The Film Harry Potter and the Order of the Phoenix? >>\n",
      "Error not enough values to unpack (expected 2, got 1) with pred_text=What Part Of The Series Is The Film Harry Potter And The Order Of The Phoenix? >>\n",
      "Error not enough values to unpack (expected 2, got 1) with pred_text=What Part of the Series Is The Film Harry Potter And The Order of the Phoenix? >>\n",
      "Error not enough values to unpack (expected 2, got 1) with pred_text=What Part Of The Series Is The Film Harry Potter And The Order of the Phoenix? >>\n"
     ]
    },
    {
     "name": "stderr",
     "output_type": "stream",
     "text": [
      " 95%|█████████▌| 2225/2330 [09:47<00:34,  3.07it/s]"
     ]
    },
    {
     "name": "stdout",
     "output_type": "stream",
     "text": [
      "Error too many values to unpack (expected 2) with pred_text=Epic of Gilgamesh >> en) >> en\n"
     ]
    },
    {
     "name": "stderr",
     "output_type": "stream",
     "text": [
      " 96%|█████████▋| 2246/2330 [09:53<00:25,  3.35it/s]"
     ]
    },
    {
     "name": "stdout",
     "output_type": "stream",
     "text": [
      "Error not enough values to unpack (expected 2, got 1) with pred_text=In What Year Was the Manifesto on the Freedom of the Nobility Published?\n",
      "Error not enough values to unpack (expected 2, got 1) with pred_text=In What Year Was The Manifesto On The Freedom Of The Nobility Published?\n",
      "Error not enough values to unpack (expected 2, got 1) with pred_text=In What Year Was The Manifesto On The Freedom of The Nobility Published?\n",
      "Error not enough values to unpack (expected 2, got 1) with pred_text=In What Year Was the Manifesto On The Freedom Of The Nobility Published?\n",
      "Error not enough values to unpack (expected 2, got 1) with pred_text=In What Year Was the Manifesto on the Freedom of the Nobility Publish\n",
      "Error not enough values to unpack (expected 2, got 1) with pred_text=In What Year Was the Manifesto on the Freedom of the Nobility Placer\n",
      "Error not enough values to unpack (expected 2, got 1) with pred_text=In What Year Was the Manifesto On The Freedom of The Nobility Published?\n",
      "Error not enough values to unpack (expected 2, got 1) with pred_text=In What Year Was The Manifesto on the Freedom of the Nobility Published?\n"
     ]
    },
    {
     "name": "stderr",
     "output_type": "stream",
     "text": [
      " 98%|█████████▊| 2274/2330 [10:01<00:18,  2.99it/s]"
     ]
    },
    {
     "name": "stdout",
     "output_type": "stream",
     "text": [
      "Error not enough values to unpack (expected 2, got 1) with pred_text=What Is the Architectural Style of the Building of the Guggenheim Museum in Bilbao\n",
      "Error not enough values to unpack (expected 2, got 1) with pred_text=What Is the Architectural Style of the Building Of The Building Of The Guggenheim\n",
      "Error not enough values to unpack (expected 2, got 1) with pred_text=What Is the Architectural Style of the Building of The Guggenheim Museum in Bilbao\n",
      "Error not enough values to unpack (expected 2, got 1) with pred_text=What Is the Architectural Style of the Building of Guggenheim Museum in Bilbao?\n",
      "Error not enough values to unpack (expected 2, got 1) with pred_text=What Is the Architectural Style Of The Building Of The Building Of The Guggenheim\n",
      "Error not enough values to unpack (expected 2, got 1) with pred_text=What Is the Architectural Style of the Building of the Guggenheim Museum In Bilbao\n"
     ]
    },
    {
     "name": "stderr",
     "output_type": "stream",
     "text": [
      " 99%|█████████▊| 2298/2330 [10:07<00:08,  3.62it/s]"
     ]
    },
    {
     "name": "stdout",
     "output_type": "stream",
     "text": [
      "Error too many values to unpack (expected 2) with pred_text=Cologne Cathedral >> en) >> en\n"
     ]
    },
    {
     "name": "stderr",
     "output_type": "stream",
     "text": [
      "100%|██████████| 2330/2330 [10:16<00:00,  3.78it/s]\n"
     ]
    }
   ],
   "source": [
    "final_results = defaultdict(list)\n",
    "for rec in tqdm(rubq):\n",
    "    q = rec[\"question_eng\"]\n",
    "    text_with_labeling, entities_list = ner.entity_labeling(q, True)\n",
    "    mgenre_results = mgenre(text_with_labeling)\n",
    "    selected_mgenre_results = entities_selection_module.entities_selection(\n",
    "        entities_list, mgenre_results\n",
    "    )\n",
    "    entities = []\n",
    "    for lbl in selected_mgenre_results:\n",
    "        try:\n",
    "            lbl = lbl.split(\" >> \")[0]\n",
    "        except:\n",
    "            lbl = lbl[: lbl.index(\" >>\")]\n",
    "            lbl = lbl[: lbl.index(\">>\")]\n",
    "        try:\n",
    "            entities.extend(Entity.from_label(lbl))\n",
    "        except ValueError:\n",
    "            pass\n",
    "\n",
    "    final_results[\"Q\"].append(q)\n",
    "    final_results[\"mgenre_results\"].append(mgenre_results)\n",
    "    final_results[\"selected_mgenre_results\"].append(selected_mgenre_results)\n",
    "    final_results[\"selected_entities\"].append(entities)"
   ]
  },
  {
   "cell_type": "code",
   "execution_count": 17,
   "metadata": {},
   "outputs": [],
   "source": [
    "df = pd.DataFrame(final_results)\n",
    "df[\"selected_entities\"] = df[\"selected_entities\"].apply(lambda x: [_x.idx for _x in x])\n",
    "\n",
    "df.to_pickle(\"test_rubq2_mgenre.pkl\")\n",
    "df.to_csv(\"test_rubq2_mgenre.csv\", index=False)"
   ]
  },
  {
   "cell_type": "code",
   "execution_count": 19,
   "metadata": {},
   "outputs": [
    {
     "data": {
      "text/html": [
       "<div>\n",
       "<style scoped>\n",
       "    .dataframe tbody tr th:only-of-type {\n",
       "        vertical-align: middle;\n",
       "    }\n",
       "\n",
       "    .dataframe tbody tr th {\n",
       "        vertical-align: top;\n",
       "    }\n",
       "\n",
       "    .dataframe thead th {\n",
       "        text-align: right;\n",
       "    }\n",
       "</style>\n",
       "<table border=\"1\" class=\"dataframe\">\n",
       "  <thead>\n",
       "    <tr style=\"text-align: right;\">\n",
       "      <th></th>\n",
       "      <th>Q</th>\n",
       "      <th>mgenre_results</th>\n",
       "      <th>selected_mgenre_results</th>\n",
       "      <th>selected_entities</th>\n",
       "    </tr>\n",
       "  </thead>\n",
       "  <tbody>\n",
       "    <tr>\n",
       "      <th>0</th>\n",
       "      <td>What can cause a tsunami?</td>\n",
       "      <td>[What Can Cause a Tsunami? &gt;&gt; en, What Can Cau...</td>\n",
       "      <td>[]</td>\n",
       "      <td>[]</td>\n",
       "    </tr>\n",
       "    <tr>\n",
       "      <th>1</th>\n",
       "      <td>Who wrote the novel \"uncle Tom's Cabin\"?</td>\n",
       "      <td>[Uncle Tom's Cabin &gt;&gt; en, Uncle Tom's Cabin (n...</td>\n",
       "      <td>[Uncle Tom's Cabin &gt;&gt; en, Uncle Tom's cabin &gt;&gt;...</td>\n",
       "      <td>[Q2222, Q820452, Q3549210, Q3549212, Q3549214,...</td>\n",
       "    </tr>\n",
       "    <tr>\n",
       "      <th>2</th>\n",
       "      <td>Who is the author of the play \"Romeo and Juliet\"?</td>\n",
       "      <td>[Romeo and Juliet &gt;&gt; en, Romeo and Juliet (Pro...</td>\n",
       "      <td>[Romeo and Juliet &gt;&gt; en]</td>\n",
       "      <td>[Q83186, Q223857, Q517265, Q763716, Q911487, Q...</td>\n",
       "    </tr>\n",
       "    <tr>\n",
       "      <th>3</th>\n",
       "      <td>What is the name of the capital of Romania?</td>\n",
       "      <td>[Romania &gt;&gt; en, Kingdom of Romania &gt;&gt; en, Soci...</td>\n",
       "      <td>[Romania &gt;&gt; en]</td>\n",
       "      <td>[Q218, Q2175798, Q3441038, Q7362480, Q18487313...</td>\n",
       "    </tr>\n",
       "    <tr>\n",
       "      <th>4</th>\n",
       "      <td>What instrument did Jimi Hendrix play?</td>\n",
       "      <td>[Jimi Hendrix &gt;&gt; en, Jimi Hendrix &gt;&gt; fr, Jimi ...</td>\n",
       "      <td>[Jimi Hendrix &gt;&gt; en]</td>\n",
       "      <td>[Q5928, Q6199228, Q28453281, Q50734578]</td>\n",
       "    </tr>\n",
       "  </tbody>\n",
       "</table>\n",
       "</div>"
      ],
      "text/plain": [
       "                                                   Q  \\\n",
       "0                          What can cause a tsunami?   \n",
       "1           Who wrote the novel \"uncle Tom's Cabin\"?   \n",
       "2  Who is the author of the play \"Romeo and Juliet\"?   \n",
       "3        What is the name of the capital of Romania?   \n",
       "4             What instrument did Jimi Hendrix play?   \n",
       "\n",
       "                                      mgenre_results  \\\n",
       "0  [What Can Cause a Tsunami? >> en, What Can Cau...   \n",
       "1  [Uncle Tom's Cabin >> en, Uncle Tom's Cabin (n...   \n",
       "2  [Romeo and Juliet >> en, Romeo and Juliet (Pro...   \n",
       "3  [Romania >> en, Kingdom of Romania >> en, Soci...   \n",
       "4  [Jimi Hendrix >> en, Jimi Hendrix >> fr, Jimi ...   \n",
       "\n",
       "                             selected_mgenre_results  \\\n",
       "0                                                 []   \n",
       "1  [Uncle Tom's Cabin >> en, Uncle Tom's cabin >>...   \n",
       "2                           [Romeo and Juliet >> en]   \n",
       "3                                    [Romania >> en]   \n",
       "4                               [Jimi Hendrix >> en]   \n",
       "\n",
       "                                   selected_entities  \n",
       "0                                                 []  \n",
       "1  [Q2222, Q820452, Q3549210, Q3549212, Q3549214,...  \n",
       "2  [Q83186, Q223857, Q517265, Q763716, Q911487, Q...  \n",
       "3  [Q218, Q2175798, Q3441038, Q7362480, Q18487313...  \n",
       "4            [Q5928, Q6199228, Q28453281, Q50734578]  "
      ]
     },
     "execution_count": 19,
     "metadata": {},
     "output_type": "execute_result"
    }
   ],
   "source": [
    "df.head()"
   ]
  },
  {
   "cell_type": "code",
   "execution_count": null,
   "metadata": {},
   "outputs": [],
   "source": []
  }
 ],
 "metadata": {
  "kernelspec": {
   "display_name": "Python 3",
   "language": "python",
   "name": "python3"
  },
  "language_info": {
   "codemirror_mode": {
    "name": "ipython",
    "version": 3
   },
   "file_extension": ".py",
   "mimetype": "text/x-python",
   "name": "python",
   "nbconvert_exporter": "python",
   "pygments_lexer": "ipython3",
   "version": "3.8.10 (default, Jun 22 2022, 20:18:18) \n[GCC 9.4.0]"
  },
  "orig_nbformat": 4,
  "vscode": {
   "interpreter": {
    "hash": "31f2aee4e71d21fbe5cf8b01ff0e069b9275f58929596ceb00d14d90e3e16cd6"
   }
  }
 },
 "nbformat": 4,
 "nbformat_minor": 2
}
