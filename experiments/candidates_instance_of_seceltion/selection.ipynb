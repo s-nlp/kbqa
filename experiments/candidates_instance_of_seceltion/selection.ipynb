{
 "cells": [
  {
   "cell_type": "code",
   "execution_count": 1,
   "metadata": {},
   "outputs": [
    {
     "name": "stderr",
     "output_type": "stream",
     "text": [
      "/usr/local/lib/python3.8/dist-packages/tqdm/auto.py:22: TqdmWarning: IProgress not found. Please update jupyter and ipywidgets. See https://ipywidgets.readthedocs.io/en/stable/user_install.html\n",
      "  from .autonotebook import tqdm as notebook_tqdm\n"
     ]
    }
   ],
   "source": [
    "import pandas as pd\n",
    "import pickle\n",
    "from tqdm.auto import tqdm\n",
    "import time\n",
    "\n",
    "%load_ext autoreload\n",
    "%autoreload 2\n",
    "from kbqa.wikidata import Entity\n",
    "from kbqa.candidate_selection import QuestionToRankInstanceOf\n",
    "from kbqa.logger import get_logger"
   ]
  },
  {
   "cell_type": "code",
   "execution_count": 2,
   "metadata": {},
   "outputs": [],
   "source": [
    "logger = get_logger()"
   ]
  },
  {
   "cell_type": "code",
   "execution_count": 3,
   "metadata": {},
   "outputs": [
    {
     "data": {
      "text/html": [
       "<div>\n",
       "<style scoped>\n",
       "    .dataframe tbody tr th:only-of-type {\n",
       "        vertical-align: middle;\n",
       "    }\n",
       "\n",
       "    .dataframe tbody tr th {\n",
       "        vertical-align: top;\n",
       "    }\n",
       "\n",
       "    .dataframe thead th {\n",
       "        text-align: right;\n",
       "    }\n",
       "</style>\n",
       "<table border=\"1\" class=\"dataframe\">\n",
       "  <thead>\n",
       "    <tr style=\"text-align: right;\">\n",
       "      <th></th>\n",
       "      <th>question</th>\n",
       "      <th>target</th>\n",
       "      <th>answer_0</th>\n",
       "      <th>answer_1</th>\n",
       "      <th>answer_2</th>\n",
       "      <th>answer_3</th>\n",
       "      <th>answer_4</th>\n",
       "      <th>answer_5</th>\n",
       "      <th>answer_6</th>\n",
       "      <th>answer_7</th>\n",
       "      <th>...</th>\n",
       "      <th>S</th>\n",
       "      <th>P</th>\n",
       "      <th>O</th>\n",
       "      <th>Q</th>\n",
       "      <th>text_with_labeling</th>\n",
       "      <th>ner_entities</th>\n",
       "      <th>mgenre_predicted_entities_list</th>\n",
       "      <th>linked_entities_list</th>\n",
       "      <th>linked_entities_ids_list</th>\n",
       "      <th>one_hop_neighbors</th>\n",
       "    </tr>\n",
       "  </thead>\n",
       "  <tbody>\n",
       "    <tr>\n",
       "      <th>0</th>\n",
       "      <td>Where did roger marquis die</td>\n",
       "      <td>Holyoke</td>\n",
       "      <td>New York City</td>\n",
       "      <td>New York City</td>\n",
       "      <td>Los Angeles</td>\n",
       "      <td>New York City</td>\n",
       "      <td>Los Angeles</td>\n",
       "      <td>Los Angeles</td>\n",
       "      <td>New York City</td>\n",
       "      <td>Los Angeles</td>\n",
       "      <td>...</td>\n",
       "      <td>Q7358590</td>\n",
       "      <td>P20</td>\n",
       "      <td>Q1637790</td>\n",
       "      <td>Where did roger marquis die</td>\n",
       "      <td>Where Did [START] Roger Marquis [END] Die</td>\n",
       "      <td>[roger marquis]</td>\n",
       "      <td>[Roger Marquis &gt;&gt; en, List of Star Trek charac...</td>\n",
       "      <td>[Roger Marquis &gt;&gt; en]</td>\n",
       "      <td>[Q7358590]</td>\n",
       "      <td>{'Q7358590': [('Q5', 'Human'), ('Q30', 'U.S. o...</td>\n",
       "    </tr>\n",
       "    <tr>\n",
       "      <th>1</th>\n",
       "      <td>what was the cause of death of yves klein</td>\n",
       "      <td>myocardial infarction</td>\n",
       "      <td>myocardial infarction</td>\n",
       "      <td>myocardial infarction</td>\n",
       "      <td>myocardial infarction</td>\n",
       "      <td>myocardial infarction</td>\n",
       "      <td>myocardial infarction</td>\n",
       "      <td>tuberculosis</td>\n",
       "      <td>pancreatic cancer</td>\n",
       "      <td>lung cancer</td>\n",
       "      <td>...</td>\n",
       "      <td>Q154335</td>\n",
       "      <td>P509</td>\n",
       "      <td>Q12152</td>\n",
       "      <td>what was the cause of death of yves klein</td>\n",
       "      <td>What Was The Cause Of Death Of [START] Yves Kl...</td>\n",
       "      <td>[yves klein]</td>\n",
       "      <td>[Yves Klein &gt;&gt; en, Yves Klein &gt;&gt; fr, Yves Klei...</td>\n",
       "      <td>[Yves Klein &gt;&gt; en]</td>\n",
       "      <td>[Q154335]</td>\n",
       "      <td>{'Q154335': [('Q150', 'Franska'), ('Q5', 'Huma...</td>\n",
       "    </tr>\n",
       "    <tr>\n",
       "      <th>2</th>\n",
       "      <td>What position does carlos gomez play?</td>\n",
       "      <td>center fielder</td>\n",
       "      <td>midfielder</td>\n",
       "      <td>defender</td>\n",
       "      <td>defender</td>\n",
       "      <td>midfielder</td>\n",
       "      <td>defender</td>\n",
       "      <td>defender</td>\n",
       "      <td>defender</td>\n",
       "      <td>midfielder</td>\n",
       "      <td>...</td>\n",
       "      <td>Q2747238</td>\n",
       "      <td>P413</td>\n",
       "      <td>Q5059480</td>\n",
       "      <td>What position does carlos gomez play?</td>\n",
       "      <td>What Position Does [START] Carlos Gomez [END] ...</td>\n",
       "      <td>[carlos gomez]</td>\n",
       "      <td>[Carlos Gómez &gt;&gt; en, Carlos Gómez (footballer,...</td>\n",
       "      <td>[Carlos Gomez &gt;&gt; en]</td>\n",
       "      <td>[Q2747238]</td>\n",
       "      <td>{'Q2747238': [('Q5', 'Human'), ('Q786', 'Quisq...</td>\n",
       "    </tr>\n",
       "    <tr>\n",
       "      <th>3</th>\n",
       "      <td>how does engelbert zaschka identify</td>\n",
       "      <td>male</td>\n",
       "      <td>Germans</td>\n",
       "      <td>Germans</td>\n",
       "      <td>Germanists</td>\n",
       "      <td>Germans</td>\n",
       "      <td>homosexuality</td>\n",
       "      <td>Jewishness</td>\n",
       "      <td>Germans</td>\n",
       "      <td>Germanists</td>\n",
       "      <td>...</td>\n",
       "      <td>Q62498</td>\n",
       "      <td>P21</td>\n",
       "      <td>Q6581097</td>\n",
       "      <td>how does engelbert zaschka identify</td>\n",
       "      <td>How Does [START] Engelbert Zaschka [END] Identify</td>\n",
       "      <td>[engelbert zaschka]</td>\n",
       "      <td>[Engelbert Zaschka &gt;&gt; en, Engelbert Zaschka &gt;&gt;...</td>\n",
       "      <td>[Engelbert Zaschka &gt;&gt; en]</td>\n",
       "      <td>[Q62498]</td>\n",
       "      <td>{'Q62498': [('Q183', 'GERMANY'), ('Q5', 'Human...</td>\n",
       "    </tr>\n",
       "    <tr>\n",
       "      <th>4</th>\n",
       "      <td>what position does pee wee reese play in baseball</td>\n",
       "      <td>shortstop</td>\n",
       "      <td>catcher</td>\n",
       "      <td>catcher</td>\n",
       "      <td>catcher</td>\n",
       "      <td>outfielder</td>\n",
       "      <td>catcher</td>\n",
       "      <td>catcher</td>\n",
       "      <td>catcher</td>\n",
       "      <td>outfielder</td>\n",
       "      <td>...</td>\n",
       "      <td>Q182485</td>\n",
       "      <td>P413</td>\n",
       "      <td>Q1143358</td>\n",
       "      <td>what position does pee wee reese play in baseball</td>\n",
       "      <td>What Position Does [START] Pee Wee Reese [END]...</td>\n",
       "      <td>[pee wee reese]</td>\n",
       "      <td>[Pee Wee Reese &gt;&gt; en, Pee Wee Reese &gt;&gt; de, Pee...</td>\n",
       "      <td>[Pee Wee Reese &gt;&gt; en]</td>\n",
       "      <td>[Q182485]</td>\n",
       "      <td>{'Q182485': [('Q5', 'Human'), ('Q30', 'U.S. of...</td>\n",
       "    </tr>\n",
       "  </tbody>\n",
       "</table>\n",
       "<p>5 rows × 213 columns</p>\n",
       "</div>"
      ],
      "text/plain": [
       "                                            question                 target  \\\n",
       "0                        Where did roger marquis die                Holyoke   \n",
       "1          what was the cause of death of yves klein  myocardial infarction   \n",
       "2              What position does carlos gomez play?         center fielder   \n",
       "3               how does engelbert zaschka identify                    male   \n",
       "4  what position does pee wee reese play in baseball              shortstop   \n",
       "\n",
       "                answer_0               answer_1               answer_2  \\\n",
       "0          New York City          New York City            Los Angeles   \n",
       "1  myocardial infarction  myocardial infarction  myocardial infarction   \n",
       "2             midfielder               defender               defender   \n",
       "3                Germans                Germans             Germanists   \n",
       "4                catcher                catcher                catcher   \n",
       "\n",
       "                answer_3               answer_4      answer_5  \\\n",
       "0          New York City            Los Angeles   Los Angeles   \n",
       "1  myocardial infarction  myocardial infarction  tuberculosis   \n",
       "2             midfielder               defender      defender   \n",
       "3                Germans          homosexuality    Jewishness   \n",
       "4             outfielder                catcher       catcher   \n",
       "\n",
       "            answer_6     answer_7  ...         S     P         O  \\\n",
       "0      New York City  Los Angeles  ...  Q7358590   P20  Q1637790   \n",
       "1  pancreatic cancer  lung cancer  ...   Q154335  P509    Q12152   \n",
       "2           defender   midfielder  ...  Q2747238  P413  Q5059480   \n",
       "3            Germans   Germanists  ...    Q62498   P21  Q6581097   \n",
       "4            catcher   outfielder  ...   Q182485  P413  Q1143358   \n",
       "\n",
       "                                                   Q  \\\n",
       "0                        Where did roger marquis die   \n",
       "1          what was the cause of death of yves klein   \n",
       "2              What position does carlos gomez play?   \n",
       "3               how does engelbert zaschka identify    \n",
       "4  what position does pee wee reese play in baseball   \n",
       "\n",
       "                                  text_with_labeling         ner_entities  \\\n",
       "0          Where Did [START] Roger Marquis [END] Die      [roger marquis]   \n",
       "1  What Was The Cause Of Death Of [START] Yves Kl...         [yves klein]   \n",
       "2  What Position Does [START] Carlos Gomez [END] ...       [carlos gomez]   \n",
       "3  How Does [START] Engelbert Zaschka [END] Identify  [engelbert zaschka]   \n",
       "4  What Position Does [START] Pee Wee Reese [END]...      [pee wee reese]   \n",
       "\n",
       "                      mgenre_predicted_entities_list  \\\n",
       "0  [Roger Marquis >> en, List of Star Trek charac...   \n",
       "1  [Yves Klein >> en, Yves Klein >> fr, Yves Klei...   \n",
       "2  [Carlos Gómez >> en, Carlos Gómez (footballer,...   \n",
       "3  [Engelbert Zaschka >> en, Engelbert Zaschka >>...   \n",
       "4  [Pee Wee Reese >> en, Pee Wee Reese >> de, Pee...   \n",
       "\n",
       "        linked_entities_list linked_entities_ids_list  \\\n",
       "0      [Roger Marquis >> en]               [Q7358590]   \n",
       "1         [Yves Klein >> en]                [Q154335]   \n",
       "2       [Carlos Gomez >> en]               [Q2747238]   \n",
       "3  [Engelbert Zaschka >> en]                 [Q62498]   \n",
       "4      [Pee Wee Reese >> en]                [Q182485]   \n",
       "\n",
       "                                   one_hop_neighbors  \n",
       "0  {'Q7358590': [('Q5', 'Human'), ('Q30', 'U.S. o...  \n",
       "1  {'Q154335': [('Q150', 'Franska'), ('Q5', 'Huma...  \n",
       "2  {'Q2747238': [('Q5', 'Human'), ('Q786', 'Quisq...  \n",
       "3  {'Q62498': [('Q183', 'GERMANY'), ('Q5', 'Human...  \n",
       "4  {'Q182485': [('Q5', 'Human'), ('Q30', 'U.S. of...  \n",
       "\n",
       "[5 rows x 213 columns]"
      ]
     },
     "execution_count": 3,
     "metadata": {},
     "output_type": "execute_result"
    }
   ],
   "source": [
<<<<<<< HEAD
    "seq2seq_results_df = pd.read_csv(\n",
    "    \"../../../runs/wdsq_tunned/google_t5-large-ssm/evaluation/version_4/results.csv\"\n",
    ")\n",
=======
    "seq2seq_results_df = pd.read_csv('../../../runs/wdsq_tunned/google_t5-large-ssm/evaluation/version_4/results.csv')\n",
>>>>>>> f05ffd290a842160b134ded9b19c9816801178c0
    "seq2seq_results_df.head()\n",
    "\n",
    "answers_cols = seq2seq_results_df.columns[2:-1]\n",
    "answers_cols\n",
    "\n",
<<<<<<< HEAD
    "with open(\"../simplequestions_candidate_selection_dataset/test.pkl\", \"rb\") as fh:\n",
    "    test_df = pickle.load(fh)\n",
    "\n",
    "seq2seq_results_df[\"question\"] = seq2seq_results_df[\"question\"].apply(\n",
    "    lambda s: s.replace(\"\\n\", \"\")\n",
    ")\n",
    "\n",
    "final_test_df = seq2seq_results_df.merge(test_df, left_on=\"question\", right_on=\"Q\")\n",
=======
    "with open('../simplequestions_candidate_selection_dataset/test.pkl', 'rb') as fh:\n",
    "    test_df = pickle.load(fh)\n",
    "\n",
    "seq2seq_results_df['question'] = seq2seq_results_df['question'].apply(lambda s: s.replace('\\n', ''))\n",
    "\n",
    "final_test_df = seq2seq_results_df.merge(test_df, left_on='question', right_on='Q')\n",
>>>>>>> f05ffd290a842160b134ded9b19c9816801178c0
    "final_test_df.head()"
   ]
  },
  {
   "cell_type": "code",
   "execution_count": 4,
   "metadata": {},
   "outputs": [
    {
     "name": "stderr",
     "output_type": "stream",
     "text": [
      "  4%|▍         | 200/5186 [01:15<46:43,  1.78it/s]  "
     ]
    },
    {
     "name": "stdout",
     "output_type": "stream",
     "text": [
      "2023-01-06 14:12:32,080 [ERROR]: {\"msg\": \"Expecting value: line 1 column 1 (char 0)\", \"response\": {\"status_code\": 400, \"headers\": {\"server\": \"nginx/1.14.2\", \"date\": \"Fri, 06 Jan 2023 14:12:32 GMT\", \"content-type\": \"text/plain\", \"x-served-by\": \"wdqs1016\", \"access-control-allow-origin\": \"*\", \"content-encoding\": \"gzip\", \"vary\": \"Accept-Encoding\", \"age\": \"1\", \"x-cache\": \"cp3050 miss, cp3062 pass\", \"x-cache-status\": \"pass\", \"server-timing\": \"cache;desc=\\\"pass\\\", host;desc=\\\"cp3062\\\"\", \"strict-transport-security\": \"max-age=106384710; includeSubDomains; preload\", \"report-to\": \"{ \\\"group\\\": \\\"wm_nel\\\", \\\"max_age\\\": 86400, \\\"endpoints\\\": [{ \\\"url\\\": \\\"https://intake-logging.wikimedia.org/v1/events?stream=w3c.reportingapi.network_error&schema_uri=/w3c/reportingapi/network_error/1.0.0\\\" }] }\", \"nel\": \"{ \\\"report_to\\\": \\\"wm_nel\\\", \\\"max_age\\\": 86400, \\\"failure_fraction\\\": 0.05, \\\"success_fraction\\\": 0.0}\", \"accept-ch\": \"Sec-CH-UA-Arch,Sec-CH-UA-Bitness,Sec-CH-UA-Full-Version-List,Sec-CH-UA-Model,Sec-CH-UA-Platform-Version\", \"permissions-policy\": \"interest-cohort=(),ch-ua-arch=(self \\\"intake-analytics.wikimedia.org\\\"),ch-ua-bitness=(self \\\"intake-analytics.wikimedia.org\\\"),ch-ua-full-version-list=(self \\\"intake-analytics.wikimedia.org\\\"),ch-ua-model=(self \\\"intake-analytics.wikimedia.org\\\"),ch-ua-platform-version=(self \\\"intake-analytics.wikimedia.org\\\")\", \"x-client-ip\": \"83.69.192.100\", \"transfer-encoding\": \"chunked\"}}, \"datetime\": \"2023-01-06 14:12:32.080651\", \"process_id\": 1393712}\n",
      "2023-01-06 14:12:32,413 [ERROR]: {\"msg\": \"Expecting value: line 1 column 1 (char 0)\", \"response\": {\"status_code\": 400, \"headers\": {\"server\": \"nginx/1.14.2\", \"date\": \"Fri, 06 Jan 2023 14:12:32 GMT\", \"content-type\": \"text/plain\", \"x-served-by\": \"wdqs1016\", \"access-control-allow-origin\": \"*\", \"content-encoding\": \"gzip\", \"vary\": \"Accept-Encoding\", \"age\": \"0\", \"x-cache\": \"cp3052 miss, cp3062 pass\", \"x-cache-status\": \"pass\", \"server-timing\": \"cache;desc=\\\"pass\\\", host;desc=\\\"cp3062\\\"\", \"strict-transport-security\": \"max-age=106384710; includeSubDomains; preload\", \"report-to\": \"{ \\\"group\\\": \\\"wm_nel\\\", \\\"max_age\\\": 86400, \\\"endpoints\\\": [{ \\\"url\\\": \\\"https://intake-logging.wikimedia.org/v1/events?stream=w3c.reportingapi.network_error&schema_uri=/w3c/reportingapi/network_error/1.0.0\\\" }] }\", \"nel\": \"{ \\\"report_to\\\": \\\"wm_nel\\\", \\\"max_age\\\": 86400, \\\"failure_fraction\\\": 0.05, \\\"success_fraction\\\": 0.0}\", \"accept-ch\": \"Sec-CH-UA-Arch,Sec-CH-UA-Bitness,Sec-CH-UA-Full-Version-List,Sec-CH-UA-Model,Sec-CH-UA-Platform-Version\", \"permissions-policy\": \"interest-cohort=(),ch-ua-arch=(self \\\"intake-analytics.wikimedia.org\\\"),ch-ua-bitness=(self \\\"intake-analytics.wikimedia.org\\\"),ch-ua-full-version-list=(self \\\"intake-analytics.wikimedia.org\\\"),ch-ua-model=(self \\\"intake-analytics.wikimedia.org\\\"),ch-ua-platform-version=(self \\\"intake-analytics.wikimedia.org\\\")\", \"x-client-ip\": \"83.69.192.100\", \"transfer-encoding\": \"chunked\"}}, \"datetime\": \"2023-01-06 14:12:32.413828\", \"process_id\": 1393712}\n"
     ]
    },
    {
     "name": "stderr",
     "output_type": "stream",
     "text": [
      "  7%|▋         | 381/5186 [07:51<1:04:30,  1.24it/s] "
     ]
    },
    {
     "name": "stdout",
     "output_type": "stream",
     "text": [
      "2023-01-06 14:19:07,855 [ERROR]: {\"msg\": \"Expecting value: line 1 column 1 (char 0)\", \"response\": {\"status_code\": 400, \"headers\": {\"server\": \"nginx/1.14.2\", \"date\": \"Fri, 06 Jan 2023 14:19:07 GMT\", \"content-type\": \"text/plain\", \"x-served-by\": \"wdqs1007\", \"access-control-allow-origin\": \"*\", \"content-encoding\": \"gzip\", \"vary\": \"Accept-Encoding\", \"age\": \"0\", \"x-cache\": \"cp3052 miss, cp3062 pass\", \"x-cache-status\": \"pass\", \"server-timing\": \"cache;desc=\\\"pass\\\", host;desc=\\\"cp3062\\\"\", \"strict-transport-security\": \"max-age=106384710; includeSubDomains; preload\", \"report-to\": \"{ \\\"group\\\": \\\"wm_nel\\\", \\\"max_age\\\": 86400, \\\"endpoints\\\": [{ \\\"url\\\": \\\"https://intake-logging.wikimedia.org/v1/events?stream=w3c.reportingapi.network_error&schema_uri=/w3c/reportingapi/network_error/1.0.0\\\" }] }\", \"nel\": \"{ \\\"report_to\\\": \\\"wm_nel\\\", \\\"max_age\\\": 86400, \\\"failure_fraction\\\": 0.05, \\\"success_fraction\\\": 0.0}\", \"accept-ch\": \"Sec-CH-UA-Arch,Sec-CH-UA-Bitness,Sec-CH-UA-Full-Version-List,Sec-CH-UA-Model,Sec-CH-UA-Platform-Version\", \"permissions-policy\": \"interest-cohort=(),ch-ua-arch=(self \\\"intake-analytics.wikimedia.org\\\"),ch-ua-bitness=(self \\\"intake-analytics.wikimedia.org\\\"),ch-ua-full-version-list=(self \\\"intake-analytics.wikimedia.org\\\"),ch-ua-model=(self \\\"intake-analytics.wikimedia.org\\\"),ch-ua-platform-version=(self \\\"intake-analytics.wikimedia.org\\\")\", \"x-client-ip\": \"83.69.192.100\", \"transfer-encoding\": \"chunked\"}}, \"datetime\": \"2023-01-06 14:19:07.855597\", \"process_id\": 1393712}\n"
     ]
    },
    {
     "name": "stderr",
     "output_type": "stream",
     "text": [
      "  8%|▊         | 403/5186 [54:44<10:49:45,  8.15s/it]\n"
     ]
    },
    {
     "ename": "KeyboardInterrupt",
     "evalue": "",
     "output_type": "error",
     "traceback": [
      "\u001b[0;31m---------------------------------------------------------------------------\u001b[0m",
      "\u001b[0;31mKeyboardInterrupt\u001b[0m                         Traceback (most recent call last)",
      "\u001b[1;32m/workspace/kbqa/experiments/candidates_instance_of_seceltion/selection.ipynb Cell 4\u001b[0m in \u001b[0;36m<cell line: 1>\u001b[0;34m()\u001b[0m\n\u001b[1;32m     <a href='vscode-notebook-cell://attached-container%2B7b22636f6e7461696e65724e616d65223a222f73616c6e696b6f765f7067222c2273657474696e6773223a7b22636f6e74657874223a226e6c7032227d7d/workspace/kbqa/experiments/candidates_instance_of_seceltion/selection.ipynb#W3sdnNjb2RlLXJlbW90ZQ%3D%3D?line=9'>10</a>\u001b[0m         \u001b[39mpass\u001b[39;00m\n\u001b[1;32m     <a href='vscode-notebook-cell://attached-container%2B7b22636f6e7461696e65724e616d65223a222f73616c6e696b6f765f7067222c2273657474696e6773223a7b22636f6e74657874223a226e6c7032227d7d/workspace/kbqa/experiments/candidates_instance_of_seceltion/selection.ipynb#W3sdnNjb2RlLXJlbW90ZQ%3D%3D?line=11'>12</a>\u001b[0m qtr \u001b[39m=\u001b[39m QuestionToRankInstanceOf(\n\u001b[1;32m     <a href='vscode-notebook-cell://attached-container%2B7b22636f6e7461696e65724e616d65223a222f73616c6e696b6f765f7067222c2273657474696e6773223a7b22636f6e74657874223a226e6c7032227d7d/workspace/kbqa/experiments/candidates_instance_of_seceltion/selection.ipynb#W3sdnNjb2RlLXJlbW90ZQ%3D%3D?line=12'>13</a>\u001b[0m     row[\u001b[39m'\u001b[39m\u001b[39mquestion\u001b[39m\u001b[39m'\u001b[39m],\n\u001b[1;32m     <a href='vscode-notebook-cell://attached-container%2B7b22636f6e7461696e65724e616d65223a222f73616c6e696b6f765f7067222c2273657474696e6773223a7b22636f6e74657874223a226e6c7032227d7d/workspace/kbqa/experiments/candidates_instance_of_seceltion/selection.ipynb#W3sdnNjb2RlLXJlbW90ZQ%3D%3D?line=13'>14</a>\u001b[0m     question_entities,\n\u001b[1;32m     <a href='vscode-notebook-cell://attached-container%2B7b22636f6e7461696e65724e616d65223a222f73616c6e696b6f765f7067222c2273657474696e6773223a7b22636f6e74657874223a226e6c7032227d7d/workspace/kbqa/experiments/candidates_instance_of_seceltion/selection.ipynb#W3sdnNjb2RlLXJlbW90ZQ%3D%3D?line=14'>15</a>\u001b[0m     answers_candidates,\n\u001b[1;32m     <a href='vscode-notebook-cell://attached-container%2B7b22636f6e7461696e65724e616d65223a222f73616c6e696b6f765f7067222c2273657474696e6773223a7b22636f6e74657874223a226e6c7032227d7d/workspace/kbqa/experiments/candidates_instance_of_seceltion/selection.ipynb#W3sdnNjb2RlLXJlbW90ZQ%3D%3D?line=15'>16</a>\u001b[0m )\n\u001b[0;32m---> <a href='vscode-notebook-cell://attached-container%2B7b22636f6e7461696e65724e616d65223a222f73616c6e696b6f765f7067222c2273657474696e6773223a7b22636f6e74657874223a226e6c7032227d7d/workspace/kbqa/experiments/candidates_instance_of_seceltion/selection.ipynb#W3sdnNjb2RlLXJlbW90ZQ%3D%3D?line=16'>17</a>\u001b[0m qtr\u001b[39m.\u001b[39;49mfinal_answers()\n\u001b[1;32m     <a href='vscode-notebook-cell://attached-container%2B7b22636f6e7461696e65724e616d65223a222f73616c6e696b6f765f7067222c2273657474696e6773223a7b22636f6e74657874223a226e6c7032227d7d/workspace/kbqa/experiments/candidates_instance_of_seceltion/selection.ipynb#W3sdnNjb2RlLXJlbW90ZQ%3D%3D?line=18'>19</a>\u001b[0m logger\u001b[39m.\u001b[39minfo({\n\u001b[1;32m     <a href='vscode-notebook-cell://attached-container%2B7b22636f6e7461696e65724e616d65223a222f73616c6e696b6f765f7067222c2273657474696e6773223a7b22636f6e74657874223a226e6c7032227d7d/workspace/kbqa/experiments/candidates_instance_of_seceltion/selection.ipynb#W3sdnNjb2RlLXJlbW90ZQ%3D%3D?line=19'>20</a>\u001b[0m     \u001b[39m'\u001b[39m\u001b[39mmsg\u001b[39m\u001b[39m'\u001b[39m: \u001b[39mf\u001b[39m\u001b[39m\"\u001b[39m\u001b[39mQuestion \u001b[39m\u001b[39m{\u001b[39;00mrow[\u001b[39m'\u001b[39m\u001b[39mquestion\u001b[39m\u001b[39m'\u001b[39m]\u001b[39m}\u001b[39;00m\u001b[39m processed\u001b[39m\u001b[39m\"\u001b[39m,\n\u001b[1;32m     <a href='vscode-notebook-cell://attached-container%2B7b22636f6e7461696e65724e616d65223a222f73616c6e696b6f765f7067222c2273657474696e6773223a7b22636f6e74657874223a226e6c7032227d7d/workspace/kbqa/experiments/candidates_instance_of_seceltion/selection.ipynb#W3sdnNjb2RlLXJlbW90ZQ%3D%3D?line=20'>21</a>\u001b[0m     \u001b[39m'\u001b[39m\u001b[39melapsed_time[ms]\u001b[39m\u001b[39m'\u001b[39m: time\u001b[39m.\u001b[39mtime() \u001b[39m-\u001b[39m start_time,\n\u001b[1;32m     <a href='vscode-notebook-cell://attached-container%2B7b22636f6e7461696e65724e616d65223a222f73616c6e696b6f765f7067222c2273657474696e6773223a7b22636f6e74657874223a226e6c7032227d7d/workspace/kbqa/experiments/candidates_instance_of_seceltion/selection.ipynb#W3sdnNjb2RlLXJlbW90ZQ%3D%3D?line=21'>22</a>\u001b[0m })\n",
      "File \u001b[0;32m/workspace/kbqa/kbqa/candidate_selection/question_to_rank_by_instance_of.py:146\u001b[0m, in \u001b[0;36mQuestionToRankInstanceOf.final_answers\u001b[0;34m(self)\u001b[0m\n\u001b[1;32m    144\u001b[0m final_answers_list \u001b[39m=\u001b[39m \u001b[39mset\u001b[39m()\n\u001b[1;32m    145\u001b[0m \u001b[39mfor\u001b[39;00m q_entity \u001b[39min\u001b[39;00m \u001b[39mself\u001b[39m\u001b[39m.\u001b[39mquestion_entities:\n\u001b[0;32m--> 146\u001b[0m     \u001b[39mfor\u001b[39;00m _, entity \u001b[39min\u001b[39;00m q_entity\u001b[39m.\u001b[39;49mone_hop_neighbors:\n\u001b[1;32m    147\u001b[0m         \u001b[39mif\u001b[39;00m (\n\u001b[1;32m    148\u001b[0m             \u001b[39mlen\u001b[39m(\u001b[39mset\u001b[39m(entity\u001b[39m.\u001b[39minstance_of)\u001b[39m.\u001b[39mintersection(\u001b[39mself\u001b[39m\u001b[39m.\u001b[39manswer_instance_of))\n\u001b[1;32m    149\u001b[0m             \u001b[39m>\u001b[39m \u001b[39m0\u001b[39m\n\u001b[1;32m    150\u001b[0m         ):\n\u001b[1;32m    151\u001b[0m             final_answers_list\u001b[39m.\u001b[39madd(entity)\n",
      "File \u001b[0;32m/workspace/kbqa/kbqa/wikidata/entity.py:160\u001b[0m, in \u001b[0;36mEntity.one_hop_neighbors\u001b[0;34m(self)\u001b[0m\n\u001b[1;32m    157\u001b[0m     \u001b[39mexcept\u001b[39;00m \u001b[39mValueError\u001b[39;00m:\n\u001b[1;32m    158\u001b[0m         \u001b[39mcontinue\u001b[39;00m\n\u001b[0;32m--> 160\u001b[0m     \u001b[39mif\u001b[39;00m (\u001b[39mproperty\u001b[39;49m, neighbor) \u001b[39mnot\u001b[39;49;00m \u001b[39min\u001b[39;49;00m _one_hop_neighbors:\n\u001b[1;32m    161\u001b[0m         _one_hop_neighbors\u001b[39m.\u001b[39mappend((\u001b[39mproperty\u001b[39m, neighbor))\n\u001b[1;32m    163\u001b[0m \u001b[39mself\u001b[39m\u001b[39m.\u001b[39m_one_hop_neighbors \u001b[39m=\u001b[39m _one_hop_neighbors\n",
      "\u001b[0;31mKeyboardInterrupt\u001b[0m: "
     ]
    }
   ],
   "source": [
    "for _, row in tqdm(final_test_df.iterrows(), total=final_test_df.index.size):\n",
    "    start_time = time.time()\n",
<<<<<<< HEAD
    "    question_entities = [Entity(idx) for idx in row[\"one_hop_neighbors\"].keys()]\n",
    "\n",
=======
    "    question_entities = [Entity(idx) for idx in row['one_hop_neighbors'].keys()]\n",
    "    \n",
>>>>>>> f05ffd290a842160b134ded9b19c9816801178c0
    "    answers_candidates = []\n",
    "    for label in row[answers_cols].unique():\n",
    "        try:\n",
    "            answers_candidates.append(Entity.from_label(label)[0])\n",
    "        except ValueError:\n",
    "            pass\n",
<<<<<<< HEAD
    "\n",
    "    qtr = QuestionToRankInstanceOf(\n",
    "        row[\"question\"],\n",
=======
    "    \n",
    "    qtr = QuestionToRankInstanceOf(\n",
    "        row['question'],\n",
>>>>>>> f05ffd290a842160b134ded9b19c9816801178c0
    "        question_entities,\n",
    "        answers_candidates,\n",
    "    )\n",
    "    qtr.final_answers()\n",
    "\n",
<<<<<<< HEAD
    "    logger.info(\n",
    "        {\n",
    "            \"msg\": f\"Question {row['question']} processed\",\n",
    "            \"elapsed_time[ms]\": time.time() - start_time,\n",
    "        }\n",
    "    )"
=======
    "    logger.info({\n",
    "        'msg': f\"Question {row['question']} processed\",\n",
    "        'elapsed_time[ms]': time.time() - start_time,\n",
    "    })"
>>>>>>> f05ffd290a842160b134ded9b19c9816801178c0
   ]
  },
  {
   "cell_type": "code",
   "execution_count": null,
   "metadata": {},
   "outputs": [],
   "source": []
  }
 ],
 "metadata": {
  "kernelspec": {
   "display_name": "Python 3",
   "language": "python",
   "name": "python3"
  },
  "language_info": {
   "codemirror_mode": {
    "name": "ipython",
    "version": 3
   },
   "file_extension": ".py",
   "mimetype": "text/x-python",
   "name": "python",
   "nbconvert_exporter": "python",
   "pygments_lexer": "ipython3",
   "version": "3.8.10 (default, Jun 22 2022, 20:18:18) \n[GCC 9.4.0]"
  },
  "orig_nbformat": 4,
  "vscode": {
   "interpreter": {
    "hash": "31f2aee4e71d21fbe5cf8b01ff0e069b9275f58929596ceb00d14d90e3e16cd6"
   }
  }
 },
 "nbformat": 4,
 "nbformat_minor": 2
}
