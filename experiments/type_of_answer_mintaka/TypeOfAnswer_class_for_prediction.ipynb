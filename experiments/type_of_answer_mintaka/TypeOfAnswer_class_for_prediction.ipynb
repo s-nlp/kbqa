{
 "cells": [
  {
   "cell_type": "code",
   "execution_count": 14,
   "id": "2f6ae423",
   "metadata": {},
   "outputs": [],
   "source": [
    "from simpletransformers.classification import ClassificationModel"
   ]
  },
  {
   "cell_type": "code",
   "execution_count": 15,
   "id": "5e4a6086",
   "metadata": {},
   "outputs": [],
   "source": [
    "class TypeOfAnswer:\n",
    "    def __init__(self, model_path):\n",
    "\n",
    "        self.model = ClassificationModel(\"bert\", model_path)\n",
    "\n",
    "    def question_type(self, question):\n",
    "\n",
    "        predictions, _ = self.model.predict([str(question)])\n",
    "\n",
    "        if predictions[0] == 1:\n",
    "            return \"entity\"\n",
    "        else:\n",
    "            return \"not entity\""
   ]
  },
  {
   "cell_type": "code",
   "execution_count": 16,
   "id": "b05658ed",
   "metadata": {},
   "outputs": [
    {
     "data": {
      "application/json": {
       "ascii": false,
       "bar_format": null,
       "colour": null,
       "elapsed": 0.018381118774414062,
       "initial": 0,
       "n": 0,
       "ncols": null,
       "nrows": null,
       "postfix": null,
       "prefix": "",
       "rate": null,
       "total": 1,
       "unit": "it",
       "unit_divisor": 1000,
       "unit_scale": false
      },
      "application/vnd.jupyter.widget-view+json": {
       "model_id": "90c9246b7ebd4435bf872e6fa87f2897",
       "version_major": 2,
       "version_minor": 0
      },
      "text/plain": [
       "  0%|          | 0/1 [00:00<?, ?it/s]"
      ]
     },
     "metadata": {},
     "output_type": "display_data"
    },
    {
     "data": {
      "text/plain": [
       "'entity'"
      ]
     },
     "execution_count": 16,
     "metadata": {},
     "output_type": "execute_result"
    }
   ],
   "source": [
    "rlf = TypeOfAnswer(\"./outputs\")\n",
    "\n",
    "rlf.question_type(\n",
    "    \"What man was a famous American author and also a steamboat pilot on the Mississippi River?\"\n",
    ")"
   ]
  },
  {
   "cell_type": "code",
   "execution_count": 17,
   "id": "376f8872",
   "metadata": {},
   "outputs": [
    {
     "data": {
      "application/json": {
       "ascii": false,
       "bar_format": null,
       "colour": null,
       "elapsed": 0.03178238868713379,
       "initial": 0,
       "n": 0,
       "ncols": null,
       "nrows": null,
       "postfix": null,
       "prefix": "",
       "rate": null,
       "total": 1,
       "unit": "it",
       "unit_divisor": 1000,
       "unit_scale": false
      },
      "application/vnd.jupyter.widget-view+json": {
       "model_id": "aa48addd612b41c7b1abe5e59e8602ff",
       "version_major": 2,
       "version_minor": 0
      },
      "text/plain": [
       "  0%|          | 0/1 [00:00<?, ?it/s]"
      ]
     },
     "metadata": {},
     "output_type": "display_data"
    },
    {
     "data": {
      "text/plain": [
       "'not entity'"
      ]
     },
     "execution_count": 17,
     "metadata": {},
     "output_type": "execute_result"
    }
   ],
   "source": [
    "rlf.question_type(\"How many Academy Awards has Jake Gyllenhaal been nominated for?\")"
   ]
  }
 ],
 "metadata": {
  "kernelspec": {
   "display_name": "Python 3 (ipykernel)",
   "language": "python",
   "name": "python3"
  },
  "language_info": {
   "codemirror_mode": {
    "name": "ipython",
    "version": 3
   },
   "file_extension": ".py",
   "mimetype": "text/x-python",
   "name": "python",
   "nbconvert_exporter": "python",
   "pygments_lexer": "ipython3",
   "version": "3.8.10"
  }
 },
 "nbformat": 4,
 "nbformat_minor": 5
}
