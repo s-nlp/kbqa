{
 "cells": [
  {
   "cell_type": "code",
   "execution_count": 4,
   "id": "692c7225",
   "metadata": {},
   "outputs": [],
   "source": [
    "from true_case_detection import TrueCaseDetection"
   ]
  },
  {
   "cell_type": "code",
   "execution_count": 3,
   "id": "b3633d24",
   "metadata": {},
   "outputs": [
    {
     "data": {
      "text/plain": [
       "'[START] Where did Roger Marquis die [END]'"
      ]
     },
     "execution_count": 3,
     "metadata": {},
     "output_type": "execute_result"
    }
   ],
   "source": [
    "### Truecase Without NER Mayhewsw\n",
    "sent = 'Where did roger marquis die'\n",
    "true_caser = TrueCaseDetection()\n",
    "true_caser.truecase_withoutner_mayhewsw(sent)"
   ]
  },
  {
   "cell_type": "code",
   "execution_count": 4,
   "id": "50c53a8a",
   "metadata": {},
   "outputs": [
    {
     "data": {
      "text/plain": [
       "'Where did [START] Roger Marquis [END] die'"
      ]
     },
     "execution_count": 4,
     "metadata": {},
     "output_type": "execute_result"
    }
   ],
   "source": [
    "### Truecase With NER Mayhewsw\n",
    "\n",
    "#example truecase with ner mayhewsw\n",
    "sent = 'Where did roger marquis die'\n",
    "\n",
    "#sentence with ner is taken from NerToSentenceInsertion class\n",
    "sentence_with_ner = \"Where did [START] roger marquis [END] die\"\n",
    "\n",
    "sentence_true_case = true_caser.truecase_withoutner_mayhewsw(sent)\n",
    "\n",
    "true_caser.truecase_withner_mayhewsw(sentence_with_ner, sentence_true_case)"
   ]
  },
  {
   "cell_type": "markdown",
   "id": "247b2cdd",
   "metadata": {},
   "source": [
    "### Expected NER, TrueCase and reranking procedure\n",
    "\n",
    "1) Obtain prediction Truecase With NER Mayhewsw\n",
    "\n",
    "2) Obtain prediction for the Truecase Without NER Mayhewsw\n",
    "\n",
    "3) Obtain prediction for the initial sentence with class NerToSentenceInsertion\n",
    "\n",
    "4) Compute function predictions_reranking (Truecase With NER Mayhewsw, Truecase Without NER Mayhewsw )\n",
    "\n",
    "5) Compute function predictions_reranking (class NerToSentenceInsertion, prediction obtained in step 4)"
   ]
  },
  {
   "cell_type": "code",
   "execution_count": 9,
   "id": "50ee1d6f",
   "metadata": {},
   "outputs": [
    {
     "data": {
      "text/plain": [
       "'Q7358590, Q8068232, Q8012493, Q2712858, Q7358592, Q6628665, Q7358590, Q1773375, Q6628660, Q763848, Q7358592'"
      ]
     },
     "execution_count": 9,
     "metadata": {},
     "output_type": "execute_result"
    }
   ],
   "source": [
    "#1\n",
    "preds_truecase_with_ner = \"Q7358590, Q7358592, Q1773375\"\n",
    "#2\n",
    "preds_truecase_without_ner = \"Q8012493, Q7358590, Q6628660, Q763848, Q7358592\"\n",
    "#3\n",
    "preds_ner_to_sentence_insertion = \"Q7358590, Q8068232, Q2712858, Q6628665\"\n",
    "#4\n",
    "reranking_1step = true_caser.predictions_reranking(preds_truecase_with_ner, preds_truecase_without_ner)\n",
    "#5\n",
    "reranking_2step = true_caser.predictions_reranking(preds_ner_to_sentence_insertion, reranking_1step)\n",
    "reranking_2step"
   ]
  }
 ],
 "metadata": {
  "kernelspec": {
   "display_name": "Python 3 (ipykernel)",
   "language": "python",
   "name": "python3"
  },
  "language_info": {
   "codemirror_mode": {
    "name": "ipython",
    "version": 3
   },
   "file_extension": ".py",
   "mimetype": "text/x-python",
   "name": "python",
   "nbconvert_exporter": "python",
   "pygments_lexer": "ipython3",
   "version": "3.7.3"
  }
 },
 "nbformat": 4,
 "nbformat_minor": 5
}
