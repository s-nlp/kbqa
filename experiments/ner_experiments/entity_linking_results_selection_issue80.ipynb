{
 "cells": [
  {
   "cell_type": "code",
   "execution_count": 1,
   "metadata": {},
   "outputs": [
    {
     "name": "stderr",
     "output_type": "stream",
     "text": [
      "/usr/local/lib/python3.8/dist-packages/tqdm/auto.py:22: TqdmWarning: IProgress not found. Please update jupyter and ipywidgets. See https://ipywidgets.readthedocs.io/en/stable/user_install.html\n",
      "  from .autonotebook import tqdm as notebook_tqdm\n"
     ]
    }
   ],
   "source": [
    "from tqdm import tqdm\n",
    "import pandas as pd\n",
    "import spacy\n",
    "import torch\n",
    "import pickle\n",
    "import numpy as np\n",
    "from nltk.stem.porter import *\n",
    "\n",
    "tqdm.pandas()\n",
    "\n",
    "import sys\n",
    "sys.path.insert(0,'../../')\n",
    "\n",
    "%load_ext autoreload\n",
    "%autoreload 2\n",
    "\n",
    "from wikidata.wikidata_entity_to_label import WikidataEntityToLabel\n",
    "from wikidata.wikidata_redirects import WikidataRedirectsCache\n",
    "from metrics import recall"
   ]
  },
  {
   "cell_type": "code",
   "execution_count": 2,
   "metadata": {},
   "outputs": [
    {
     "data": {
      "text/html": [
       "<div>\n",
       "<style scoped>\n",
       "    .dataframe tbody tr th:only-of-type {\n",
       "        vertical-align: middle;\n",
       "    }\n",
       "\n",
       "    .dataframe tbody tr th {\n",
       "        vertical-align: top;\n",
       "    }\n",
       "\n",
       "    .dataframe thead th {\n",
       "        text-align: right;\n",
       "    }\n",
       "</style>\n",
       "<table border=\"1\" class=\"dataframe\">\n",
       "  <thead>\n",
       "    <tr style=\"text-align: right;\">\n",
       "      <th></th>\n",
       "      <th>subject</th>\n",
       "      <th>property</th>\n",
       "      <th>object</th>\n",
       "      <th>question</th>\n",
       "      <th>subject_text</th>\n",
       "      <th>flag</th>\n",
       "      <th>subject_text_add</th>\n",
       "      <th>subject_text_all</th>\n",
       "    </tr>\n",
       "  </thead>\n",
       "  <tbody>\n",
       "    <tr>\n",
       "      <th>0</th>\n",
       "      <td>Q7358590</td>\n",
       "      <td>P20</td>\n",
       "      <td>Q1637790</td>\n",
       "      <td>Where did roger marquis die</td>\n",
       "      <td>Roger Marquis</td>\n",
       "      <td>1.0</td>\n",
       "      <td>NaN</td>\n",
       "      <td>Roger Marquis</td>\n",
       "    </tr>\n",
       "    <tr>\n",
       "      <th>1</th>\n",
       "      <td>Q154335</td>\n",
       "      <td>P509</td>\n",
       "      <td>Q12152</td>\n",
       "      <td>what was the cause of death of yves klein</td>\n",
       "      <td>Yves Klein, The Void (artwork)</td>\n",
       "      <td>0.0</td>\n",
       "      <td>NaN</td>\n",
       "      <td>Yves Klein, The Void (artwork)</td>\n",
       "    </tr>\n",
       "    <tr>\n",
       "      <th>2</th>\n",
       "      <td>Q2747238</td>\n",
       "      <td>P413</td>\n",
       "      <td>Q5059480</td>\n",
       "      <td>What position does carlos gomez play?</td>\n",
       "      <td>Carlos Gómez, Carlos Gomez, Gómez, Carlos</td>\n",
       "      <td>0.0</td>\n",
       "      <td>NaN</td>\n",
       "      <td>Carlos Gómez, Carlos Gomez, Gómez, Carlos</td>\n",
       "    </tr>\n",
       "    <tr>\n",
       "      <th>3</th>\n",
       "      <td>Q62498</td>\n",
       "      <td>P21</td>\n",
       "      <td>Q6581097</td>\n",
       "      <td>how does engelbert zaschka identify</td>\n",
       "      <td>Engelbert Zaschka, Englebert Zaschka, Rotation...</td>\n",
       "      <td>0.0</td>\n",
       "      <td>NaN</td>\n",
       "      <td>Engelbert Zaschka, Englebert Zaschka, Rotation...</td>\n",
       "    </tr>\n",
       "    <tr>\n",
       "      <th>4</th>\n",
       "      <td>Q182485</td>\n",
       "      <td>P413</td>\n",
       "      <td>Q1143358</td>\n",
       "      <td>what position does pee wee reese play in baseball</td>\n",
       "      <td>Pee Wee Reese, Harold H. Reese, Harold Henry &amp;...</td>\n",
       "      <td>0.0</td>\n",
       "      <td>NaN</td>\n",
       "      <td>Pee Wee Reese, Harold H. Reese, Harold Henry &amp;...</td>\n",
       "    </tr>\n",
       "  </tbody>\n",
       "</table>\n",
       "</div>"
      ],
      "text/plain": [
       "    subject property    object  \\\n",
       "0  Q7358590      P20  Q1637790   \n",
       "1   Q154335     P509    Q12152   \n",
       "2  Q2747238     P413  Q5059480   \n",
       "3    Q62498      P21  Q6581097   \n",
       "4   Q182485     P413  Q1143358   \n",
       "\n",
       "                                            question  \\\n",
       "0                        Where did roger marquis die   \n",
       "1          what was the cause of death of yves klein   \n",
       "2              What position does carlos gomez play?   \n",
       "3               how does engelbert zaschka identify    \n",
       "4  what position does pee wee reese play in baseball   \n",
       "\n",
       "                                        subject_text  flag subject_text_add  \\\n",
       "0                                      Roger Marquis   1.0              NaN   \n",
       "1                     Yves Klein, The Void (artwork)   0.0              NaN   \n",
       "2          Carlos Gómez, Carlos Gomez, Gómez, Carlos   0.0              NaN   \n",
       "3  Engelbert Zaschka, Englebert Zaschka, Rotation...   0.0              NaN   \n",
       "4  Pee Wee Reese, Harold H. Reese, Harold Henry &...   0.0              NaN   \n",
       "\n",
       "                                    subject_text_all  \n",
       "0                                      Roger Marquis  \n",
       "1                     Yves Klein, The Void (artwork)  \n",
       "2          Carlos Gómez, Carlos Gomez, Gómez, Carlos  \n",
       "3  Engelbert Zaschka, Englebert Zaschka, Rotation...  \n",
       "4  Pee Wee Reese, Harold H. Reese, Harold Henry &...  "
      ]
     },
     "execution_count": 2,
     "metadata": {},
     "output_type": "execute_result"
    }
   ],
   "source": [
    "dataset = pd.read_csv('data_third_iteration.csv')\n",
    "dataset.head()"
   ]
  },
  {
   "cell_type": "code",
   "execution_count": 3,
   "metadata": {},
   "outputs": [
    {
     "data": {
      "text/html": [
       "<div>\n",
       "<style scoped>\n",
       "    .dataframe tbody tr th:only-of-type {\n",
       "        vertical-align: middle;\n",
       "    }\n",
       "\n",
       "    .dataframe tbody tr th {\n",
       "        vertical-align: top;\n",
       "    }\n",
       "\n",
       "    .dataframe thead th {\n",
       "        text-align: right;\n",
       "    }\n",
       "</style>\n",
       "<table border=\"1\" class=\"dataframe\">\n",
       "  <thead>\n",
       "    <tr style=\"text-align: right;\">\n",
       "      <th></th>\n",
       "      <th>S</th>\n",
       "      <th>P</th>\n",
       "      <th>O</th>\n",
       "      <th>Q</th>\n",
       "      <th>Q_with_NER</th>\n",
       "      <th>q_without_ner_mayhewsw</th>\n",
       "      <th>q_with_ner_mayhewsw</th>\n",
       "      <th>Q_with_NER_entities</th>\n",
       "      <th>q_without_ner_mayhewsw_entities</th>\n",
       "      <th>q_with_ner_mayhewsw_entities</th>\n",
       "      <th>entities_after_rerank_v1</th>\n",
       "    </tr>\n",
       "  </thead>\n",
       "  <tbody>\n",
       "    <tr>\n",
       "      <th>0</th>\n",
       "      <td>Q7358590</td>\n",
       "      <td>P20</td>\n",
       "      <td>Q1637790</td>\n",
       "      <td>Where did roger marquis die</td>\n",
       "      <td>Where Did [START] Roger Marquis [END] Die</td>\n",
       "      <td>[START] Where did Roger Marquis die [END]</td>\n",
       "      <td>Where did [START] Roger Marquis [END] Die</td>\n",
       "      <td>[{'id': 'Q7358590', 'texts': ['Roger Marquis &gt;...</td>\n",
       "      <td>[{'id': 'Q8012493', 'texts': ['List of stories...</td>\n",
       "      <td>[{'id': 'Q7358590', 'texts': ['Roger Marquis &gt;...</td>\n",
       "      <td>[Q7358590, Q6598240, Q8012493, Q8068232, Q4993...</td>\n",
       "    </tr>\n",
       "    <tr>\n",
       "      <th>1</th>\n",
       "      <td>Q154335</td>\n",
       "      <td>P509</td>\n",
       "      <td>Q12152</td>\n",
       "      <td>what was the cause of death of yves klein</td>\n",
       "      <td>What Was The Cause Of Death Of [START] Yves Kl...</td>\n",
       "      <td>[START] What was the cause of death of Yves Kl...</td>\n",
       "      <td>What was the cause of death of [START] Yves Kl...</td>\n",
       "      <td>[{'id': 'Q154335', 'texts': ['Yves Klein &gt;&gt; en...</td>\n",
       "      <td>[{'id': 'Q154335', 'texts': ['Yves Klein &gt;&gt; en...</td>\n",
       "      <td>[{'id': 'Q154335', 'texts': ['Yves Klein &gt;&gt; en...</td>\n",
       "      <td>[Q154335, Q1931388, Q633234]</td>\n",
       "    </tr>\n",
       "    <tr>\n",
       "      <th>2</th>\n",
       "      <td>Q2747238</td>\n",
       "      <td>P413</td>\n",
       "      <td>Q5059480</td>\n",
       "      <td>What position does carlos gomez play?</td>\n",
       "      <td>What Position Does [START] Carlos Gomez [END] ...</td>\n",
       "      <td>[START] What position does Carlos Gomez play? ...</td>\n",
       "      <td>What position does [START] Carlos Gomez [END] ...</td>\n",
       "      <td>[{'id': 'Q2747238', 'texts': ['Carlos Gómez &gt;&gt;...</td>\n",
       "      <td>[{'id': 'Q2747238', 'texts': ['Carlos Gómez &gt;&gt;...</td>\n",
       "      <td>[{'id': 'Q2747238', 'texts': ['Carlos Gómez &gt;&gt;...</td>\n",
       "      <td>[Q2747238, Q5042155, Q203210, Q62592284, Q5555...</td>\n",
       "    </tr>\n",
       "  </tbody>\n",
       "</table>\n",
       "</div>"
      ],
      "text/plain": [
       "          S     P         O                                          Q  \\\n",
       "0  Q7358590   P20  Q1637790                Where did roger marquis die   \n",
       "1   Q154335  P509    Q12152  what was the cause of death of yves klein   \n",
       "2  Q2747238  P413  Q5059480      What position does carlos gomez play?   \n",
       "\n",
       "                                          Q_with_NER  \\\n",
       "0          Where Did [START] Roger Marquis [END] Die   \n",
       "1  What Was The Cause Of Death Of [START] Yves Kl...   \n",
       "2  What Position Does [START] Carlos Gomez [END] ...   \n",
       "\n",
       "                              q_without_ner_mayhewsw  \\\n",
       "0          [START] Where did Roger Marquis die [END]   \n",
       "1  [START] What was the cause of death of Yves Kl...   \n",
       "2  [START] What position does Carlos Gomez play? ...   \n",
       "\n",
       "                                 q_with_ner_mayhewsw  \\\n",
       "0          Where did [START] Roger Marquis [END] Die   \n",
       "1  What was the cause of death of [START] Yves Kl...   \n",
       "2  What position does [START] Carlos Gomez [END] ...   \n",
       "\n",
       "                                 Q_with_NER_entities  \\\n",
       "0  [{'id': 'Q7358590', 'texts': ['Roger Marquis >...   \n",
       "1  [{'id': 'Q154335', 'texts': ['Yves Klein >> en...   \n",
       "2  [{'id': 'Q2747238', 'texts': ['Carlos Gómez >>...   \n",
       "\n",
       "                     q_without_ner_mayhewsw_entities  \\\n",
       "0  [{'id': 'Q8012493', 'texts': ['List of stories...   \n",
       "1  [{'id': 'Q154335', 'texts': ['Yves Klein >> en...   \n",
       "2  [{'id': 'Q2747238', 'texts': ['Carlos Gómez >>...   \n",
       "\n",
       "                        q_with_ner_mayhewsw_entities  \\\n",
       "0  [{'id': 'Q7358590', 'texts': ['Roger Marquis >...   \n",
       "1  [{'id': 'Q154335', 'texts': ['Yves Klein >> en...   \n",
       "2  [{'id': 'Q2747238', 'texts': ['Carlos Gómez >>...   \n",
       "\n",
       "                            entities_after_rerank_v1  \n",
       "0  [Q7358590, Q6598240, Q8012493, Q8068232, Q4993...  \n",
       "1                       [Q154335, Q1931388, Q633234]  \n",
       "2  [Q2747238, Q5042155, Q203210, Q62592284, Q5555...  "
      ]
     },
     "execution_count": 3,
     "metadata": {},
     "output_type": "execute_result"
    }
   ],
   "source": [
    "df = pd.read_pickle('./WD_SQ_test_with_entities_rerank_v1.pkl')\n",
    "df.head(3)"
   ]
  },
  {
   "cell_type": "code",
   "execution_count": 4,
   "metadata": {},
   "outputs": [],
   "source": [
    "df = dataset.merge(df, left_on='question', right_on='Q')[[\n",
    "    'subject', 'property', 'object',\n",
    "    'question',\n",
    "    'subject_text',\n",
    "    'Q_with_NER_entities',\n",
    "]]"
   ]
  },
  {
   "cell_type": "code",
   "execution_count": 5,
   "metadata": {},
   "outputs": [],
   "source": [
    "def check_label_fn(label, entities_list):\n",
    "    if label in entities_list:\n",
    "        return True\n",
    "    return False\n",
    "\n",
    "\n",
    "def entities_selection(q, preds, ner_model, check_label_fn=check_label_fn):\n",
    "    final_preds = []\n",
    "\n",
    "    doc = ner_model(q)\n",
    "    entities = [e.text.lower() for e in doc.ents]\n",
    "\n",
    "    for pred in preds:\n",
    "        label = None\n",
    "        for text in pred['texts']:\n",
    "            _label, lang = text.split(' >> ')\n",
    "            if lang == 'en':\n",
    "                label = _label\n",
    "\n",
    "        if label is not None:\n",
    "            label = label.lower()\n",
    "            if check_label_fn(label, entities):\n",
    "                if isinstance(pred['scores'], torch.Tensor):\n",
    "                    pred['scores'] = pred['scores'].cpu().numpy().tolist()\n",
    "                    pred['score'] = pred['score'].cpu().numpy().tolist()\n",
    "                final_preds.append(pred)\n",
    "        \n",
    "    return final_preds\n"
   ]
  },
  {
   "cell_type": "code",
   "execution_count": 6,
   "metadata": {},
   "outputs": [
    {
     "name": "stderr",
     "output_type": "stream",
     "text": [
      "100%|██████████| 5676/5676 [02:25<00:00, 38.94it/s]\n"
     ]
    }
   ],
   "source": [
    "ner_model = spacy.load('../../../ner_model')\n",
    "\n",
    "df['baseline_entities_selection'] = df.progress_apply(\n",
    "    lambda row: entities_selection(row['question'], row['Q_with_NER_entities'], ner_model),\n",
    "    axis=1\n",
    ")"
   ]
  },
  {
   "cell_type": "markdown",
   "metadata": {},
   "source": [
    "## Without selection"
   ]
  },
  {
   "cell_type": "code",
   "execution_count": 34,
   "metadata": {},
   "outputs": [
    {
     "name": "stderr",
     "output_type": "stream",
     "text": [
      "recall: 100%|██████████| 5676/5676 [00:00<00:00, 125340.87it/s]\n"
     ]
    },
    {
     "name": "stdout",
     "output_type": "stream",
     "text": [
      "recall_with_redirects:  0.755461592670895\n"
     ]
    },
    {
     "name": "stderr",
     "output_type": "stream",
     "text": [
      "recall: 100%|██████████| 5676/5676 [00:00<00:00, 428165.70it/s]\n",
      "/tmp/ipykernel_199977/1616030520.py:33: VisibleDeprecationWarning: Creating an ndarray from ragged nested sequences (which is a list-or-tuple of lists-or-tuples-or ndarrays with different lengths or shapes) is deprecated. If you meant to do this, you must specify 'dtype=object' when creating the ndarray.\n",
      "  np.array(targets)[not_missed_candidates_idxs].tolist(),\n",
      "/tmp/ipykernel_199977/1616030520.py:34: VisibleDeprecationWarning: Creating an ndarray from ragged nested sequences (which is a list-or-tuple of lists-or-tuples-or ndarrays with different lengths or shapes) is deprecated. If you meant to do this, you must specify 'dtype=object' when creating the ndarray.\n",
      "  np.array(candidates)[not_missed_candidates_idxs].tolist()\n"
     ]
    },
    {
     "name": "stdout",
     "output_type": "stream",
     "text": [
      "recall_without_redirects:  0.7274489076814659\n"
     ]
    },
    {
     "name": "stderr",
     "output_type": "stream",
     "text": [
      "recall: 100%|██████████| 5642/5642 [00:00<00:00, 207584.90it/s]\n",
      "/tmp/ipykernel_199977/1616030520.py:40: VisibleDeprecationWarning: Creating an ndarray from ragged nested sequences (which is a list-or-tuple of lists-or-tuples-or ndarrays with different lengths or shapes) is deprecated. If you meant to do this, you must specify 'dtype=object' when creating the ndarray.\n",
      "  np.array(candidates)[not_missed_candidates_idxs].tolist()\n"
     ]
    },
    {
     "name": "stdout",
     "output_type": "stream",
     "text": [
      "recall_with_redirects_without_missed:  0.760014179369018\n"
     ]
    },
    {
     "name": "stderr",
     "output_type": "stream",
     "text": [
      "recall: 100%|██████████| 5642/5642 [00:00<00:00, 432421.44it/s]"
     ]
    },
    {
     "name": "stdout",
     "output_type": "stream",
     "text": [
      "recall_without_redirects_without_missed:  0.7318326834455867\n"
     ]
    },
    {
     "name": "stderr",
     "output_type": "stream",
     "text": [
      "\n"
     ]
    }
   ],
   "source": [
    "def entities_to_labels(entities):\n",
    "    labels = []\n",
    "    for e in entities:\n",
    "        for text in e['texts']:\n",
    "            label, lang = text.split(' >> ')\n",
    "            if lang == 'en':\n",
    "                labels.append(label)\n",
    "    return labels\n",
    "\n",
    "targets = df['subject_text'].fillna('').apply(\n",
    "    lambda s: s.split(', ')\n",
    ").values.tolist()\n",
    "candidates = df['Q_with_NER_entities'].apply(entities_to_labels).values.tolist()\n",
    "candidates = [c[:1] for c in candidates]\n",
    "\n",
    "recall_with_redirects = recall(\n",
    "    targets,\n",
    "    candidates\n",
    ")\n",
    "print(\"recall_with_redirects: \", recall_with_redirects)\n",
    "\n",
    "\n",
    "recall_without_redirects = recall(\n",
    "    [t[:1] for t in targets],\n",
    "    candidates\n",
    ")\n",
    "print(\"recall_without_redirects: \", recall_without_redirects)\n",
    "\n",
    "\n",
    "not_missed_candidates_idxs = [idx for idx, cl in enumerate(candidates) if cl != []]\n",
    "\n",
    "recall_with_redirects_without_missed = recall(\n",
    "    np.array(targets, dtype=object)[not_missed_candidates_idxs].tolist(),\n",
    "    np.array(candidates, dtype=object)[not_missed_candidates_idxs].tolist()\n",
    ")\n",
    "print(\"recall_with_redirects_without_missed: \", recall_with_redirects_without_missed)\n",
    "\n",
    "recall_without_redirects_without_missed = recall(\n",
    "    np.array([t[:1] for t in targets])[not_missed_candidates_idxs].tolist(),\n",
    "    np.array(candidates)[not_missed_candidates_idxs].tolist()\n",
    ")\n",
    "print(\"recall_without_redirects_without_missed: \", recall_without_redirects_without_missed)"
   ]
  },
  {
   "cell_type": "markdown",
   "metadata": {},
   "source": [
    "## Selection baseline"
   ]
  },
  {
   "cell_type": "code",
   "execution_count": 35,
   "metadata": {},
   "outputs": [
    {
     "name": "stderr",
     "output_type": "stream",
     "text": [
      "recall: 100%|██████████| 5676/5676 [00:00<00:00, 290628.94it/s]\n"
     ]
    },
    {
     "name": "stdout",
     "output_type": "stream",
     "text": [
      "recall_with_redirects:  0.5181465821000705\n"
     ]
    },
    {
     "name": "stderr",
     "output_type": "stream",
     "text": [
      "recall: 100%|██████████| 5676/5676 [00:00<00:00, 562903.31it/s]\n",
      "/tmp/ipykernel_199977/2577221110.py:21: VisibleDeprecationWarning: Creating an ndarray from ragged nested sequences (which is a list-or-tuple of lists-or-tuples-or ndarrays with different lengths or shapes) is deprecated. If you meant to do this, you must specify 'dtype=object' when creating the ndarray.\n",
      "  np.array(targets)[not_missed_candidates_idxs].tolist(),\n",
      "/tmp/ipykernel_199977/2577221110.py:22: VisibleDeprecationWarning: Creating an ndarray from ragged nested sequences (which is a list-or-tuple of lists-or-tuples-or ndarrays with different lengths or shapes) is deprecated. If you meant to do this, you must specify 'dtype=object' when creating the ndarray.\n",
      "  np.array(candidates)[not_missed_candidates_idxs].tolist()\n"
     ]
    },
    {
     "name": "stdout",
     "output_type": "stream",
     "text": [
      "recall_without_redirects:  0.5042283298097252\n"
     ]
    },
    {
     "name": "stderr",
     "output_type": "stream",
     "text": [
      "recall: 100%|██████████| 3633/3633 [00:00<00:00, 272304.84it/s]\n",
      "/tmp/ipykernel_199977/2577221110.py:28: VisibleDeprecationWarning: Creating an ndarray from ragged nested sequences (which is a list-or-tuple of lists-or-tuples-or ndarrays with different lengths or shapes) is deprecated. If you meant to do this, you must specify 'dtype=object' when creating the ndarray.\n",
      "  np.array(candidates)[not_missed_candidates_idxs].tolist()\n"
     ]
    },
    {
     "name": "stdout",
     "output_type": "stream",
     "text": [
      "recall_with_redirects_without_missed:  0.8095238095238095\n"
     ]
    },
    {
     "name": "stderr",
     "output_type": "stream",
     "text": [
      "recall: 100%|██████████| 3633/3633 [00:00<00:00, 492291.75it/s]"
     ]
    },
    {
     "name": "stdout",
     "output_type": "stream",
     "text": [
      "recall_without_redirects_without_missed:  0.7877786952931461\n"
     ]
    },
    {
     "name": "stderr",
     "output_type": "stream",
     "text": [
      "\n"
     ]
    }
   ],
   "source": [
    "candidates = df['baseline_entities_selection'].apply(entities_to_labels).values.tolist()\n",
    "candidates = [c[:1] for c in candidates]\n",
    "\n",
    "recall_with_redirects = recall(\n",
    "    targets,\n",
    "    candidates\n",
    ")\n",
    "print(\"recall_with_redirects: \", recall_with_redirects)\n",
    "\n",
    "\n",
    "recall_without_redirects = recall(\n",
    "    [t[:1] for t in targets],\n",
    "    candidates\n",
    ")\n",
    "print(\"recall_without_redirects: \", recall_without_redirects)\n",
    "\n",
    "\n",
    "not_missed_candidates_idxs = [idx for idx, cl in enumerate(candidates) if cl != []]\n",
    "\n",
    "recall_with_redirects_without_missed = recall(\n",
    "    np.array(targets, dtype=object)[not_missed_candidates_idxs].tolist(),\n",
    "    np.array(candidates, dtype=object)[not_missed_candidates_idxs].tolist()\n",
    ")\n",
    "print(\"recall_with_redirects_without_missed: \", recall_with_redirects_without_missed)\n",
    "\n",
    "recall_without_redirects_without_missed = recall(\n",
    "    np.array([t[:1] for t in targets])[not_missed_candidates_idxs].tolist(),\n",
    "    np.array(candidates)[not_missed_candidates_idxs].tolist()\n",
    ")\n",
    "print(\"recall_without_redirects_without_missed: \", recall_without_redirects_without_missed)"
   ]
  },
  {
   "cell_type": "markdown",
   "metadata": {},
   "source": [
    "## Selection v1"
   ]
  },
  {
   "cell_type": "code",
   "execution_count": 8,
   "metadata": {},
   "outputs": [
    {
     "name": "stderr",
     "output_type": "stream",
     "text": [
      "100%|██████████| 5676/5676 [10:08<00:00,  9.32it/s]\n"
     ]
    }
   ],
   "source": [
    "from functools import lru_cache\n",
    "\n",
    "stemmer = PorterStemmer()\n",
    "\n",
    "@lru_cache(maxsize=8192)\n",
    "def label_format_fn(label, stemmer=stemmer):\n",
    "    ' '.join([stemmer.stem(str(token)) for token in ner_model(label)])\n",
    "\n",
    "\n",
    "def check_label_fn(label, entities_list):\n",
    "    label = label_format_fn(label)\n",
    "    for entity in entities_list:\n",
    "        entity = label_format_fn(entity)\n",
    "        if label == entity:\n",
    "            return True\n",
    "    return False\n",
    "\n",
    "\n",
    "df['entities_selection_v1'] = df.progress_apply(\n",
    "    lambda row: entities_selection(row['question'], row['Q_with_NER_entities'], ner_model, check_label_fn),\n",
    "    axis=1\n",
    ")"
   ]
  },
  {
   "cell_type": "code",
   "execution_count": 32,
   "metadata": {},
   "outputs": [
    {
     "name": "stderr",
     "output_type": "stream",
     "text": [
      "recall: 100%|██████████| 5676/5676 [07:24<00:00, 12.76it/s] \n"
     ]
    },
    {
     "name": "stdout",
     "output_type": "stream",
     "text": [
      "recall_with_redirects:  0.9793868921775899\n"
     ]
    },
    {
     "name": "stderr",
     "output_type": "stream",
     "text": [
      "recall: 100%|██████████| 5676/5676 [01:10<00:00, 80.75it/s] \n",
      "/tmp/ipykernel_199977/90985407.py:23: VisibleDeprecationWarning: Creating an ndarray from ragged nested sequences (which is a list-or-tuple of lists-or-tuples-or ndarrays with different lengths or shapes) is deprecated. If you meant to do this, you must specify 'dtype=object' when creating the ndarray.\n",
      "  np.array(targets)[not_missed_candidates_idxs].tolist(),\n",
      "/tmp/ipykernel_199977/90985407.py:24: VisibleDeprecationWarning: Creating an ndarray from ragged nested sequences (which is a list-or-tuple of lists-or-tuples-or ndarrays with different lengths or shapes) is deprecated. If you meant to do this, you must specify 'dtype=object' when creating the ndarray.\n",
      "  np.array(candidates)[not_missed_candidates_idxs].tolist(),\n"
     ]
    },
    {
     "name": "stdout",
     "output_type": "stream",
     "text": [
      "recall_without_redirects:  0.9793868921775899\n"
     ]
    },
    {
     "name": "stderr",
     "output_type": "stream",
     "text": [
      "recall: 100%|██████████| 5559/5559 [05:10<00:00, 17.90it/s]\n",
      "/tmp/ipykernel_199977/90985407.py:31: VisibleDeprecationWarning: Creating an ndarray from ragged nested sequences (which is a list-or-tuple of lists-or-tuples-or ndarrays with different lengths or shapes) is deprecated. If you meant to do this, you must specify 'dtype=object' when creating the ndarray.\n",
      "  np.array(candidates)[not_missed_candidates_idxs].tolist(),\n"
     ]
    },
    {
     "name": "stdout",
     "output_type": "stream",
     "text": [
      "recall_with_redirects_without_missed:  1.0\n"
     ]
    },
    {
     "name": "stderr",
     "output_type": "stream",
     "text": [
      "recall: 100%|██████████| 5559/5559 [01:06<00:00, 84.00it/s] "
     ]
    },
    {
     "name": "stdout",
     "output_type": "stream",
     "text": [
      "recall_without_redirects_without_missed:  1.0\n"
     ]
    },
    {
     "name": "stderr",
     "output_type": "stream",
     "text": [
      "\n"
     ]
    }
   ],
   "source": [
    "candidates = df['entities_selection_v1'].apply(entities_to_labels).values.tolist()\n",
    "candidates = [c[:1] for c in candidates]\n",
    "\n",
    "recall_with_redirects = recall(\n",
    "    targets,\n",
    "    candidates,\n",
    "    label_preprocessor_fn=label_format_fn\n",
    ")\n",
    "print(\"recall_with_redirects: \", recall_with_redirects)\n",
    "\n",
    "\n",
    "recall_without_redirects = recall(\n",
    "    [t[:1] for t in targets],\n",
    "    candidates,\n",
    "    label_preprocessor_fn=label_format_fn\n",
    ")\n",
    "print(\"recall_without_redirects: \", recall_without_redirects)\n",
    "\n",
    "\n",
    "not_missed_candidates_idxs = [idx for idx, cl in enumerate(candidates) if cl != []]\n",
    "\n",
    "recall_with_redirects_without_missed = recall(\n",
    "    np.array(targets, dtype=object)[not_missed_candidates_idxs].tolist(),\n",
    "    np.array(candidates, dtype=object)[not_missed_candidates_idxs].tolist(),\n",
    "    label_preprocessor_fn=label_format_fn\n",
    ")\n",
    "print(\"recall_with_redirects_without_missed: \", recall_with_redirects_without_missed)\n",
    "\n",
    "recall_without_redirects_without_missed = recall(\n",
    "    np.array([t[:1] for t in targets])[not_missed_candidates_idxs].tolist(),\n",
    "    np.array(candidates)[not_missed_candidates_idxs].tolist(),\n",
    "    label_preprocessor_fn=label_format_fn\n",
    ")\n",
    "print(\"recall_without_redirects_without_missed: \", recall_without_redirects_without_missed)"
   ]
  },
  {
   "cell_type": "code",
   "execution_count": 25,
   "metadata": {},
   "outputs": [],
   "source": [
    "def mgenre_entities_view(preds):\n",
    "    final_preds = []\n",
    "    for pred in preds:\n",
    "        label = None\n",
    "        for text in pred['texts']:\n",
    "            _label, lang = text.split(' >> ')\n",
    "            if lang == 'en':\n",
    "                label = _label\n",
    "\n",
    "        if label is not None:\n",
    "            label = label.lower()\n",
    "            final_preds.append({'texts': pred['texts'], 'id': pred['id']})\n",
    "    return final_preds\n",
    "\n",
    "\n",
    "_df = df.copy()\n",
    "for col in ['Q_with_NER_entities', 'baseline_entities_selection', 'entities_selection_v1']:\n",
    "    _df[col] = _df[col].apply(mgenre_entities_view)\n",
    "    \n",
    "_df.to_excel('WDSQ_EL_selection.xlsx')"
   ]
  },
  {
   "cell_type": "code",
   "execution_count": null,
   "metadata": {},
   "outputs": [],
   "source": []
  }
 ],
 "metadata": {
  "kernelspec": {
   "display_name": "Python 3.8.10 64-bit",
   "language": "python",
   "name": "python3"
  },
  "language_info": {
   "codemirror_mode": {
    "name": "ipython",
    "version": 3
   },
   "file_extension": ".py",
   "mimetype": "text/x-python",
   "name": "python",
   "nbconvert_exporter": "python",
   "pygments_lexer": "ipython3",
   "version": "3.8.10"
  },
  "orig_nbformat": 4,
  "vscode": {
   "interpreter": {
    "hash": "916dbcbb3f70747c44a77c7bcd40155683ae19c65e1c03b4aa3499c5328201f1"
   }
  }
 },
 "nbformat": 4,
 "nbformat_minor": 2
}
