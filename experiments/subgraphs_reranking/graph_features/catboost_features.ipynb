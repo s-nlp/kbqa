{
 "cells": [
  {
   "cell_type": "code",
   "execution_count": 3,
   "metadata": {},
   "outputs": [
    {
     "data": {
      "text/plain": [
       "device(type='cuda')"
      ]
     },
     "execution_count": 3,
     "metadata": {},
     "output_type": "execute_result"
    }
   ],
   "source": [
    "import sys\n",
    "import torch\n",
    "\n",
    "sys.path.append(\"/workspace/kbqa/\")  # go to parent dir\n",
    "device = torch.device(\"cuda\" if torch.cuda.is_available() else \"cpu\")\n",
    "device"
   ]
  },
  {
   "cell_type": "markdown",
   "metadata": {},
   "source": [
    "#### Configuration\n",
    "\n",
    "In the cell below, you can configure what type of training. For instance, you can choose what type of sequence to train catboost on (both, gap, or g2t); or what kind of dataset (either xl or large). The following options are valid:\n",
    "\n",
    "* `finetune`: to whether do gridsearch on catboost, or just use default params\n",
    "* `sequence_type`: choices=[determ, gap, or g2t] \n",
    "* `ds_type`: either T5-large-ssm or T5-xl-ssm. The graph features dataset (`features_ds_path`) and the seq2seq outputs dataset (`test_csv_path`) will be depended on the specified model from this argument.\n",
    "* model_weights: None or the provided model weight, if None, train from scratch\n",
    "* `save_path`: model weights, reranking results and features importance will be saved in this folder\n"
   ]
  },
  {
   "cell_type": "code",
   "execution_count": 4,
   "metadata": {},
   "outputs": [],
   "source": [
    "from pathlib import Path\n",
    "\n",
    "# None if training from scratch, else eveuating\n",
    "model_weights = (\n",
    "   None #\"/workspace/storage/misc/features_reranking/no_cherries_fixed_train_g2t_xl/best_model\"\n",
    ")\n",
    "with_tdidf = False\n",
    "num_iters = 100000\n",
    "sequence_type = \"gap\"\n",
    "ds_type = \"large\"\n",
    "test_csv_path = f\"hle2000/Mintaka_T5_{ds_type}_ssm_outputs\"\n",
    "features_ds_path = f\"s-nlp/Mintaka_Graph_Features_T5-{ds_type}-ssm\"\n",
    "\n",
    "finetune = False if model_weights else False\n",
    "save_path = f\"/workspace/storage/misc/features_reranking/no_cherries_fixed_train_{sequence_type}_{ds_type}/\"\n",
    "cache_path = \"/workspace/storage/misc/huggingface\"\n",
    "if not model_weights:\n",
    "    Path(save_path).mkdir(parents=True, exist_ok=True)"
   ]
  },
  {
   "cell_type": "code",
   "execution_count": 6,
   "metadata": {},
   "outputs": [],
   "source": [
    "import numpy as np\n",
    "\n",
    "\n",
    "def arr_to_str(arr):\n",
    "    arr = list(arr)\n",
    "    return \",\".join(str(a) for a in arr)\n",
    "\n",
    "\n",
    "def str_to_arr(str):\n",
    "    arr = str.split(\",\")\n",
    "    arr = [float(a) for a in arr]\n",
    "    return np.array(arr)"
   ]
  },
  {
   "cell_type": "markdown",
   "metadata": {},
   "source": [
    "### Reading and Processing the Data"
   ]
  },
  {
   "cell_type": "code",
   "execution_count": 7,
   "metadata": {},
   "outputs": [
    {
     "name": "stderr",
     "output_type": "stream",
     "text": [
      "Found cached dataset parquet (/workspace/storage/misc/huggingface/s-nlp___parquet/s-nlp--Mintaka_Graph_Features_T5-xl-ssm-b86a615720d5466b/0.0.0/2a3b91fbd88a2c90d1dbbb32b460cf621d31bd5b05b934492fdef7d8d6f236ec)\n"
     ]
    },
    {
     "data": {
      "application/vnd.jupyter.widget-view+json": {
       "model_id": "8a482c61db094d87af6450eba96a2aee",
       "version_major": 2,
       "version_minor": 0
      },
      "text/plain": [
       "  0%|          | 0/3 [00:00<?, ?it/s]"
      ]
     },
     "metadata": {},
     "output_type": "display_data"
    }
   ],
   "source": [
    "from datasets import load_dataset\n",
    "\n",
    "graph_features_ds = load_dataset(features_ds_path, cache_dir=cache_path)\n",
    "processed_train_df = graph_features_ds[\"train\"].to_pandas()\n",
    "processed_val_df = graph_features_ds[\"validation\"].to_pandas()\n",
    "processed_test_df = graph_features_ds[\"test\"].to_pandas()"
   ]
  },
  {
   "cell_type": "markdown",
   "metadata": {},
   "source": [
    "##### Processing Numeric Features"
   ]
  },
  {
   "cell_type": "code",
   "execution_count": 8,
   "metadata": {},
   "outputs": [],
   "source": [
    "def get_numeric_cols(df):\n",
    "    \"\"\"return all cols with numeric features\"\"\"\n",
    "    cols_numeric = []\n",
    "    for k, v in df.dtypes.to_dict().items():\n",
    "        if (v is np.dtype(\"int64\") or v is np.dtype(\"float64\")) and k != \"correct\":\n",
    "            cols_numeric.append(k)\n",
    "\n",
    "    return cols_numeric"
   ]
  },
  {
   "cell_type": "code",
   "execution_count": 9,
   "metadata": {},
   "outputs": [],
   "source": [
    "from sklearn import preprocessing\n",
    "\n",
    "min_max_scaler = preprocessing.MinMaxScaler()\n",
    "\n",
    "\n",
    "def apply_col_scale(df, col, scale_type):\n",
    "    \"\"\"apply min max scaling\"\"\"\n",
    "    if scale_type == 'train':\n",
    "        df[col] = min_max_scaler.fit_transform(df[col])\n",
    "    else:\n",
    "        df[col] = min_max_scaler.transform(df[col])\n",
    "    return df\n",
    "\n",
    "# get the numerica cols in train and test to scale\n",
    "train_numeric_cols = get_numeric_cols(processed_train_df)\n",
    "val_numeric_cols = get_numeric_cols(processed_val_df)\n",
    "test_numeric_cols = get_numeric_cols(processed_test_df)\n",
    "\n",
    "processed_train_df = apply_col_scale(processed_train_df, train_numeric_cols, 'train')\n",
    "processed_val_df = apply_col_scale(processed_val_df, val_numeric_cols, 'val')\n",
    "processed_test_df = apply_col_scale(processed_test_df, test_numeric_cols, 'test')"
   ]
  },
  {
   "cell_type": "markdown",
   "metadata": {},
   "source": [
    "##### Processing Text and Embedding Features"
   ]
  },
  {
   "cell_type": "code",
   "execution_count": 10,
   "metadata": {},
   "outputs": [],
   "source": [
    "def filter_df_sequence(dataframe, seq_type):\n",
    "    \"\"\"filter df base on the sequence type,\n",
    "    return filtered df & textual + embedding features\"\"\"\n",
    "    textual_feat = [\"determ_sequence\", \"g2t_sequence\", \"gap_sequence\"]\n",
    "    \n",
    "    if seq_type == \"g2t\":\n",
    "        rm_lst = [\"determ_sequence\", \"gap_sequence\"]\n",
    "    elif seq_type == \"determ\":\n",
    "        rm_lst = [\"g2t_sequence\", \"gap_sequence\"]\n",
    "    elif seq_type == \"gap\":\n",
    "        rm_lst = [\"determ_sequence\", \"g2t_sequence\"]\n",
    "    drop_text_cols = [item for item in textual_feat if item in rm_lst]\n",
    "    drop_em_cols = [f\"{feat}_embedding\" for feat in drop_text_cols]\n",
    "    dataframe = dataframe.drop(drop_text_cols + drop_em_cols, axis=1)\n",
    "    textual_feat = [f\"{seq_type}_sequence\"]\n",
    "    emb_feat = [f\"{seq_type}_sequence_embedding\"]\n",
    "    \n",
    "    return dataframe, textual_feat, emb_feat"
   ]
  },
  {
   "cell_type": "code",
   "execution_count": 11,
   "metadata": {},
   "outputs": [],
   "source": [
    "text_features = [\"question_answer\"]\n",
    "emb_features = [\"question_answer_embedding\"]\n",
    "processed_train_df, textual_feats, embd_feats = filter_df_sequence(\n",
    "    processed_train_df, sequence_type\n",
    ")\n",
    "processed_val_df, _, _ = filter_df_sequence(processed_val_df, sequence_type)\n",
    "processed_test_df, _, _ = filter_df_sequence(processed_test_df, sequence_type)\n",
    "text_features += textual_feats\n",
    "emb_features += embd_feats"
   ]
  },
  {
   "cell_type": "code",
   "execution_count": 12,
   "metadata": {},
   "outputs": [],
   "source": [
    "# make sure text features are str dtype\n",
    "def process_text_features(df, text_features):\n",
    "    for text_feat in text_features:\n",
    "        df[text_feat] = df[text_feat].astype(\"string\")\n",
    "    return df\n",
    "\n",
    "\n",
    "processed_train_df = process_text_features(processed_train_df, text_features)\n",
    "processed_val_df = process_text_features(processed_val_df, text_features)\n",
    "processed_test_df = process_text_features(processed_test_df, text_features)\n",
    "\n",
    "processed_train_df = processed_train_df.dropna()\n",
    "processed_val_df = processed_val_df.dropna()\n",
    "processed_test_df = processed_test_df.dropna()"
   ]
  },
  {
   "cell_type": "code",
   "execution_count": 14,
   "metadata": {},
   "outputs": [
    {
     "name": "stdout",
     "output_type": "stream",
     "text": [
      "question_answer_embedding\n",
      "g2t_sequence_embedding\n"
     ]
    }
   ],
   "source": [
    "# turn str representation of embeddings back to np array\n",
    "for e_f in emb_features:\n",
    "    print(e_f)\n",
    "    processed_train_df[e_f] = processed_train_df[e_f].apply(str_to_arr)\n",
    "    processed_val_df[e_f] = processed_val_df[e_f].apply(str_to_arr)\n",
    "    processed_test_df[e_f] = processed_test_df[e_f].apply(str_to_arr)"
   ]
  },
  {
   "cell_type": "code",
   "execution_count": 15,
   "metadata": {},
   "outputs": [],
   "source": [
    "# dropping TDA tfidf\n",
    "processed_train_df = processed_train_df.drop(\"tfidf_vector\", axis=1)\n",
    "processed_val_df = processed_val_df.drop(\"tfidf_vector\", axis=1)\n",
    "processed_test_df = processed_test_df.drop(\"tfidf_vector\", axis=1)\n",
    "\n",
    "# preparing data for catboost training\n",
    "drop_cols = [\"correct\", \"question\"]\n",
    "X_train = processed_train_df.drop(drop_cols, axis=1)\n",
    "y_train = processed_train_df[\"correct\"].tolist()\n",
    "X_test = processed_val_df.drop(drop_cols, axis=1)\n",
    "y_test = processed_val_df[\"correct\"].tolist()"
   ]
  },
  {
   "cell_type": "code",
   "execution_count": 16,
   "metadata": {},
   "outputs": [],
   "source": [
    "import numpy as np\n",
    "\n",
    "\n",
    "def find_weight(target):\n",
    "    \"\"\"find weight for imbalanced classification\"\"\"\n",
    "    class_sample_count = np.array(\n",
    "        [len(np.where(target == t)[0]) for t in np.unique(target)]\n",
    "    )\n",
    "    weight = 1.0 / class_sample_count\n",
    "    samples_weight = np.array([weight[int(t)] for t in target])\n",
    "\n",
    "    samples_weight = np.double(samples_weight)\n",
    "    return samples_weight"
   ]
  },
  {
   "cell_type": "markdown",
   "metadata": {},
   "source": [
    "#### Catboost"
   ]
  },
  {
   "cell_type": "code",
   "execution_count": 17,
   "metadata": {},
   "outputs": [],
   "source": [
    "from catboost import Pool, CatBoostRegressor\n",
    "\n",
    "learn_pool = Pool(\n",
    "    X_train,\n",
    "    y_train,\n",
    "    text_features=text_features,\n",
    "    feature_names=list(X_train),\n",
    "    embedding_features=emb_features,\n",
    "    weight=find_weight(y_train),\n",
    ")\n",
    "\n",
    "test_pool = Pool(\n",
    "    X_test,\n",
    "    y_test,\n",
    "    text_features=text_features,\n",
    "    feature_names=list(X_test),\n",
    "    embedding_features=emb_features,\n",
    ")"
   ]
  },
  {
   "cell_type": "markdown",
   "metadata": {},
   "source": [
    "#### Grid search"
   ]
  },
  {
   "cell_type": "code",
   "execution_count": 18,
   "metadata": {},
   "outputs": [],
   "source": [
    "if finetune:\n",
    "    print(\"finetuning\")\n",
    "    params = {\n",
    "        \"learning_rate\": [0.03, 0.1],\n",
    "        \"depth\": [4, 6, 10],\n",
    "        \"l2_leaf_reg\": [5, 7, 9, 11],\n",
    "    }\n",
    "    model = CatBoostRegressor()\n",
    "    grid_search_result = model.grid_search(params, learn_pool)\n",
    "\n",
    "    lr = grid_search_result[\"params\"][\"learning_rate\"]\n",
    "    depth = grid_search_result[\"params\"][\"depth\"]\n",
    "    leaf = grid_search_result[\"params\"][\"l2_leaf_reg\"]\n",
    "else:\n",
    "    lr = 0.1\n",
    "    depth = 6\n",
    "    leaf = 9"
   ]
  },
  {
   "cell_type": "markdown",
   "metadata": {},
   "source": [
    "#### Fitting best params"
   ]
  },
  {
   "cell_type": "code",
   "execution_count": 19,
   "metadata": {},
   "outputs": [
    {
     "name": "stdout",
     "output_type": "stream",
     "text": [
      "loading model\n"
     ]
    }
   ],
   "source": [
    "if model_weights:  # eval\n",
    "    print(\"loading model\")\n",
    "    model = CatBoostRegressor()  # parameters not required.\n",
    "    model.load_model(model_weights)\n",
    "else:  # train from scratch\n",
    "    print(\"training from scratch\")\n",
    "    model = CatBoostRegressor(\n",
    "        iterations=num_iters,\n",
    "        learning_rate=lr,\n",
    "        depth=depth,\n",
    "        l2_leaf_reg=leaf,\n",
    "        # task_type=\"GPU\",\n",
    "        early_stopping_rounds=1000,\n",
    "        eval_metric=\"RMSE\",\n",
    "    )\n",
    "\n",
    "    model.fit(learn_pool, eval_set=test_pool, verbose=200)\n",
    "    model.save_model(Path(save_path) / \"best_model\")\n",
    "    print(f\"model saved at {save_path}\")"
   ]
  },
  {
   "cell_type": "markdown",
   "metadata": {},
   "source": [
    "#### Reranking"
   ]
  },
  {
   "cell_type": "code",
   "execution_count": 20,
   "metadata": {},
   "outputs": [
    {
     "name": "stderr",
     "output_type": "stream",
     "text": [
      "Found cached dataset parquet (/workspace/storage/misc/huggingface/hle2000___parquet/hle2000--Mintaka_T5_xl_ssm_outputs-059583fb07b6dc35/0.0.0/2a3b91fbd88a2c90d1dbbb32b460cf621d31bd5b05b934492fdef7d8d6f236ec)\n"
     ]
    },
    {
     "data": {
      "application/vnd.jupyter.widget-view+json": {
       "model_id": "a5fff45000694e2a97b506187897678f",
       "version_major": 2,
       "version_minor": 0
      },
      "text/plain": [
       "  0%|          | 0/3 [00:00<?, ?it/s]"
      ]
     },
     "metadata": {},
     "output_type": "display_data"
    }
   ],
   "source": [
    "from datasets import load_dataset, DatasetDict, Dataset\n",
    "seq2seq_outputs = load_dataset(\n",
    "    test_csv_path, verification_mode=\"no_checks\", cache_dir=cache_path\n",
    ")\n",
    "train_seq2seq = seq2seq_outputs['train'].to_pandas()\n",
    "test_seq2seq = seq2seq_outputs['test'].to_pandas()\n",
    "val_seq2seq = seq2seq_outputs['validation'].to_pandas()"
   ]
  },
  {
   "cell_type": "code",
   "execution_count": 22,
   "metadata": {},
   "outputs": [],
   "source": [
    "from tqdm import tqdm\n",
    "def rerank(test_df, seq2seq_res, black_list):\n",
    "    final_acc, top200_total, top1_total, seq2seq_correct = 0, 0, 0, 0\n",
    "    exclude = 0\n",
    "\n",
    "    for idx, group in tqdm(seq2seq_res.iterrows()):\n",
    "        curr_question_df = test_df[\n",
    "            test_df[\"question\"] == group[\"question\"]\n",
    "        ]\n",
    "        if group['question'] in black_list:\n",
    "            exclude += 1\n",
    "            continue\n",
    "        curr_question_df = curr_question_df.drop(\"question\", axis=1)\n",
    "        \n",
    "        if (\n",
    "            len(curr_question_df) == 0\n",
    "        ):  # we don't have subgraph for this question, take answer from seq2seq\n",
    "            if group[\"answer_0\"] == group[\"target\"]:\n",
    "                seq2seq_correct += 1\n",
    "            else:  # check if answer exist in 200 beams for question with no subgraphs\n",
    "                all_beams = group.tolist()[2:-1]  # all 200 beams\n",
    "                all_beams = set(all_beams)\n",
    "                top200_total += 1 if group[\"target\"] in all_beams else 0\n",
    "\n",
    "        else:  # we have subgraph for this question\n",
    "            all_beams = group.tolist()[2:-1]  # all 200 beams\n",
    "            all_beams = set(all_beams)\n",
    "\n",
    "            if group[\"target\"] not in all_beams:  # no correct answer in beam\n",
    "                continue\n",
    "\n",
    "            # correct answer exist in beam\n",
    "            top1_total += 1 if group[\"answer_0\"] == group[\"target\"] else 0\n",
    "            top200_total += 1\n",
    "\n",
    "            is_corrects = curr_question_df[\"correct\"].astype(bool).tolist()\n",
    "            curr_rows = curr_question_df.drop([\"correct\"], axis=1)\n",
    "\n",
    "            preds = model.predict(curr_rows)\n",
    "            max_idx = preds.argmax()\n",
    "\n",
    "            if is_corrects[max_idx] is True:\n",
    "                final_acc += 1\n",
    "\n",
    "    # final reranking, top1 and top200 result\n",
    "    reranking_res = (final_acc + seq2seq_correct) / (len(seq2seq_res) - exclude)\n",
    "    top200 = (top200_total + seq2seq_correct) / (len(seq2seq_res) - exclude)\n",
    "    top1 = (top1_total + seq2seq_correct) / (len(seq2seq_res) - exclude)\n",
    "    return reranking_res, top1, top200"
   ]
  },
  {
   "cell_type": "markdown",
   "metadata": {},
   "source": [
    "##### None filtered re-ranking (4000 questions)"
   ]
  },
  {
   "cell_type": "code",
   "execution_count": 23,
   "metadata": {},
   "outputs": [
    {
     "name": "stderr",
     "output_type": "stream",
     "text": [
      "2000it [00:16, 124.47it/s]\n",
      "4000it [00:27, 146.64it/s]"
     ]
    },
    {
     "name": "stdout",
     "output_type": "stream",
     "text": [
      "Val: reranked@1: 0.374, original@1: 0.3275, @200: 0.686\n",
      "Test: reranked@1: 0.3275, original@1: 0.31725, @200: 0.69025\n"
     ]
    },
    {
     "name": "stderr",
     "output_type": "stream",
     "text": [
      "\n"
     ]
    }
   ],
   "source": [
    "val_reranking_res, val_top1, val_top200 = rerank(processed_val_df, val_seq2seq, [])\n",
    "test_reranking_res, test_top1, test_top200 = rerank(processed_test_df, test_seq2seq, [])\n",
    "with open(Path(save_path) / \"reranking_results\", \"w+\") as f:\n",
    "    f.write(f\"Val: reranked@1: {val_reranking_res}, original@1: {val_top1}, @200: {val_top200}\\n\")\n",
    "    f.write(f\"Test: reranked@1: {test_reranking_res}, original@1: {test_top1}, @200: {test_top200}\\n\")\n",
    "\n",
    "print(f\"Val: reranked@1: {val_reranking_res}, original@1: {val_top1}, @200: {val_top200}\")\n",
    "print(f\"Test: reranked@1: {test_reranking_res}, original@1: {test_top1}, @200: {test_top200}\")"
   ]
  },
  {
   "cell_type": "markdown",
   "metadata": {},
   "source": [
    "##### filtered re-ranking (3200 questions questions)"
   ]
  },
  {
   "cell_type": "code",
   "execution_count": 24,
   "metadata": {},
   "outputs": [
    {
     "name": "stderr",
     "output_type": "stream",
     "text": [
      "No config specified, defaulting to: mintaka/en\n",
      "Found cached dataset mintaka (/workspace/storage/misc/huggingface/AmazonScience___mintaka/en/1.0.0/bb35d95f07aed78fa590601245009c5f585efe909dbd4a8f2a4025ccf65bb11d)\n"
     ]
    },
    {
     "data": {
      "application/vnd.jupyter.widget-view+json": {
       "model_id": "5bcf27f4a70546efa38e7b66f190e52a",
       "version_major": 2,
       "version_minor": 0
      },
      "text/plain": [
       "  0%|          | 0/3 [00:00<?, ?it/s]"
      ]
     },
     "metadata": {},
     "output_type": "display_data"
    }
   ],
   "source": [
    "def get_black_list(ds):\n",
    "    exclude_ds = ds[(ds['complexityType'] == 'yesno') | (ds['complexityType'] == 'count')]\n",
    "    exclude_ques = exclude_ds['question'].tolist()\n",
    "    return exclude_ques\n",
    "\n",
    "mintaka = load_dataset('AmazonScience/mintaka', cache_dir=\"/workspace/storage/misc/huggingface\")\n",
    "exclude_ques_val = get_black_list(mintaka['validation'].to_pandas())\n",
    "exclude_ques_test = get_black_list(mintaka['test'].to_pandas())"
   ]
  },
  {
   "cell_type": "code",
   "execution_count": 26,
   "metadata": {},
   "outputs": [
    {
     "name": "stderr",
     "output_type": "stream",
     "text": [
      "2000it [00:12, 159.10it/s]\n",
      "4000it [00:27, 145.90it/s]"
     ]
    },
    {
     "name": "stdout",
     "output_type": "stream",
     "text": [
      "Val: reranked@1: 0.296875, original@1: 0.300625, @200: 0.6125\n",
      "Test: reranked@1: 0.3009375, original@1: 0.288125, @200: 0.6203125\n"
     ]
    },
    {
     "name": "stderr",
     "output_type": "stream",
     "text": [
      "\n"
     ]
    }
   ],
   "source": [
    "val_reranking_res, val_top1, val_top200 = rerank(processed_val_df, val_seq2seq, exclude_ques_val)\n",
    "test_reranking_res, test_top1, test_top200 = rerank(processed_test_df, test_seq2seq, exclude_ques_test)\n",
    "with open(Path(save_path) / \"filtered_reranking_results\", \"w+\") as f:\n",
    "    f.write(f\"Val: reranked@1: {val_reranking_res}, original@1: {val_top1}, @200: {val_top200}\\n\")\n",
    "    f.write(f\"Test: reranked@1: {test_reranking_res}, original@1: {test_top1}, @200: {test_top200}\\n\")\n",
    "\n",
    "print(f\"Val: reranked@1: {val_reranking_res}, original@1: {val_top1}, @200: {val_top200}\")\n",
    "print(f\"Test: reranked@1: {test_reranking_res}, original@1: {test_top1}, @200: {test_top200}\")"
   ]
  },
  {
   "cell_type": "markdown",
   "metadata": {},
   "source": [
    "#### Features Importance"
   ]
  },
  {
   "cell_type": "code",
   "execution_count": 31,
   "metadata": {},
   "outputs": [
    {
     "data": {
      "image/png": "[encoded data removed]",
      "text/plain": [
       "<Figure size 640x480 with 1 Axes>"
      ]
     },
     "metadata": {},
     "output_type": "display_data"
    }
   ],
   "source": [
    "import matplotlib.pyplot as plt\n",
    "\n",
    "col_names = X_test.columns.tolist()\n",
    "features_importance = model.get_feature_importance(data=test_pool)\n",
    "\n",
    "plt.barh(col_names, features_importance)\n",
    "plt.tight_layout()\n",
    "plt.savefig(Path(save_path) / \"features_importance.png\")\n",
    "plt.show()"
   ]
  },
  {
   "cell_type": "code",
   "execution_count": null,
   "metadata": {},
   "outputs": [],
   "source": []
  }
 ],
 "metadata": {
  "kernelspec": {
   "display_name": "Python 3",
   "language": "python",
   "name": "python3"
  },
  "language_info": {
   "codemirror_mode": {
    "name": "ipython",
    "version": 3
   },
   "file_extension": ".py",
   "mimetype": "text/x-python",
   "name": "python",
   "nbconvert_exporter": "python",
   "pygments_lexer": "ipython3",
   "version": "3.8.10"
  }
 },
 "nbformat": 4,
 "nbformat_minor": 2
}
