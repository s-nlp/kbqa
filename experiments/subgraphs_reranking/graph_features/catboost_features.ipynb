{
 "cells": [
  {
   "cell_type": "code",
   "execution_count": 1,
   "metadata": {},
   "outputs": [
    {
     "data": {
      "text/plain": [
       "device(type='cuda')"
      ]
     },
     "execution_count": 1,
     "metadata": {},
     "output_type": "execute_result"
    }
   ],
   "source": [
    "import sys\n",
    "import torch\n",
    "\n",
    "sys.path.append(\"/workspace/kbqa/\")  # go to parent dir\n",
    "device = torch.device(\"cuda\" if torch.cuda.is_available() else \"cpu\")\n",
    "device"
   ]
  },
  {
   "cell_type": "code",
   "execution_count": 2,
   "metadata": {},
   "outputs": [
    {
     "data": {
      "text/plain": [
       "datetime.datetime(2024, 3, 18, 8, 42, 35, 590823)"
      ]
     },
     "execution_count": 2,
     "metadata": {},
     "output_type": "execute_result"
    }
   ],
   "source": [
    "import datetime\n",
    "\n",
    "now = datetime.datetime.now()\n",
    "now"
   ]
  },
  {
   "cell_type": "markdown",
   "metadata": {},
   "source": [
    "#### Configuration\n",
    "\n",
    "In the cell below, you can configure what type of training. For instance, you can choose what type of sequence to train catboost on (both, gap, or g2t); or what kind of dataset (either xl or large). The following options are valid:\n",
    "\n",
    "* `finetune`: to whether do gridsearch on catboost, or just use default params\n",
    "* `sequence_type`: choices=[both, gap, or g2t] where both means both gap and g2t as features\n",
    "* `ds_type`: either T5-large-ssm or T5-xl-ssm. The graph features dataset (`features_ds_path`) and the seq2seq outputs dataset (`test_csv_path`) will be depended on the specified model from this argument.\n",
    "* model_weights: None or the provided model weight, if None, train from scratch\n",
    "* `save_path`: model weights, reranking results and features importance will be saved in this folder\n"
   ]
  },
  {
   "cell_type": "code",
   "execution_count": 26,
   "metadata": {},
   "outputs": [],
   "source": [
    "from pathlib import Path\n",
    "\n",
    "finetune = True\n",
    "with_tdidf = False\n",
    "num_iters = 100000\n",
    "sequence_type = \"all\"\n",
    "ds_type = \"large\"\n",
    "test_csv_path = f\"hle2000/Mintaka_T5_{ds_type}_ssm_outputs\"\n",
    "features_ds_path = f\"s-nlp/Mintaka_Graph_Features_T5-{ds_type}-ssm\"\n",
    "model_weights = None\n",
    "save_path = f\"/workspace/storage/misc/features_reranking/{sequence_type}_tfidf_{with_tdidf}_{ds_type}/\"\n",
    "cache_path = \"/workspace/storage/misc/huggingface\""
   ]
  },
  {
   "cell_type": "code",
   "execution_count": 27,
   "metadata": {},
   "outputs": [],
   "source": [
    "from ast import literal_eval\n",
    "import pandas as pd\n",
    "\n",
    "\n",
    "def try_literal_eval(s):\n",
    "    try:\n",
    "        return literal_eval(s)\n",
    "    except ValueError:\n",
    "        return s"
   ]
  },
  {
   "cell_type": "code",
   "execution_count": 28,
   "metadata": {},
   "outputs": [],
   "source": [
    "import numpy as np\n",
    "\n",
    "\n",
    "def arr_to_str(arr):\n",
    "    arr = list(arr)\n",
    "    return \",\".join(str(a) for a in arr)\n",
    "\n",
    "\n",
    "def str_to_arr(str):\n",
    "    arr = str.split(\",\")\n",
    "    arr = [float(a) for a in arr]\n",
    "    return np.array(arr)"
   ]
  },
  {
   "cell_type": "markdown",
   "metadata": {},
   "source": [
    "### Reading and Processing the Data"
   ]
  },
  {
   "cell_type": "code",
   "execution_count": 32,
   "metadata": {},
   "outputs": [],
   "source": [
    "import pathlib\n",
    "import shutil\n",
    "\n",
    "\n",
    "def remove_cache():\n",
    "    home_dir = pathlib.Path.home()\n",
    "    dataset_dir = home_dir / \".cache\" / \"huggingface\" / \"datasets\"\n",
    "\n",
    "    shutil.rmtree(str(dataset_dir))\n",
    "\n",
    "\n",
    "remove_cache()"
   ]
  },
  {
   "cell_type": "code",
   "execution_count": 30,
   "metadata": {},
   "outputs": [
    {
     "name": "stderr",
     "output_type": "stream",
     "text": [
      "Found cached dataset parquet (/workspace/storage/misc/huggingface/hle2000___parquet/hle2000--Mintaka_Graph_Features_Updated_T5-large-ssm-4e10b61230716f57/0.0.0/2a3b91fbd88a2c90d1dbbb32b460cf621d31bd5b05b934492fdef7d8d6f236ec)\n"
     ]
    },
    {
     "data": {
      "application/vnd.jupyter.widget-view+json": {
       "model_id": "41522d23a5a54c639264f7bd11ea58d3",
       "version_major": 2,
       "version_minor": 0
      },
      "text/plain": [
       "  0%|          | 0/2 [00:00<?, ?it/s]"
      ]
     },
     "metadata": {},
     "output_type": "display_data"
    }
   ],
   "source": [
    "from datasets import load_dataset\n",
    "\n",
    "graph_features_ds = load_dataset(features_ds_path, cache_dir=cache_path)\n",
    "processed_train_df = graph_features_ds[\"train\"].to_pandas()\n",
    "processed_test_df = graph_features_ds[\"test\"].to_pandas()"
   ]
  },
  {
   "cell_type": "code",
   "execution_count": 10,
   "metadata": {},
   "outputs": [],
   "source": [
    "def get_numeric_cols(df):\n",
    "    \"\"\"return all cols with numeric features\"\"\"\n",
    "    cols_numeric = []\n",
    "    for k, v in df.dtypes.to_dict().items():\n",
    "        if (v is np.dtype(\"int64\") or v is np.dtype(\"float64\")) and k != \"correct\":\n",
    "            cols_numeric.append(k)\n",
    "\n",
    "    return cols_numeric"
   ]
  },
  {
   "cell_type": "code",
   "execution_count": 11,
   "metadata": {},
   "outputs": [],
   "source": [
    "from sklearn import preprocessing\n",
    "\n",
    "min_max_scaler = preprocessing.MinMaxScaler()\n",
    "\n",
    "\n",
    "def apply_col_scale(df, col):\n",
    "    \"\"\"apply min max scaling\"\"\"\n",
    "    df[col] = min_max_scaler.fit_transform(df[col])\n",
    "    return df\n",
    "\n",
    "\n",
    "# get the numerica cols in train and test to scale\n",
    "train_numeric_cols = get_numeric_cols(processed_train_df)\n",
    "test_numeric_cols = get_numeric_cols(processed_test_df)\n",
    "\n",
    "processed_train_df = apply_col_scale(processed_train_df, train_numeric_cols)\n",
    "processed_test_df = apply_col_scale(processed_test_df, test_numeric_cols)"
   ]
  },
  {
   "cell_type": "code",
   "execution_count": 12,
   "metadata": {},
   "outputs": [],
   "source": [
    "def filter_df_sequence(dataframe, seq_type):\n",
    "    \"\"\"filter df base on the sequence type,\n",
    "    return filtered df & textual + embedding features\"\"\"\n",
    "\n",
    "    textual_feat = [\"determ_sequence\", \"g2t_sequence\", \"gap_sequence\"]\n",
    "    if seq_type != \"all\":\n",
    "        if seq_type == \"g2t\":\n",
    "            rm_lst = [\"determ_sequence\", \"gap_sequence\"]\n",
    "        elif seq_type == \"determ\":\n",
    "            rm_lst = [\"g2t_sequence\", \"gap_sequence\"]\n",
    "        elif seq_type == \"gap\":\n",
    "            rm_lst = [\"determ_sequence\", \"g2t_sequence\"]\n",
    "        drop_text_cols = [item for item in textual_feat if item in rm_lst]\n",
    "        drop_em_cols = [f\"{feat}_embedding\" for feat in drop_text_cols]\n",
    "        dataframe = dataframe.drop(drop_text_cols + drop_em_cols, axis=1)\n",
    "        textual_feat = [f\"{seq_type}_sequence\"]\n",
    "        emb_feat = [f\"{seq_type}_sequence_embedding\"]\n",
    "    else:\n",
    "        emb_feat = [f\"{feat}_embedding\" for feat in textual_feat]\n",
    "\n",
    "    return dataframe, textual_feat, emb_feat"
   ]
  },
  {
   "cell_type": "code",
   "execution_count": 13,
   "metadata": {},
   "outputs": [],
   "source": [
    "text_features = [\"question_answer\"]\n",
    "emb_features = [\"question_answer_embedding\"]\n",
    "processed_train_df, textual_feats, embd_feats = filter_df_sequence(\n",
    "    processed_train_df, sequence_type\n",
    ")\n",
    "processed_test_df, _, _ = filter_df_sequence(processed_test_df, sequence_type)\n",
    "text_features += textual_feats\n",
    "emb_features += embd_feats"
   ]
  },
  {
   "cell_type": "code",
   "execution_count": 14,
   "metadata": {},
   "outputs": [],
   "source": [
    "# make sure text features are str dtype\n",
    "def process_text_features(df, text_features):\n",
    "    for text_feat in text_features:\n",
    "        df[text_feat] = df[text_feat].astype(\"string\")\n",
    "    return df\n",
    "\n",
    "\n",
    "processed_train_df = process_text_features(processed_train_df, text_features)\n",
    "processed_test_df = process_text_features(processed_test_df, text_features)\n",
    "\n",
    "processed_train_df = processed_train_df.dropna()\n",
    "processed_test_df = processed_test_df.dropna()"
   ]
  },
  {
   "cell_type": "code",
   "execution_count": 15,
   "metadata": {},
   "outputs": [],
   "source": [
    "# dropping tfidf\n",
    "if not with_tdidf:\n",
    "    processed_train_df = processed_train_df.drop(\"tfidf_vector\", axis=1)\n",
    "    processed_test_df = processed_test_df.drop(\"tfidf_vector\", axis=1)\n",
    "else:  # with tfidf\n",
    "    emb_features.append(\"tfidf_vector\")"
   ]
  },
  {
   "cell_type": "code",
   "execution_count": 16,
   "metadata": {},
   "outputs": [
    {
     "name": "stdout",
     "output_type": "stream",
     "text": [
      "question_answer_embedding\n",
      "determ_sequence_embedding\n",
      "g2t_sequence_embedding\n"
     ]
    }
   ],
   "source": [
    "# turn str representation of embeddings back to np array\n",
    "for e_f in emb_features:\n",
    "    print(e_f)\n",
    "    processed_train_df[e_f] = processed_train_df[e_f].apply(str_to_arr)\n",
    "    processed_test_df[e_f] = processed_test_df[e_f].apply(str_to_arr)"
   ]
  },
  {
   "cell_type": "code",
   "execution_count": 17,
   "metadata": {},
   "outputs": [],
   "source": [
    "drop_cols = [\"correct\", \"question\"]\n",
    "\n",
    "X_train = processed_train_df.drop(drop_cols, axis=1)\n",
    "y_train = processed_train_df[\"correct\"].tolist()\n",
    "X_test = processed_test_df.drop(drop_cols, axis=1)\n",
    "y_test = processed_test_df[\"correct\"].tolist()"
   ]
  },
  {
   "cell_type": "code",
   "execution_count": 18,
   "metadata": {},
   "outputs": [],
   "source": [
    "import numpy as np\n",
    "\n",
    "\n",
    "def find_weight(target):\n",
    "    \"\"\"find weight for imbalanced classification\"\"\"\n",
    "    class_sample_count = np.array(\n",
    "        [len(np.where(target == t)[0]) for t in np.unique(target)]\n",
    "    )\n",
    "    weight = 1.0 / class_sample_count\n",
    "    samples_weight = np.array([weight[int(t)] for t in target])\n",
    "\n",
    "    samples_weight = np.double(samples_weight)\n",
    "    return samples_weight"
   ]
  },
  {
   "cell_type": "markdown",
   "metadata": {},
   "source": [
    "#### Catboost"
   ]
  },
  {
   "cell_type": "code",
   "execution_count": null,
   "metadata": {},
   "outputs": [],
   "source": [
    "from catboost import Pool, CatBoostRegressor\n",
    "\n",
    "learn_pool = Pool(\n",
    "    X_train,\n",
    "    y_train,\n",
    "    text_features=text_features,\n",
    "    feature_names=list(X_train),\n",
    "    embedding_features=emb_features,\n",
    "    weight=find_weight(y_train),\n",
    ")\n",
    "\n",
    "test_pool = Pool(\n",
    "    X_test,\n",
    "    y_test,\n",
    "    text_features=text_features,\n",
    "    feature_names=list(X_test),\n",
    "    embedding_features=emb_features,\n",
    "    weight=find_weight(y_test),\n",
    ")"
   ]
  },
  {
   "cell_type": "markdown",
   "metadata": {},
   "source": [
    "#### Grid search"
   ]
  },
  {
   "cell_type": "code",
   "execution_count": 19,
   "metadata": {},
   "outputs": [],
   "source": [
    "if finetune:\n",
    "    print(\"finetuning\")\n",
    "    params = {\n",
    "        \"learning_rate\": [0.03, 0.1],\n",
    "        \"depth\": [4, 6, 10],\n",
    "        \"l2_leaf_reg\": [5, 7, 9, 11],\n",
    "    }\n",
    "    model = CatBoostRegressor()\n",
    "    grid_search_result = model.grid_search(params, learn_pool)\n",
    "\n",
    "    lr = grid_search_result[\"params\"][\"learning_rate\"]\n",
    "    depth = grid_search_result[\"params\"][\"depth\"]\n",
    "    leaf = grid_search_result[\"params\"][\"l2_leaf_reg\"]\n",
    "else:\n",
    "    lr = 0.1\n",
    "    depth = 6\n",
    "    leaf = 9"
   ]
  },
  {
   "cell_type": "markdown",
   "metadata": {},
   "source": [
    "#### Fitting best params"
   ]
  },
  {
   "cell_type": "code",
   "execution_count": 20,
   "metadata": {},
   "outputs": [
    {
     "name": "stdout",
     "output_type": "stream",
     "text": [
      "loading model\n"
     ]
    }
   ],
   "source": [
    "if model_weights:  # eval\n",
    "    print(\"loading model\")\n",
    "    model = CatBoostRegressor()  # parameters not required.\n",
    "    model.load_model(model_weights)\n",
    "else:  # train from scratch\n",
    "    Path(save_path).mkdir(parents=True, exist_ok=True)\n",
    "    print(\"training from scratch\")\n",
    "    model = CatBoostRegressor(\n",
    "        iterations=num_iters,\n",
    "        learning_rate=lr,\n",
    "        depth=depth,\n",
    "        l2_leaf_reg=leaf,\n",
    "        # task_type=\"GPU\",\n",
    "        early_stopping_rounds=1000,\n",
    "        eval_metric=\"RMSE\",\n",
    "    )\n",
    "\n",
    "    model.fit(learn_pool, eval_set=test_pool, verbose=200)\n",
    "    model.save_model(Path(save_path) / \"best_model\")\n",
    "    print(f\"model saved at {save_path}\")"
   ]
  },
  {
   "cell_type": "markdown",
   "metadata": {},
   "source": [
    "#### Reranking"
   ]
  },
  {
   "cell_type": "code",
   "execution_count": 21,
   "metadata": {},
   "outputs": [
    {
     "data": {
      "application/vnd.jupyter.widget-view+json": {
       "model_id": "fab457c5543d4d5aa7b18bd922e65493",
       "version_major": 2,
       "version_minor": 0
      },
      "text/plain": [
       "Downloading readme:   0%|          | 0.00/8.38k [00:00<?, ?B/s]"
      ]
     },
     "metadata": {},
     "output_type": "display_data"
    },
    {
     "name": "stderr",
     "output_type": "stream",
     "text": [
      "Found cached dataset parquet (/workspace/storage/misc/huggingface/hle2000___parquet/hle2000--Mintaka_T5_large_ssm_outputs-f31d696c971a731a/0.0.0/2a3b91fbd88a2c90d1dbbb32b460cf621d31bd5b05b934492fdef7d8d6f236ec)\n"
     ]
    },
    {
     "data": {
      "application/vnd.jupyter.widget-view+json": {
       "model_id": "caa534cdceb04116bc9b836b797c45df",
       "version_major": 2,
       "version_minor": 0
      },
      "text/plain": [
       "  0%|          | 0/2 [00:00<?, ?it/s]"
      ]
     },
     "metadata": {},
     "output_type": "display_data"
    }
   ],
   "source": [
    "from datasets import load_dataset\n",
    "\n",
    "test_res_csv = load_dataset(\n",
    "    test_csv_path, verification_mode=\"no_checks\", cache_dir=cache_path\n",
    ")[\"test\"].to_pandas()"
   ]
  },
  {
   "cell_type": "code",
   "execution_count": 22,
   "metadata": {},
   "outputs": [
    {
     "name": "stderr",
     "output_type": "stream",
     "text": [
      "0it [00:00, ?it/s]"
     ]
    },
    {
     "name": "stderr",
     "output_type": "stream",
     "text": [
      "4000it [00:22, 179.63it/s]"
     ]
    },
    {
     "name": "stdout",
     "output_type": "stream",
     "text": [
      "top1: 0.25425, top200: 0.64375, reranking top1: 0.28775\n"
     ]
    },
    {
     "name": "stderr",
     "output_type": "stream",
     "text": [
      "\n"
     ]
    }
   ],
   "source": [
    "from tqdm import tqdm\n",
    "\n",
    "final_acc, top200_total, top1_total, seq2seq_correct = 0, 0, 0, 0\n",
    "\n",
    "for idx, group in tqdm(test_res_csv.iterrows()):\n",
    "    curr_question_df = processed_test_df[\n",
    "        processed_test_df[\"question\"] == group[\"question\"]\n",
    "    ]\n",
    "    curr_question_df = curr_question_df.drop(\"question\", axis=1)\n",
    "\n",
    "    if (\n",
    "        len(curr_question_df) == 0\n",
    "    ):  # we don't have subgraph for this question, take answer from seq2seq\n",
    "        if group[\"answer_0\"] == group[\"target\"]:\n",
    "            seq2seq_correct += 1\n",
    "        else:  # check if answer exist in 200 beams for question with no subgraphs\n",
    "            all_beams = group.tolist()[2:-1]  # all 200 beams\n",
    "            all_beams = set(all_beams)\n",
    "            top200_total += 1 if group[\"target\"] in all_beams else 0\n",
    "\n",
    "    else:  # we have subgraph for this question\n",
    "        all_beams = group.tolist()[2:-1]  # all 200 beams\n",
    "        all_beams = set(all_beams)\n",
    "\n",
    "        if group[\"target\"] not in all_beams:  # no correct answer in beam\n",
    "            continue\n",
    "\n",
    "        # correct answer exist in beam\n",
    "        top1_total += 1 if group[\"answer_0\"] == group[\"target\"] else 0\n",
    "        top200_total += 1\n",
    "\n",
    "        is_corrects = curr_question_df[\"correct\"].astype(bool).tolist()\n",
    "        curr_rows = curr_question_df.drop([\"correct\"], axis=1)\n",
    "\n",
    "        preds = model.predict(curr_rows)\n",
    "        max_idx = preds.argmax()\n",
    "\n",
    "        if is_corrects[max_idx] is True:\n",
    "            final_acc += 1\n",
    "\n",
    "\n",
    "# final rerankinga, top1 and top200 result\n",
    "reranking_res = (final_acc + seq2seq_correct) / len(test_res_csv)\n",
    "top200 = (top200_total + seq2seq_correct) / len(test_res_csv)\n",
    "top1 = (top1_total + seq2seq_correct) / len(test_res_csv)\n",
    "\n",
    "with open(Path(save_path) / \"reranking_results\", \"w+\") as f:\n",
    "    f.write(f\"top1: {top1}, top200: {top200}, reranking top1: {reranking_res}\")\n",
    "print(f\"top1: {top1}, top200: {top200}, reranking top1: {reranking_res}\")"
   ]
  },
  {
   "cell_type": "markdown",
   "metadata": {},
   "source": [
    "#### Features Importance"
   ]
  },
  {
   "cell_type": "code",
   "execution_count": 23,
   "metadata": {},
   "outputs": [
    {
     "data": {
      "image/png": "[encoded data removed]",
      "text/plain": [
       "<Figure size 640x480 with 1 Axes>"
      ]
     },
     "metadata": {},
     "output_type": "display_data"
    }
   ],
   "source": [
    "import matplotlib.pyplot as plt\n",
    "\n",
    "col_names = X_test.columns.tolist()\n",
    "features_importance = model.get_feature_importance(data=test_pool)\n",
    "\n",
    "plt.barh(col_names, features_importance)\n",
    "plt.savefig(Path(save_path) / \"features_importance.png\")\n",
    "plt.show()"
   ]
  },
  {
   "cell_type": "code",
   "execution_count": null,
   "metadata": {},
   "outputs": [],
   "source": []
  }
 ],
 "metadata": {
  "kernelspec": {
   "display_name": "Python 3",
   "language": "python",
   "name": "python3"
  },
  "language_info": {
   "codemirror_mode": {
    "name": "ipython",
    "version": 3
   },
   "file_extension": ".py",
   "mimetype": "text/x-python",
   "name": "python",
   "nbconvert_exporter": "python",
   "pygments_lexer": "ipython3",
   "version": "3.8.10"
  }
 },
 "nbformat": 4,
 "nbformat_minor": 2
}
