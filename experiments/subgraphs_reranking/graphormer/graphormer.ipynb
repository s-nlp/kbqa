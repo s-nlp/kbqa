{
 "cells": [
  {
   "cell_type": "code",
   "execution_count": 1,
   "metadata": {},
   "outputs": [
    {
     "data": {
      "text/plain": [
       "device(type='cuda')"
      ]
     },
     "execution_count": 1,
     "metadata": {},
     "output_type": "execute_result"
    }
   ],
   "source": [
    "import torch\n",
    "import sys\n",
    "\n",
    "sys.path.append(\"/workspace/kbqa/\")  # go to parent dir\n",
    "device = torch.device(\"cuda\" if torch.cuda.is_available() else \"cpu\")\n",
    "device"
   ]
  },
  {
   "cell_type": "code",
   "execution_count": 2,
   "metadata": {},
   "outputs": [
    {
     "name": "stderr",
     "output_type": "stream",
     "text": [
      "2023-08-14 10:34:55.262616: I tensorflow/core/platform/cpu_feature_guard.cc:193] This TensorFlow binary is optimized with oneAPI Deep Neural Network Library (oneDNN) to use the following CPU instructions in performance-critical operations:  AVX2 FMA\n",
      "To enable them in other operations, rebuild TensorFlow with the appropriate compiler flags.\n",
      "2023-08-14 10:34:55.437630: E tensorflow/stream_executor/cuda/cuda_blas.cc:2981] Unable to register cuBLAS factory: Attempting to register factory for plugin cuBLAS when one has already been registered\n",
      "2023-08-14 10:34:56.028157: W tensorflow/stream_executor/platform/default/dso_loader.cc:64] Could not load dynamic library 'libnvinfer.so.7'; dlerror: libnvinfer.so.7: cannot open shared object file: No such file or directory; LD_LIBRARY_PATH: /usr/local/nvidia/lib:/usr/local/nvidia/lib64\n",
      "2023-08-14 10:34:56.028274: W tensorflow/stream_executor/platform/default/dso_loader.cc:64] Could not load dynamic library 'libnvinfer_plugin.so.7'; dlerror: libnvinfer_plugin.so.7: cannot open shared object file: No such file or directory; LD_LIBRARY_PATH: /usr/local/nvidia/lib:/usr/local/nvidia/lib64\n",
      "2023-08-14 10:34:56.028283: W tensorflow/compiler/tf2tensorrt/utils/py_utils.cc:38] TF-TRT Warning: Cannot dlopen some TensorRT libraries. If you would like to use Nvidia GPU with TensorRT, please make sure the missing libraries mentioned above are installed properly.\n"
     ]
    }
   ],
   "source": [
    "from tqdm import tqdm\n",
    "import jsonlines\n",
    "import networkx as nx\n",
    "import pandas as pd\n",
    "import numpy as np\n",
    "import torch\n",
    "import json\n",
    "import pandas as pd\n",
    "from tqdm import tqdm\n",
    "from datasets import load_dataset\n",
    "from torch.utils.data import Dataset\n",
    "from transformers import TrainingArguments, Trainer\n",
    "from transformers.models.graphormer.collating_graphormer import GraphormerDataCollator\n",
    "from transformers import GraphormerForGraphClassification\n",
    "from transformers.models.graphormer.collating_graphormer import algos_graphormer"
   ]
  },
  {
   "cell_type": "code",
   "execution_count": 82,
   "metadata": {},
   "outputs": [],
   "source": [
    "dataset_type = 't5-xl-ssm'\n",
    "train_bs = 64\n",
    "eval_bs = 64\n",
    "data_prep = False\n",
    "push_to_hub = True\n",
    "model_weights = 'hle2000/graphsormer_subgraphs_reranking_t5xl'\n",
    "model_name = 'clefourrier/graphormer-base-pcqm4mv2'\n",
    "num_epochs = 50\n",
    "model_save_name = f\"{model_name}_mse\" if not model_weights else model_weights.split('/')[-1]"
   ]
  },
  {
   "cell_type": "code",
   "execution_count": 83,
   "metadata": {},
   "outputs": [],
   "source": [
    "path = 'Mintaka_Subgraphs_T5_xl_ssm' if dataset_type == 't5-xl-ssm' else 'Mintaka_Subgraphs_T5_large_ssm'\n",
    "subgraphs_dataset = load_dataset(f'hle2000/{path}')"
   ]
  },
  {
   "cell_type": "code",
   "execution_count": 84,
   "metadata": {},
   "outputs": [],
   "source": [
    "train_df = subgraphs_dataset['train'].to_pandas()\n",
    "test_df = subgraphs_dataset['test'].to_pandas()"
   ]
  },
  {
   "cell_type": "markdown",
   "metadata": {},
   "source": [
    "#### Transforming the data"
   ]
  },
  {
   "cell_type": "code",
   "execution_count": 85,
   "metadata": {},
   "outputs": [],
   "source": [
    "def transform_graph(graph_data, answer_entity, ground_truth_entity):\n",
    "    # Create an empty dictionary to store the transformed graph\n",
    "    transformed_graph = {}\n",
    "\n",
    "    # Extract 'nodes' and 'links' from the graph_data\n",
    "    nodes = graph_data['nodes']\n",
    "    links = graph_data['links']\n",
    "\n",
    "    # Calculate num_nodes\n",
    "    num_nodes = len(nodes)\n",
    "\n",
    "    # Calculate edge_index\n",
    "    edge_index = [[link['source'], link['target']] for link in links]\n",
    "    edge_index = list(zip(*edge_index))\n",
    "\n",
    "    # Check if \"answerEntity\" matches with \"groundTruthAnswerEntity\" to get the label (y)\n",
    "    y = 1.0 if answer_entity in ground_truth_entity else 0.0\n",
    "\n",
    "    # Calculate node_feat based on 'type' key\n",
    "    node_feat = []\n",
    "    for node in nodes:\n",
    "        if node['type'] == 'INTERNAL':\n",
    "            node_feat.append([1])\n",
    "        elif node['type'] == 'ANSWER_CANDIDATE_ENTITY':\n",
    "            node_feat.append([2])\n",
    "        elif node['type'] == 'QUESTIONS_ENTITY':\n",
    "            node_feat.append([3])\n",
    "    \n",
    "    # Store the calculated values in the transformed_graph dictionary\n",
    "    transformed_graph['edge_index'] = edge_index\n",
    "    transformed_graph['num_nodes'] = num_nodes\n",
    "    transformed_graph['y'] = [y]\n",
    "    transformed_graph['node_feat'] = node_feat\n",
    "    transformed_graph['edge_attr'] = [[0]]\n",
    "\n",
    "    return transformed_graph\n"
   ]
  },
  {
   "cell_type": "code",
   "execution_count": 86,
   "metadata": {},
   "outputs": [],
   "source": [
    "def create_adjacency_matrix(edge_list):\n",
    "    # Find the maximum node ID in the edge_list\n",
    "    max_node_id = max(max(edge_list[0]), max(edge_list[1]))\n",
    "\n",
    "    # Initialize an empty adjacency matrix with zeros\n",
    "    adjacency_matrix = np.zeros((max_node_id+1, max_node_id+1), dtype=np.int32)  \n",
    "\n",
    "    # Add edges to the adjacency matrix\n",
    "    for src, dest in zip(edge_list[0], edge_list[1]):\n",
    "        adjacency_matrix[src, dest] = 1  \n",
    "    \n",
    "\n",
    "    return adjacency_matrix"
   ]
  },
  {
   "cell_type": "code",
   "execution_count": 87,
   "metadata": {},
   "outputs": [],
   "source": [
    "def preprocess(item):\n",
    "    \"\"\"Convert to the required format for Graphormer\"\"\"\n",
    "    attn_edge_type = None  # Initialize outside the loop\n",
    "\n",
    "    # Calculate adjacency matrix\n",
    "    adj = create_adjacency_matrix(item[\"edge_index\"])\n",
    "\n",
    "    shortest_path_result, path = algos_graphormer.floyd_warshall(adj)\n",
    "\n",
    "    try:\n",
    "        # Calculate max_dist and input_edges if the function call succeeds\n",
    "        shortest_path_result, path = algos_graphormer.floyd_warshall(adj)\n",
    "        max_dist = np.amax(shortest_path_result)\n",
    "        attn_edge_type = np.zeros((item[\"num_nodes\"], item[\"num_nodes\"], len(item['edge_attr'])), dtype=np.int64)\n",
    "        input_edges = algos_graphormer.gen_edge_input(max_dist, path, attn_edge_type)\n",
    "    except:\n",
    "        # If the function call fails, handle the exception\n",
    "        max_dist = 0\n",
    "        attn_edge_type = None\n",
    "        input_edges = np.zeros((item[\"num_nodes\"], item[\"num_nodes\"], max_dist, len(item['edge_attr'])), dtype=np.int64)\n",
    "        shortest_path_result = None\n",
    "\n",
    "    if attn_edge_type is None:\n",
    "        # Initialize attn_edge_type here if it hasn't been initialized already\n",
    "        attn_edge_type = np.zeros((item[\"num_nodes\"], item[\"num_nodes\"], len(item['edge_attr'])), dtype=np.int64)\n",
    "\n",
    "    # Set values for all the keys\n",
    "    processed_item = {\n",
    "        \"edge_index\": np.array(item[\"edge_index\"]),\n",
    "        \"num_nodes\": item[\"num_nodes\"],\n",
    "        \"y\": item[\"y\"],\n",
    "        \"node_feat\": np.array(item[\"node_feat\"]),\n",
    "        \"input_nodes\": np.array(item[\"node_feat\"]),  # Use node_feat as input_nodes if node_feat is the feature representation\n",
    "        \"edge_attr\": np.array(item[\"edge_attr\"]),\n",
    "        \"attn_bias\": np.zeros((item[\"num_nodes\"] + 1, item[\"num_nodes\"] + 1), dtype=np.single),\n",
    "        \"attn_edge_type\": attn_edge_type,\n",
    "        \"spatial_pos\": shortest_path_result.astype(np.int64) + 1,\n",
    "        \"in_degree\": np.sum(adj, axis=1).reshape(-1) + 1,\n",
    "        \"out_degree\": np.sum(adj, axis=1).reshape(-1) + 1,  # for undirected graph\n",
    "        \"input_edges\": input_edges + 1,\n",
    "        \"labels\": item.get(\"labels\", item[\"y\"]),  # Assuming \"labels\" key may or may not exist in the input data\n",
    "    }\n",
    "\n",
    "    return processed_item"
   ]
  },
  {
   "cell_type": "code",
   "execution_count": 88,
   "metadata": {},
   "outputs": [],
   "source": [
    "from ast import literal_eval\n",
    "from unidecode import unidecode\n",
    "def try_literal_eval(s):\n",
    "    try:\n",
    "        return literal_eval(s)\n",
    "    except ValueError:\n",
    "        return s\n",
    "    \n",
    "def transform_data(df, save_path):\n",
    "    transformed_graph_dicts = []\n",
    "    for _, row in tqdm(df.iterrows(), total=len(df), desc=\"Transforming graphs\"):\n",
    "        try:\n",
    "            curr_dict = {}\n",
    "            graph_data = try_literal_eval(row['graph']) # convert to dict\n",
    "            curr_dict['original_graph'] = graph_data\n",
    "\n",
    "            transformed_graph = transform_graph(graph_data, row['answerEntity'], row['groundTruthAnswerEntity'])\n",
    "            if len(transformed_graph[\"edge_index\"][0]) or len(transformed_graph[\"edge_index\"][1]) > 1:\n",
    "                curr_dict['question'] = row['question']\n",
    "                curr_dict['answerEntity'] = row['answerEntity']\n",
    "                curr_dict['groundTruthAnswerEntity'] = row['groundTruthAnswerEntity']\n",
    "                curr_dict['correct'] = row['correct']\n",
    "                curr_dict['transformed_graph'] = transformed_graph\n",
    "                transformed_graph_dicts.append(curr_dict)\n",
    "        except:\n",
    "            continue \n",
    "\n",
    "            \n",
    "    with open(save_path, 'w+') as file:\n",
    "        for transformed_graph in transformed_graph_dicts:\n",
    "            file.write(json.dumps(transformed_graph) + '\\n')"
   ]
  },
  {
   "cell_type": "code",
   "execution_count": 89,
   "metadata": {},
   "outputs": [],
   "source": [
    "train_trans_path = f'/workspace/storage/new_subgraph_dataset/{dataset_type}/graph_class/transformed_graphs_train.jsonl'\n",
    "test_trans_path = f'/workspace/storage/new_subgraph_dataset/{dataset_type}/graph_class/transformed_graphs_test.jsonl'"
   ]
  },
  {
   "cell_type": "code",
   "execution_count": 90,
   "metadata": {},
   "outputs": [],
   "source": [
    "if data_prep:\n",
    "    transform_data(test_df, test_trans_path)\n",
    "    transform_data(train_df, train_trans_path)"
   ]
  },
  {
   "cell_type": "markdown",
   "metadata": {},
   "source": [
    "### Preparing the data"
   ]
  },
  {
   "cell_type": "code",
   "execution_count": 91,
   "metadata": {},
   "outputs": [],
   "source": [
    "class CustomGraphDataset(Dataset):\n",
    "    def __init__(self, file_path):\n",
    "        self.data = []\n",
    "        with open(file_path, 'r') as file:\n",
    "            for line in file:\n",
    "                graph_dicts = json.loads(line)\n",
    "                preproc_graph = preprocess(graph_dicts['transformed_graph'])\n",
    "                \n",
    "                if preproc_graph['input_edges'].shape[2] != 0:\n",
    "                    self.data.append(preproc_graph)\n",
    "    \n",
    "    def __len__(self):\n",
    "        return len(self.data)\n",
    "\n",
    "    def __getitem__(self, idx):\n",
    "        return self.data[idx]\n",
    "\n",
    "# Load your custom training and test datasets\n",
    "train_dataset = CustomGraphDataset(train_trans_path)\n",
    "test_dataset = CustomGraphDataset(test_trans_path)"
   ]
  },
  {
   "cell_type": "code",
   "execution_count": 92,
   "metadata": {},
   "outputs": [
    {
     "data": {
      "text/plain": [
       "87449"
      ]
     },
     "execution_count": 92,
     "metadata": {},
     "output_type": "execute_result"
    }
   ],
   "source": [
    "len(train_dataset)"
   ]
  },
  {
   "cell_type": "markdown",
   "metadata": {},
   "source": [
    "#### Training"
   ]
  },
  {
   "cell_type": "code",
   "execution_count": 93,
   "metadata": {},
   "outputs": [],
   "source": [
    "import numpy as np\n",
    "import evaluate\n",
    "\n",
    "\n",
    "threshold = 0.5\n",
    "metric_classifier = evaluate.combine([\"accuracy\", \"f1\", \"precision\", \"recall\", \"hyperml/balanced_accuracy\",])\n",
    "metric_regression = evaluate.combine([\"mae\"])\n",
    "\n",
    "\n",
    "def compute_metrics(eval_pred):\n",
    "    predictions, labels = eval_pred\n",
    "    predictions = predictions[0]\n",
    "    results = metric_regression.compute(predictions=predictions, references=labels)\n",
    "\n",
    "    predictions = predictions > threshold\n",
    "    results.update(\n",
    "        metric_classifier.compute(predictions=predictions, references=labels)\n",
    "    )\n",
    "    return results"
   ]
  },
  {
   "cell_type": "code",
   "execution_count": 95,
   "metadata": {},
   "outputs": [],
   "source": [
    "push_to_hub = False"
   ]
  },
  {
   "cell_type": "code",
   "execution_count": 96,
   "metadata": {},
   "outputs": [
    {
     "data": {
      "application/json": {
       "ascii": false,
       "bar_format": null,
       "colour": null,
       "elapsed": 0.009410619735717773,
       "initial": 0,
       "n": 0,
       "ncols": null,
       "nrows": null,
       "postfix": null,
       "prefix": "Downloading (…)lve/main/config.json",
       "rate": null,
       "total": 1416,
       "unit": "B",
       "unit_divisor": 1000,
       "unit_scale": true
      },
      "application/vnd.jupyter.widget-view+json": {
       "model_id": "68dff510f3c64a899547775155012899",
       "version_major": 2,
       "version_minor": 0
      },
      "text/plain": [
       "Downloading (…)lve/main/config.json:   0%|          | 0.00/1.42k [00:00<?, ?B/s]"
      ]
     },
     "metadata": {},
     "output_type": "display_data"
    },
    {
     "data": {
      "application/json": {
       "ascii": false,
       "bar_format": null,
       "colour": null,
       "elapsed": 0.008510589599609375,
       "initial": 0,
       "n": 0,
       "ncols": null,
       "nrows": null,
       "postfix": null,
       "prefix": "Downloading pytorch_model.bin",
       "rate": null,
       "total": 190778957,
       "unit": "B",
       "unit_divisor": 1000,
       "unit_scale": true
      },
      "application/vnd.jupyter.widget-view+json": {
       "model_id": "2b9c779febbc4455ae4d094fab391b94",
       "version_major": 2,
       "version_minor": 0
      },
      "text/plain": [
       "Downloading pytorch_model.bin:   0%|          | 0.00/191M [00:00<?, ?B/s]"
      ]
     },
     "metadata": {},
     "output_type": "display_data"
    }
   ],
   "source": [
    "if model_weights: # evaluating previous trained model weights\n",
    "    model = GraphormerForGraphClassification.from_pretrained(\n",
    "    model_weights,\n",
    "    num_classes=1,\n",
    "    ignore_mismatched_sizes=True,)\n",
    "    \n",
    "    # push this version to the hub\n",
    "    if push_to_hub:\n",
    "        model.push_to_hub(commit_message='previous trained best checkpoint', repo_id=f'hle2000/graphsormer_subgraphs_reranking_{dataset_type}')\n",
    "else: # training from scratch\n",
    "    model = GraphormerForGraphClassification.from_pretrained(\n",
    "    model_name,\n",
    "    num_classes=1,\n",
    "    ignore_mismatched_sizes=True,)"
   ]
  },
  {
   "cell_type": "code",
   "execution_count": 97,
   "metadata": {},
   "outputs": [],
   "source": [
    "from torch.utils.data.sampler import WeightedRandomSampler\n",
    "import numpy as np\n",
    "\n",
    "class CustomTrainer(Trainer):  \n",
    "    def get_labels(self):\n",
    "        labels = []\n",
    "        for i in self.train_dataset:\n",
    "            labels.append(int(i[\"y\"][0]))\n",
    "        return labels\n",
    "\n",
    "    def _get_train_sampler(self) -> torch.utils.data.Sampler:\n",
    "        labels = self.get_labels()\n",
    "        return self.create_sampler(labels)\n",
    "      \n",
    "    def create_sampler(self, target):\n",
    "        class_sample_count = np.array(\n",
    "            [len(np.where(target == t)[0]) for t in np.unique(target)]\n",
    "        )\n",
    "        weight = 1.0 / class_sample_count\n",
    "        samples_weight = np.array([weight[t] for t in target])\n",
    "\n",
    "        samples_weight = torch.from_numpy(samples_weight)\n",
    "        samples_weigth = samples_weight.double()\n",
    "        sampler = WeightedRandomSampler(samples_weight, len(samples_weight))\n",
    "\n",
    "        return sampler"
   ]
  },
  {
   "cell_type": "code",
   "execution_count": 98,
   "metadata": {},
   "outputs": [],
   "source": [
    "# Specifiy the arguments for the trainer\n",
    "training_args = TrainingArguments(\n",
    "    output_dir=f\"/workspace/storage/subgraphs_reranking_results/{dataset_type}/results/{model_save_name}\",  # output directory\n",
    "    num_train_epochs=num_epochs,  # total number of training epochs\n",
    "    per_device_train_batch_size=train_bs,  # batch size per device during training\n",
    "    per_device_eval_batch_size=eval_bs,  # batch size for evaluation\n",
    "    warmup_steps=500,  # number of warmup steps for learning rate scheduler\n",
    "    weight_decay=0.01,  # strength of weight decay\n",
    "    logging_dir=f\"/workspace/storage/subgraphs_reranking_results/{dataset_type}/logs/{model_save_name}\",  # directory for storing logs\n",
    "    load_best_model_at_end=True,  # load the best model when finished training (default metric is loss)\n",
    "    metric_for_best_model=\"balanced_accuracy\",  # select the base metrics\n",
    "    logging_steps=500,  # log & save weights each logging_steps\n",
    "    save_steps=500,\n",
    "    evaluation_strategy=\"steps\",  # evaluate each `logging_steps`\n",
    "    report_to='wandb',\n",
    ")"
   ]
  },
  {
   "cell_type": "code",
   "execution_count": 99,
   "metadata": {},
   "outputs": [],
   "source": [
    "# Initialize the data collator\n",
    "data_collator = GraphormerDataCollator()\n",
    "# Initialize the Trainer\n",
    "trainer = CustomTrainer(\n",
    "    model=model,\n",
    "    args=training_args,\n",
    "    train_dataset=train_dataset,\n",
    "    eval_dataset=test_dataset,\n",
    "    data_collator=data_collator,\n",
    "    compute_metrics=compute_metrics,  # the callback that computes metrics of interest\n",
    ")"
   ]
  },
  {
   "cell_type": "code",
   "execution_count": 100,
   "metadata": {},
   "outputs": [],
   "source": [
    "if not model_weights: # training\n",
    "    train_results = trainer.train()\n",
    "    trainer.save_model(f\"/workspace/storage/subgraphs_reranking_results/{dataset_type}/results/{model_save_name}/best_checkpoint\")\n",
    "    if push_to_hub:\n",
    "        trainer.push_to_hub(commit_message='best checkpoint')"
   ]
  },
  {
   "cell_type": "markdown",
   "metadata": {},
   "source": [
    "### Eval"
   ]
  },
  {
   "cell_type": "code",
   "execution_count": 101,
   "metadata": {},
   "outputs": [
    {
     "data": {
      "text/html": [
       "\n",
       "    <div>\n",
       "      \n",
       "      <progress value='342' max='342' style='width:300px; height:20px; vertical-align: middle;'></progress>\n",
       "      [342/342 00:10]\n",
       "    </div>\n",
       "    "
      ],
      "text/plain": [
       "<IPython.core.display.HTML object>"
      ]
     },
     "metadata": {},
     "output_type": "display_data"
    },
    {
     "data": {
      "text/plain": [
       "{'eval_loss': 0.19735507667064667,\n",
       " 'eval_mae': 0.3600324040272491,\n",
       " 'eval_accuracy': 0.6814940111547957,\n",
       " 'eval_f1': 0.3529302498374663,\n",
       " 'eval_precision': 0.2360541682196546,\n",
       " 'eval_recall': 0.6990434142752023,\n",
       " 'eval_balanced_accuracy': 0.689023690850276,\n",
       " 'eval_runtime': 14.0095,\n",
       " 'eval_samples_per_second': 1561.365,\n",
       " 'eval_steps_per_second': 24.412}"
      ]
     },
     "execution_count": 101,
     "metadata": {},
     "output_type": "execute_result"
    }
   ],
   "source": [
    "evaluate_res = trainer.evaluate()\n",
    "evaluate_res"
   ]
  },
  {
   "cell_type": "markdown",
   "metadata": {},
   "source": [
    "#### Re-ranking"
   ]
  },
  {
   "cell_type": "code",
   "execution_count": 102,
   "metadata": {},
   "outputs": [
    {
     "name": "stderr",
     "output_type": "stream",
     "text": [
      "100%|██████████| 21880/21880 [00:00<00:00, 2317283.33it/s]\n"
     ]
    }
   ],
   "source": [
    "def read_jsonl(path):\n",
    "    jsonl_reader = jsonlines.open(path)\n",
    "    jsonl_reader_list = list(jsonl_reader)\n",
    "    df = []\n",
    "    for line in tqdm(jsonl_reader_list):\n",
    "        df.append(line)\n",
    "    df = pd.DataFrame(df)\n",
    "    return df\n",
    "\n",
    "# df that holds the transformed graph\n",
    "test_trans_df = read_jsonl(test_trans_path)"
   ]
  },
  {
   "cell_type": "code",
   "execution_count": 103,
   "metadata": {},
   "outputs": [
    {
     "data": {
      "text/html": [
       "<div>\n",
       "<style scoped>\n",
       "    .dataframe tbody tr th:only-of-type {\n",
       "        vertical-align: middle;\n",
       "    }\n",
       "\n",
       "    .dataframe tbody tr th {\n",
       "        vertical-align: top;\n",
       "    }\n",
       "\n",
       "    .dataframe thead th {\n",
       "        text-align: right;\n",
       "    }\n",
       "</style>\n",
       "<table border=\"1\" class=\"dataframe\">\n",
       "  <thead>\n",
       "    <tr style=\"text-align: right;\">\n",
       "      <th></th>\n",
       "      <th>original_graph</th>\n",
       "      <th>question</th>\n",
       "      <th>answerEntity</th>\n",
       "      <th>groundTruthAnswerEntity</th>\n",
       "      <th>correct</th>\n",
       "      <th>transformed_graph</th>\n",
       "    </tr>\n",
       "  </thead>\n",
       "  <tbody>\n",
       "    <tr>\n",
       "      <th>0</th>\n",
       "      <td>{'directed': True, 'multigraph': False, 'graph...</td>\n",
       "      <td>What man was a famous American author and also...</td>\n",
       "      <td>Q191050</td>\n",
       "      <td>Q7245</td>\n",
       "      <td>False</td>\n",
       "      <td>{'edge_index': [[0, 1, 2, 3], [0, 0, 0, 0]], '...</td>\n",
       "    </tr>\n",
       "    <tr>\n",
       "      <th>1</th>\n",
       "      <td>{'directed': True, 'multigraph': False, 'graph...</td>\n",
       "      <td>What man was a famous American author and also...</td>\n",
       "      <td>Q3259878</td>\n",
       "      <td>Q7245</td>\n",
       "      <td>False</td>\n",
       "      <td>{'edge_index': [[1, 1, 2, 3, 4], [0, 1, 0, 4, ...</td>\n",
       "    </tr>\n",
       "    <tr>\n",
       "      <th>2</th>\n",
       "      <td>{'directed': True, 'multigraph': False, 'graph...</td>\n",
       "      <td>What man was a famous American author and also...</td>\n",
       "      <td>Q7245</td>\n",
       "      <td>Q7245</td>\n",
       "      <td>True</td>\n",
       "      <td>{'edge_index': [[1, 3, 3], [0, 0, 2]], 'num_no...</td>\n",
       "    </tr>\n",
       "    <tr>\n",
       "      <th>3</th>\n",
       "      <td>{'directed': True, 'multigraph': False, 'graph...</td>\n",
       "      <td>What man was a famous American author and also...</td>\n",
       "      <td>Q1074614</td>\n",
       "      <td>Q7245</td>\n",
       "      <td>False</td>\n",
       "      <td>{'edge_index': [[1, 2, 3, 4, 5], [2, 0, 0, 1, ...</td>\n",
       "    </tr>\n",
       "    <tr>\n",
       "      <th>4</th>\n",
       "      <td>{'directed': True, 'multigraph': False, 'graph...</td>\n",
       "      <td>What man was a famous American author and also...</td>\n",
       "      <td>Q15133865</td>\n",
       "      <td>Q7245</td>\n",
       "      <td>False</td>\n",
       "      <td>{'edge_index': [[1, 1, 2, 2, 3, 3, 4, 5, 5], [...</td>\n",
       "    </tr>\n",
       "  </tbody>\n",
       "</table>\n",
       "</div>"
      ],
      "text/plain": [
       "                                      original_graph  \\\n",
       "0  {'directed': True, 'multigraph': False, 'graph...   \n",
       "1  {'directed': True, 'multigraph': False, 'graph...   \n",
       "2  {'directed': True, 'multigraph': False, 'graph...   \n",
       "3  {'directed': True, 'multigraph': False, 'graph...   \n",
       "4  {'directed': True, 'multigraph': False, 'graph...   \n",
       "\n",
       "                                            question answerEntity  \\\n",
       "0  What man was a famous American author and also...      Q191050   \n",
       "1  What man was a famous American author and also...     Q3259878   \n",
       "2  What man was a famous American author and also...        Q7245   \n",
       "3  What man was a famous American author and also...     Q1074614   \n",
       "4  What man was a famous American author and also...    Q15133865   \n",
       "\n",
       "  groundTruthAnswerEntity  correct  \\\n",
       "0                   Q7245    False   \n",
       "1                   Q7245    False   \n",
       "2                   Q7245     True   \n",
       "3                   Q7245    False   \n",
       "4                   Q7245    False   \n",
       "\n",
       "                                   transformed_graph  \n",
       "0  {'edge_index': [[0, 1, 2, 3], [0, 0, 0, 0]], '...  \n",
       "1  {'edge_index': [[1, 1, 2, 3, 4], [0, 1, 0, 4, ...  \n",
       "2  {'edge_index': [[1, 3, 3], [0, 0, 2]], 'num_no...  \n",
       "3  {'edge_index': [[1, 2, 3, 4, 5], [2, 0, 0, 1, ...  \n",
       "4  {'edge_index': [[1, 1, 2, 2, 3, 3, 4, 5, 5], [...  "
      ]
     },
     "execution_count": 103,
     "metadata": {},
     "output_type": "execute_result"
    }
   ],
   "source": [
    "test_trans_df.head()"
   ]
  },
  {
   "cell_type": "code",
   "execution_count": 105,
   "metadata": {},
   "outputs": [
    {
     "data": {
      "text/plain": [
       "'t5-xl-ssm'"
      ]
     },
     "execution_count": 105,
     "metadata": {},
     "output_type": "execute_result"
    }
   ],
   "source": [
    "dataset_type"
   ]
  },
  {
   "cell_type": "code",
   "execution_count": 106,
   "metadata": {},
   "outputs": [
    {
     "name": "stderr",
     "output_type": "stream",
     "text": [
      "/usr/local/lib/python3.8/dist-packages/datasets/load.py:2077: FutureWarning: 'ignore_verifications' was deprecated in favor of 'verification_mode' in version 2.9.1 and will be removed in 3.0.0.\n",
      "You can remove this warning by passing 'verification_mode=no_checks' instead.\n",
      "  warnings.warn(\n"
     ]
    },
    {
     "data": {
      "application/json": {
       "ascii": false,
       "bar_format": null,
       "colour": null,
       "elapsed": 0.00854945182800293,
       "initial": 0,
       "n": 0,
       "ncols": null,
       "nrows": null,
       "postfix": null,
       "prefix": "Downloading data files",
       "rate": null,
       "total": 2,
       "unit": "it",
       "unit_divisor": 1000,
       "unit_scale": false
      },
      "application/vnd.jupyter.widget-view+json": {
       "model_id": "e22fc937fb50406584a39c377e4bfde6",
       "version_major": 2,
       "version_minor": 0
      },
      "text/plain": [
       "Downloading data files:   0%|          | 0/2 [00:00<?, ?it/s]"
      ]
     },
     "metadata": {},
     "output_type": "display_data"
    },
    {
     "data": {
      "application/json": {
       "ascii": false,
       "bar_format": null,
       "colour": null,
       "elapsed": 0.010814905166625977,
       "initial": 0,
       "n": 0,
       "ncols": null,
       "nrows": null,
       "postfix": null,
       "prefix": "Extracting data files",
       "rate": null,
       "total": 2,
       "unit": "it",
       "unit_divisor": 1000,
       "unit_scale": false
      },
      "application/vnd.jupyter.widget-view+json": {
       "model_id": "5274288b37a84b9db75e13ea5e7c3cc5",
       "version_major": 2,
       "version_minor": 0
      },
      "text/plain": [
       "Extracting data files:   0%|          | 0/2 [00:00<?, ?it/s]"
      ]
     },
     "metadata": {},
     "output_type": "display_data"
    },
    {
     "data": {
      "application/json": {
       "ascii": false,
       "bar_format": null,
       "colour": null,
       "elapsed": 0.008161783218383789,
       "initial": 0,
       "n": 0,
       "ncols": null,
       "nrows": null,
       "postfix": null,
       "prefix": "Generating test split",
       "rate": null,
       "total": 4000,
       "unit": " examples",
       "unit_divisor": 1000,
       "unit_scale": false
      },
      "application/vnd.jupyter.widget-view+json": {
       "model_id": "4178df8fd3bd480e94577a80d1aeac33",
       "version_major": 2,
       "version_minor": 0
      },
      "text/plain": [
       "Generating test split:   0%|          | 0/4000 [00:00<?, ? examples/s]"
      ]
     },
     "metadata": {},
     "output_type": "display_data"
    },
    {
     "data": {
      "application/json": {
       "ascii": false,
       "bar_format": null,
       "colour": null,
       "elapsed": 0.007021903991699219,
       "initial": 0,
       "n": 0,
       "ncols": null,
       "nrows": null,
       "postfix": null,
       "prefix": "Generating train split",
       "rate": null,
       "total": 16000,
       "unit": " examples",
       "unit_divisor": 1000,
       "unit_scale": false
      },
      "application/vnd.jupyter.widget-view+json": {
       "model_id": "48e1357fbd5646e49c4ff9866cf77d7f",
       "version_major": 2,
       "version_minor": 0
      },
      "text/plain": [
       "Generating train split:   0%|          | 0/16000 [00:00<?, ? examples/s]"
      ]
     },
     "metadata": {},
     "output_type": "display_data"
    }
   ],
   "source": [
    "# getting the 200 beams from seq2seq outputs\n",
    "path = 'Mintaka_T5_large_ssm_outputs' if dataset_type == 't5-large-ssm' else 'Mintaka_T5_xl_ssm_outputs'\n",
    "test_res_csv = load_dataset(f'hle2000/{path}', ignore_verifications=True)['test'].to_pandas()"
   ]
  },
  {
   "cell_type": "code",
   "execution_count": 107,
   "metadata": {},
   "outputs": [],
   "source": [
    "class EvalGraphDataset(Dataset):\n",
    "    def __init__(self, is_corrects, graphs):\n",
    "        self.data = []\n",
    "        self.correct = []\n",
    "        for is_correct, graph in zip(is_corrects, graphs):\n",
    "            preproc_graph = preprocess(graph)\n",
    "            if preproc_graph['input_edges'].shape[2] != 0:\n",
    "                self.data.append(preproc_graph)\n",
    "                self.correct.append(is_correct)\n",
    "    \n",
    "    def get_new_correct(self):\n",
    "        return self.correct\n",
    "    \n",
    "    def __len__(self):\n",
    "        return len(self.data)\n",
    "\n",
    "    def __getitem__(self, idx):\n",
    "        return self.data[idx]"
   ]
  },
  {
   "cell_type": "code",
   "execution_count": 108,
   "metadata": {},
   "outputs": [
    {
     "name": "stderr",
     "output_type": "stream",
     "text": [
      "4000it [00:30, 132.17it/s]\n"
     ]
    }
   ],
   "source": [
    "final_acc, top200_total, top1_total, seq2seq_correct = 0, 0, 0, 0\n",
    "    \n",
    "for idx, group in tqdm(test_res_csv.iterrows()):\n",
    "    curr_question_df = test_trans_df[test_trans_df[\"question\"] == group['question']]\n",
    "    if len(curr_question_df) == 0: # we don't have subgraph for this question, take answer from seq2seq\n",
    "        if group[\"answer_0\"] == group[\"target\"]:\n",
    "            seq2seq_correct += 1\n",
    "        else: # check if answer exist in 200 beams for question with no subgraphs\n",
    "            all_beams = group.tolist()[2:-1] # all 200 beams\n",
    "            all_beams = list(set(all_beams))\n",
    "            top200_total += 1 if group[\"target\"] in all_beams else 0\n",
    "            \n",
    "    else: # we have subgraph for this question  \n",
    "        all_beams = group.tolist()[2:-1] # all 200 beams\n",
    "        all_beams = list(set(all_beams))\n",
    "        \n",
    "        if group[\"target\"] not in all_beams: # no correct answer in beam\n",
    "            continue\n",
    "            \n",
    "        # correct answer exist in beam\n",
    "        top1_total += 1 if group[\"answer_0\"] == group[\"target\"] else 0\n",
    "        top200_total += 1\n",
    "        \n",
    "        transformed_graphs = curr_question_df[\"transformed_graph\"].tolist()\n",
    "        is_corrects = curr_question_df[\"correct\"].tolist()\n",
    "        current_dataset = EvalGraphDataset(is_corrects, transformed_graphs)\n",
    "        filtered_is_correct = current_dataset.get_new_correct()\n",
    "        \n",
    "        current_dataloader = torch.utils.data.DataLoader(current_dataset, \n",
    "                                                         batch_size=len(transformed_graphs), \n",
    "                                                         collate_fn=data_collator, \n",
    "                                                         shuffle=False)\n",
    "\n",
    "        # batch size should only be one\n",
    "        for item in current_dataloader:\n",
    "            logits = outputs = model(input_nodes = item['input_nodes'].to(device), \n",
    "                                    input_edges = item['input_edges'].to(device),\n",
    "                                    attn_bias = item['attn_bias'].to(device),\n",
    "                                    in_degree = item['in_degree'].to(device),\n",
    "                                    out_degree = item['out_degree'].to(device),\n",
    "                                    spatial_pos = item['spatial_pos'].to(device),\n",
    "                                    attn_edge_type = item['attn_edge_type'].to(device))\n",
    "            mse_pred = outputs.logits.flatten()\n",
    "            max_idx = mse_pred.argmax()\n",
    "        \n",
    "        if filtered_is_correct[max_idx]:\n",
    "            final_acc += 1 \n",
    "              \n",
    "\n",
    "# final rerankinga, top1 and top200 result\n",
    "reranking_res = (final_acc + seq2seq_correct)/ len(test_res_csv)\n",
    "top200 = (top200_total + seq2seq_correct)/len(test_res_csv)\n",
    "top1 = (top1_total + seq2seq_correct)/ len(test_res_csv)\n",
    "\n",
    "        "
   ]
  },
  {
   "cell_type": "code",
   "execution_count": 80,
   "metadata": {},
   "outputs": [
    {
     "data": {
      "text/plain": [
       "(0.25425, 0.2355, 0.64375)"
      ]
     },
     "execution_count": 80,
     "metadata": {},
     "output_type": "execute_result"
    }
   ],
   "source": [
    "top1, reranking_res, top200"
   ]
  },
  {
   "cell_type": "code",
   "execution_count": null,
   "metadata": {},
   "outputs": [],
   "source": []
  }
 ],
 "metadata": {
  "kernelspec": {
   "display_name": "Python 3",
   "language": "python",
   "name": "python3"
  },
  "language_info": {
   "codemirror_mode": {
    "name": "ipython",
    "version": 3
   },
   "file_extension": ".py",
   "mimetype": "text/x-python",
   "name": "python",
   "nbconvert_exporter": "python",
   "pygments_lexer": "ipython3",
   "version": "3.8.10"
  },
  "orig_nbformat": 4
 },
 "nbformat": 4,
 "nbformat_minor": 2
}
