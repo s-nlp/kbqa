{
 "cells": [
  {
   "cell_type": "code",
   "execution_count": 1,
   "metadata": {},
   "outputs": [],
   "source": [
    "%load_ext autoreload\n",
    "%autoreload 2"
   ]
  },
  {
   "cell_type": "code",
   "execution_count": null,
   "metadata": {},
   "outputs": [],
   "source": [
    "import sys\n",
    "\n",
    "sys.path.append(\"/workspace/kbqa/\")  # go to parent dir"
   ]
  },
  {
   "cell_type": "code",
   "execution_count": 2,
   "metadata": {},
   "outputs": [],
   "source": [
    "import ujson\n",
    "import jsonlines\n",
    "import networkx as nx\n",
    "import pandas as pd\n",
    "from tqdm import tqdm\n",
    "\n",
    "from pathlib import Path"
   ]
  },
  {
   "attachments": {},
   "cell_type": "markdown",
   "metadata": {},
   "source": [
    "### Getting JSONL files"
   ]
  },
  {
   "cell_type": "code",
   "execution_count": 3,
   "metadata": {},
   "outputs": [],
   "source": [
    "def read_jsonl(path):\n",
    "    jsonl_reader = jsonlines.open(path)\n",
    "    jsonl_reader_list = list(jsonl_reader)\n",
    "    nx_graphs = []\n",
    "    df = []\n",
    "    for idx, line in tqdm(enumerate(jsonl_reader_list)):\n",
    "        df.append(line)\n",
    "    df = pd.DataFrame(df)\n",
    "    return df"
   ]
  },
  {
   "cell_type": "code",
   "execution_count": 4,
   "metadata": {},
   "outputs": [
    {
     "name": "stderr",
     "output_type": "stream",
     "text": [
      "98033it [00:00, 2104030.72it/s]\n"
     ]
    }
   ],
   "source": [
    "# getting the jsonl data\n",
    "with_candidate = True\n",
    "dataset, dataset_ = \"MINTAKA\", \"mintaka\"\n",
    "dataset_type = f\"{dataset_}_train_labeled\"\n",
    "subgraph_path = (\n",
    "    f\"/workspace/storage/new_subgraph_dataset/{dataset}/{dataset_type}.jsonl\"\n",
    ")\n",
    "\n",
    "train_df = read_jsonl(subgraph_path)"
   ]
  },
  {
   "cell_type": "code",
   "execution_count": 5,
   "metadata": {},
   "outputs": [
    {
     "data": {
      "text/plain": [
       "9872"
      ]
     },
     "execution_count": 5,
     "metadata": {},
     "output_type": "execute_result"
    }
   ],
   "source": [
    "train_grouped = train_df.groupby(\"question\")\n",
    "len(train_grouped)"
   ]
  },
  {
   "cell_type": "code",
   "execution_count": 6,
   "metadata": {},
   "outputs": [
    {
     "name": "stderr",
     "output_type": "stream",
     "text": [
      "28325it [00:00, 2004549.93it/s]\n"
     ]
    }
   ],
   "source": [
    "dataset_type = f\"{dataset_}_test_labeled\"\n",
    "subgraph_path = (\n",
    "    f\"/workspace/storage/new_subgraph_dataset/{dataset}/{dataset_type}.jsonl\"\n",
    ")\n",
    "test_df = read_jsonl(subgraph_path)"
   ]
  },
  {
   "cell_type": "code",
   "execution_count": 7,
   "metadata": {},
   "outputs": [
    {
     "data": {
      "text/plain": [
       "2815"
      ]
     },
     "execution_count": 7,
     "metadata": {},
     "output_type": "execute_result"
    }
   ],
   "source": [
    "test_grouped = test_df.groupby(\"question\")\n",
    "len(test_grouped)"
   ]
  },
  {
   "cell_type": "code",
   "execution_count": 8,
   "metadata": {},
   "outputs": [
    {
     "name": "stderr",
     "output_type": "stream",
     "text": [
      "14286it [00:00, 2401211.31it/s]\n"
     ]
    }
   ],
   "source": [
    "dataset_type = f\"{dataset_}_validation_labeled\"\n",
    "subgraph_path = (\n",
    "    f\"/workspace/storage/new_subgraph_dataset/{dataset}/{dataset_type}.jsonl\"\n",
    ")\n",
    "val_df = read_jsonl(subgraph_path)"
   ]
  },
  {
   "cell_type": "code",
   "execution_count": 9,
   "metadata": {},
   "outputs": [
    {
     "data": {
      "text/plain": [
       "1419"
      ]
     },
     "execution_count": 9,
     "metadata": {},
     "output_type": "execute_result"
    }
   ],
   "source": [
    "val_grouped = val_df.groupby(\"question\")\n",
    "len(val_grouped)"
   ]
  },
  {
   "cell_type": "code",
   "execution_count": 10,
   "metadata": {},
   "outputs": [
    {
     "data": {
      "text/plain": [
       "(98033, 14286, 28325)"
      ]
     },
     "execution_count": 10,
     "metadata": {},
     "output_type": "execute_result"
    }
   ],
   "source": [
    "len(train_df), len(val_df), len(test_df)"
   ]
  },
  {
   "cell_type": "code",
   "execution_count": 11,
   "metadata": {},
   "outputs": [],
   "source": [
    "df = pd.concat([train_df, val_df, test_df])"
   ]
  },
  {
   "cell_type": "code",
   "execution_count": 12,
   "metadata": {},
   "outputs": [],
   "source": [
    "def flatten_list(col):\n",
    "    res = []\n",
    "    for i in col:\n",
    "        if len(i) == 0:\n",
    "            res.append(None)\n",
    "        else:\n",
    "            res.append(i[0])\n",
    "    return res\n",
    "\n",
    "\n",
    "# clean our df\n",
    "cols = [\"answerEntity\", \"questionEntity\", \"groundTruthAnswerEntity\"]\n",
    "df[cols] = df[cols].apply(flatten_list)\n",
    "df.to_csv(\n",
    "    f\"/workspace/storage/new_subgraph_dataset/{dataset}/{dataset_}_combined.jsonl\",\n",
    "    index=False,\n",
    ")"
   ]
  },
  {
   "cell_type": "code",
   "execution_count": 28,
   "metadata": {},
   "outputs": [
    {
     "data": {
      "text/html": [
       "<div>\n",
       "<style scoped>\n",
       "    .dataframe tbody tr th:only-of-type {\n",
       "        vertical-align: middle;\n",
       "    }\n",
       "\n",
       "    .dataframe tbody tr th {\n",
       "        vertical-align: top;\n",
       "    }\n",
       "\n",
       "    .dataframe thead th {\n",
       "        text-align: right;\n",
       "    }\n",
       "</style>\n",
       "<table border=\"1\" class=\"dataframe\">\n",
       "  <thead>\n",
       "    <tr style=\"text-align: right;\">\n",
       "      <th></th>\n",
       "      <th>id</th>\n",
       "      <th>question</th>\n",
       "      <th>answerEntity</th>\n",
       "      <th>questionEntity</th>\n",
       "      <th>groundTruthAnswerEntity</th>\n",
       "      <th>complexityType</th>\n",
       "      <th>graph</th>\n",
       "    </tr>\n",
       "  </thead>\n",
       "  <tbody>\n",
       "    <tr>\n",
       "      <th>3</th>\n",
       "      <td>a9011ddf</td>\n",
       "      <td>What is the seventh tallest mountain in North ...</td>\n",
       "      <td>Q1153188</td>\n",
       "      <td>Q49</td>\n",
       "      <td>Q1153188</td>\n",
       "      <td>ordinal</td>\n",
       "      <td>{'directed': True, 'multigraph': False, 'graph...</td>\n",
       "    </tr>\n",
       "    <tr>\n",
       "      <th>8</th>\n",
       "      <td>2723bb1b</td>\n",
       "      <td>Which actor was the star of Titanic and was bo...</td>\n",
       "      <td>Q38111</td>\n",
       "      <td>Q44578</td>\n",
       "      <td>Q38111</td>\n",
       "      <td>intersection</td>\n",
       "      <td>{'directed': True, 'multigraph': False, 'graph...</td>\n",
       "    </tr>\n",
       "    <tr>\n",
       "      <th>18</th>\n",
       "      <td>88349c89</td>\n",
       "      <td>Which actor starred in Vanilla Sky and was mar...</td>\n",
       "      <td>Q37079</td>\n",
       "      <td>Q174346</td>\n",
       "      <td>Q37079</td>\n",
       "      <td>intersection</td>\n",
       "      <td>{'directed': True, 'multigraph': False, 'graph...</td>\n",
       "    </tr>\n",
       "    <tr>\n",
       "      <th>33</th>\n",
       "      <td>982450cf</td>\n",
       "      <td>Who is the youngest current US governor?</td>\n",
       "      <td>Q3105215</td>\n",
       "      <td>Q889821</td>\n",
       "      <td>Q3105215</td>\n",
       "      <td>superlative</td>\n",
       "      <td>{'directed': True, 'multigraph': False, 'graph...</td>\n",
       "    </tr>\n",
       "    <tr>\n",
       "      <th>46</th>\n",
       "      <td>fe541d01</td>\n",
       "      <td>Which US president has had the most votes?</td>\n",
       "      <td>Q6279</td>\n",
       "      <td>Q30</td>\n",
       "      <td>Q6279</td>\n",
       "      <td>superlative</td>\n",
       "      <td>{'directed': True, 'multigraph': False, 'graph...</td>\n",
       "    </tr>\n",
       "    <tr>\n",
       "      <th>...</th>\n",
       "      <td>...</td>\n",
       "      <td>...</td>\n",
       "      <td>...</td>\n",
       "      <td>...</td>\n",
       "      <td>...</td>\n",
       "      <td>...</td>\n",
       "      <td>...</td>\n",
       "    </tr>\n",
       "    <tr>\n",
       "      <th>28257</th>\n",
       "      <td>5bd6c9cc</td>\n",
       "      <td>What is the name of the main police officer in...</td>\n",
       "      <td>Q1138965</td>\n",
       "      <td>Q275950</td>\n",
       "      <td>Q1138965</td>\n",
       "      <td>generic</td>\n",
       "      <td>{'directed': True, 'multigraph': False, 'graph...</td>\n",
       "    </tr>\n",
       "    <tr>\n",
       "      <th>28267</th>\n",
       "      <td>3490b793</td>\n",
       "      <td>Who is the protagonist in the God of War series?</td>\n",
       "      <td>Q2291154</td>\n",
       "      <td>Q390137</td>\n",
       "      <td>Q2291154</td>\n",
       "      <td>generic</td>\n",
       "      <td>{'directed': True, 'multigraph': False, 'graph...</td>\n",
       "    </tr>\n",
       "    <tr>\n",
       "      <th>28279</th>\n",
       "      <td>9fc4810d</td>\n",
       "      <td>Who is the protagonist of God of War?</td>\n",
       "      <td>Q2291154</td>\n",
       "      <td>Q390137</td>\n",
       "      <td>Q2291154</td>\n",
       "      <td>generic</td>\n",
       "      <td>{'directed': True, 'multigraph': False, 'graph...</td>\n",
       "    </tr>\n",
       "    <tr>\n",
       "      <th>28288</th>\n",
       "      <td>5e745d31</td>\n",
       "      <td>Who is the protagonist in Halo?</td>\n",
       "      <td>Q652022</td>\n",
       "      <td>Q1747150</td>\n",
       "      <td>Q652022</td>\n",
       "      <td>generic</td>\n",
       "      <td>{'directed': True, 'multigraph': False, 'graph...</td>\n",
       "    </tr>\n",
       "    <tr>\n",
       "      <th>28296</th>\n",
       "      <td>0766e1bc</td>\n",
       "      <td>Who is the antagonist in Super Mario World?</td>\n",
       "      <td>Q845864</td>\n",
       "      <td>Q853143</td>\n",
       "      <td>Q845864</td>\n",
       "      <td>generic</td>\n",
       "      <td>{'directed': True, 'multigraph': False, 'graph...</td>\n",
       "    </tr>\n",
       "  </tbody>\n",
       "</table>\n",
       "<p>14057 rows × 7 columns</p>\n",
       "</div>"
      ],
      "text/plain": [
       "             id                                           question  \\\n",
       "3      a9011ddf  What is the seventh tallest mountain in North ...   \n",
       "8      2723bb1b  Which actor was the star of Titanic and was bo...   \n",
       "18     88349c89  Which actor starred in Vanilla Sky and was mar...   \n",
       "33     982450cf           Who is the youngest current US governor?   \n",
       "46     fe541d01         Which US president has had the most votes?   \n",
       "...         ...                                                ...   \n",
       "28257  5bd6c9cc  What is the name of the main police officer in...   \n",
       "28267  3490b793   Who is the protagonist in the God of War series?   \n",
       "28279  9fc4810d              Who is the protagonist of God of War?   \n",
       "28288  5e745d31                    Who is the protagonist in Halo?   \n",
       "28296  0766e1bc        Who is the antagonist in Super Mario World?   \n",
       "\n",
       "      answerEntity questionEntity groundTruthAnswerEntity complexityType  \\\n",
       "3         Q1153188            Q49                Q1153188        ordinal   \n",
       "8           Q38111         Q44578                  Q38111   intersection   \n",
       "18          Q37079        Q174346                  Q37079   intersection   \n",
       "33        Q3105215        Q889821                Q3105215    superlative   \n",
       "46           Q6279            Q30                   Q6279    superlative   \n",
       "...            ...            ...                     ...            ...   \n",
       "28257     Q1138965        Q275950                Q1138965        generic   \n",
       "28267     Q2291154        Q390137                Q2291154        generic   \n",
       "28279     Q2291154        Q390137                Q2291154        generic   \n",
       "28288      Q652022       Q1747150                 Q652022        generic   \n",
       "28296      Q845864        Q853143                 Q845864        generic   \n",
       "\n",
       "                                                   graph  \n",
       "3      {'directed': True, 'multigraph': False, 'graph...  \n",
       "8      {'directed': True, 'multigraph': False, 'graph...  \n",
       "18     {'directed': True, 'multigraph': False, 'graph...  \n",
       "33     {'directed': True, 'multigraph': False, 'graph...  \n",
       "46     {'directed': True, 'multigraph': False, 'graph...  \n",
       "...                                                  ...  \n",
       "28257  {'directed': True, 'multigraph': False, 'graph...  \n",
       "28267  {'directed': True, 'multigraph': False, 'graph...  \n",
       "28279  {'directed': True, 'multigraph': False, 'graph...  \n",
       "28288  {'directed': True, 'multigraph': False, 'graph...  \n",
       "28296  {'directed': True, 'multigraph': False, 'graph...  \n",
       "\n",
       "[14057 rows x 7 columns]"
      ]
     },
     "execution_count": 28,
     "metadata": {},
     "output_type": "execute_result"
    }
   ],
   "source": [
    "correct_df = df[df[\"answerEntity\"] == df[\"groundTruthAnswerEntity\"]]\n",
    "correct_df = correct_df.dropna()\n",
    "correct_df"
   ]
  },
  {
   "attachments": {},
   "cell_type": "markdown",
   "metadata": {},
   "source": [
    "### Getting CSV file"
   ]
  },
  {
   "cell_type": "code",
   "execution_count": 15,
   "metadata": {},
   "outputs": [
    {
     "data": {
      "text/html": [
       "<div>\n",
       "<style scoped>\n",
       "    .dataframe tbody tr th:only-of-type {\n",
       "        vertical-align: middle;\n",
       "    }\n",
       "\n",
       "    .dataframe tbody tr th {\n",
       "        vertical-align: top;\n",
       "    }\n",
       "\n",
       "    .dataframe thead th {\n",
       "        text-align: right;\n",
       "    }\n",
       "</style>\n",
       "<table border=\"1\" class=\"dataframe\">\n",
       "  <thead>\n",
       "    <tr style=\"text-align: right;\">\n",
       "      <th></th>\n",
       "      <th>question</th>\n",
       "      <th>target</th>\n",
       "      <th>answer_0</th>\n",
       "      <th>answer_1</th>\n",
       "      <th>answer_2</th>\n",
       "      <th>answer_3</th>\n",
       "      <th>answer_4</th>\n",
       "      <th>answer_5</th>\n",
       "      <th>answer_6</th>\n",
       "      <th>answer_7</th>\n",
       "      <th>...</th>\n",
       "      <th>answer_191</th>\n",
       "      <th>answer_192</th>\n",
       "      <th>answer_193</th>\n",
       "      <th>answer_194</th>\n",
       "      <th>answer_195</th>\n",
       "      <th>answer_196</th>\n",
       "      <th>answer_197</th>\n",
       "      <th>answer_198</th>\n",
       "      <th>answer_199</th>\n",
       "      <th>target_out_of_vocab</th>\n",
       "    </tr>\n",
       "  </thead>\n",
       "  <tbody>\n",
       "    <tr>\n",
       "      <th>0</th>\n",
       "      <td>What man was a famous American author and also...</td>\n",
       "      <td>Mark Twain</td>\n",
       "      <td>Mark Twain</td>\n",
       "      <td>Mark Twain</td>\n",
       "      <td>Harriet Beecher Stowe</td>\n",
       "      <td>Charles Dickens</td>\n",
       "      <td>William Faulkner</td>\n",
       "      <td>Mark Twain</td>\n",
       "      <td>Harriet Beecher Stowe</td>\n",
       "      <td>H. G. Wells</td>\n",
       "      <td>...</td>\n",
       "      <td>Henry James</td>\n",
       "      <td>Theodore Sturgeon</td>\n",
       "      <td>H. P. Lovecraft</td>\n",
       "      <td>Stephen Crane</td>\n",
       "      <td>Horatio Bottomley</td>\n",
       "      <td>William Faulkner</td>\n",
       "      <td>Mark Twain</td>\n",
       "      <td>Edgar Allan Poe.</td>\n",
       "      <td>Horatio Parker</td>\n",
       "      <td>False</td>\n",
       "    </tr>\n",
       "    <tr>\n",
       "      <th>1</th>\n",
       "      <td>How many Academy Awards has Jake Gyllenhaal be...</td>\n",
       "      <td>1</td>\n",
       "      <td>1</td>\n",
       "      <td>1</td>\n",
       "      <td>1</td>\n",
       "      <td>1</td>\n",
       "      <td>1</td>\n",
       "      <td>1</td>\n",
       "      <td>2</td>\n",
       "      <td>1</td>\n",
       "      <td>...</td>\n",
       "      <td>7</td>\n",
       "      <td>11</td>\n",
       "      <td>12</td>\n",
       "      <td>One</td>\n",
       "      <td>13</td>\n",
       "      <td>128</td>\n",
       "      <td>215</td>\n",
       "      <td>128</td>\n",
       "      <td>128</td>\n",
       "      <td>False</td>\n",
       "    </tr>\n",
       "    <tr>\n",
       "      <th>2</th>\n",
       "      <td>Who is older, The Weeknd or Drake?</td>\n",
       "      <td>Drake</td>\n",
       "      <td>The Weeknd</td>\n",
       "      <td>Drake</td>\n",
       "      <td>Drake</td>\n",
       "      <td>The Weeknd</td>\n",
       "      <td>Drake</td>\n",
       "      <td>Drake</td>\n",
       "      <td>Drake</td>\n",
       "      <td>The Weeknd</td>\n",
       "      <td>...</td>\n",
       "      <td>Draco</td>\n",
       "      <td>DJ Khaled</td>\n",
       "      <td>TWiG</td>\n",
       "      <td>Drake,</td>\n",
       "      <td>Weeknd</td>\n",
       "      <td>TWENTY</td>\n",
       "      <td>TWiT</td>\n",
       "      <td>Twice as old</td>\n",
       "      <td>The Weeknd,</td>\n",
       "      <td>False</td>\n",
       "    </tr>\n",
       "    <tr>\n",
       "      <th>3</th>\n",
       "      <td>How many children did Donald Trump have?</td>\n",
       "      <td>5</td>\n",
       "      <td>2</td>\n",
       "      <td>3</td>\n",
       "      <td>2</td>\n",
       "      <td>3</td>\n",
       "      <td>2</td>\n",
       "      <td>3</td>\n",
       "      <td>2</td>\n",
       "      <td>4</td>\n",
       "      <td>...</td>\n",
       "      <td>13</td>\n",
       "      <td>7</td>\n",
       "      <td>9</td>\n",
       "      <td>4 children</td>\n",
       "      <td>11</td>\n",
       "      <td>8</td>\n",
       "      <td>10</td>\n",
       "      <td>12</td>\n",
       "      <td>13</td>\n",
       "      <td>False</td>\n",
       "    </tr>\n",
       "    <tr>\n",
       "      <th>4</th>\n",
       "      <td>Is the main hero in Final Fantasy IX named Kuja?</td>\n",
       "      <td>No</td>\n",
       "      <td>Yes</td>\n",
       "      <td>Yes</td>\n",
       "      <td>Yes</td>\n",
       "      <td>Yes</td>\n",
       "      <td>Yes</td>\n",
       "      <td>Yes</td>\n",
       "      <td>Yes</td>\n",
       "      <td>Yes</td>\n",
       "      <td>...</td>\n",
       "      <td>Yu Yu Hakukui</td>\n",
       "      <td>The Final Fantasy IX.</td>\n",
       "      <td>Is Kuja the Hero</td>\n",
       "      <td>The Answer Is No</td>\n",
       "      <td>Is Final Fantasy VIII</td>\n",
       "      <td>Yu Yu Hakuku</td>\n",
       "      <td>Yep, yes</td>\n",
       "      <td>YYYY</td>\n",
       "      <td>The Final Fantasy VII Final Fantasy</td>\n",
       "      <td>False</td>\n",
       "    </tr>\n",
       "  </tbody>\n",
       "</table>\n",
       "<p>5 rows × 203 columns</p>\n",
       "</div>"
      ],
      "text/plain": [
       "                                            question      target    answer_0  \\\n",
       "0  What man was a famous American author and also...  Mark Twain  Mark Twain   \n",
       "1  How many Academy Awards has Jake Gyllenhaal be...           1           1   \n",
       "2                 Who is older, The Weeknd or Drake?       Drake  The Weeknd   \n",
       "3           How many children did Donald Trump have?           5           2   \n",
       "4   Is the main hero in Final Fantasy IX named Kuja?          No         Yes   \n",
       "\n",
       "     answer_1               answer_2         answer_3          answer_4  \\\n",
       "0  Mark Twain  Harriet Beecher Stowe  Charles Dickens  William Faulkner   \n",
       "1           1                      1                1                 1   \n",
       "2       Drake                  Drake       The Weeknd             Drake   \n",
       "3           3                      2                3                 2   \n",
       "4         Yes                    Yes              Yes               Yes   \n",
       "\n",
       "     answer_5               answer_6     answer_7  ...     answer_191  \\\n",
       "0  Mark Twain  Harriet Beecher Stowe  H. G. Wells  ...    Henry James   \n",
       "1           1                      2            1  ...              7   \n",
       "2       Drake                  Drake   The Weeknd  ...          Draco   \n",
       "3           3                      2            4  ...             13   \n",
       "4         Yes                    Yes          Yes  ...  Yu Yu Hakukui   \n",
       "\n",
       "              answer_192        answer_193        answer_194  \\\n",
       "0      Theodore Sturgeon   H. P. Lovecraft     Stephen Crane   \n",
       "1                     11                12               One   \n",
       "2              DJ Khaled              TWiG            Drake,   \n",
       "3                      7                 9        4 children   \n",
       "4  The Final Fantasy IX.  Is Kuja the Hero  The Answer Is No   \n",
       "\n",
       "              answer_195        answer_196  answer_197        answer_198  \\\n",
       "0      Horatio Bottomley  William Faulkner  Mark Twain  Edgar Allan Poe.   \n",
       "1                     13               128         215               128   \n",
       "2                 Weeknd            TWENTY        TWiT      Twice as old   \n",
       "3                     11                 8          10                12   \n",
       "4  Is Final Fantasy VIII      Yu Yu Hakuku    Yep, yes              YYYY   \n",
       "\n",
       "                            answer_199 target_out_of_vocab  \n",
       "0                       Horatio Parker               False  \n",
       "1                                  128               False  \n",
       "2                          The Weeknd,               False  \n",
       "3                                   13               False  \n",
       "4  The Final Fantasy VII Final Fantasy               False  \n",
       "\n",
       "[5 rows x 203 columns]"
      ]
     },
     "execution_count": 15,
     "metadata": {},
     "output_type": "execute_result"
    }
   ],
   "source": [
    "# loading in the dataset\n",
    "\n",
    "if dataset_ == \"mintaka\":\n",
    "    train_res = pd.read_csv(f\"/workspace/storage/{dataset_}_seq2seq/train.csv\")\n",
    "    val_res = pd.read_csv(f\"/workspace/storage/{dataset_}_seq2seq/validation.csv\")\n",
    "    test_res = pd.read_csv(f\"/workspace/storage/{dataset_}_seq2seq/test.csv\")\n",
    "    res_csv = pd.concat([train_res, val_res, test_res])\n",
    "    res_csv[\"target\"] = res_csv[\"target\"].apply(lambda x: x.strip(\"['']\"))\n",
    "    res_csv[\"question\"] = res_csv[\"question\"].str.strip()\n",
    "else:  # sqwd\n",
    "    res_csv = pd.read_csv(f\"/workspace/storage/{dataset_}_seq2seq/results.csv\")\n",
    "    res_csv[\"target\"] = res_csv[\"target\"].apply(lambda x: x.strip(\"['']\"))\n",
    "    res_csv[\"question\"] = res_csv[\"question\"].str.strip()\n",
    "\n",
    "res_csv.head()"
   ]
  },
  {
   "attachments": {},
   "cell_type": "markdown",
   "metadata": {},
   "source": [
    "### Original/raw top1 & top200"
   ]
  },
  {
   "cell_type": "code",
   "execution_count": 18,
   "metadata": {},
   "outputs": [
    {
     "name": "stderr",
     "output_type": "stream",
     "text": [
      "100%|██████████| 4000/4000 [00:01<00:00, 2596.54it/s]\n"
     ]
    }
   ],
   "source": [
    "top200 = 0\n",
    "top1 = 0\n",
    "res_csv_grouped = res_csv.groupby(\"question\")\n",
    "for name, group in tqdm(res_csv_grouped):\n",
    "    gold_answers = group[\"target\"].values[0].split(\",\")\n",
    "\n",
    "    if str(group[\"answer_0\"].values[0]) in str(group[\"target\"].values[0]):\n",
    "        top1 += 1\n",
    "\n",
    "    group_filtered = group.drop([\"question\", \"target_out_of_vocab\", \"target\"], axis=1)\n",
    "    for gold_answer in gold_answers:\n",
    "        if gold_answer in group_filtered.values[0]:\n",
    "            top200 += 1\n",
    "            continue"
   ]
  },
  {
   "cell_type": "code",
   "execution_count": 19,
   "metadata": {},
   "outputs": [
    {
     "data": {
      "text/plain": [
       "(0.27925, 0.65125)"
      ]
     },
     "execution_count": 19,
     "metadata": {},
     "output_type": "execute_result"
    }
   ],
   "source": [
    "top1 / len(res_csv), top200 / len(res_csv)"
   ]
  },
  {
   "attachments": {},
   "cell_type": "markdown",
   "metadata": {},
   "source": [
    "### Filter the data in jsonl and csv "
   ]
  },
  {
   "cell_type": "code",
   "execution_count": 21,
   "metadata": {},
   "outputs": [
    {
     "name": "stderr",
     "output_type": "stream",
     "text": [
      "4000it [00:49, 80.32it/s]\n"
     ]
    }
   ],
   "source": [
    "# getting questions in result csv that exist in our jsonl\n",
    "res_filtered = []\n",
    "for index, row in tqdm(res_csv.iterrows()):\n",
    "    question = row[0].strip()\n",
    "    curr_ques_df = df[df[\"question\"] == question]\n",
    "    if len(curr_ques_df) > 0:\n",
    "        res_filtered.append(row)"
   ]
  },
  {
   "cell_type": "code",
   "execution_count": 22,
   "metadata": {},
   "outputs": [],
   "source": [
    "res_filtered = pd.DataFrame(res_filtered)"
   ]
  },
  {
   "cell_type": "code",
   "execution_count": 21,
   "metadata": {},
   "outputs": [],
   "source": [
    "res_filtered.to_csv(\n",
    "    f\"/workspace/storage/{dataset_}_seq2seq/results_filtered.csv\", index=False\n",
    ")"
   ]
  },
  {
   "cell_type": "code",
   "execution_count": 22,
   "metadata": {},
   "outputs": [
    {
     "data": {
      "text/html": [
       "<div>\n",
       "<style scoped>\n",
       "    .dataframe tbody tr th:only-of-type {\n",
       "        vertical-align: middle;\n",
       "    }\n",
       "\n",
       "    .dataframe tbody tr th {\n",
       "        vertical-align: top;\n",
       "    }\n",
       "\n",
       "    .dataframe thead th {\n",
       "        text-align: right;\n",
       "    }\n",
       "</style>\n",
       "<table border=\"1\" class=\"dataframe\">\n",
       "  <thead>\n",
       "    <tr style=\"text-align: right;\">\n",
       "      <th></th>\n",
       "      <th>question</th>\n",
       "      <th>target</th>\n",
       "      <th>answer_0</th>\n",
       "      <th>answer_1</th>\n",
       "      <th>answer_2</th>\n",
       "      <th>answer_3</th>\n",
       "      <th>answer_4</th>\n",
       "      <th>answer_5</th>\n",
       "      <th>answer_6</th>\n",
       "      <th>answer_7</th>\n",
       "      <th>...</th>\n",
       "      <th>answer_191</th>\n",
       "      <th>answer_192</th>\n",
       "      <th>answer_193</th>\n",
       "      <th>answer_194</th>\n",
       "      <th>answer_195</th>\n",
       "      <th>answer_196</th>\n",
       "      <th>answer_197</th>\n",
       "      <th>answer_198</th>\n",
       "      <th>answer_199</th>\n",
       "      <th>target_out_of_vocab</th>\n",
       "    </tr>\n",
       "  </thead>\n",
       "  <tbody>\n",
       "    <tr>\n",
       "      <th>0</th>\n",
       "      <td>What is the seventh tallest mountain in North ...</td>\n",
       "      <td>Mount Lucania</td>\n",
       "      <td>Mount McKinley</td>\n",
       "      <td>Mount McKinley</td>\n",
       "      <td>Mount St. Elias</td>\n",
       "      <td>Mount Rainier</td>\n",
       "      <td>Denali</td>\n",
       "      <td>Mount McKinley</td>\n",
       "      <td>Denali</td>\n",
       "      <td>Mount Rainier</td>\n",
       "      <td>...</td>\n",
       "      <td>Mount McKinlay</td>\n",
       "      <td>Ben Nevis</td>\n",
       "      <td>Mt. Whitney</td>\n",
       "      <td>Kangchenjunga Mountain</td>\n",
       "      <td>Mt. Massive</td>\n",
       "      <td>Mount Hood</td>\n",
       "      <td>Mt. Marcy</td>\n",
       "      <td>Cascade Peak</td>\n",
       "      <td>Mount McLoughlin</td>\n",
       "      <td>False</td>\n",
       "    </tr>\n",
       "    <tr>\n",
       "      <th>1</th>\n",
       "      <td>Which actor was the star of Titanic and was bo...</td>\n",
       "      <td>Leonardo DiCaprio</td>\n",
       "      <td>Leonardo DiCaprio</td>\n",
       "      <td>Leonardo DiCaprio</td>\n",
       "      <td>Leonardo DiCaprio</td>\n",
       "      <td>Leonardo DiCaprio</td>\n",
       "      <td>Meryl Streep</td>\n",
       "      <td>Matthew McConaughey</td>\n",
       "      <td>Leonardo Di Caprio</td>\n",
       "      <td>Robert Pattinson</td>\n",
       "      <td>...</td>\n",
       "      <td>Kevin Spacey</td>\n",
       "      <td>Kate Winslet.</td>\n",
       "      <td>Leonardo di Caprio</td>\n",
       "      <td>Robert Pattinson.</td>\n",
       "      <td>James Franco</td>\n",
       "      <td>Samuel L. Jackson.</td>\n",
       "      <td>Ryan Reynolds</td>\n",
       "      <td>Harrison Ford</td>\n",
       "      <td>Leonardo Di Caprio</td>\n",
       "      <td>False</td>\n",
       "    </tr>\n",
       "    <tr>\n",
       "      <th>2</th>\n",
       "      <td>Which actor starred in Vanilla Sky and was mar...</td>\n",
       "      <td>Tom Cruise</td>\n",
       "      <td>Tom Hanks</td>\n",
       "      <td>Tom Cruise</td>\n",
       "      <td>Tom Hanks</td>\n",
       "      <td>Tom Cruise</td>\n",
       "      <td>Tom Cruise</td>\n",
       "      <td>Tom Hanks</td>\n",
       "      <td>Tom Cruise</td>\n",
       "      <td>Tom Hanks</td>\n",
       "      <td>...</td>\n",
       "      <td>Tom Hanks.</td>\n",
       "      <td>Dustin Hoffman</td>\n",
       "      <td>Matt Damon</td>\n",
       "      <td>Will Smith</td>\n",
       "      <td>Harrison Ford</td>\n",
       "      <td>Tom Cruise.</td>\n",
       "      <td>James Franco</td>\n",
       "      <td>Russell Crowe</td>\n",
       "      <td>Tom Cruise, Jr.</td>\n",
       "      <td>False</td>\n",
       "    </tr>\n",
       "    <tr>\n",
       "      <th>4</th>\n",
       "      <td>Who is the youngest current US governor?</td>\n",
       "      <td>Ron DeSantis</td>\n",
       "      <td>Bobby Jindal</td>\n",
       "      <td>Jon Corzine</td>\n",
       "      <td>Rick Perry</td>\n",
       "      <td>Jennifer Granholm</td>\n",
       "      <td>Bobby Jindal</td>\n",
       "      <td>Steve Beshear</td>\n",
       "      <td>Kay Ivey</td>\n",
       "      <td>Mike Pence</td>\n",
       "      <td>...</td>\n",
       "      <td>Jay Nixon</td>\n",
       "      <td>Scott Walker</td>\n",
       "      <td>Rick Perry</td>\n",
       "      <td>Chris Christie</td>\n",
       "      <td>Mike Pence.</td>\n",
       "      <td>Jennifer Granholm.</td>\n",
       "      <td>Gary Herbert</td>\n",
       "      <td>Scott Walker, Jr.</td>\n",
       "      <td>Scott Walker</td>\n",
       "      <td>False</td>\n",
       "    </tr>\n",
       "    <tr>\n",
       "      <th>5</th>\n",
       "      <td>Which US president has had the most votes?</td>\n",
       "      <td>Joe Biden</td>\n",
       "      <td>Donald Trump</td>\n",
       "      <td>George W. Bush</td>\n",
       "      <td>Barack Obama</td>\n",
       "      <td>Donald Trump</td>\n",
       "      <td>John F. Kennedy</td>\n",
       "      <td>George Washington</td>\n",
       "      <td>Barack Obama</td>\n",
       "      <td>Theodore Roosevelt</td>\n",
       "      <td>...</td>\n",
       "      <td>John F Kennedy.</td>\n",
       "      <td>Franklin D. Roosevelt</td>\n",
       "      <td>John F Kennedy</td>\n",
       "      <td>George W Bush</td>\n",
       "      <td>Ronald Reagan</td>\n",
       "      <td>Bill Clinton</td>\n",
       "      <td>Barack Obama.</td>\n",
       "      <td>George Washington</td>\n",
       "      <td>Harry S Truman</td>\n",
       "      <td>False</td>\n",
       "    </tr>\n",
       "  </tbody>\n",
       "</table>\n",
       "<p>5 rows × 203 columns</p>\n",
       "</div>"
      ],
      "text/plain": [
       "                                            question             target  \\\n",
       "0  What is the seventh tallest mountain in North ...      Mount Lucania   \n",
       "1  Which actor was the star of Titanic and was bo...  Leonardo DiCaprio   \n",
       "2  Which actor starred in Vanilla Sky and was mar...         Tom Cruise   \n",
       "4           Who is the youngest current US governor?       Ron DeSantis   \n",
       "5         Which US president has had the most votes?          Joe Biden   \n",
       "\n",
       "            answer_0           answer_1           answer_2           answer_3  \\\n",
       "0     Mount McKinley     Mount McKinley    Mount St. Elias      Mount Rainier   \n",
       "1  Leonardo DiCaprio  Leonardo DiCaprio  Leonardo DiCaprio  Leonardo DiCaprio   \n",
       "2          Tom Hanks         Tom Cruise          Tom Hanks         Tom Cruise   \n",
       "4       Bobby Jindal        Jon Corzine         Rick Perry  Jennifer Granholm   \n",
       "5       Donald Trump     George W. Bush       Barack Obama       Donald Trump   \n",
       "\n",
       "          answer_4             answer_5            answer_6  \\\n",
       "0           Denali       Mount McKinley              Denali   \n",
       "1     Meryl Streep  Matthew McConaughey  Leonardo Di Caprio   \n",
       "2       Tom Cruise            Tom Hanks          Tom Cruise   \n",
       "4     Bobby Jindal        Steve Beshear            Kay Ivey   \n",
       "5  John F. Kennedy    George Washington        Barack Obama   \n",
       "\n",
       "             answer_7  ...       answer_191             answer_192  \\\n",
       "0       Mount Rainier  ...   Mount McKinlay              Ben Nevis   \n",
       "1    Robert Pattinson  ...     Kevin Spacey          Kate Winslet.   \n",
       "2           Tom Hanks  ...       Tom Hanks.         Dustin Hoffman   \n",
       "4          Mike Pence  ...        Jay Nixon           Scott Walker   \n",
       "5  Theodore Roosevelt  ...  John F Kennedy.  Franklin D. Roosevelt   \n",
       "\n",
       "           answer_193              answer_194     answer_195  \\\n",
       "0         Mt. Whitney  Kangchenjunga Mountain    Mt. Massive   \n",
       "1  Leonardo di Caprio       Robert Pattinson.   James Franco   \n",
       "2          Matt Damon              Will Smith  Harrison Ford   \n",
       "4          Rick Perry          Chris Christie    Mike Pence.   \n",
       "5      John F Kennedy           George W Bush  Ronald Reagan   \n",
       "\n",
       "           answer_196     answer_197         answer_198          answer_199  \\\n",
       "0          Mount Hood      Mt. Marcy       Cascade Peak    Mount McLoughlin   \n",
       "1  Samuel L. Jackson.  Ryan Reynolds      Harrison Ford  Leonardo Di Caprio   \n",
       "2         Tom Cruise.   James Franco      Russell Crowe     Tom Cruise, Jr.   \n",
       "4  Jennifer Granholm.   Gary Herbert  Scott Walker, Jr.        Scott Walker   \n",
       "5        Bill Clinton  Barack Obama.  George Washington      Harry S Truman   \n",
       "\n",
       "  target_out_of_vocab  \n",
       "0               False  \n",
       "1               False  \n",
       "2               False  \n",
       "4               False  \n",
       "5               False  \n",
       "\n",
       "[5 rows x 203 columns]"
      ]
     },
     "execution_count": 22,
     "metadata": {},
     "output_type": "execute_result"
    }
   ],
   "source": [
    "res_filtered.head()"
   ]
  },
  {
   "attachments": {},
   "cell_type": "markdown",
   "metadata": {},
   "source": [
    "### Final re-ranking"
   ]
  },
  {
   "cell_type": "code",
   "execution_count": 24,
   "metadata": {},
   "outputs": [],
   "source": [
    "def graph_to_sequence(subgraph, node_names):\n",
    "    # getting adjency matrix and weight info\n",
    "    adj_matrix = nx.adjacency_matrix(subgraph).todense().tolist()\n",
    "    edge_data = subgraph.edges.data()\n",
    "\n",
    "    # adding our edge info\n",
    "    for edge in edge_data:\n",
    "        i, j, data = edge\n",
    "        i, j = int(i), int(j)\n",
    "        adj_matrix[i][j] = data[\"label\"]\n",
    "\n",
    "    sequence = []\n",
    "    # for adjency matrix, i, j means node i -> j\n",
    "    for i, row in enumerate(adj_matrix):\n",
    "        from_node = node_names[i]  # from node (node i)\n",
    "        for j, edge_info in enumerate(row):\n",
    "            to_node = node_names[j]\n",
    "            if edge_info == 0:  # no endge from_node -> to_node\n",
    "                # sequence.extend([from_node, \"None\", to_node])\n",
    "                pass\n",
    "            else:\n",
    "                sequence.extend([from_node, edge_info, to_node])\n",
    "    sequence = \",\".join(str(node) for node in sequence)\n",
    "    return sequence"
   ]
  },
  {
   "cell_type": "code",
   "execution_count": 25,
   "metadata": {},
   "outputs": [],
   "source": [
    "def get_node_names(subgraph):\n",
    "    node_names = [subgraph.nodes[node][\"label\"] for node in subgraph.nodes()]\n",
    "    return node_names"
   ]
  },
  {
   "cell_type": "code",
   "execution_count": 26,
   "metadata": {},
   "outputs": [],
   "source": [
    "def get_graph_seqs(graphs):\n",
    "    graph_seq = []\n",
    "    for graph in graphs:\n",
    "        try:\n",
    "            graph_obj = nx.readwrite.json_graph.node_link_graph(graph)\n",
    "            graph_node_names = get_node_names(graph_obj)\n",
    "            curr_seq = graph_to_sequence(graph_obj, graph_node_names)\n",
    "        except KeyError:\n",
    "            print(\"ERROR NO LABEL!\")\n",
    "            curr_seq = \"ERROR_NO_LABEL\"\n",
    "        except nx.NetworkXError:\n",
    "            print(\"ERROR EMPTY GRAPHS!\")\n",
    "            curr_seq = \"ERROR_EMPTY_GRAPH\"\n",
    "        graph_seq.append(curr_seq)\n",
    "    return graph_seq"
   ]
  },
  {
   "cell_type": "code",
   "execution_count": null,
   "metadata": {},
   "outputs": [],
   "source": [
    "import torch\n",
    "import pandas as pd\n",
    "import torch\n",
    "import numpy as np\n",
    "from transformers import RobertaTokenizer, BertTokenizer, BertModel, RobertaModel\n",
    "from torch import nn\n",
    "from torch.optim import Adam\n",
    "from tqdm import tqdm\n",
    "\n",
    "model_type = \"roberta-large\"\n",
    "\n",
    "\n",
    "class BertClassifier(nn.Module):\n",
    "    def __init__(self, dropout=0.5):\n",
    "        super(BertClassifier, self).__init__()\n",
    "        if model_type == \"roberta-large\" or model_type == \"roberta-case\":\n",
    "            self.model = RobertaModel.from_pretrained(model_type)\n",
    "        else:\n",
    "            self.model = BertModel.from_pretrained(model_type)\n",
    "        self.dropout = nn.Dropout(dropout)\n",
    "        if model_type == \"bert-large-cased\" or model_type == \"roberta-large\":\n",
    "            dim = 1024\n",
    "        else:\n",
    "            dim = 768\n",
    "        self.linear = nn.Linear(dim, 2)\n",
    "        self.relu = nn.ReLU()\n",
    "\n",
    "    def forward(self, input_id, mask):\n",
    "        _, pooled_output = self.model(\n",
    "            input_ids=input_id, attention_mask=mask, return_dict=False\n",
    "        )\n",
    "        dropout_output = self.dropout(pooled_output)\n",
    "        linear_output = self.linear(dropout_output)\n",
    "        final_layer = self.relu(linear_output)\n",
    "\n",
    "        return final_layer\n",
    "\n",
    "\n",
    "model = torch.load(\n",
    "    \"/workspace/storage/subgraph_classify_models/mintaka/candidates_True/BertClassifier_mintaka_roberta-large_sampler.pt\"\n",
    ")\n",
    "tokenizer = RobertaTokenizer.from_pretrained(model_type)"
   ]
  },
  {
   "cell_type": "code",
   "execution_count": 16,
   "metadata": {},
   "outputs": [
    {
     "name": "stderr",
     "output_type": "stream",
     "text": [
      "/usr/local/lib/python3.8/dist-packages/tqdm/auto.py:22: TqdmWarning: IProgress not found. Please update jupyter and ipywidgets. See https://ipywidgets.readthedocs.io/en/stable/user_install.html\n",
      "  from .autonotebook import tqdm as notebook_tqdm\n"
     ]
    },
    {
     "data": {
      "text/plain": [
       "device(type='cuda')"
      ]
     },
     "execution_count": 16,
     "metadata": {},
     "output_type": "execute_result"
    }
   ],
   "source": [
    "device = torch.device(\"cuda\" if torch.cuda.is_available() else \"cpu\")\n",
    "device"
   ]
  },
  {
   "cell_type": "code",
   "execution_count": 19,
   "metadata": {},
   "outputs": [
    {
     "name": "stderr",
     "output_type": "stream",
     "text": [
      "/usr/local/lib/python3.8/dist-packages/tqdm/auto.py:22: TqdmWarning: IProgress not found. Please update jupyter and ipywidgets. See https://ipywidgets.readthedocs.io/en/stable/user_install.html\n",
      "  from .autonotebook import tqdm as notebook_tqdm\n"
     ]
    }
   ],
   "source": [
    "from kbqa.wikidata import WikidataEntityToLabel\n",
    "\n",
    "entity2label = WikidataEntityToLabel()"
   ]
  },
  {
   "cell_type": "code",
   "execution_count": 77,
   "metadata": {},
   "outputs": [],
   "source": [
    "res_csv_grouped = res_filtered.groupby([\"question\"])\n",
    "jsonl_grouped = df.groupby([\"question\"])"
   ]
  },
  {
   "cell_type": "code",
   "execution_count": 78,
   "metadata": {},
   "outputs": [],
   "source": [
    "def beams_answers_to_labels(beams, entity2label):\n",
    "    labels_entity = {}\n",
    "    for beam in beams:\n",
    "        labels_entity[entity2label.get_label(beam)] = beam\n",
    "    return labels_entity"
   ]
  },
  {
   "cell_type": "code",
   "execution_count": null,
   "metadata": {},
   "outputs": [],
   "source": [
    "from ast import literal_eval\n",
    "from unidecode import unidecode\n",
    "\n",
    "\n",
    "def try_literal_eval(s):\n",
    "    try:\n",
    "        return literal_eval(s)\n",
    "    except ValueError:\n",
    "        return s"
   ]
  },
  {
   "cell_type": "code",
   "execution_count": 80,
   "metadata": {},
   "outputs": [
    {
     "name": "stderr",
     "output_type": "stream",
     "text": [
      "  0%|          | 35/14106 [00:01<09:57, 23.55it/s]"
     ]
    },
    {
     "name": "stdout",
     "output_type": "stream",
     "text": [
      "ERROR EMPTY GRAPHS!\n",
      "ERROR EMPTY GRAPHS!\n",
      "ERROR EMPTY GRAPHS!\n"
     ]
    },
    {
     "name": "stderr",
     "output_type": "stream",
     "text": [
      "  6%|▋         | 912/14106 [01:04<11:47, 18.64it/s]"
     ]
    },
    {
     "name": "stdout",
     "output_type": "stream",
     "text": [
      "ERROR EMPTY GRAPHS!\n",
      "ERROR EMPTY GRAPHS!\n",
      "ERROR EMPTY GRAPHS!\n",
      "ERROR EMPTY GRAPHS!\n",
      "ERROR EMPTY GRAPHS!\n"
     ]
    },
    {
     "name": "stderr",
     "output_type": "stream",
     "text": [
      "  7%|▋         | 964/14106 [01:08<19:24, 11.29it/s]"
     ]
    },
    {
     "name": "stdout",
     "output_type": "stream",
     "text": [
      "ERROR EMPTY GRAPHS!\n",
      "ERROR EMPTY GRAPHS!\n",
      "ERROR EMPTY GRAPHS!\n",
      "ERROR EMPTY GRAPHS!\n",
      "ERROR EMPTY GRAPHS!\n"
     ]
    },
    {
     "name": "stderr",
     "output_type": "stream",
     "text": [
      " 15%|█▍        | 2062/14106 [02:31<15:40, 12.80it/s]"
     ]
    },
    {
     "name": "stdout",
     "output_type": "stream",
     "text": [
      "ERROR EMPTY GRAPHS!\n",
      "ERROR EMPTY GRAPHS!\n",
      "ERROR EMPTY GRAPHS!\n",
      "ERROR EMPTY GRAPHS!\n",
      "ERROR EMPTY GRAPHS!\n"
     ]
    },
    {
     "name": "stderr",
     "output_type": "stream",
     "text": [
      " 15%|█▌        | 2176/14106 [02:37<05:20, 37.23it/s]"
     ]
    },
    {
     "name": "stdout",
     "output_type": "stream",
     "text": [
      "ERROR EMPTY GRAPHS!\n"
     ]
    },
    {
     "name": "stderr",
     "output_type": "stream",
     "text": [
      " 19%|█▊        | 2623/14106 [03:02<15:02, 12.73it/s]"
     ]
    },
    {
     "name": "stdout",
     "output_type": "stream",
     "text": [
      "ERROR EMPTY GRAPHS!\n",
      "ERROR EMPTY GRAPHS!\n",
      "ERROR EMPTY GRAPHS!\n",
      "ERROR EMPTY GRAPHS!\n",
      "ERROR EMPTY GRAPHS!\n",
      "ERROR EMPTY GRAPHS!\n"
     ]
    },
    {
     "name": "stderr",
     "output_type": "stream",
     "text": [
      " 19%|█▉        | 2694/14106 [03:06<12:06, 15.70it/s]"
     ]
    },
    {
     "name": "stdout",
     "output_type": "stream",
     "text": [
      "ERROR EMPTY GRAPHS!\n",
      "ERROR EMPTY GRAPHS!\n",
      "ERROR EMPTY GRAPHS!\n",
      "ERROR EMPTY GRAPHS!\n",
      "ERROR EMPTY GRAPHS!\n"
     ]
    },
    {
     "name": "stderr",
     "output_type": "stream",
     "text": [
      " 20%|█▉        | 2792/14106 [03:11<08:18, 22.71it/s]"
     ]
    },
    {
     "name": "stdout",
     "output_type": "stream",
     "text": [
      "ERROR EMPTY GRAPHS!\n",
      "ERROR EMPTY GRAPHS!\n",
      "ERROR EMPTY GRAPHS!\n",
      "ERROR EMPTY GRAPHS!\n",
      "ERROR EMPTY GRAPHS!\n",
      "ERROR EMPTY GRAPHS!\n"
     ]
    },
    {
     "name": "stderr",
     "output_type": "stream",
     "text": [
      " 34%|███▍      | 4822/14106 [04:55<05:55, 26.08it/s]"
     ]
    },
    {
     "name": "stdout",
     "output_type": "stream",
     "text": [
      "ERROR EMPTY GRAPHS!\n"
     ]
    },
    {
     "name": "stderr",
     "output_type": "stream",
     "text": [
      " 37%|███▋      | 5214/14106 [05:15<06:33, 22.57it/s]"
     ]
    },
    {
     "name": "stdout",
     "output_type": "stream",
     "text": [
      "ERROR EMPTY GRAPHS!\n"
     ]
    },
    {
     "name": "stderr",
     "output_type": "stream",
     "text": [
      " 37%|███▋      | 5286/14106 [05:19<04:54, 29.96it/s]"
     ]
    },
    {
     "name": "stdout",
     "output_type": "stream",
     "text": [
      "ERROR EMPTY GRAPHS!\n",
      "ERROR EMPTY GRAPHS!\n",
      "ERROR EMPTY GRAPHS!\n"
     ]
    },
    {
     "name": "stderr",
     "output_type": "stream",
     "text": [
      " 38%|███▊      | 5420/14106 [05:28<07:41, 18.83it/s]"
     ]
    },
    {
     "name": "stdout",
     "output_type": "stream",
     "text": [
      "ERROR EMPTY GRAPHS!\n"
     ]
    },
    {
     "name": "stderr",
     "output_type": "stream",
     "text": [
      " 42%|████▏     | 5940/14106 [06:00<06:07, 22.24it/s]"
     ]
    },
    {
     "name": "stdout",
     "output_type": "stream",
     "text": [
      "ERROR EMPTY GRAPHS!\n"
     ]
    },
    {
     "name": "stderr",
     "output_type": "stream",
     "text": [
      " 43%|████▎     | 6020/14106 [06:05<06:57, 19.36it/s]"
     ]
    },
    {
     "name": "stdout",
     "output_type": "stream",
     "text": [
      "ERROR EMPTY GRAPHS!\n",
      "ERROR EMPTY GRAPHS!\n"
     ]
    },
    {
     "name": "stderr",
     "output_type": "stream",
     "text": [
      " 44%|████▎     | 6163/14106 [06:13<09:21, 14.14it/s]"
     ]
    },
    {
     "name": "stdout",
     "output_type": "stream",
     "text": [
      "ERROR EMPTY GRAPHS!\n",
      "ERROR EMPTY GRAPHS!\n",
      "ERROR EMPTY GRAPHS!\n",
      "ERROR EMPTY GRAPHS!\n",
      "ERROR EMPTY GRAPHS!\n"
     ]
    },
    {
     "name": "stderr",
     "output_type": "stream",
     "text": [
      " 44%|████▍     | 6173/14106 [06:14<07:50, 16.85it/s]"
     ]
    },
    {
     "name": "stdout",
     "output_type": "stream",
     "text": [
      "ERROR EMPTY GRAPHS!\n",
      "ERROR EMPTY GRAPHS!\n",
      "ERROR EMPTY GRAPHS!\n",
      "ERROR EMPTY GRAPHS!\n"
     ]
    },
    {
     "name": "stderr",
     "output_type": "stream",
     "text": [
      " 44%|████▍     | 6262/14106 [06:19<09:26, 13.85it/s]"
     ]
    },
    {
     "name": "stdout",
     "output_type": "stream",
     "text": [
      "ERROR EMPTY GRAPHS!\n",
      "ERROR EMPTY GRAPHS!\n",
      "ERROR EMPTY GRAPHS!\n",
      "ERROR EMPTY GRAPHS!\n",
      "ERROR EMPTY GRAPHS!\n",
      "ERROR EMPTY GRAPHS!\n",
      "ERROR EMPTY GRAPHS!\n",
      "ERROR EMPTY GRAPHS!\n",
      "ERROR EMPTY GRAPHS!\n"
     ]
    },
    {
     "name": "stderr",
     "output_type": "stream",
     "text": [
      " 57%|█████▋    | 8027/14106 [07:56<05:52, 17.25it/s]"
     ]
    },
    {
     "name": "stdout",
     "output_type": "stream",
     "text": [
      "ERROR EMPTY GRAPHS!\n",
      "ERROR EMPTY GRAPHS!\n",
      "ERROR EMPTY GRAPHS!\n",
      "ERROR EMPTY GRAPHS!\n",
      "ERROR EMPTY GRAPHS!\n"
     ]
    },
    {
     "name": "stderr",
     "output_type": "stream",
     "text": [
      " 57%|█████▋    | 8095/14106 [08:00<06:42, 14.95it/s]"
     ]
    },
    {
     "name": "stdout",
     "output_type": "stream",
     "text": [
      "ERROR EMPTY GRAPHS!\n",
      "ERROR EMPTY GRAPHS!\n",
      "ERROR EMPTY GRAPHS!\n"
     ]
    },
    {
     "name": "stderr",
     "output_type": "stream",
     "text": [
      " 59%|█████▊    | 8267/14106 [08:09<04:35, 21.18it/s]"
     ]
    },
    {
     "name": "stdout",
     "output_type": "stream",
     "text": [
      "ERROR EMPTY GRAPHS!\n",
      "ERROR EMPTY GRAPHS!\n",
      "ERROR EMPTY GRAPHS!\n",
      "ERROR EMPTY GRAPHS!\n",
      "ERROR EMPTY GRAPHS!\n"
     ]
    },
    {
     "name": "stderr",
     "output_type": "stream",
     "text": [
      " 66%|██████▌   | 9271/14106 [08:56<04:36, 17.50it/s]"
     ]
    },
    {
     "name": "stdout",
     "output_type": "stream",
     "text": [
      "ERROR EMPTY GRAPHS!\n",
      "ERROR EMPTY GRAPHS!\n",
      "ERROR EMPTY GRAPHS!\n",
      "ERROR EMPTY GRAPHS!\n"
     ]
    },
    {
     "name": "stderr",
     "output_type": "stream",
     "text": [
      " 67%|██████▋   | 9507/14106 [09:10<03:11, 23.96it/s]"
     ]
    },
    {
     "name": "stdout",
     "output_type": "stream",
     "text": [
      "ERROR EMPTY GRAPHS!\n"
     ]
    },
    {
     "name": "stderr",
     "output_type": "stream",
     "text": [
      " 78%|███████▊  | 10954/14106 [10:21<03:21, 15.66it/s]"
     ]
    },
    {
     "name": "stdout",
     "output_type": "stream",
     "text": [
      "ERROR EMPTY GRAPHS!\n",
      "ERROR EMPTY GRAPHS!\n",
      "ERROR EMPTY GRAPHS!\n",
      "ERROR EMPTY GRAPHS!\n",
      "ERROR EMPTY GRAPHS!\n"
     ]
    },
    {
     "name": "stderr",
     "output_type": "stream",
     "text": [
      " 78%|███████▊  | 11003/14106 [10:23<02:13, 23.28it/s]"
     ]
    },
    {
     "name": "stdout",
     "output_type": "stream",
     "text": [
      "ERROR EMPTY GRAPHS!\n",
      "ERROR EMPTY GRAPHS!\n",
      "ERROR EMPTY GRAPHS!\n",
      "ERROR EMPTY GRAPHS!\n",
      "ERROR EMPTY GRAPHS!\n"
     ]
    },
    {
     "name": "stderr",
     "output_type": "stream",
     "text": [
      " 79%|███████▊  | 11082/14106 [10:28<03:24, 14.76it/s]"
     ]
    },
    {
     "name": "stdout",
     "output_type": "stream",
     "text": [
      "ERROR EMPTY GRAPHS!\n",
      "ERROR EMPTY GRAPHS!\n",
      "ERROR EMPTY GRAPHS!\n",
      "ERROR EMPTY GRAPHS!\n",
      "ERROR EMPTY GRAPHS!\n"
     ]
    },
    {
     "name": "stderr",
     "output_type": "stream",
     "text": [
      " 80%|███████▉  | 11228/14106 [10:32<02:36, 18.34it/s] "
     ]
    },
    {
     "name": "stdout",
     "output_type": "stream",
     "text": [
      "ERROR EMPTY GRAPHS!\n",
      "ERROR EMPTY GRAPHS!\n",
      "ERROR EMPTY GRAPHS!\n",
      "ERROR EMPTY GRAPHS!\n",
      "ERROR EMPTY GRAPHS!\n"
     ]
    },
    {
     "name": "stderr",
     "output_type": "stream",
     "text": [
      " 87%|████████▋ | 12213/14106 [11:37<02:21, 13.38it/s]"
     ]
    },
    {
     "name": "stdout",
     "output_type": "stream",
     "text": [
      "ERROR EMPTY GRAPHS!\n",
      "ERROR EMPTY GRAPHS!\n",
      "ERROR EMPTY GRAPHS!\n",
      "ERROR EMPTY GRAPHS!\n",
      "ERROR EMPTY GRAPHS!\n"
     ]
    },
    {
     "name": "stderr",
     "output_type": "stream",
     "text": [
      " 90%|█████████ | 12710/14106 [12:06<01:08, 20.30it/s]"
     ]
    },
    {
     "name": "stdout",
     "output_type": "stream",
     "text": [
      "ERROR EMPTY GRAPHS!\n",
      "ERROR EMPTY GRAPHS!\n",
      "ERROR EMPTY GRAPHS!\n",
      "ERROR EMPTY GRAPHS!\n",
      "ERROR EMPTY GRAPHS!\n"
     ]
    },
    {
     "name": "stderr",
     "output_type": "stream",
     "text": [
      " 99%|█████████▉| 13959/14106 [13:28<00:07, 19.02it/s]"
     ]
    },
    {
     "name": "stdout",
     "output_type": "stream",
     "text": [
      "ERROR EMPTY GRAPHS!\n",
      "ERROR EMPTY GRAPHS!\n",
      "ERROR EMPTY GRAPHS!\n",
      "ERROR EMPTY GRAPHS!\n"
     ]
    },
    {
     "name": "stderr",
     "output_type": "stream",
     "text": [
      "100%|█████████▉| 14069/14106 [13:35<00:03, 11.76it/s]"
     ]
    },
    {
     "name": "stdout",
     "output_type": "stream",
     "text": [
      "ERROR EMPTY GRAPHS!\n",
      "ERROR EMPTY GRAPHS!\n",
      "ERROR EMPTY GRAPHS!\n",
      "ERROR EMPTY GRAPHS!\n",
      "ERROR EMPTY GRAPHS!\n"
     ]
    },
    {
     "name": "stderr",
     "output_type": "stream",
     "text": [
      "100%|█████████▉| 14071/14106 [13:35<00:03, 11.12it/s]"
     ]
    },
    {
     "name": "stdout",
     "output_type": "stream",
     "text": [
      "ERROR EMPTY GRAPHS!\n",
      "ERROR EMPTY GRAPHS!\n",
      "ERROR EMPTY GRAPHS!\n",
      "ERROR EMPTY GRAPHS!\n",
      "ERROR EMPTY GRAPHS!\n"
     ]
    },
    {
     "name": "stderr",
     "output_type": "stream",
     "text": [
      "100%|██████████| 14106/14106 [13:37<00:00, 17.25it/s]\n"
     ]
    }
   ],
   "source": [
    "total_correct = 0\n",
    "extra_correct = 0\n",
    "\n",
    "for name, group in tqdm(res_csv_grouped):\n",
    "    name = name.strip()\n",
    "    all_beams = group.iloc[0, 3:-1].values.tolist()  # all 200 beams\n",
    "    pred_answer = group[\"answer_0\"].values[0]\n",
    "\n",
    "    if dataset_ == \"sqwd\":\n",
    "        target = group[\"target\"].values[0].strip(\"['']\")\n",
    "    else:\n",
    "        target = group[\"target\"].values[0]\n",
    "\n",
    "    # get rid of accents\n",
    "    target, pred_answer = unidecode(target), unidecode(pred_answer)\n",
    "    if target == pred_answer:  # correct answer\n",
    "        total_correct += 1\n",
    "    else:  # wrong answer\n",
    "        with torch.no_grad():\n",
    "            # find the beams that exist in jsonl to get our subgraphs\n",
    "            beams_jsonl = jsonl_grouped.get_group(name)\n",
    "\n",
    "            # get all answer entity along with their label\n",
    "            beams_jsonl_answer = beams_jsonl[\"answerEntity\"].tolist()\n",
    "            beams_jsonl_labels_entities = beams_answers_to_labels(\n",
    "                beams_jsonl_answer, entity2label\n",
    "            )\n",
    "            beams_jsonl_labels = beams_jsonl_labels_entities.keys()\n",
    "            beams_jsonl_entities = beams_jsonl_labels_entities.values()\n",
    "\n",
    "            # out of 200 beams, get beams that exist in jsonl\n",
    "            existing_beams_labels = list(\n",
    "                set(all_beams).intersection(beams_jsonl_labels)\n",
    "            )\n",
    "            existing_beams_entities = [\n",
    "                beams_jsonl_labels_entities[x] for x in existing_beams_labels\n",
    "            ]\n",
    "            existing_beams = beams_jsonl[\n",
    "                beams_jsonl[\"answerEntity\"].isin(existing_beams_entities)\n",
    "            ]\n",
    "\n",
    "            # get subgraphs and their sequences\n",
    "            subgraphs = existing_beams[\"graph\"].tolist()\n",
    "            subgraphs = [try_literal_eval(subgraph) for subgraph in subgraphs]\n",
    "            answers = existing_beams[\"answerEntity\"].tolist()\n",
    "            graph_seqs = get_graph_seqs(subgraphs)\n",
    "\n",
    "            curr_max = 0\n",
    "            best_pred_answer = None\n",
    "            for seq, answer in zip(graph_seqs, answers):\n",
    "                seq_tok = tokenizer(\n",
    "                    seq,\n",
    "                    padding=\"max_length\",\n",
    "                    max_length=512,\n",
    "                    truncation=True,\n",
    "                    return_tensors=\"pt\",\n",
    "                )\n",
    "                mask = seq_tok[\"attention_mask\"].to(device)\n",
    "                input_id = seq_tok[\"input_ids\"].squeeze(1).to(device)\n",
    "                output = model(input_id, mask)\n",
    "                correct_pred = output.argmax(dim=1).item()\n",
    "\n",
    "                # get the highest predicted correct sequence/beam answer\n",
    "                if correct_pred == 1:\n",
    "                    correct_prob = output.cpu().detach().numpy()[0][1]\n",
    "\n",
    "                    if correct_prob > curr_max:\n",
    "                        curr_max = correct_prob\n",
    "                        best_pred_answer = answer\n",
    "\n",
    "        # all subgraphs are predicted to be wrong\n",
    "        if best_pred_answer is None:\n",
    "            continue\n",
    "\n",
    "        best_pred_label = list(beams_jsonl_labels_entities.keys())[\n",
    "            list(beams_jsonl_labels_entities.values()).index(best_pred_answer)\n",
    "        ]\n",
    "        best_pred_label = unidecode(best_pred_label)\n",
    "        if best_pred_label == target:\n",
    "            extra_correct += 1"
   ]
  },
  {
   "cell_type": "code",
   "execution_count": 81,
   "metadata": {},
   "outputs": [
    {
     "data": {
      "text/plain": [
       "0.29739118105770596"
      ]
     },
     "execution_count": 81,
     "metadata": {},
     "output_type": "execute_result"
    }
   ],
   "source": [
    "total_correct / len(res_csv_grouped)"
   ]
  },
  {
   "cell_type": "code",
   "execution_count": 82,
   "metadata": {},
   "outputs": [
    {
     "data": {
      "text/plain": [
       "1336"
      ]
     },
     "execution_count": 82,
     "metadata": {},
     "output_type": "execute_result"
    }
   ],
   "source": [
    "extra_correct"
   ]
  },
  {
   "cell_type": "code",
   "execution_count": 83,
   "metadata": {},
   "outputs": [
    {
     "data": {
      "text/plain": [
       "0.39210265135403377"
      ]
     },
     "execution_count": 83,
     "metadata": {},
     "output_type": "execute_result"
    }
   ],
   "source": [
    "(total_correct + extra_correct) / len(res_csv_grouped)"
   ]
  }
 ],
 "metadata": {
  "kernelspec": {
   "display_name": "Python 3",
   "language": "python",
   "name": "python3"
  },
  "language_info": {
   "codemirror_mode": {
    "name": "ipython",
    "version": 3
   },
   "file_extension": ".py",
   "mimetype": "text/x-python",
   "name": "python",
   "nbconvert_exporter": "python",
   "pygments_lexer": "ipython3",
   "version": "3.8.10"
  },
  "orig_nbformat": 4
 },
 "nbformat": 4,
 "nbformat_minor": 2
}
