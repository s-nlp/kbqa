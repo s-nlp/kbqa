{
 "cells": [
  {
   "cell_type": "code",
   "execution_count": 1,
   "outputs": [],
   "source": [
    "import sys\n",
<<<<<<< HEAD
    "\n",
    "sys.path.append(\"../..\")"
=======
    "sys.path.append('../..')"
>>>>>>> f05ffd290a842160b134ded9b19c9816801178c0
   ],
   "metadata": {
    "collapsed": false,
    "pycharm": {
     "name": "#%%\n"
    }
   }
  },
  {
   "cell_type": "code",
   "execution_count": 2,
   "outputs": [],
   "source": [
    "from metrics.recall import recall\n",
    "import pandas as pd\n",
    "import gzip, json"
   ],
   "metadata": {
    "collapsed": false,
    "pycharm": {
     "name": "#%%\n"
    }
   }
  },
  {
   "cell_type": "code",
   "execution_count": 3,
   "outputs": [],
   "source": [
<<<<<<< HEAD
    "predictions = pd.read_csv(\"data/predictions/t5-large/mkqa_single_en/results.csv\")"
=======
    "predictions = pd.read_csv('data/predictions/t5-large/mkqa_single_en/results.csv')"
>>>>>>> f05ffd290a842160b134ded9b19c9816801178c0
   ],
   "metadata": {
    "collapsed": false,
    "pycharm": {
     "name": "#%%\n"
    }
   }
  },
  {
   "cell_type": "code",
   "execution_count": 4,
   "outputs": [
    {
     "data": {
      "text/plain": "                                            question            target  \\\n0        who sings love you like there's no tomorrow       Chris Young   \n1  who sings i hear you knocking but you can't co...      Dave Edmunds   \n2                who came up with the show the voice       John de Mol   \n3                  who sang the song oh what a night  The Four Seasons   \n4          who sang i want to be with you everywhere     Fleetwood Mac   \n\n      answer_0           answer_1       answer_2     answer_3  \\\n0  John Lennon        John Lennon    John Lennon  John Lennon   \n1  John Lennon        John Lennon    John Lennon     Yoko Ono   \n2    The Voice  David O. Selznick  Steve McQueen    The Voice   \n3  John Lennon        John Lennon    John Lennon  David Bowie   \n4  John Lennon        John Lennon    John Lennon  David Bowie   \n\n          answer_4               answer_5        answer_6        answer_7  \\\n0      David Bowie          Michael Bublé  Paul McCartney     John Lennon   \n1      John Lennon  Mary Chapin Carpenter        Yoko Ono     John Lennon   \n2  Alyson Hannigan      David O. Selznick   Steve McQueen       The Voice   \n3      John Lennon            David Bowie   Michael Bublé     John Lennon   \n4      John Lennon            David Bowie     John Lennon  Paul McCartney   \n\n   ...        answer_41             answer_42      answer_43  \\\n0  ...          J. Cole            Paul Simon  Michael Buble   \n1  ...  Michael Jackson         Michael Buble     Paul Simon   \n2  ...     George Lopez  The Voice of America   Jeremy Irons   \n3  ...       Paul Simon          George Jones  Michael Buble   \n4  ...      John Legend       Michael Jackson     Paul Simon   \n\n                        answer_44         answer_45             answer_46  \\\n0                      Paul Simon     Michael Buble       Michael Jackson   \n1                 Michael Jackson       Joey Fatone             A.J. Cole   \n2  The Voice: The Next Generation  Jeremy Silvestri  David O. Russell Jr.   \n3                      Paul Simon   Michael Jackson         Michael Buble   \n4                   Michael Buble   Michael Jackson            Paul Simon   \n\n              answer_47      answer_48        answer_49 target_out_of_vocab  \n0           John Legend     Paul Simon      Joey Fatoni               False  \n1      David Bowie, Jr.     Paul Simon  Michael Jackson               False  \n2  The Voice of America   Jeremy Piven    Jeremy Siskel               False  \n3       Freddie Mercury  Michael Buble  Michael Jackson               False  \n4           John Legend  Michael Buble   George Michael               False  \n\n[5 rows x 53 columns]",
      "text/html": "<div>\n<style scoped>\n    .dataframe tbody tr th:only-of-type {\n        vertical-align: middle;\n    }\n\n    .dataframe tbody tr th {\n        vertical-align: top;\n    }\n\n    .dataframe thead th {\n        text-align: right;\n    }\n</style>\n<table border=\"1\" class=\"dataframe\">\n  <thead>\n    <tr style=\"text-align: right;\">\n      <th></th>\n      <th>question</th>\n      <th>target</th>\n      <th>answer_0</th>\n      <th>answer_1</th>\n      <th>answer_2</th>\n      <th>answer_3</th>\n      <th>answer_4</th>\n      <th>answer_5</th>\n      <th>answer_6</th>\n      <th>answer_7</th>\n      <th>...</th>\n      <th>answer_41</th>\n      <th>answer_42</th>\n      <th>answer_43</th>\n      <th>answer_44</th>\n      <th>answer_45</th>\n      <th>answer_46</th>\n      <th>answer_47</th>\n      <th>answer_48</th>\n      <th>answer_49</th>\n      <th>target_out_of_vocab</th>\n    </tr>\n  </thead>\n  <tbody>\n    <tr>\n      <th>0</th>\n      <td>who sings love you like there's no tomorrow</td>\n      <td>Chris Young</td>\n      <td>John Lennon</td>\n      <td>John Lennon</td>\n      <td>John Lennon</td>\n      <td>John Lennon</td>\n      <td>David Bowie</td>\n      <td>Michael Bublé</td>\n      <td>Paul McCartney</td>\n      <td>John Lennon</td>\n      <td>...</td>\n      <td>J. Cole</td>\n      <td>Paul Simon</td>\n      <td>Michael Buble</td>\n      <td>Paul Simon</td>\n      <td>Michael Buble</td>\n      <td>Michael Jackson</td>\n      <td>John Legend</td>\n      <td>Paul Simon</td>\n      <td>Joey Fatoni</td>\n      <td>False</td>\n    </tr>\n    <tr>\n      <th>1</th>\n      <td>who sings i hear you knocking but you can't co...</td>\n      <td>Dave Edmunds</td>\n      <td>John Lennon</td>\n      <td>John Lennon</td>\n      <td>John Lennon</td>\n      <td>Yoko Ono</td>\n      <td>John Lennon</td>\n      <td>Mary Chapin Carpenter</td>\n      <td>Yoko Ono</td>\n      <td>John Lennon</td>\n      <td>...</td>\n      <td>Michael Jackson</td>\n      <td>Michael Buble</td>\n      <td>Paul Simon</td>\n      <td>Michael Jackson</td>\n      <td>Joey Fatone</td>\n      <td>A.J. Cole</td>\n      <td>David Bowie, Jr.</td>\n      <td>Paul Simon</td>\n      <td>Michael Jackson</td>\n      <td>False</td>\n    </tr>\n    <tr>\n      <th>2</th>\n      <td>who came up with the show the voice</td>\n      <td>John de Mol</td>\n      <td>The Voice</td>\n      <td>David O. Selznick</td>\n      <td>Steve McQueen</td>\n      <td>The Voice</td>\n      <td>Alyson Hannigan</td>\n      <td>David O. Selznick</td>\n      <td>Steve McQueen</td>\n      <td>The Voice</td>\n      <td>...</td>\n      <td>George Lopez</td>\n      <td>The Voice of America</td>\n      <td>Jeremy Irons</td>\n      <td>The Voice: The Next Generation</td>\n      <td>Jeremy Silvestri</td>\n      <td>David O. Russell Jr.</td>\n      <td>The Voice of America</td>\n      <td>Jeremy Piven</td>\n      <td>Jeremy Siskel</td>\n      <td>False</td>\n    </tr>\n    <tr>\n      <th>3</th>\n      <td>who sang the song oh what a night</td>\n      <td>The Four Seasons</td>\n      <td>John Lennon</td>\n      <td>John Lennon</td>\n      <td>John Lennon</td>\n      <td>David Bowie</td>\n      <td>John Lennon</td>\n      <td>David Bowie</td>\n      <td>Michael Bublé</td>\n      <td>John Lennon</td>\n      <td>...</td>\n      <td>Paul Simon</td>\n      <td>George Jones</td>\n      <td>Michael Buble</td>\n      <td>Paul Simon</td>\n      <td>Michael Jackson</td>\n      <td>Michael Buble</td>\n      <td>Freddie Mercury</td>\n      <td>Michael Buble</td>\n      <td>Michael Jackson</td>\n      <td>False</td>\n    </tr>\n    <tr>\n      <th>4</th>\n      <td>who sang i want to be with you everywhere</td>\n      <td>Fleetwood Mac</td>\n      <td>John Lennon</td>\n      <td>John Lennon</td>\n      <td>John Lennon</td>\n      <td>David Bowie</td>\n      <td>John Lennon</td>\n      <td>David Bowie</td>\n      <td>John Lennon</td>\n      <td>Paul McCartney</td>\n      <td>...</td>\n      <td>John Legend</td>\n      <td>Michael Jackson</td>\n      <td>Paul Simon</td>\n      <td>Michael Buble</td>\n      <td>Michael Jackson</td>\n      <td>Paul Simon</td>\n      <td>John Legend</td>\n      <td>Michael Buble</td>\n      <td>George Michael</td>\n      <td>False</td>\n    </tr>\n  </tbody>\n</table>\n<p>5 rows × 53 columns</p>\n</div>"
     },
     "execution_count": 4,
     "metadata": {},
     "output_type": "execute_result"
    }
   ],
   "source": [
    "predictions.head()"
   ],
   "metadata": {
    "collapsed": false,
    "pycharm": {
     "name": "#%%\n"
    }
   }
  },
  {
   "cell_type": "code",
   "execution_count": 5,
   "outputs": [],
   "source": [
    "NUM_BEAMS = 50\n",
    "\n",
    "answer_cols = [f\"answer_{i}\" for i in range(NUM_BEAMS)]\n",
    "answer_candidates = [item[1].tolist() for item in predictions[answer_cols].T.items()]"
   ],
   "metadata": {
    "collapsed": false,
    "pycharm": {
     "name": "#%%\n"
    }
   }
  },
  {
   "cell_type": "code",
   "execution_count": 6,
   "outputs": [
    {
     "data": {
      "text/plain": "3069"
     },
     "execution_count": 6,
     "metadata": {},
     "output_type": "execute_result"
    }
   ],
   "source": [
    "len(answer_candidates)"
   ],
   "metadata": {
    "collapsed": false,
    "pycharm": {
     "name": "#%%\n"
    }
   }
  },
  {
   "cell_type": "markdown",
   "source": [
    "# Single label"
   ],
   "metadata": {
    "collapsed": false,
    "pycharm": {
     "name": "#%% md\n"
    }
   }
  },
  {
   "cell_type": "code",
   "execution_count": 7,
   "outputs": [],
   "source": [
    "targets = predictions.target.tolist()"
   ],
   "metadata": {
    "collapsed": false,
    "pycharm": {
     "name": "#%%\n"
    }
   }
  },
  {
   "cell_type": "code",
   "execution_count": 8,
   "outputs": [
    {
     "data": {
      "text/plain": "recall:   0%|          | 0/3069 [00:00<?, ?it/s]",
      "application/vnd.jupyter.widget-view+json": {
       "version_major": 2,
       "version_minor": 0,
       "model_id": "87e83c2cb0d5439096644e0e77ef27a0"
      }
     },
     "metadata": {},
     "output_type": "display_data"
    },
    {
     "data": {
      "text/plain": "0.08765070055392636"
     },
     "execution_count": 8,
     "metadata": {},
     "output_type": "execute_result"
    }
   ],
   "source": [
    "recall(targets, answer_candidates)"
   ],
   "metadata": {
    "collapsed": false,
    "pycharm": {
     "name": "#%%\n"
    }
   }
  },
  {
   "cell_type": "markdown",
   "source": [
    "# With aliases"
   ],
   "metadata": {
    "collapsed": false,
    "pycharm": {
     "name": "#%% md\n"
    }
   }
  },
  {
   "cell_type": "code",
   "execution_count": 9,
   "outputs": [
    {
     "name": "stdout",
     "output_type": "stream",
     "text": [
      "fatal: destination path 'data/wikidata_mkqa' already exists and is not an empty directory.\r\n"
     ]
    }
   ],
   "source": [
    "!git clone git@github.com:s-nlp/wikidata-mkqa-hf.git data/wikidata_mkqa"
   ],
   "metadata": {
    "collapsed": false,
    "pycharm": {
     "name": "#%%\n"
    }
   }
  },
  {
   "cell_type": "code",
   "execution_count": 10,
   "outputs": [],
   "source": [
<<<<<<< HEAD
    "with gzip.open(\"data/wikidata_mkqa/mkqa/mkqa.jsonl.gz\") as f:\n",
    "    jsonl_bytes = f.read()\n",
    "\n",
    "jsonl_str = jsonl_bytes.decode(\"utf-8\")\n",
    "data = []\n",
    "for json_str in jsonl_str.split(\"\\n\"):\n",
=======
    "with gzip.open('data/wikidata_mkqa/mkqa/mkqa.jsonl.gz') as f:\n",
    "    jsonl_bytes = f.read()\n",
    "\n",
    "jsonl_str = jsonl_bytes.decode('utf-8')\n",
    "data = []\n",
    "for json_str in jsonl_str.split('\\n'):\n",
>>>>>>> f05ffd290a842160b134ded9b19c9816801178c0
    "    if json_str:\n",
    "        data.append(json.loads(json_str))"
   ],
   "metadata": {
    "collapsed": false,
    "pycharm": {
     "name": "#%%\n"
    }
   }
  },
  {
   "cell_type": "code",
   "execution_count": 11,
   "outputs": [
    {
     "data": {
      "text/plain": "{'query': 'how long did it take the twin towers to be built',\n 'answers': {'en': [{'type': 'number_with_unit',\n    'text': '11.0 years',\n    'aliases': ['11 years']}],\n  'no': [{'type': 'number_with_unit',\n    'text': '11.0 År',\n    'aliases': ['11 År']}],\n  'ru': [{'type': 'number_with_unit',\n    'text': '11.0 лет',\n    'aliases': ['11 лет']}],\n  'hu': [{'type': 'number_with_unit',\n    'text': '11.0 esztendő',\n    'aliases': ['11 esztendő']}],\n  'tr': [{'type': 'number_with_unit',\n    'text': '11.0 yıl',\n    'aliases': ['11 yıl']}],\n  'ms': [{'type': 'number_with_unit',\n    'text': '11.0 tahun',\n    'aliases': ['11 tahun']}],\n  'ja': [{'type': 'number_with_unit', 'text': '11.0 年', 'aliases': ['11 年']}],\n  'sv': [{'type': 'number_with_unit',\n    'text': '11.0 årtal',\n    'aliases': ['11 årtal']}],\n  'it': [{'type': 'number_with_unit',\n    'text': '11.0 anno',\n    'aliases': ['11 anno']}],\n  'pl': [{'type': 'number_with_unit',\n    'text': '11.0 rok',\n    'aliases': ['11 rok']}],\n  'ar': [{'type': 'number_with_unit',\n    'text': '11.0 سنة',\n    'aliases': ['11 سنة']}],\n  'th': [{'type': 'number_with_unit',\n    'text': '11.0 ปี',\n    'aliases': ['11 ปี']}],\n  'km': [{'type': 'number_with_unit',\n    'text': '11.0 years',\n    'aliases': ['11 years']}],\n  'nl': [{'type': 'number_with_unit',\n    'text': '11.0 jaar',\n    'aliases': ['11 jaar']}],\n  'ko': [{'type': 'number_with_unit',\n    'text': '11.0 연도',\n    'aliases': ['11 연도']}],\n  'es': [{'type': 'number_with_unit',\n    'text': '11.0 año terrestre',\n    'aliases': ['11 año terrestre']}],\n  'de': [{'type': 'number_with_unit',\n    'text': '11.0 Jahr',\n    'aliases': ['11 Jahr']}],\n  'pt': [{'type': 'number_with_unit',\n    'text': '11.0 ano',\n    'aliases': ['11 ano']}],\n  'vi': [{'type': 'number_with_unit',\n    'text': '11.0 năm',\n    'aliases': ['11 năm']}],\n  'fr': [{'type': 'number_with_unit',\n    'text': '11.0 années',\n    'aliases': ['11 années']}],\n  'he': [{'type': 'number_with_unit',\n    'text': '11.0 שנה',\n    'aliases': ['11 שנה']}],\n  'da': [{'type': 'number_with_unit',\n    'text': '11.0 år',\n    'aliases': ['11 år']}],\n  'fi': [{'type': 'number_with_unit',\n    'text': '11.0 vuosi',\n    'aliases': ['11 vuosi']}],\n  'zh_cn': [{'type': 'number_with_unit',\n    'text': '11.0 年份',\n    'aliases': ['11 年份']}],\n  'zh_tw': [{'type': 'number_with_unit',\n    'text': '11.0 年份',\n    'aliases': ['11 年份']}],\n  'zh_hk': [{'type': 'number_with_unit',\n    'text': '11.0 年份',\n    'aliases': ['11 年份']}]},\n 'queries': {'tr': 'ikiz kulelerin inşa edilmesi ne kadar sürdü',\n  'hu': 'mennyi ideig épültek az ikertornyok?',\n  'zh_hk': '建造twin towers用了多長時間',\n  'nl': 'hoelang duurde het om de twin towers te bouwen',\n  'ms': 'menara berkembar petronas mengambil masa berapa lama untuk siap dibina',\n  'zh_cn': '世贸双塔建造用时多长',\n  'ja': 'ツインタワーが建てられるまでどの位の時間がかかりましたか',\n  'de': 'Wie lange dauerte es, um die Twin Towers zu bauen?',\n  'ru': 'как долго строились башни-близнецы',\n  'pl': 'ile czasu zajęło zbudowanie bliźniaczych wież',\n  'fi': 'kuinka pitkään kaksoistorneja rakennettiin',\n  'pt': 'quanto tempo levou para as torres gêmeas serem construídas',\n  'km': 'តើវាត្រូវចំណាយពេលប៉ុន្មានដើម្បីសាងសង់ប៉មភ្លោះ',\n  'it': 'Quanto ci è voluto per costruire le torri gemelle',\n  'fr': 'combien de temps a-t-il fallu pour construire les tours jumelles',\n  'he': 'כמה זמן לקח לבנות את מגדלי התאומים',\n  'vi': 'Tòa tháp đôi được xây dựng trong bao lâu?',\n  'zh_tw': '世界貿易中心花了多久蓋好',\n  'no': 'hvor lang tid tok det å bygge tvillingtårnene',\n  'da': 'hvor lang tid tog det at bygge tvillinge tårnene',\n  'th': 'ตึกคู่ใช้เวลาสร้างเท่าไหร่',\n  'sv': 'hur lång tid tog det att bygga twin towers',\n  'es': 'cuanto tardaron en construirse las torres gemelas',\n  'ar': ': كم من الوقت استغرق بناء البرجين التوأمين',\n  'en': 'how long did it take the twin towers to be built',\n  'ko': '쌍둥이 빌딩이 지어지기 까지 얼마나 걸려'},\n 'example_id': 3051930912491995402}"
     },
     "execution_count": 11,
     "metadata": {},
     "output_type": "execute_result"
    }
   ],
   "source": [
    "data[0]"
   ],
   "metadata": {
    "collapsed": false,
    "pycharm": {
     "name": "#%%\n"
    }
   }
  },
  {
   "cell_type": "code",
   "execution_count": 12,
   "outputs": [],
   "source": [
<<<<<<< HEAD
    "questions = predictions[\"question\"].tolist()"
=======
    "questions = predictions['question'].tolist()"
>>>>>>> f05ffd290a842160b134ded9b19c9816801178c0
   ],
   "metadata": {
    "collapsed": false,
    "pycharm": {
     "name": "#%%\n"
    }
   }
  },
  {
   "cell_type": "code",
   "execution_count": 13,
   "outputs": [],
   "source": [
    "question_to_answers = {}\n",
    "\n",
    "for item in data:\n",
<<<<<<< HEAD
    "    question = item[\"queries\"][\"en\"]\n",
    "    if question in questions:\n",
    "        answers = []\n",
    "        for answer in item[\"answers\"][\"en\"]:\n",
    "            if answer[\"type\"] == \"entity\":\n",
    "                answers.append(answer[\"text\"])\n",
    "                answers.extend(answer[\"aliases\"])\n",
=======
    "    question = item['queries']['en']\n",
    "    if question in questions:\n",
    "        answers = []\n",
    "        for answer in item['answers']['en']:\n",
    "            if answer['type'] == 'entity':\n",
    "                answers.append(answer['text'])\n",
    "                answers.extend(answer['aliases'])\n",
>>>>>>> f05ffd290a842160b134ded9b19c9816801178c0
    "        question_to_answers[question] = answers"
   ],
   "metadata": {
    "collapsed": false,
    "pycharm": {
     "name": "#%%\n"
    }
   }
  },
  {
   "cell_type": "code",
   "execution_count": 14,
   "outputs": [],
   "source": [
    "targets = []\n",
    "\n",
    "for question in questions:\n",
    "    targets.append(question_to_answers[question])"
   ],
   "metadata": {
    "collapsed": false,
    "pycharm": {
     "name": "#%%\n"
    }
   }
  },
  {
   "cell_type": "code",
   "execution_count": 15,
   "outputs": [
    {
     "data": {
      "text/plain": "recall:   0%|          | 0/3069 [00:00<?, ?it/s]",
      "application/vnd.jupyter.widget-view+json": {
       "version_major": 2,
       "version_minor": 0,
       "model_id": "0b915b584cfd4071b28be9de3aedd2ef"
      }
     },
     "metadata": {},
     "output_type": "display_data"
    },
    {
     "data": {
      "text/plain": "0.10003258390355164"
     },
     "execution_count": 15,
     "metadata": {},
     "output_type": "execute_result"
    }
   ],
   "source": [
    "recall(targets, answer_candidates)"
   ],
   "metadata": {
    "collapsed": false,
    "pycharm": {
     "name": "#%%\n"
    }
   }
  },
  {
   "cell_type": "code",
   "execution_count": null,
   "outputs": [],
   "source": [],
   "metadata": {
    "collapsed": false,
    "pycharm": {
     "name": "#%%\n"
    }
   }
  }
 ],
 "metadata": {
  "kernelspec": {
   "display_name": "Python 3",
   "language": "python",
   "name": "python3"
  },
  "language_info": {
   "codemirror_mode": {
    "name": "ipython",
    "version": 2
   },
   "file_extension": ".py",
   "mimetype": "text/x-python",
   "name": "python",
   "nbconvert_exporter": "python",
   "pygments_lexer": "ipython2",
   "version": "2.7.6"
  }
 },
 "nbformat": 4,
 "nbformat_minor": 0
}