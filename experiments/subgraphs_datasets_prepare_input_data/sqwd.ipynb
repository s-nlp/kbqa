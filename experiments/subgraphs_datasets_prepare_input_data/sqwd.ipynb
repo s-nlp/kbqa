{
 "cells": [
  {
   "attachments": {},
   "cell_type": "markdown",
   "metadata": {},
   "source": [
    "results_*.csv - results from seq2seq.py eval script, corresponding for train/test parts."
   ]
  },
  {
   "cell_type": "code",
   "execution_count": 2,
   "metadata": {},
   "outputs": [],
   "source": [
    "import pandas as pd\n",
    "from pywikidata import Entity\n",
    "from tqdm.auto import tqdm\n",
    "import json\n",
    "import itertools\n",
    "import datasets \n",
    "\n",
    "from kbqa.entity_linkink import build_mgenre_pipeline, EntitiesSelection\n",
    "from kbqa.caches.ner_to_sentence_insertion import NerToSentenceInsertion\n",
    "\n",
    "tqdm.pandas()"
   ]
  },
  {
   "cell_type": "code",
   "execution_count": 2,
   "metadata": {},
   "outputs": [],
   "source": [
    "import requests\n",
    "from joblib import Memory\n",
    "\n",
    "memory = Memory('/tmp/cache', verbose=0)\n",
    "\n",
    "\n",
    "@memory.cache\n",
    "def get_wd_search_results(\n",
    "    search_string: str,\n",
    "    max_results: int = 500,\n",
    "    language: str = 'en',\n",
    "    mediawiki_api_url: str = \"https://www.wikidata.org/w/api.php\",\n",
    "    user_agent: str = None,\n",
    ") -> list:\n",
    "    params = {\n",
    "        'action': 'wbsearchentities',\n",
    "        'language': language,\n",
    "        'search': search_string,\n",
    "        'format': 'json',\n",
    "        'limit': 50\n",
    "    }\n",
    "\n",
    "    user_agent = \"pywikidata\" if user_agent is None else user_agent\n",
    "    headers = {\n",
    "        'User-Agent': user_agent\n",
    "    }\n",
    "\n",
    "    cont_count = 1\n",
    "    results = []\n",
    "    while cont_count > 0:\n",
    "        params.update({'continue': 0 if cont_count == 1 else cont_count})\n",
    "\n",
    "        reply = requests.get(mediawiki_api_url, params=params, headers=headers)\n",
    "        reply.raise_for_status()\n",
    "        search_results = reply.json()\n",
    "\n",
    "        if search_results['success'] != 1:\n",
    "            raise Exception('WD search failed')\n",
    "        else:\n",
    "            for i in search_results['search']:\n",
    "                results.append(i['id'])\n",
    "\n",
    "        if 'search-continue' not in search_results:\n",
    "            cont_count = 0\n",
    "        else:\n",
    "            cont_count = search_results['search-continue']\n",
    "\n",
    "        if cont_count > max_results:\n",
    "            break\n",
    "\n",
    "    return results"
   ]
  },
  {
   "cell_type": "code",
   "execution_count": 3,
   "metadata": {},
   "outputs": [],
   "source": [
    "def prepare_data(data_df, results_df, wd_search_results_top_k: int = 1, mgenre=None, ner=None, entities_selection=None):\n",
    "    answers_cols = [c for c in results_df.columns if 'answer_' in c]\n",
    "\n",
    "    results_df['answers_ids'] = results_df[answers_cols].progress_apply(\n",
    "        lambda row: [\n",
    "            get_wd_search_results(label, 5, language='en')[:wd_search_results_top_k]\n",
    "            for label in row.unique()[:5]\n",
    "        ],\n",
    "        axis=1\n",
    "    ).apply(lambda list_of_list_of_answers: list(itertools.chain(*list_of_list_of_answers)))\n",
    "\n",
    "    df = results_df.merge(data_df, on='question')\n",
    "\n",
    "\n",
    "    data = []\n",
    "    for _, row in tqdm(df.iterrows(), total=df.index.size):\n",
    "        golden_true_entity = Entity(row['O'])\n",
    "\n",
    "        if mgenre is None or ner is None or entities_selection is None:\n",
    "            question_entity = Entity(row['S'])\n",
    "            additional_candidates = [e.idx for _,e in question_entity.forward_one_hop_neighbours if e != golden_true_entity][:5]\n",
    "            questionEntity = [question_entity.idx]\n",
    "        else:\n",
    "            question_with_ner, entities_list = ner.entity_labeling(row['question'], True)\n",
    "            mgenre_results = mgenre(question_with_ner)\n",
    "            selected_entities = entities_selection(entities_list, mgenre_results)\n",
    "\n",
    "            questionEntity = list(itertools.chain(*[\n",
    "                get_wd_search_results(l, 1, language='en')[:1]\n",
    "                for l in selected_entities\n",
    "            ]))\n",
    "            additional_candidates = []\n",
    "\n",
    "        candidates_ids = set(additional_candidates + row['answers_ids'] + [golden_true_entity.idx])\n",
    "        \n",
    "        for candidate_id in candidates_ids:\n",
    "            candidate_entity = Entity(candidate_id)\n",
    "\n",
    "            yield {\n",
    "                'question': row['question'],\n",
    "                'answerEntity': [candidate_entity.idx],\n",
    "                'questionEntity': questionEntity,\n",
    "                'groundTruthAnswerEntity': [golden_true_entity.idx],\n",
    "            }\n"
   ]
  },
  {
   "cell_type": "code",
   "execution_count": 4,
   "metadata": {},
   "outputs": [
    {
     "name": "stdout",
     "output_type": "stream",
     "text": [
      "File ‘annotated_wd_data_train_answerable.txt’ already there; not retrieving.\n",
      "\n",
      "File ‘annotated_wd_data_valid_answerable.txt’ already there; not retrieving.\n",
      "\n",
      "File ‘annotated_wd_data_test_answerable.txt’ already there; not retrieving.\n",
      "\n"
     ]
    }
   ],
   "source": [
    "!wget -nc https://raw.githubusercontent.com/askplatypus/wikidata-simplequestions/master/annotated_wd_data_train_answerable.txt\n",
    "!wget -nc https://raw.githubusercontent.com/askplatypus/wikidata-simplequestions/master/annotated_wd_data_valid_answerable.txt\n",
    "!wget -nc https://raw.githubusercontent.com/askplatypus/wikidata-simplequestions/master/annotated_wd_data_test_answerable.txt"
   ]
  },
  {
   "cell_type": "code",
   "execution_count": 5,
   "metadata": {},
   "outputs": [
    {
     "name": "stdout",
     "output_type": "stream",
     "text": [
      "mkdir: cannot create directory ‘to_subgraphs’: File exists\n"
     ]
    }
   ],
   "source": [
    "!mkdir to_subgraphs"
   ]
  },
  {
   "cell_type": "code",
   "execution_count": 6,
   "metadata": {},
   "outputs": [
    {
     "name": "stderr",
     "output_type": "stream",
     "text": [
      "/usr/local/lib/python3.8/dist-packages/spacy/util.py:887: UserWarning: [W095] Model 'en_pipeline' (0.0.0) was trained with spaCy v3.4 and may not be 100% compatible with the current version (3.5.1). If you see errors or degraded performance, download a newer compatible model or retrain your custom model with the current spaCy version. For more details and available updates, run: python -m spacy validate\n",
      "  warnings.warn(warn_msg)\n"
     ]
    }
   ],
   "source": [
    "import torch\n",
    "\n",
    "ner = NerToSentenceInsertion('/home/salnikov/data_kbqa/ner/spacy_models/wdsq_tuned/model-best/')\n",
    "mgenre = build_mgenre_pipeline(torch.device('cuda:4'))\n",
    "entities_selection = EntitiesSelection(ner.model)"
   ]
  },
  {
   "cell_type": "code",
   "execution_count": 7,
   "metadata": {},
   "outputs": [
    {
     "name": "stderr",
     "output_type": "stream",
     "text": [
      "/tmp/ipykernel_3337/1997919984.py:3: DtypeWarning: Columns (202) have mixed types. Specify dtype option on import or set low_memory=False.\n",
      "  results_train_df: pd.DataFrame = pd.read_csv('./results_train.csv') # Train\n"
     ]
    },
    {
     "data": {
      "application/json": {
       "ascii": false,
       "bar_format": null,
       "colour": null,
       "elapsed": 0.008656501770019531,
       "initial": 0,
       "n": 0,
       "ncols": null,
       "nrows": null,
       "postfix": null,
       "prefix": "",
       "rate": null,
       "total": 11012,
       "unit": "it",
       "unit_divisor": 1000,
       "unit_scale": false
      },
      "application/vnd.jupyter.widget-view+json": {
       "model_id": "0759e7ebd8ef4c8ea9154bef42381207",
       "version_major": 2,
       "version_minor": 0
      },
      "text/plain": [
       "  0%|          | 0/11012 [00:00<?, ?it/s]"
      ]
     },
     "metadata": {},
     "output_type": "display_data"
    },
    {
     "data": {
      "application/json": {
       "ascii": false,
       "bar_format": null,
       "colour": null,
       "elapsed": 0.006013631820678711,
       "initial": 0,
       "n": 0,
       "ncols": null,
       "nrows": null,
       "postfix": null,
       "prefix": "",
       "rate": null,
       "total": 11244,
       "unit": "it",
       "unit_divisor": 1000,
       "unit_scale": false
      },
      "application/vnd.jupyter.widget-view+json": {
       "model_id": "546ec55fc47c452bb0854aa07e6b2a89",
       "version_major": 2,
       "version_minor": 0
      },
      "text/plain": [
       "  0%|          | 0/11244 [00:00<?, ?it/s]"
      ]
     },
     "metadata": {},
     "output_type": "display_data"
    },
    {
     "data": {
      "application/json": {
       "ascii": false,
       "bar_format": null,
       "colour": null,
       "elapsed": 0.005918264389038086,
       "initial": 0,
       "n": 0,
       "ncols": null,
       "nrows": null,
       "postfix": null,
       "prefix": "",
       "rate": null,
       "total": 11012,
       "unit": "it",
       "unit_divisor": 1000,
       "unit_scale": false
      },
      "application/vnd.jupyter.widget-view+json": {
       "model_id": "d190ae26706d4adcb8525f121845faf6",
       "version_major": 2,
       "version_minor": 0
      },
      "text/plain": [
       "  0%|          | 0/11012 [00:00<?, ?it/s]"
      ]
     },
     "metadata": {},
     "output_type": "display_data"
    },
    {
     "data": {
      "application/json": {
       "ascii": false,
       "bar_format": null,
       "colour": null,
       "elapsed": 0.0062007904052734375,
       "initial": 0,
       "n": 0,
       "ncols": null,
       "nrows": null,
       "postfix": null,
       "prefix": "",
       "rate": null,
       "total": 11244,
       "unit": "it",
       "unit_divisor": 1000,
       "unit_scale": false
      },
      "application/vnd.jupyter.widget-view+json": {
       "model_id": "6374dc32f33748499b64d40e8327361f",
       "version_major": 2,
       "version_minor": 0
      },
      "text/plain": [
       "  0%|          | 0/11244 [00:00<?, ?it/s]"
      ]
     },
     "metadata": {},
     "output_type": "display_data"
    },
    {
     "name": "stderr",
     "output_type": "stream",
     "text": [
      "/usr/local/lib/python3.8/dist-packages/transformers/generation_utils.py:1202: UserWarning: Neither `max_length` nor `max_new_tokens` have been set, `max_length` will default to 20 (`self.config.max_length`). Controlling `max_length` via the config is deprecated and `max_length` will be removed from the config in v5 of Transformers -- we recommend using `max_new_tokens` to control the maximum length of the generation.\n",
      "  warnings.warn(\n",
      "/usr/local/lib/python3.8/dist-packages/transformers/pipelines/base.py:1036: UserWarning: You seem to be using the pipelines sequentially on GPU. In order to maximize efficiency please use a dataset\n",
      "  warnings.warn(\n"
     ]
    }
   ],
   "source": [
    "data_train_df = pd.read_csv('annotated_wd_data_train_answerable.txt', sep='\\t', names=['S', 'P', 'O', 'question'])\n",
    "\n",
    "results_train_df: pd.DataFrame = pd.read_csv('./results_train.csv') # Train\n",
    "results_train_df['question'] = results_train_df['question'].apply(lambda s: s.replace('\\n', ''))\n",
    "\n",
    "with open('to_subgraphs/sqwd_train.jsonl', 'w') as f:\n",
    "    for data_line in prepare_data(data_train_df, results_train_df):\n",
    "        f.write(json.dumps(data_line)+'\\n')\n",
    "\n",
    "with open('to_subgraphs/sqwd_train_with_entity_linker.jsonl', 'w') as f:\n",
    "    for data_line in prepare_data(data_train_df, results_train_df, 1, mgenre, ner, entities_selection):\n",
    "        f.write(json.dumps(data_line)+'\\n')"
   ]
  },
  {
   "cell_type": "code",
   "execution_count": 8,
   "metadata": {},
   "outputs": [
    {
     "data": {
      "application/json": {
       "ascii": false,
       "bar_format": null,
       "colour": null,
       "elapsed": 0.006407022476196289,
       "initial": 0,
       "n": 0,
       "ncols": null,
       "nrows": null,
       "postfix": null,
       "prefix": "",
       "rate": null,
       "total": 2561,
       "unit": "it",
       "unit_divisor": 1000,
       "unit_scale": false
      },
      "application/vnd.jupyter.widget-view+json": {
       "model_id": "c56401de303e442fbc95b8fb38f34063",
       "version_major": 2,
       "version_minor": 0
      },
      "text/plain": [
       "  0%|          | 0/2561 [00:00<?, ?it/s]"
      ]
     },
     "metadata": {},
     "output_type": "display_data"
    },
    {
     "data": {
      "application/json": {
       "ascii": false,
       "bar_format": null,
       "colour": null,
       "elapsed": 0.005574226379394531,
       "initial": 0,
       "n": 0,
       "ncols": null,
       "nrows": null,
       "postfix": null,
       "prefix": "",
       "rate": null,
       "total": 2568,
       "unit": "it",
       "unit_divisor": 1000,
       "unit_scale": false
      },
      "application/vnd.jupyter.widget-view+json": {
       "model_id": "de79485daea849f584bb40654172f207",
       "version_major": 2,
       "version_minor": 0
      },
      "text/plain": [
       "  0%|          | 0/2568 [00:00<?, ?it/s]"
      ]
     },
     "metadata": {},
     "output_type": "display_data"
    },
    {
     "data": {
      "application/json": {
       "ascii": false,
       "bar_format": null,
       "colour": null,
       "elapsed": 0.0062639713287353516,
       "initial": 0,
       "n": 0,
       "ncols": null,
       "nrows": null,
       "postfix": null,
       "prefix": "",
       "rate": null,
       "total": 2561,
       "unit": "it",
       "unit_divisor": 1000,
       "unit_scale": false
      },
      "application/vnd.jupyter.widget-view+json": {
       "model_id": "cf917dbad939409d80dc28b3592bf45b",
       "version_major": 2,
       "version_minor": 0
      },
      "text/plain": [
       "  0%|          | 0/2561 [00:00<?, ?it/s]"
      ]
     },
     "metadata": {},
     "output_type": "display_data"
    },
    {
     "data": {
      "application/json": {
       "ascii": false,
       "bar_format": null,
       "colour": null,
       "elapsed": 0.0059108734130859375,
       "initial": 0,
       "n": 0,
       "ncols": null,
       "nrows": null,
       "postfix": null,
       "prefix": "",
       "rate": null,
       "total": 2568,
       "unit": "it",
       "unit_divisor": 1000,
       "unit_scale": false
      },
      "application/vnd.jupyter.widget-view+json": {
       "model_id": "e41d1f0d92914a40adfe71d927410a0a",
       "version_major": 2,
       "version_minor": 0
      },
      "text/plain": [
       "  0%|          | 0/2568 [00:00<?, ?it/s]"
      ]
     },
     "metadata": {},
     "output_type": "display_data"
    },
    {
     "name": "stderr",
     "output_type": "stream",
     "text": [
      "/usr/local/lib/python3.8/dist-packages/transformers/pipelines/base.py:1036: UserWarning: You seem to be using the pipelines sequentially on GPU. In order to maximize efficiency please use a dataset\n",
      "  warnings.warn(\n",
      "/usr/local/lib/python3.8/dist-packages/transformers/generation_utils.py:1202: UserWarning: Neither `max_length` nor `max_new_tokens` have been set, `max_length` will default to 20 (`self.config.max_length`). Controlling `max_length` via the config is deprecated and `max_length` will be removed from the config in v5 of Transformers -- we recommend using `max_new_tokens` to control the maximum length of the generation.\n",
      "  warnings.warn(\n"
     ]
    }
   ],
   "source": [
    "data_valid_df = pd.read_csv('annotated_wd_data_valid_answerable.txt', sep='\\t', names=['S', 'P', 'O', 'question'])\n",
    "\n",
    "results_valid_df: pd.DataFrame = pd.read_csv('./results_validation.csv') # Validation\n",
    "results_valid_df['question'] = results_valid_df['question'].apply(lambda s: s.replace('\\n', ''))\n",
    "\n",
    "with open('to_subgraphs/sqwd_validation.jsonl', 'w') as f:\n",
    "    for data_line in prepare_data(data_valid_df, results_valid_df):\n",
    "        f.write(json.dumps(data_line)+'\\n')\n",
    "\n",
    "with open('to_subgraphs/sqwd_validation_with_entity_linker.jsonl', 'w') as f:\n",
    "    for data_line in prepare_data(data_valid_df, results_valid_df, 1, mgenre, ner, entities_selection):\n",
    "        f.write(json.dumps(data_line)+'\\n')"
   ]
  },
  {
   "cell_type": "code",
   "execution_count": 11,
   "metadata": {},
   "outputs": [
    {
     "data": {
      "application/json": {
       "ascii": false,
       "bar_format": null,
       "colour": null,
       "elapsed": 0.009168148040771484,
       "initial": 0,
       "n": 0,
       "ncols": null,
       "nrows": null,
       "postfix": null,
       "prefix": "",
       "rate": null,
       "total": 5136,
       "unit": "it",
       "unit_divisor": 1000,
       "unit_scale": false
      },
      "application/vnd.jupyter.widget-view+json": {
       "model_id": "565ba241fdd54d65be2a3d0d378e7a2f",
       "version_major": 2,
       "version_minor": 0
      },
      "text/plain": [
       "  0%|          | 0/5136 [00:00<?, ?it/s]"
      ]
     },
     "metadata": {},
     "output_type": "display_data"
    },
    {
     "data": {
      "application/json": {
       "ascii": false,
       "bar_format": null,
       "colour": null,
       "elapsed": 0.007399320602416992,
       "initial": 0,
       "n": 0,
       "ncols": null,
       "nrows": null,
       "postfix": null,
       "prefix": "",
       "rate": null,
       "total": 5186,
       "unit": "it",
       "unit_divisor": 1000,
       "unit_scale": false
      },
      "application/vnd.jupyter.widget-view+json": {
       "model_id": "da56cf49bbc143679be9676b6cc071d1",
       "version_major": 2,
       "version_minor": 0
      },
      "text/plain": [
       "  0%|          | 0/5186 [00:00<?, ?it/s]"
      ]
     },
     "metadata": {},
     "output_type": "display_data"
    },
    {
     "data": {
      "application/json": {
       "ascii": false,
       "bar_format": null,
       "colour": null,
       "elapsed": 0.017091035842895508,
       "initial": 0,
       "n": 0,
       "ncols": null,
       "nrows": null,
       "postfix": null,
       "prefix": "",
       "rate": null,
       "total": 5136,
       "unit": "it",
       "unit_divisor": 1000,
       "unit_scale": false
      },
      "application/vnd.jupyter.widget-view+json": {
       "model_id": "240b00cccb7a4c05960a9650883ffc7d",
       "version_major": 2,
       "version_minor": 0
      },
      "text/plain": [
       "  0%|          | 0/5136 [00:00<?, ?it/s]"
      ]
     },
     "metadata": {},
     "output_type": "display_data"
    },
    {
     "data": {
      "application/json": {
       "ascii": false,
       "bar_format": null,
       "colour": null,
       "elapsed": 0.006989240646362305,
       "initial": 0,
       "n": 0,
       "ncols": null,
       "nrows": null,
       "postfix": null,
       "prefix": "",
       "rate": null,
       "total": 5186,
       "unit": "it",
       "unit_divisor": 1000,
       "unit_scale": false
      },
      "application/vnd.jupyter.widget-view+json": {
       "model_id": "763f68cda51e4f45b36b063b6f838455",
       "version_major": 2,
       "version_minor": 0
      },
      "text/plain": [
       "  0%|          | 0/5186 [00:00<?, ?it/s]"
      ]
     },
     "metadata": {},
     "output_type": "display_data"
    },
    {
     "name": "stderr",
     "output_type": "stream",
     "text": [
      "/usr/local/lib/python3.8/dist-packages/transformers/pipelines/base.py:1036: UserWarning: You seem to be using the pipelines sequentially on GPU. In order to maximize efficiency please use a dataset\n",
      "  warnings.warn(\n",
      "/usr/local/lib/python3.8/dist-packages/transformers/generation_utils.py:1202: UserWarning: Neither `max_length` nor `max_new_tokens` have been set, `max_length` will default to 20 (`self.config.max_length`). Controlling `max_length` via the config is deprecated and `max_length` will be removed from the config in v5 of Transformers -- we recommend using `max_new_tokens` to control the maximum length of the generation.\n",
      "  warnings.warn(\n"
     ]
    }
   ],
   "source": [
    "data_test_df = pd.read_csv('annotated_wd_data_test_answerable.txt', sep='\\t', names=['S', 'P', 'O', 'question'])\n",
    "\n",
    "results_test_df: pd.DataFrame = pd.read_csv('./results_test.csv') # Test\n",
    "results_test_df['question'] = results_test_df['question'].apply(lambda s: s.replace('\\n', ''))\n",
    "\n",
    "with open('to_subgraphs/sqwd_test.jsonl', 'w') as f:\n",
    "    for data_line in prepare_data(data_test_df, results_test_df):\n",
    "        f.write(json.dumps(data_line)+'\\n')\n",
    "\n",
    "with open('to_subgraphs/sqwd_test_with_entity_linker.jsonl', 'w') as f:\n",
    "    for data_line in prepare_data(data_test_df, results_test_df, 1, mgenre, ner, entities_selection):\n",
    "        f.write(json.dumps(data_line)+'\\n')"
   ]
  },
  {
   "cell_type": "code",
   "execution_count": null,
   "metadata": {},
   "outputs": [],
   "source": []
  }
 ],
 "metadata": {
  "kernelspec": {
   "display_name": "Python 3",
   "language": "python",
   "name": "python3"
  },
  "language_info": {
   "codemirror_mode": {
    "name": "ipython",
    "version": 3
   },
   "file_extension": ".py",
   "mimetype": "text/x-python",
   "name": "python",
   "nbconvert_exporter": "python",
   "pygments_lexer": "ipython3",
   "version": "3.8.10"
  },
  "orig_nbformat": 4
 },
 "nbformat": 4,
 "nbformat_minor": 2
}
