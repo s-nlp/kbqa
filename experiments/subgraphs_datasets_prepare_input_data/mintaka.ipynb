{
 "cells": [
  {
   "cell_type": "code",
   "execution_count": 1,
   "metadata": {},
   "outputs": [],
   "source": [
    "import pandas as pd\n",
    "from pywikidata import Entity\n",
    "from tqdm.auto import tqdm\n",
    "import ujson\n",
    "import itertools\n",
    "import random\n",
    "import datasets\n",
    "from kbqa.entity_linkink import build_mgenre_pipeline, EntitiesSelection\n",
    "from kbqa.caches.ner_to_sentence_insertion import NerToSentenceInsertion\n",
    "\n",
    "tqdm.pandas()"
   ]
  },
  {
   "cell_type": "code",
   "execution_count": 2,
   "metadata": {},
   "outputs": [],
   "source": [
    "import requests\n",
    "from joblib import Memory\n",
    "\n",
    "memory = Memory('/tmp/cache', verbose=0)\n",
    "\n",
    "\n",
    "@memory.cache\n",
    "def get_wd_search_results(\n",
    "    search_string: str,\n",
    "    max_results: int = 500,\n",
    "    language: str = 'en',\n",
    "    mediawiki_api_url: str = \"https://www.wikidata.org/w/api.php\",\n",
    "    user_agent: str = None,\n",
    ") -> list:\n",
    "    params = {\n",
    "        'action': 'wbsearchentities',\n",
    "        'language': language,\n",
    "        'search': search_string,\n",
    "        'format': 'json',\n",
    "        'limit': 50\n",
    "    }\n",
    "\n",
    "    user_agent = \"pywikidata\" if user_agent is None else user_agent\n",
    "    headers = {\n",
    "        'User-Agent': user_agent\n",
    "    }\n",
    "\n",
    "    cont_count = 1\n",
    "    results = []\n",
    "    while cont_count > 0:\n",
    "        params.update({'continue': 0 if cont_count == 1 else cont_count})\n",
    "\n",
    "        reply = requests.get(mediawiki_api_url, params=params, headers=headers)\n",
    "        reply.raise_for_status()\n",
    "        search_results = reply.json()\n",
    "\n",
    "        if search_results['success'] != 1:\n",
    "            raise Exception('WD search failed')\n",
    "        else:\n",
    "            for i in search_results['search']:\n",
    "                results.append(i['id'])\n",
    "\n",
    "        if 'search-continue' not in search_results:\n",
    "            cont_count = 0\n",
    "        else:\n",
    "            cont_count = search_results['search-continue']\n",
    "\n",
    "        if cont_count > max_results:\n",
    "            break\n",
    "\n",
    "    return results"
   ]
  },
  {
   "cell_type": "code",
   "execution_count": 10,
   "metadata": {},
   "outputs": [],
   "source": [
    "def prepare_data(data_df, results_df, wd_search_results_top_k: int = 1, mgenre=None, ner=None, entities_selection=None, test_mode=False):\n",
    "    answers_cols = [c for c in results_df.columns if 'answer_' in c]\n",
    "\n",
    "    results_df['answers_ids'] = results_df[answers_cols].progress_apply(\n",
    "        lambda row: [\n",
    "            get_wd_search_results(label, 5, language='en')[:wd_search_results_top_k]\n",
    "            for label in row.unique()[:5]\n",
    "        ],\n",
    "        axis=1\n",
    "    ).apply(lambda list_of_list_of_answers: list(itertools.chain(*list_of_list_of_answers)))\n",
    "\n",
    "    df = results_df.merge(data_df, on='question')\n",
    "\n",
    "    for _, row in tqdm(df.iterrows(), total=df.index.size):\n",
    "        golden_true_entity = [Entity(e['name']) for e in row['answerEntity']]\n",
    "\n",
    "        question_entity = [\n",
    "            Entity(e['name'])\n",
    "            for e in row['questionEntity']\n",
    "            if e['entityType'] == 'entity' and e['name'] not in [None, 'None', ''] and e['name'][0] == 'Q'\n",
    "        ]\n",
    "        \n",
    "        if test_mode:\n",
    "            candidates_ids = row['answers_ids']\n",
    "        else:\n",
    "            if mgenre is None or ner is None or entities_selection is None:\n",
    "                additional_candidates = []\n",
    "                for qe in question_entity:\n",
    "                    for _,e in qe.forward_one_hop_neighbours:\n",
    "                        if e not in golden_true_entity:\n",
    "                            additional_candidates.append(e.idx)\n",
    "                random.shuffle(additional_candidates)\n",
    "                additional_candidates = additional_candidates[:5]\n",
    "            else:\n",
    "                question_with_ner, entities_list = ner.entity_labeling(row['question'], True)\n",
    "                mgenre_results = mgenre(question_with_ner)\n",
    "                selected_entities = entities_selection(entities_list, mgenre_results)\n",
    "\n",
    "                question_entity = list(itertools.chain(*[\n",
    "                    get_wd_search_results(l, 1, language='en')[:1]\n",
    "                    for l in selected_entities\n",
    "                ]))\n",
    "                additional_candidates = []\n",
    "\n",
    "            candidates_ids = set(additional_candidates + row['answers_ids'] + [e.idx for e in golden_true_entity])\n",
    "        \n",
    "        for candidate_id in candidates_ids:\n",
    "            candidate_entity = Entity(candidate_id)\n",
    "            yield {\n",
    "                'id': row['id'],\n",
    "                'question': row['question'],\n",
    "                'answerEntity': [candidate_entity.idx],\n",
    "                'questionEntity': [e.idx for e in question_entity],\n",
    "                'groundTruthAnswerEntity': [e.idx for e in golden_true_entity],\n",
    "                'complexityType': row['complexityType'],\n",
    "            }\n"
   ]
  },
  {
   "cell_type": "code",
   "execution_count": 4,
   "metadata": {},
   "outputs": [
    {
     "name": "stderr",
     "output_type": "stream",
     "text": [
      "Found cached dataset mintaka (/Users/ms/.cache/huggingface/datasets/AmazonScience___mintaka/en/1.0.0/bb35d95f07aed78fa590601245009c5f585efe909dbd4a8f2a4025ccf65bb11d)\n"
     ]
    },
    {
     "data": {
      "application/vnd.jupyter.widget-view+json": {
       "model_id": "00fcc9682c374d8eb34158b9004bb915",
       "version_major": 2,
       "version_minor": 0
      },
      "text/plain": [
       "  0%|          | 0/3 [00:00<?, ?it/s]"
      ]
     },
     "metadata": {},
     "output_type": "display_data"
    },
    {
     "data": {
      "text/plain": [
       "DatasetDict({\n",
       "    train: Dataset({\n",
       "        features: ['id', 'lang', 'question', 'answerText', 'category', 'complexityType', 'questionEntity', 'answerEntity'],\n",
       "        num_rows: 14000\n",
       "    })\n",
       "    validation: Dataset({\n",
       "        features: ['id', 'lang', 'question', 'answerText', 'category', 'complexityType', 'questionEntity', 'answerEntity'],\n",
       "        num_rows: 2000\n",
       "    })\n",
       "    test: Dataset({\n",
       "        features: ['id', 'lang', 'question', 'answerText', 'category', 'complexityType', 'questionEntity', 'answerEntity'],\n",
       "        num_rows: 4000\n",
       "    })\n",
       "})"
      ]
     },
     "execution_count": 4,
     "metadata": {},
     "output_type": "execute_result"
    }
   ],
   "source": [
    "ds = datasets.load_dataset('AmazonScience/mintaka', name='en')\n",
    "ds"
   ]
  },
  {
   "cell_type": "code",
   "execution_count": 5,
   "metadata": {},
   "outputs": [
    {
     "name": "stderr",
     "output_type": "stream",
     "text": [
      "100%|██████████| 2000/2000 [00:03<00:00, 573.52it/s]\n",
      "100%|██████████| 2000/2000 [00:05<00:00, 365.25it/s]\n"
     ]
    }
   ],
   "source": [
    "results_validation_df: pd.DataFrame = pd.read_csv('./mintaka_results_validation.csv') # validation\n",
    "\n",
    "with open('to_subgraphs/mintaka_validation.jsonl', 'w') as f:\n",
    "    for data_line in prepare_data(ds['validation'].to_pandas(), results_validation_df):\n",
    "        f.write(ujson.dumps(data_line)+'\\n')"
   ]
  },
  {
   "cell_type": "code",
   "execution_count": 6,
   "metadata": {},
   "outputs": [
    {
     "name": "stderr",
     "output_type": "stream",
     "text": [
      "100%|██████████| 14000/14000 [00:23<00:00, 593.79it/s]\n",
      "100%|██████████| 14000/14000 [00:13<00:00, 1021.77it/s]\n"
     ]
    }
   ],
   "source": [
    "results_train_df: pd.DataFrame = pd.read_csv('./mintaka_results_train.csv') # train\n",
    "\n",
    "with open('to_subgraphs/mintaka_train.jsonl', 'w') as f:\n",
    "    for data_line in prepare_data(ds['train'].to_pandas(), results_train_df):\n",
    "        f.write(ujson.dumps(data_line)+'\\n')"
   ]
  },
  {
   "cell_type": "code",
   "execution_count": 11,
   "metadata": {},
   "outputs": [
    {
     "data": {
      "application/vnd.jupyter.widget-view+json": {
       "model_id": "5d336c8e3d55425ab5b2262e97502399",
       "version_major": 2,
       "version_minor": 0
      },
      "text/plain": [
       "  0%|          | 0/4000 [00:00<?, ?it/s]"
      ]
     },
     "metadata": {},
     "output_type": "display_data"
    },
    {
     "data": {
      "application/vnd.jupyter.widget-view+json": {
       "model_id": "bfd6fe089f814f7a91527c4fb293c38d",
       "version_major": 2,
       "version_minor": 0
      },
      "text/plain": [
       "  0%|          | 0/4000 [00:00<?, ?it/s]"
      ]
     },
     "metadata": {},
     "output_type": "display_data"
    }
   ],
   "source": [
    "results_test_df: pd.DataFrame = pd.read_csv('./mintaka_results_test.csv') # test\n",
    "\n",
    "with open('to_subgraphs/mintaka_test.jsonl', 'w') as f:\n",
    "    for data_line in prepare_data(ds['test'].to_pandas(), results_test_df, test_mode=True):\n",
    "        f.write(ujson.dumps(data_line)+'\\n')"
   ]
  },
  {
   "cell_type": "code",
   "execution_count": 12,
   "metadata": {},
   "outputs": [],
   "source": [
    "df = pd.read_json('./to_subgraphs/mintaka_test.jsonl', lines=True)\n",
    "df['id'].unique().shape"
   ]
  },
  {
   "cell_type": "code",
   "execution_count": null,
   "metadata": {},
   "outputs": [],
   "source": []
  }
 ],
 "metadata": {
  "kernelspec": {
   "display_name": "Python 3",
   "language": "python",
   "name": "python3"
  },
  "language_info": {
   "codemirror_mode": {
    "name": "ipython",
    "version": 3
   },
   "file_extension": ".py",
   "mimetype": "text/x-python",
   "name": "python",
   "nbconvert_exporter": "python",
   "pygments_lexer": "ipython3",
   "version": "3.10.8"
  },
  "orig_nbformat": 4
 },
 "nbformat": 4,
 "nbformat_minor": 2
}
